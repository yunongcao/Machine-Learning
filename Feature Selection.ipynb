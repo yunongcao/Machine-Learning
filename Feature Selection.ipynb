{
 "cells": [
  {
   "cell_type": "markdown",
   "metadata": {},
   "source": [
    "Model the data\n",
    "$$\n",
    "Y\\sim X_1+X_2+X_3+{\\cal N}(0,1.1)\n",
    "$$\n",
    "and apply a regression $Y\\sim X_1+X_2+X_3$ to define the coefficients. But what is we start adding more random variables $X_j\\sim {\\cal N}(0,1)$, $j=4,5,6,...$?"
   ]
  },
  {
   "cell_type": "code",
   "execution_count": 1,
   "metadata": {
    "collapsed": false,
    "scrolled": true
   },
   "outputs": [
    {
     "name": "stdout",
     "output_type": "stream",
     "text": [
      "Populating the interactive namespace from numpy and matplotlib\n"
     ]
    }
   ],
   "source": [
    "import numpy as np\n",
    "import pandas as pd\n",
    "import datetime\n",
    "import matplotlib.pyplot as plt\n",
    "import scipy\n",
    "from scipy import stats\n",
    "%pylab inline\n",
    "from matplotlib import pyplot as plt\n",
    "from mpl_toolkits.mplot3d import Axes3D\n",
    "from mpl_toolkits.mplot3d import proj3d\n",
    "import statsmodels.formula.api as smf"
   ]
  },
  {
   "cell_type": "code",
   "execution_count": 11,
   "metadata": {
    "collapsed": false
   },
   "outputs": [
    {
     "name": "stdout",
     "output_type": "stream",
     "text": [
      "                            OLS Regression Results                            \n",
      "==============================================================================\n",
      "Dep. Variable:                      Y   R-squared:                       0.815\n",
      "Model:                            OLS   Adj. R-squared:                  0.780\n",
      "Method:                 Least Squares   F-statistic:                     23.51\n",
      "Date:                Tue, 13 Oct 2015   Prob (F-statistic):           4.17e-06\n",
      "Time:                        10:20:17   Log-Likelihood:                -19.542\n",
      "No. Observations:                  19   AIC:                             45.08\n",
      "Df Residuals:                      16   BIC:                             47.92\n",
      "Df Model:                           3                                         \n",
      "Covariance Type:            nonrobust                                         \n",
      "==============================================================================\n",
      "                 coef    std err          t      P>|t|      [95.0% Conf. Int.]\n",
      "------------------------------------------------------------------------------\n",
      "X1             1.2988      0.199      6.535      0.000         0.877     1.720\n",
      "X2             0.7287      0.173      4.214      0.001         0.362     1.095\n",
      "X3             0.8058      0.201      4.006      0.001         0.379     1.232\n",
      "==============================================================================\n",
      "Omnibus:                        0.398   Durbin-Watson:                   2.044\n",
      "Prob(Omnibus):                  0.819   Jarque-Bera (JB):                0.222\n",
      "Skew:                          -0.241   Prob(JB):                        0.895\n",
      "Kurtosis:                       2.781   Cond. No.                         1.37\n",
      "==============================================================================\n",
      "\n",
      "Warnings:\n",
      "[1] Standard Errors assume that the covariance matrix of the errors is correctly specified.\n",
      "Validation R2=0.608200021153\n"
     ]
    }
   ],
   "source": [
    "random.seed(2015)\n",
    "X = stats.norm.rvs(0, 1, 150).reshape(50,3)\n",
    "Y = X[:,0]+X[:,1]+X[:,2]\n",
    "Y = Y + stats.norm.rvs(0, 1.1, 50)\n",
    "data0=pd.DataFrame({'Y':Y,'X1':X[:,0],'X2':X[:,1],'X3':X[:,2]})\n",
    "data0.head()\n",
    "train=data0[0:19]\n",
    "valid=data0[20:49]\n",
    "formstr='Y ~ X1+X2+X3-1'\n",
    "lm = smf.ols(formula=formstr, data = train).fit()\n",
    "print(lm.summary())\n",
    "r2=[lm.rsquared]\n",
    "lmy2 = lm.predict(valid)\n",
    "R2v=1-sum(pow(lmy2-valid.Y,2))/sum(pow(valid.Y-mean(valid.Y),2))\n",
    "print('Validation R2={0}'.format(R2v))"
   ]
  },
  {
   "cell_type": "code",
   "execution_count": 12,
   "metadata": {
    "collapsed": false
   },
   "outputs": [
    {
     "data": {
      "text/plain": [
       "[<matplotlib.lines.Line2D at 0x1094882d0>]"
      ]
     },
     "execution_count": 12,
     "metadata": {},
     "output_type": "execute_result"
    },
    {
     "data": {
      "image/png": "[encoded data removed]",
      "text/plain": [
       "<matplotlib.figure.Figure at 0x1094d1d50>"
      ]
     },
     "metadata": {},
     "output_type": "display_data"
    }
   ],
   "source": [
    "r2=[lm.rsquared]\n",
    "for i in range(4,20):\n",
    "    Xi=stats.norm.rvs(0, 1, 50)\n",
    "    Xilabel='X'+str(i)\n",
    "    data0[Xilabel]=Xi\n",
    "    train=data0[0:19]\n",
    "    valid=data0[20:49]\n",
    "    formstr=formstr+'+'+Xilabel\n",
    "    lm = smf.ols(formula=formstr, data = train).fit()\n",
    "    r2.append(lm.rsquared)\n",
    "plt.plot(range(3,20),r2,'-*')"
   ]
  },
  {
   "cell_type": "code",
   "execution_count": 5,
   "metadata": {
    "collapsed": false
   },
   "outputs": [
    {
     "name": "stdout",
     "output_type": "stream",
     "text": [
      "Validation R2 for 20 regressors=0.115150762337\n"
     ]
    }
   ],
   "source": [
    "lmy2 = lm.predict(valid)\n",
    "R2v=1-sum(pow(lmy2-valid.Y,2))/sum(pow(valid.Y-mean(valid.Y),2))\n",
    "print('Validation R2 for 20 regressors={0}'.format(R2v))"
   ]
  },
  {
   "cell_type": "markdown",
   "metadata": {},
   "source": [
    "Linear model over a high number of features might provide accurate fit (low $RSS$ and high $R^2$) on the training sample but might often:\n",
    "- become too specifically adjusted to the training set (overfitting), which would reduce its generalizeability (performance on the validation/test set);\\\\\n",
    "- lead to multicollinearity of regressors and high variance in their estimates, making coefficients hard to interpret.\n",
    "\n",
    "## Multicollinearity\n",
    "\n",
    "Two or more regressors appear to be highty correlated. Then estimate\n",
    "$$\n",
    "\\hat{w}=\\left(X^T X\\right )^{-1}X^T Y.\n",
    "$$\n",
    "will suffer from having the \n",
    "$$\n",
    "det(X^T X)=det(X)^2\\sim 0\n",
    "$$\n",
    "making an estimate uncertain. For sure if $x_1=x_2$ in the regression\n",
    "$$\n",
    "y\\sim w_1 x_1+w_2 x_2,\n",
    "$$\n",
    "all the fits having the same value of $w_1+w_2$ are perfectly equal, so there is no way to make a best choice of $w_1, w_2$."
   ]
  },
  {
   "cell_type": "code",
   "execution_count": 6,
   "metadata": {
    "collapsed": false
   },
   "outputs": [
    {
     "data": {
      "text/html": [
       "<table class=\"simpletable\">\n",
       "<caption>OLS Regression Results</caption>\n",
       "<tr>\n",
       "  <th>Dep. Variable:</th>            <td>Y</td>        <th>  R-squared:         </th> <td>   0.997</td>\n",
       "</tr>\n",
       "<tr>\n",
       "  <th>Model:</th>                   <td>OLS</td>       <th>  Adj. R-squared:    </th> <td>   0.996</td>\n",
       "</tr>\n",
       "<tr>\n",
       "  <th>Method:</th>             <td>Least Squares</td>  <th>  F-statistic:       </th> <td>   2665.</td>\n",
       "</tr>\n",
       "<tr>\n",
       "  <th>Date:</th>             <td>Mon, 05 Oct 2015</td> <th>  Prob (F-statistic):</th> <td>5.54e-23</td>\n",
       "</tr>\n",
       "<tr>\n",
       "  <th>Time:</th>                 <td>08:09:08</td>     <th>  Log-Likelihood:    </th> <td>  22.641</td>\n",
       "</tr>\n",
       "<tr>\n",
       "  <th>No. Observations:</th>      <td>    20</td>      <th>  AIC:               </th> <td>  -41.28</td>\n",
       "</tr>\n",
       "<tr>\n",
       "  <th>Df Residuals:</th>          <td>    18</td>      <th>  BIC:               </th> <td>  -39.29</td>\n",
       "</tr>\n",
       "<tr>\n",
       "  <th>Df Model:</th>              <td>     2</td>      <th>                     </th>     <td> </td>   \n",
       "</tr>\n",
       "<tr>\n",
       "  <th>Covariance Type:</th>      <td>nonrobust</td>    <th>                     </th>     <td> </td>   \n",
       "</tr>\n",
       "</table>\n",
       "<table class=\"simpletable\">\n",
       "<tr>\n",
       "   <td></td>     <th>coef</th>     <th>std err</th>      <th>t</th>      <th>P>|t|</th> <th>[95.0% Conf. Int.]</th> \n",
       "</tr>\n",
       "<tr>\n",
       "  <th>X1</th> <td>    0.0460</td> <td>    1.678</td> <td>    0.027</td> <td> 0.978</td> <td>   -3.480     3.572</td>\n",
       "</tr>\n",
       "<tr>\n",
       "  <th>X2</th> <td>    0.9510</td> <td>    1.676</td> <td>    0.568</td> <td> 0.577</td> <td>   -2.569     4.471</td>\n",
       "</tr>\n",
       "</table>\n",
       "<table class=\"simpletable\">\n",
       "<tr>\n",
       "  <th>Omnibus:</th>       <td> 1.843</td> <th>  Durbin-Watson:     </th> <td>   1.402</td>\n",
       "</tr>\n",
       "<tr>\n",
       "  <th>Prob(Omnibus):</th> <td> 0.398</td> <th>  Jarque-Bera (JB):  </th> <td>   1.111</td>\n",
       "</tr>\n",
       "<tr>\n",
       "  <th>Skew:</th>          <td>-0.242</td> <th>  Prob(JB):          </th> <td>   0.574</td>\n",
       "</tr>\n",
       "<tr>\n",
       "  <th>Kurtosis:</th>      <td> 1.952</td> <th>  Cond. No.          </th> <td>    245.</td>\n",
       "</tr>\n",
       "</table>"
      ],
      "text/plain": [
       "<class 'statsmodels.iolib.summary.Summary'>\n",
       "\"\"\"\n",
       "                            OLS Regression Results                            \n",
       "==============================================================================\n",
       "Dep. Variable:                      Y   R-squared:                       0.997\n",
       "Model:                            OLS   Adj. R-squared:                  0.996\n",
       "Method:                 Least Squares   F-statistic:                     2665.\n",
       "Date:                Mon, 05 Oct 2015   Prob (F-statistic):           5.54e-23\n",
       "Time:                        08:09:08   Log-Likelihood:                 22.641\n",
       "No. Observations:                  20   AIC:                            -41.28\n",
       "Df Residuals:                      18   BIC:                            -39.29\n",
       "Df Model:                           2                                         \n",
       "Covariance Type:            nonrobust                                         \n",
       "==============================================================================\n",
       "                 coef    std err          t      P>|t|      [95.0% Conf. Int.]\n",
       "------------------------------------------------------------------------------\n",
       "X1             0.0460      1.678      0.027      0.978        -3.480     3.572\n",
       "X2             0.9510      1.676      0.568      0.577        -2.569     4.471\n",
       "==============================================================================\n",
       "Omnibus:                        1.843   Durbin-Watson:                   1.402\n",
       "Prob(Omnibus):                  0.398   Jarque-Bera (JB):                1.111\n",
       "Skew:                          -0.242   Prob(JB):                        0.574\n",
       "Kurtosis:                       1.952   Cond. No.                         245.\n",
       "==============================================================================\n",
       "\n",
       "Warnings:\n",
       "[1] Standard Errors assume that the covariance matrix of the errors is correctly specified.\n",
       "\"\"\""
      ]
     },
     "execution_count": 6,
     "metadata": {},
     "output_type": "execute_result"
    }
   ],
   "source": [
    "random.seed(2002)\n",
    "X1=stats.norm.rvs(0, 1, 20)\n",
    "X2=X1+stats.norm.rvs(0, 0.01, 20)\n",
    "Y=X1+stats.norm.rvs(0, 0.1, 20)\n",
    "mdata=pd.DataFrame({'Y':Y,'X1':X1,'X2':X2})\n",
    "lm = smf.ols(formula='Y ~ X1+X2-1', data = mdata).fit()\n",
    "lm.summary()"
   ]
  },
  {
   "cell_type": "markdown",
   "metadata": {},
   "source": [
    "# 1 Feature selection\n",
    "\n",
    "Reducing complexity of the model (number of features or their dimensionality) is usually recommended in such cases. The most streighforward way of doing so is through feature selection. \n",
    "\n",
    "Select a subset of the regressors of the given size $k$ maximizing the model fit ($R^2$).\n",
    "Step-forward\n",
    "Step-backward\n",
    "\n",
    "Drawback - we're discarding information from the feature space."
   ]
  },
  {
   "cell_type": "code",
   "execution_count": 13,
   "metadata": {
    "collapsed": true
   },
   "outputs": [],
   "source": [
    "def regress(mask):\n",
    "    formstr='Y~-1'\n",
    "    for i in range(0,len(mask)):\n",
    "        if mask[i]==1:\n",
    "            formstr=formstr+'+X'+str(i+1)\n",
    "    lm = smf.ols(formula=formstr, data = train).fit()\n",
    "    lmy2 = lm.predict(valid)\n",
    "    R2=1-sum(pow(lmy2-valid.Y,2))/sum(pow(valid.Y-mean(valid.Y),2))\n",
    "    #R2=1-sum(pow(lmy2-valid.Y,2))*(n-1)/sum(pow(valid.Y-mean(valid.Y),2))/(n-sum(mask)-1)\n",
    "    return (R2,lm)   "
   ]
  },
  {
   "cell_type": "code",
   "execution_count": 16,
   "metadata": {
    "collapsed": false
   },
   "outputs": [
    {
     "name": "stdout",
     "output_type": "stream",
     "text": [
      "(1, 0.20620485284054668)\n",
      "(0, 0.41105546723788444)\n",
      "(2, 0.6082000211528021)\n",
      "(4, 0.6442336117613534)\n",
      "(7, 0.6806335922403134)\n",
      "(5, 0.6898749529755237)\n",
      "(17, 0.6929433661938247)\n",
      "(15, 0.6940133056199567)\n"
     ]
    },
    {
     "data": {
      "text/html": [
       "<table class=\"simpletable\">\n",
       "<caption>OLS Regression Results</caption>\n",
       "<tr>\n",
       "  <th>Dep. Variable:</th>            <td>Y</td>        <th>  R-squared:         </th> <td>   0.874</td>\n",
       "</tr>\n",
       "<tr>\n",
       "  <th>Model:</th>                   <td>OLS</td>       <th>  Adj. R-squared:    </th> <td>   0.783</td>\n",
       "</tr>\n",
       "<tr>\n",
       "  <th>Method:</th>             <td>Least Squares</td>  <th>  F-statistic:       </th> <td>   9.545</td>\n",
       "</tr>\n",
       "<tr>\n",
       "  <th>Date:</th>             <td>Tue, 13 Oct 2015</td> <th>  Prob (F-statistic):</th> <td>0.000554</td>\n",
       "</tr>\n",
       "<tr>\n",
       "  <th>Time:</th>                 <td>12:14:40</td>     <th>  Log-Likelihood:    </th> <td> -15.891</td>\n",
       "</tr>\n",
       "<tr>\n",
       "  <th>No. Observations:</th>      <td>    19</td>      <th>  AIC:               </th> <td>   47.78</td>\n",
       "</tr>\n",
       "<tr>\n",
       "  <th>Df Residuals:</th>          <td>    11</td>      <th>  BIC:               </th> <td>   55.34</td>\n",
       "</tr>\n",
       "<tr>\n",
       "  <th>Df Model:</th>              <td>     8</td>      <th>                     </th>     <td> </td>   \n",
       "</tr>\n",
       "<tr>\n",
       "  <th>Covariance Type:</th>      <td>nonrobust</td>    <th>                     </th>     <td> </td>   \n",
       "</tr>\n",
       "</table>\n",
       "<table class=\"simpletable\">\n",
       "<tr>\n",
       "   <td></td>      <th>coef</th>     <th>std err</th>      <th>t</th>      <th>P>|t|</th> <th>[95.0% Conf. Int.]</th> \n",
       "</tr>\n",
       "<tr>\n",
       "  <th>X1</th>  <td>    1.1266</td> <td>    0.243</td> <td>    4.635</td> <td> 0.001</td> <td>    0.592     1.662</td>\n",
       "</tr>\n",
       "<tr>\n",
       "  <th>X2</th>  <td>    0.9428</td> <td>    0.219</td> <td>    4.304</td> <td> 0.001</td> <td>    0.461     1.425</td>\n",
       "</tr>\n",
       "<tr>\n",
       "  <th>X3</th>  <td>    0.8403</td> <td>    0.206</td> <td>    4.077</td> <td> 0.002</td> <td>    0.387     1.294</td>\n",
       "</tr>\n",
       "<tr>\n",
       "  <th>X5</th>  <td>   -0.4075</td> <td>    0.243</td> <td>   -1.680</td> <td> 0.121</td> <td>   -0.941     0.126</td>\n",
       "</tr>\n",
       "<tr>\n",
       "  <th>X6</th>  <td>    0.1126</td> <td>    0.235</td> <td>    0.478</td> <td> 0.642</td> <td>   -0.406     0.631</td>\n",
       "</tr>\n",
       "<tr>\n",
       "  <th>X8</th>  <td>    0.2748</td> <td>    0.239</td> <td>    1.148</td> <td> 0.275</td> <td>   -0.252     0.802</td>\n",
       "</tr>\n",
       "<tr>\n",
       "  <th>X16</th> <td>    0.0571</td> <td>    0.288</td> <td>    0.198</td> <td> 0.846</td> <td>   -0.576     0.690</td>\n",
       "</tr>\n",
       "<tr>\n",
       "  <th>X18</th> <td>   -0.0332</td> <td>    0.224</td> <td>   -0.148</td> <td> 0.885</td> <td>   -0.526     0.460</td>\n",
       "</tr>\n",
       "</table>\n",
       "<table class=\"simpletable\">\n",
       "<tr>\n",
       "  <th>Omnibus:</th>       <td> 2.731</td> <th>  Durbin-Watson:     </th> <td>   2.187</td>\n",
       "</tr>\n",
       "<tr>\n",
       "  <th>Prob(Omnibus):</th> <td> 0.255</td> <th>  Jarque-Bera (JB):  </th> <td>   1.454</td>\n",
       "</tr>\n",
       "<tr>\n",
       "  <th>Skew:</th>          <td>-0.670</td> <th>  Prob(JB):          </th> <td>   0.483</td>\n",
       "</tr>\n",
       "<tr>\n",
       "  <th>Kurtosis:</th>      <td> 3.198</td> <th>  Cond. No.          </th> <td>    3.18</td>\n",
       "</tr>\n",
       "</table>"
      ],
      "text/plain": [
       "<class 'statsmodels.iolib.summary.Summary'>\n",
       "\"\"\"\n",
       "                            OLS Regression Results                            \n",
       "==============================================================================\n",
       "Dep. Variable:                      Y   R-squared:                       0.874\n",
       "Model:                            OLS   Adj. R-squared:                  0.783\n",
       "Method:                 Least Squares   F-statistic:                     9.545\n",
       "Date:                Tue, 13 Oct 2015   Prob (F-statistic):           0.000554\n",
       "Time:                        12:14:40   Log-Likelihood:                -15.891\n",
       "No. Observations:                  19   AIC:                             47.78\n",
       "Df Residuals:                      11   BIC:                             55.34\n",
       "Df Model:                           8                                         \n",
       "Covariance Type:            nonrobust                                         \n",
       "==============================================================================\n",
       "                 coef    std err          t      P>|t|      [95.0% Conf. Int.]\n",
       "------------------------------------------------------------------------------\n",
       "X1             1.1266      0.243      4.635      0.001         0.592     1.662\n",
       "X2             0.9428      0.219      4.304      0.001         0.461     1.425\n",
       "X3             0.8403      0.206      4.077      0.002         0.387     1.294\n",
       "X5            -0.4075      0.243     -1.680      0.121        -0.941     0.126\n",
       "X6             0.1126      0.235      0.478      0.642        -0.406     0.631\n",
       "X8             0.2748      0.239      1.148      0.275        -0.252     0.802\n",
       "X16            0.0571      0.288      0.198      0.846        -0.576     0.690\n",
       "X18           -0.0332      0.224     -0.148      0.885        -0.526     0.460\n",
       "==============================================================================\n",
       "Omnibus:                        2.731   Durbin-Watson:                   2.187\n",
       "Prob(Omnibus):                  0.255   Jarque-Bera (JB):                1.454\n",
       "Skew:                          -0.670   Prob(JB):                        0.483\n",
       "Kurtosis:                       3.198   Cond. No.                         3.18\n",
       "==============================================================================\n",
       "\n",
       "Warnings:\n",
       "[1] Standard Errors assume that the covariance matrix of the errors is correctly specified.\n",
       "\"\"\""
      ]
     },
     "execution_count": 16,
     "metadata": {},
     "output_type": "execute_result"
    }
   ],
   "source": [
    "n=19\n",
    "mask0=[0]*n #initially none of the regressors are included\n",
    "r20=0\n",
    "while True:\n",
    "    bestI=-1 #best regressor to exclude\n",
    "    for i in range(0,n):\n",
    "        if (mask0[i]==0):\n",
    "             mask=mask0[:]\n",
    "             mask[i]=1\n",
    "             r2=regress(mask)[0]\n",
    "             #print((i,r2,r20))\n",
    "             if (r2>r20):\n",
    "                 r20=r2\n",
    "                 bestI=i\n",
    "    if (bestI>=0):\n",
    "        mask0[bestI]=1\n",
    "        print((bestI,r20))\n",
    "    else:\n",
    "        break\n",
    "(r2,lm)= regress(mask0)\n",
    "lm.summary()"
   ]
  },
  {
   "cell_type": "markdown",
   "metadata": {},
   "source": [
    "# 2 Principle component analysis\n",
    "\n",
    "Feature selection is often too rigid - we have to make our choices of keeping or getting rid of each variable entirely, though it might be the case that each regressor by itself still contains certain valuable information, but all together the feature space is redundant. As an alternative one can think of expressing our big amount of regressors through some smaller amount of latent variables (other than initial regressors) able to explain all or almost all the relevant information. This is called dimensionality reduction.\n",
    "\n",
    "A most common linear approach to dimentionality reduction is the principal component analysis. An idea is that given $N$ observations for the $n$ regressors $x_j$\n",
    "\n",
    "$$\n",
    "X=\\{x_i^j, i=1..n, j=1..N\\}\n",
    "$$\n",
    "\n",
    "we try to come up with a linear transformation\n",
    "\n",
    "$$\n",
    "U=X V,\n",
    "$$\n",
    "\n",
    "where $V$ is $nxp$-dimensional transformation matrix and $U$ is a $N x p$ matrix of new factors $u_1,u_2,...,u_p$ (columns of $U$), such that they explain as much of initial information contained in $X$ as possible for the $p$ latent variables. \n",
    "\n",
    "## Technique\n",
    "\n",
    "Before applying PCA variables $x_i$ are usually centered ($E[x_i]=0$) and sometimes also normalized ($var[x_i]=1$).\n",
    "\n",
    "Selecting first principle component: look for the column unit basis $N x 1$ vector of weights/loadings $v_1$, such that resulting variable $u_1=X v_1$ has maximal possible variance $var[u_1]$:\n",
    "\n",
    "$$\n",
    "v_1=argmax_{v_1: v_1^T v_1=1}var[u_1] =argmax_{v_1: v_1^T v_1=1}u_1^T u_1=argmax_{v_1: v_1^T v_1=1}v_1^T X^T X v_1.\n",
    "$$\n",
    "\n",
    "The after first basis vector $v_1$ and principle component $u_1$ are selected, the second basis vector $v_2$ is selected following the same principle, but with an additional constrain of being orthogonal to $v_1$. \n",
    "\n",
    "Similarly each following $i$-th vector $v_i$ is being defined as\n",
    "$$\n",
    "v_i=argmax_{v_i: v_i^T v_i=1, v_i^T v_j=0, j<i}v_i^T X^T X v_i.\n",
    "$$\n",
    "\n",
    "The problem is easy to solve knowing the eigenvectors of $X^T X$, i.e. such unit vectors $v_i$ ($v_i^T v_i=1$) that\n",
    "\n",
    "$$\n",
    "\\lambda_i v_i=X^T X v_i\n",
    "$$\n",
    "\n",
    "or in the matrix form\n",
    "\n",
    "$$\n",
    "diag(\\lambda)V=X^T X V\n",
    "$$\n",
    "\n",
    "where $\\lambda_i$ are the corresponding eigenvalues (mutually distinctive). First of all its easy to see that such vectors $v_i$ are always mutually orthogonal, as\n",
    "\n",
    "$$\n",
    "v_j^T v_i= v_j^T X^T X v_i/\\lambda_i =(X^T X w_j)^T v_i/\\lambda_i=v_j^T v_i \\lambda_j/\\lambda_i.\n",
    "$$\n",
    "\n",
    "This is why $V^T V=I_n$.\n",
    "\n",
    "Now if we know $n$ unit eigenvectors with distinct eigenvalues such that $\\lambda_1>\\lambda_2> ...>\\lambda_n>0$, they produce an orthogonal basis in the $n$-dimensional space and for any unit vector $w=e_1 v_1+e_2 v_2+... +e_n v_n$ we can see that\n",
    "\n",
    "$$\n",
    "w^T X^T X w=\\lambda_1 e_1^2+\\lambda_2 e_2^2+...+\\lambda_n e_n^2,\n",
    "$$\n",
    "\n",
    "which is maximized for $e_1=1, e_2=e_3=...e_n=0$ (as $\\sum_i e_i^2=1$), i.e. $w=v_1$. \n",
    "\n",
    "Similarly the second, third, etc loading vectors could be found as $v_2,v_3,...$ correspondingly.\n",
    "\n",
    "Also the solution follows from the singular value decomposition of the matrix $X$:\n",
    "\n",
    "$$\n",
    "X=W \\Sigma V^T,\n",
    "$$\n",
    "\n",
    "where $W$ is a $N x n$ matrix of mutually orthogonal unit columns, $V$ is a $n x n$ matrix of mutually orthogonal unit columns and $\\Sigma$ is an $n x n$- diagonal matrix, i.e.\n",
    "\n",
    "$$\n",
    "W^T W=V^T V=I_n\n",
    "$$\n",
    "\n",
    "Then\n",
    "\n",
    "$$\n",
    "X^T X=V\\Sigma W^T W \\Sigma V^T=V\\Sigma^2 V^T\n",
    "$$\n",
    "\n",
    "and its easy to see that $V$ is the matrix of eigenvectors and $\\Sigma$ is the diagonal matrix of square roots of eigenvalues. Then \n",
    "\n",
    "$$\n",
    "U=XV=W\\Sigma V^T V=W\\Sigma.\n",
    "$$\n",
    "\n",
    "## PCA as a dimensionality reduction tool\n",
    "\n",
    "Now once matrixes $V, U, \\Sigma$ are defined as well as the eigenvalues $\\lambda_j$ (being the squares of the diagonal elements of $\\Sigma$), how do we use that for dimensionality reduction? \n",
    "\n",
    "Matrix $V$ performs a transformation of the regressors $x_i$ to the new orthogonal variables $u_i$ being the columns of $U$. And \n",
    "$$\n",
    "Var[u_i]=\\lambda_i\n",
    "$$\n",
    "\n",
    "This is interpreted as each variable $u_i$ containing the fraction $\\lambda_i/\\sum\\limits_j \\lambda_j$ of the entire information (variation) contained in all the regressors. And the choice of regressors $u_i$ is such that $\\lambda_1,\\lambda_2,...$ are sequentially maximized. So if one wants to select as few latent variables as possible in order to cover a given franction $\\alpha$ (often $95\\%$) of information (variation) from it is enough to select first $k$ principle components $u_1,u_2,...u_k$, so that \n",
    "\n",
    "$$\n",
    "\\frac{\\sum\\limits_{i=1}^k\\lambda_i}{\\sum\\limits_{i=1}^n\\lambda_i}\\geq \\alpha.\n",
    "$$\n",
    "\n",
    "\n",
    "\n",
    "\n"
   ]
  },
  {
   "cell_type": "markdown",
   "metadata": {},
   "source": [
    "# 3 Real Estate Prices\n",
    "\n",
    "Again consider prices of multiapartment houses in one of the Bronx zip codes 10466"
   ]
  },
  {
   "cell_type": "code",
   "execution_count": 9,
   "metadata": {
    "collapsed": false
   },
   "outputs": [
    {
     "data": {
      "text/html": [
       "<div>\n",
       "<table border=\"1\" class=\"dataframe\">\n",
       "  <thead>\n",
       "    <tr style=\"text-align: right;\">\n",
       "      <th></th>\n",
       "      <th>borough</th>\n",
       "      <th>neighborhood</th>\n",
       "      <th>building_class_category</th>\n",
       "      <th>tax_class_present</th>\n",
       "      <th>block</th>\n",
       "      <th>lot</th>\n",
       "      <th>easement</th>\n",
       "      <th>building_class_present</th>\n",
       "      <th>address</th>\n",
       "      <th>apartment_number</th>\n",
       "      <th>...</th>\n",
       "      <th>land_sq_feet</th>\n",
       "      <th>gross_sq_feet</th>\n",
       "      <th>year_built</th>\n",
       "      <th>tax_class_time_sale</th>\n",
       "      <th>build_class_time_sale</th>\n",
       "      <th>sale_price</th>\n",
       "      <th>sale_date</th>\n",
       "      <th>serialid</th>\n",
       "      <th>sale_year</th>\n",
       "      <th>sale_month</th>\n",
       "    </tr>\n",
       "  </thead>\n",
       "  <tbody>\n",
       "    <tr>\n",
       "      <th>4686</th>\n",
       "      <td>2</td>\n",
       "      <td>WAKEFIELD</td>\n",
       "      <td>07  RENTALS - WALKUP APARTMENTS</td>\n",
       "      <td>2B</td>\n",
       "      <td>4993</td>\n",
       "      <td>84</td>\n",
       "      <td>NaN</td>\n",
       "      <td>C1</td>\n",
       "      <td>4229 CARPENTER AVENUE</td>\n",
       "      <td>NaN</td>\n",
       "      <td>...</td>\n",
       "      <td>2752</td>\n",
       "      <td>7745</td>\n",
       "      <td>2009</td>\n",
       "      <td>2</td>\n",
       "      <td>C1</td>\n",
       "      <td>700000</td>\n",
       "      <td>2009-07-06</td>\n",
       "      <td>4686</td>\n",
       "      <td>9</td>\n",
       "      <td>6</td>\n",
       "    </tr>\n",
       "    <tr>\n",
       "      <th>5140</th>\n",
       "      <td>2</td>\n",
       "      <td>WILLIAMSBRIDGE</td>\n",
       "      <td>07  RENTALS - WALKUP APARTMENTS</td>\n",
       "      <td>2A</td>\n",
       "      <td>4833</td>\n",
       "      <td>15</td>\n",
       "      <td>NaN</td>\n",
       "      <td>C2</td>\n",
       "      <td>685 EAST 230 STREET</td>\n",
       "      <td>NaN</td>\n",
       "      <td>...</td>\n",
       "      <td>2867</td>\n",
       "      <td>3700</td>\n",
       "      <td>1930</td>\n",
       "      <td>2</td>\n",
       "      <td>C2</td>\n",
       "      <td>335000</td>\n",
       "      <td>2009-10-09</td>\n",
       "      <td>5140</td>\n",
       "      <td>9</td>\n",
       "      <td>9</td>\n",
       "    </tr>\n",
       "    <tr>\n",
       "      <th>5141</th>\n",
       "      <td>2</td>\n",
       "      <td>WILLIAMSBRIDGE</td>\n",
       "      <td>07  RENTALS - WALKUP APARTMENTS</td>\n",
       "      <td>2B</td>\n",
       "      <td>4834</td>\n",
       "      <td>14</td>\n",
       "      <td>NaN</td>\n",
       "      <td>C1</td>\n",
       "      <td>683 EAST 231ST STREET</td>\n",
       "      <td>NaN</td>\n",
       "      <td>...</td>\n",
       "      <td>3440</td>\n",
       "      <td>5250</td>\n",
       "      <td>1931</td>\n",
       "      <td>2</td>\n",
       "      <td>C1</td>\n",
       "      <td>510000</td>\n",
       "      <td>2009-10-01</td>\n",
       "      <td>5141</td>\n",
       "      <td>9</td>\n",
       "      <td>9</td>\n",
       "    </tr>\n",
       "    <tr>\n",
       "      <th>5146</th>\n",
       "      <td>2</td>\n",
       "      <td>WILLIAMSBRIDGE</td>\n",
       "      <td>07  RENTALS - WALKUP APARTMENTS</td>\n",
       "      <td>2A</td>\n",
       "      <td>4847</td>\n",
       "      <td>43</td>\n",
       "      <td>NaN</td>\n",
       "      <td>C2</td>\n",
       "      <td>812 EAST 223RD ST</td>\n",
       "      <td>NaN</td>\n",
       "      <td>...</td>\n",
       "      <td>2856</td>\n",
       "      <td>4082</td>\n",
       "      <td>1927</td>\n",
       "      <td>2</td>\n",
       "      <td>C2</td>\n",
       "      <td>285000</td>\n",
       "      <td>2009-11-06</td>\n",
       "      <td>5146</td>\n",
       "      <td>9</td>\n",
       "      <td>10</td>\n",
       "    </tr>\n",
       "    <tr>\n",
       "      <th>5147</th>\n",
       "      <td>2</td>\n",
       "      <td>WILLIAMSBRIDGE</td>\n",
       "      <td>07  RENTALS - WALKUP APARTMENTS</td>\n",
       "      <td>2A</td>\n",
       "      <td>4847</td>\n",
       "      <td>43</td>\n",
       "      <td>NaN</td>\n",
       "      <td>C2</td>\n",
       "      <td>812 EAST 223 STREET</td>\n",
       "      <td>NaN</td>\n",
       "      <td>...</td>\n",
       "      <td>2856</td>\n",
       "      <td>4082</td>\n",
       "      <td>1927</td>\n",
       "      <td>2</td>\n",
       "      <td>C2</td>\n",
       "      <td>198558</td>\n",
       "      <td>2009-05-15</td>\n",
       "      <td>5147</td>\n",
       "      <td>9</td>\n",
       "      <td>4</td>\n",
       "    </tr>\n",
       "  </tbody>\n",
       "</table>\n",
       "<p>5 rows × 24 columns</p>\n",
       "</div>"
      ],
      "text/plain": [
       "      borough    neighborhood          building_class_category  \\\n",
       "4686        2       WAKEFIELD  07  RENTALS - WALKUP APARTMENTS   \n",
       "5140        2  WILLIAMSBRIDGE  07  RENTALS - WALKUP APARTMENTS   \n",
       "5141        2  WILLIAMSBRIDGE  07  RENTALS - WALKUP APARTMENTS   \n",
       "5146        2  WILLIAMSBRIDGE  07  RENTALS - WALKUP APARTMENTS   \n",
       "5147        2  WILLIAMSBRIDGE  07  RENTALS - WALKUP APARTMENTS   \n",
       "\n",
       "     tax_class_present  block  lot  easement building_class_present  \\\n",
       "4686                2B   4993   84       NaN                     C1   \n",
       "5140                2A   4833   15       NaN                     C2   \n",
       "5141                2B   4834   14       NaN                     C1   \n",
       "5146                2A   4847   43       NaN                     C2   \n",
       "5147                2A   4847   43       NaN                     C2   \n",
       "\n",
       "                    address  apartment_number     ...      land_sq_feet  \\\n",
       "4686  4229 CARPENTER AVENUE               NaN     ...              2752   \n",
       "5140    685 EAST 230 STREET               NaN     ...              2867   \n",
       "5141  683 EAST 231ST STREET               NaN     ...              3440   \n",
       "5146      812 EAST 223RD ST               NaN     ...              2856   \n",
       "5147    812 EAST 223 STREET               NaN     ...              2856   \n",
       "\n",
       "      gross_sq_feet  year_built  tax_class_time_sale  build_class_time_sale  \\\n",
       "4686           7745        2009                    2                     C1   \n",
       "5140           3700        1930                    2                     C2   \n",
       "5141           5250        1931                    2                     C1   \n",
       "5146           4082        1927                    2                     C2   \n",
       "5147           4082        1927                    2                     C2   \n",
       "\n",
       "      sale_price   sale_date  serialid sale_year  sale_month  \n",
       "4686      700000  2009-07-06      4686         9           6  \n",
       "5140      335000  2009-10-09      5140         9           9  \n",
       "5141      510000  2009-10-01      5141         9           9  \n",
       "5146      285000  2009-11-06      5146         9          10  \n",
       "5147      198558  2009-05-15      5147         9           4  \n",
       "\n",
       "[5 rows x 24 columns]"
      ]
     },
     "execution_count": 9,
     "metadata": {},
     "output_type": "execute_result"
    }
   ],
   "source": [
    "REdata1 = pd.read_csv('https://serv.cusp.nyu.edu/files/ADS-2015/MorningSection/lab4/REzip10466.csv' , index_col=0 )\n",
    "REdata1.head()"
   ]
  },
  {
   "cell_type": "markdown",
   "metadata": {},
   "source": [
    "Regression demonstrates multicollinearity - estimates are uncertain and hard to interpret"
   ]
  },
  {
   "cell_type": "code",
   "execution_count": 10,
   "metadata": {
    "collapsed": false
   },
   "outputs": [
    {
     "data": {
      "text/html": [
       "<table class=\"simpletable\">\n",
       "<caption>OLS Regression Results</caption>\n",
       "<tr>\n",
       "  <th>Dep. Variable:</th>       <td>sale_price</td>    <th>  R-squared:         </th> <td>   0.889</td>\n",
       "</tr>\n",
       "<tr>\n",
       "  <th>Model:</th>                   <td>OLS</td>       <th>  Adj. R-squared:    </th> <td>   0.886</td>\n",
       "</tr>\n",
       "<tr>\n",
       "  <th>Method:</th>             <td>Least Squares</td>  <th>  F-statistic:       </th> <td>   237.0</td>\n",
       "</tr>\n",
       "<tr>\n",
       "  <th>Date:</th>             <td>Mon, 05 Oct 2015</td> <th>  Prob (F-statistic):</th> <td>2.13e-55</td>\n",
       "</tr>\n",
       "<tr>\n",
       "  <th>Time:</th>                 <td>08:09:10</td>     <th>  Log-Likelihood:    </th> <td> -1821.8</td>\n",
       "</tr>\n",
       "<tr>\n",
       "  <th>No. Observations:</th>      <td>   123</td>      <th>  AIC:               </th> <td>   3654.</td>\n",
       "</tr>\n",
       "<tr>\n",
       "  <th>Df Residuals:</th>          <td>   118</td>      <th>  BIC:               </th> <td>   3668.</td>\n",
       "</tr>\n",
       "<tr>\n",
       "  <th>Df Model:</th>              <td>     4</td>      <th>                     </th>     <td> </td>   \n",
       "</tr>\n",
       "<tr>\n",
       "  <th>Covariance Type:</th>      <td>nonrobust</td>    <th>                     </th>     <td> </td>   \n",
       "</tr>\n",
       "</table>\n",
       "<table class=\"simpletable\">\n",
       "<tr>\n",
       "          <td></td>             <th>coef</th>     <th>std err</th>      <th>t</th>      <th>P>|t|</th> <th>[95.0% Conf. Int.]</th> \n",
       "</tr>\n",
       "<tr>\n",
       "  <th>Intercept</th>         <td> -8.39e+05</td> <td> 6.64e+06</td> <td>   -0.126</td> <td> 0.900</td> <td> -1.4e+07  1.23e+07</td>\n",
       "</tr>\n",
       "<tr>\n",
       "  <th>gross_sq_feet</th>     <td>   15.8488</td> <td>   24.600</td> <td>    0.644</td> <td> 0.521</td> <td>  -32.866    64.564</td>\n",
       "</tr>\n",
       "<tr>\n",
       "  <th>land_sq_feet</th>      <td>  -35.4821</td> <td>   18.488</td> <td>   -1.919</td> <td> 0.057</td> <td>  -72.092     1.128</td>\n",
       "</tr>\n",
       "<tr>\n",
       "  <th>residential_units</th> <td> 7.261e+04</td> <td> 2.34e+04</td> <td>    3.100</td> <td> 0.002</td> <td> 2.62e+04  1.19e+05</td>\n",
       "</tr>\n",
       "<tr>\n",
       "  <th>year_built</th>        <td>  489.8196</td> <td> 3441.451</td> <td>    0.142</td> <td> 0.887</td> <td>-6325.191  7304.830</td>\n",
       "</tr>\n",
       "</table>\n",
       "<table class=\"simpletable\">\n",
       "<tr>\n",
       "  <th>Omnibus:</th>       <td>36.109</td> <th>  Durbin-Watson:     </th> <td>   2.348</td>\n",
       "</tr>\n",
       "<tr>\n",
       "  <th>Prob(Omnibus):</th> <td> 0.000</td> <th>  Jarque-Bera (JB):  </th> <td> 138.775</td>\n",
       "</tr>\n",
       "<tr>\n",
       "  <th>Skew:</th>          <td> 0.940</td> <th>  Prob(JB):          </th> <td>7.34e-31</td>\n",
       "</tr>\n",
       "<tr>\n",
       "  <th>Kurtosis:</th>      <td> 7.852</td> <th>  Cond. No.          </th> <td>3.05e+06</td>\n",
       "</tr>\n",
       "</table>"
      ],
      "text/plain": [
       "<class 'statsmodels.iolib.summary.Summary'>\n",
       "\"\"\"\n",
       "                            OLS Regression Results                            \n",
       "==============================================================================\n",
       "Dep. Variable:             sale_price   R-squared:                       0.889\n",
       "Model:                            OLS   Adj. R-squared:                  0.886\n",
       "Method:                 Least Squares   F-statistic:                     237.0\n",
       "Date:                Mon, 05 Oct 2015   Prob (F-statistic):           2.13e-55\n",
       "Time:                        08:09:10   Log-Likelihood:                -1821.8\n",
       "No. Observations:                 123   AIC:                             3654.\n",
       "Df Residuals:                     118   BIC:                             3668.\n",
       "Df Model:                           4                                         \n",
       "Covariance Type:            nonrobust                                         \n",
       "=====================================================================================\n",
       "                        coef    std err          t      P>|t|      [95.0% Conf. Int.]\n",
       "-------------------------------------------------------------------------------------\n",
       "Intercept          -8.39e+05   6.64e+06     -0.126      0.900      -1.4e+07  1.23e+07\n",
       "gross_sq_feet        15.8488     24.600      0.644      0.521       -32.866    64.564\n",
       "land_sq_feet        -35.4821     18.488     -1.919      0.057       -72.092     1.128\n",
       "residential_units  7.261e+04   2.34e+04      3.100      0.002      2.62e+04  1.19e+05\n",
       "year_built          489.8196   3441.451      0.142      0.887     -6325.191  7304.830\n",
       "==============================================================================\n",
       "Omnibus:                       36.109   Durbin-Watson:                   2.348\n",
       "Prob(Omnibus):                  0.000   Jarque-Bera (JB):              138.775\n",
       "Skew:                           0.940   Prob(JB):                     7.34e-31\n",
       "Kurtosis:                       7.852   Cond. No.                     3.05e+06\n",
       "==============================================================================\n",
       "\n",
       "Warnings:\n",
       "[1] Standard Errors assume that the covariance matrix of the errors is correctly specified.\n",
       "[2] The condition number is large, 3.05e+06. This might indicate that there are\n",
       "strong multicollinearity or other numerical problems.\n",
       "\"\"\""
      ]
     },
     "execution_count": 10,
     "metadata": {},
     "output_type": "execute_result"
    }
   ],
   "source": [
    "lm=smf.ols(formula='sale_price~gross_sq_feet+land_sq_feet+residential_units+year_built', data = REdata1).fit()\n",
    "lm.summary()"
   ]
  },
  {
   "cell_type": "code",
   "execution_count": 11,
   "metadata": {
    "collapsed": false
   },
   "outputs": [],
   "source": [
    "Y=np.matrix(REdata1.sale_price)\n",
    "X=np.matrix(REdata1[['gross_sq_feet','land_sq_feet','residential_units','year_built']])"
   ]
  },
  {
   "cell_type": "code",
   "execution_count": 12,
   "metadata": {
    "collapsed": false
   },
   "outputs": [],
   "source": [
    "m=mean(X,0)\n",
    "s=std(X,0)\n",
    "X1=1.0*np.array(X)\n",
    "for i in xrange(0,4):\n",
    "    X1[:,i]=(X1[:,i]-m[0,i])/s[0,i]"
   ]
  },
  {
   "cell_type": "code",
   "execution_count": 13,
   "metadata": {
    "collapsed": false
   },
   "outputs": [
    {
     "name": "stdout",
     "output_type": "stream",
     "text": [
      "[[ 0.5801138   0.17631677  0.42208937 -0.67395915]\n",
      " [ 0.5360246  -0.07155844 -0.83719154 -0.08165381]\n",
      " [ 0.59012115  0.16558091  0.29207346  0.73418873]\n",
      " [ 0.16704084 -0.96766459  0.18879614  0.00886708]]\n"
     ]
    }
   ],
   "source": [
    "U, s, Vt = np.linalg.svd(X1) #singular value decomposition\n",
    "V = Vt.T\n",
    "#sort singular values\n",
    "ind = np.argsort(s)[::-1] \n",
    "U = U[:, ind]\n",
    "s = s[ind]\n",
    "V = V[:, ind]\n",
    "S = np.diag(s)\n",
    "P=X1*np.matrix(V)\n",
    "print(V)"
   ]
  },
  {
   "cell_type": "code",
   "execution_count": 14,
   "metadata": {
    "collapsed": false
   },
   "outputs": [
    {
     "data": {
      "text/plain": [
       "<Container object of 4 artists>"
      ]
     },
     "execution_count": 14,
     "metadata": {},
     "output_type": "execute_result"
    },
    {
     "data": {
      "image/png": "[encoded data removed]",
      "text/plain": [
       "<matplotlib.figure.Figure at 0x108dfc710>"
      ]
     },
     "metadata": {},
     "output_type": "display_data"
    }
   ],
   "source": [
    "sc=cumsum(s**2/sum(s**2))\n",
    "plt.bar(range(1,(len(sc)+1)),sc)"
   ]
  },
  {
   "cell_type": "code",
   "execution_count": null,
   "metadata": {
    "collapsed": true
   },
   "outputs": [],
   "source": []
  },
  {
   "cell_type": "code",
   "execution_count": 15,
   "metadata": {
    "collapsed": false
   },
   "outputs": [
    {
     "data": {
      "text/plain": [
       "[<matplotlib.lines.Line2D at 0x108c79850>]"
      ]
     },
     "execution_count": 15,
     "metadata": {},
     "output_type": "execute_result"
    },
    {
     "data": {
      "image/png": "[encoded data removed]",
      "text/plain": [
       "<matplotlib.figure.Figure at 0x10b0b4910>"
      ]
     },
     "metadata": {},
     "output_type": "display_data"
    }
   ],
   "source": [
    "plt.plot(np.array(P[:,0]), np.array(P[:,1]),\n",
    "        'o', color='blue', alpha=1, label='Houses_PCA')"
   ]
  },
  {
   "cell_type": "code",
   "execution_count": 16,
   "metadata": {
    "collapsed": false
   },
   "outputs": [
    {
     "data": {
      "text/plain": [
       "<mpl_toolkits.mplot3d.art3d.Patch3DCollection at 0x10b3caa50>"
      ]
     },
     "execution_count": 16,
     "metadata": {},
     "output_type": "execute_result"
    },
    {
     "data": {
      "image/png": "[encoded data removed]",
      "text/plain": [
       "<matplotlib.figure.Figure at 0x10b1e7510>"
      ]
     },
     "metadata": {},
     "output_type": "display_data"
    }
   ],
   "source": [
    "fig = plt.figure(figsize=(8,8))\n",
    "ax = fig.add_subplot(111, projection='3d')\n",
    "plt.rcParams['legend.fontsize'] = 10\n",
    "ax.scatter(np.array(P[:,0]), np.array(P[:,1]), np.array(P[:,2]),\n",
    "        'o', color='blue', alpha=0.5, label='PCA3')"
   ]
  },
  {
   "cell_type": "code",
   "execution_count": 17,
   "metadata": {
    "collapsed": false
   },
   "outputs": [
    {
     "data": {
      "text/plain": [
       "array(['C2', 'C1', 'C2', 'C2', 'C2', 'C2', 'C1', 'C1', 'C2', 'C1', 'C2',\n",
       "       'C1', 'C1', 'C2', 'C1', 'C1', 'C1', 'C2', 'C2', 'C1', 'C2', 'C2',\n",
       "       'C1', 'C2', 'C2', 'C2', 'C1', 'C1', 'C2', 'C2', 'C1', 'C1', 'C2',\n",
       "       'C2', 'C2', 'C2', 'C2', 'C1', 'C2', 'C1', 'C1', 'C1', 'C2', 'C2',\n",
       "       'C2', 'C2', 'C2', 'C1', 'C1', 'C1', 'C2', 'C2', 'C1', 'C1', 'C2',\n",
       "       'C2', 'C1', 'C2', 'C1', 'C1', 'C2', 'C2', 'C1', 'C2', 'C1', 'C2',\n",
       "       'C1', 'C2', 'C1', 'C2', 'C2', 'C2', 'C2', 'C1', 'C2', 'C2', 'C1',\n",
       "       'C1', 'C2', 'C2', 'C2', 'C2', 'C2', 'C2', 'C2'], dtype=object)"
      ]
     },
     "execution_count": 17,
     "metadata": {},
     "output_type": "execute_result"
    }
   ],
   "source": [
    "np.array(REdata1.build_class_time_sale)[find((P[:,1]>-1)&(P[:,0]<1))]"
   ]
  },
  {
   "cell_type": "code",
   "execution_count": 18,
   "metadata": {
    "collapsed": false
   },
   "outputs": [
    {
     "data": {
      "text/plain": [
       "array(['C1', 'D1', 'C1', 'D1', 'D1', 'C1', 'C1', 'D3', 'D3', 'C1', 'D1',\n",
       "       'D1', 'C1', 'D1', 'D1', 'D3', 'D3', 'D1', 'C1', 'C1', 'C1'], dtype=object)"
      ]
     },
     "execution_count": 18,
     "metadata": {},
     "output_type": "execute_result"
    }
   ],
   "source": [
    "np.array(REdata1.build_class_time_sale)[find((P[:,1]>-0.25)&(P[:,0]>1)&(P[:,0]<3))]"
   ]
  },
  {
   "cell_type": "code",
   "execution_count": 19,
   "metadata": {
    "collapsed": false,
    "scrolled": false
   },
   "outputs": [
    {
     "data": {
      "text/plain": [
       "array(['4229 CARPENTER AVENUE', '4150 CARPENTER AVENUE',\n",
       "       '637 EAST 224TH STREET', 'BARNES AVENUE', '635 EAST 229 STREET'], dtype=object)"
      ]
     },
     "execution_count": 19,
     "metadata": {},
     "output_type": "execute_result"
    }
   ],
   "source": [
    "np.array(REdata1.address)[find(P[:,1]<-3)]"
   ]
  },
  {
   "cell_type": "code",
   "execution_count": 20,
   "metadata": {
    "collapsed": false
   },
   "outputs": [
    {
     "data": {
      "text/plain": [
       "array([ 8, 10,  8, 10,  8])"
      ]
     },
     "execution_count": 20,
     "metadata": {},
     "output_type": "execute_result"
    }
   ],
   "source": [
    "np.array(REdata1.residential_units)[find(P[:,1]<-3)]"
   ]
  },
  {
   "cell_type": "code",
   "execution_count": 21,
   "metadata": {
    "collapsed": false
   },
   "outputs": [
    {
     "name": "stdout",
     "output_type": "stream",
     "text": [
      "                            OLS Regression Results                            \n",
      "==============================================================================\n",
      "Dep. Variable:                      Y   R-squared:                       0.889\n",
      "Model:                            OLS   Adj. R-squared:                  0.886\n",
      "Method:                 Least Squares   F-statistic:                     237.0\n",
      "Date:                Mon, 05 Oct 2015   Prob (F-statistic):           2.13e-55\n",
      "Time:                        08:09:11   Log-Likelihood:                -1821.8\n",
      "No. Observations:                 123   AIC:                             3654.\n",
      "Df Residuals:                     118   BIC:                             3668.\n",
      "Df Model:                           4                                         \n",
      "Covariance Type:            nonrobust                                         \n",
      "==============================================================================\n",
      "                 coef    std err          t      P>|t|      [95.0% Conf. Int.]\n",
      "------------------------------------------------------------------------------\n",
      "Intercept   1.677e+06   6.03e+04     27.799      0.000      1.56e+06   1.8e+06\n",
      "P1          1.074e+06   3.67e+04     29.301      0.000         1e+06  1.15e+06\n",
      "P2          3.439e+05   6.11e+04      5.630      0.000      2.23e+05  4.65e+05\n",
      "P3          8.111e+05   1.08e+05      7.476      0.000      5.96e+05  1.03e+06\n",
      "P4          1.042e+06   7.42e+05      1.405      0.163     -4.27e+05  2.51e+06\n",
      "==============================================================================\n",
      "Omnibus:                       36.109   Durbin-Watson:                   2.348\n",
      "Prob(Omnibus):                  0.000   Jarque-Bera (JB):              138.775\n",
      "Skew:                           0.940   Prob(JB):                     7.34e-31\n",
      "Kurtosis:                       7.852   Cond. No.                         20.2\n",
      "==============================================================================\n",
      "\n",
      "Warnings:\n",
      "[1] Standard Errors assume that the covariance matrix of the errors is correctly specified.\n"
     ]
    }
   ],
   "source": [
    "import statsmodels.formula.api as smf\n",
    "lmData=pd.DataFrame(P)\n",
    "lmData.columns=['P1','P2','P3','P4']\n",
    "lmData['Y']=Y.transpose()\n",
    "lm = smf.ols(formula='Y ~ P1+P2+P3+P4',data=lmData).fit()\n",
    "print(lm.summary())\n"
   ]
  },
  {
   "cell_type": "markdown",
   "metadata": {},
   "source": [
    "# 311 data"
   ]
  },
  {
   "cell_type": "markdown",
   "metadata": {},
   "source": [
    "Now let's use 311 data to provide the context of the area. And try to use this context in order to predict average level of real-estate prices"
   ]
  },
  {
   "cell_type": "code",
   "execution_count": 22,
   "metadata": {
    "collapsed": false
   },
   "outputs": [
    {
     "data": {
      "text/plain": [
       "(50000, 3)"
      ]
     },
     "execution_count": 22,
     "metadata": {},
     "output_type": "execute_result"
    }
   ],
   "source": [
    "query = (\"https://data.cityofnewyork.us/resource/3sn5-9gxz.json?\"\n",
    "    \"$group=date,incident_zip\"\n",
    "    \"&$select=incident_zip,date_trunc_ymd(created_date)%20AS%20date%2C%20count(*)\"\n",
    "    \"&$order=count\"\n",
    "    \"&$limit=50000\")\n",
    "data = pd.read_json(query).fillna(value=0)\n",
    "data.shape"
   ]
  },
  {
   "cell_type": "code",
   "execution_count": 38,
   "metadata": {
    "collapsed": false
   },
   "outputs": [
    {
     "data": {
      "text/html": [
       "<div>\n",
       "<table border=\"1\" class=\"dataframe\">\n",
       "  <thead>\n",
       "    <tr style=\"text-align: right;\">\n",
       "      <th></th>\n",
       "      <th>count</th>\n",
       "      <th>date</th>\n",
       "      <th>incident_zip</th>\n",
       "    </tr>\n",
       "  </thead>\n",
       "  <tbody>\n",
       "    <tr>\n",
       "      <th>0</th>\n",
       "      <td>1</td>\n",
       "      <td>2013-12-30</td>\n",
       "      <td>10111</td>\n",
       "    </tr>\n",
       "    <tr>\n",
       "      <th>1</th>\n",
       "      <td>1</td>\n",
       "      <td>2013-12-30</td>\n",
       "      <td>11371</td>\n",
       "    </tr>\n",
       "    <tr>\n",
       "      <th>2</th>\n",
       "      <td>1</td>\n",
       "      <td>2013-12-30</td>\n",
       "      <td>10069</td>\n",
       "    </tr>\n",
       "    <tr>\n",
       "      <th>3</th>\n",
       "      <td>1</td>\n",
       "      <td>2013-12-30</td>\n",
       "      <td>60604-4134</td>\n",
       "    </tr>\n",
       "    <tr>\n",
       "      <th>4</th>\n",
       "      <td>1</td>\n",
       "      <td>2013-12-30</td>\n",
       "      <td>10000</td>\n",
       "    </tr>\n",
       "  </tbody>\n",
       "</table>\n",
       "</div>"
      ],
      "text/plain": [
       "   count       date incident_zip\n",
       "0      1 2013-12-30        10111\n",
       "1      1 2013-12-30        11371\n",
       "2      1 2013-12-30        10069\n",
       "3      1 2013-12-30   60604-4134\n",
       "4      1 2013-12-30        10000"
      ]
     },
     "execution_count": 38,
     "metadata": {},
     "output_type": "execute_result"
    }
   ],
   "source": [
    "data.head()"
   ]
  },
  {
   "cell_type": "code",
   "execution_count": 23,
   "metadata": {
    "collapsed": false
   },
   "outputs": [
    {
     "data": {
      "text/html": [
       "<div>\n",
       "<table border=\"1\" class=\"dataframe\">\n",
       "  <thead>\n",
       "    <tr style=\"text-align: right;\">\n",
       "      <th></th>\n",
       "      <th>Zip</th>\n",
       "      <th>Complain</th>\n",
       "      <th>Count</th>\n",
       "    </tr>\n",
       "  </thead>\n",
       "  <tbody>\n",
       "    <tr>\n",
       "      <th>1</th>\n",
       "      <td>NaN</td>\n",
       "      <td>Adopt-A-Basket</td>\n",
       "      <td>5</td>\n",
       "    </tr>\n",
       "    <tr>\n",
       "      <th>2</th>\n",
       "      <td>10001</td>\n",
       "      <td>Adopt-A-Basket</td>\n",
       "      <td>1</td>\n",
       "    </tr>\n",
       "    <tr>\n",
       "      <th>3</th>\n",
       "      <td>10003</td>\n",
       "      <td>Adopt-A-Basket</td>\n",
       "      <td>1</td>\n",
       "    </tr>\n",
       "    <tr>\n",
       "      <th>4</th>\n",
       "      <td>10009</td>\n",
       "      <td>Adopt-A-Basket</td>\n",
       "      <td>1</td>\n",
       "    </tr>\n",
       "    <tr>\n",
       "      <th>5</th>\n",
       "      <td>10010</td>\n",
       "      <td>Adopt-A-Basket</td>\n",
       "      <td>1</td>\n",
       "    </tr>\n",
       "  </tbody>\n",
       "</table>\n",
       "</div>"
      ],
      "text/plain": [
       "     Zip        Complain  Count\n",
       "1    NaN  Adopt-A-Basket      5\n",
       "2  10001  Adopt-A-Basket      1\n",
       "3  10003  Adopt-A-Basket      1\n",
       "4  10009  Adopt-A-Basket      1\n",
       "5  10010  Adopt-A-Basket      1"
      ]
     },
     "execution_count": 23,
     "metadata": {},
     "output_type": "execute_result"
    }
   ],
   "source": [
    "data311 = pd.read_csv( 'https://serv.cusp.nyu.edu/files/ADS-2015/MorningSection/lab4/aggr311.csv' , index_col=0 )\n",
    "data311.head()"
   ]
  },
  {
   "cell_type": "code",
   "execution_count": 24,
   "metadata": {
    "collapsed": false
   },
   "outputs": [
    {
     "data": {
      "text/html": [
       "<div>\n",
       "<table border=\"1\" class=\"dataframe\">\n",
       "  <thead>\n",
       "    <tr style=\"text-align: right;\">\n",
       "      <th></th>\n",
       "      <th>Unnamed: 0</th>\n",
       "      <th>Zip</th>\n",
       "      <th>AvgPrice</th>\n",
       "    </tr>\n",
       "  </thead>\n",
       "  <tbody>\n",
       "    <tr>\n",
       "      <th>0</th>\n",
       "      <td>6</td>\n",
       "      <td>10011</td>\n",
       "      <td>1101.373476</td>\n",
       "    </tr>\n",
       "    <tr>\n",
       "      <th>1</th>\n",
       "      <td>9</td>\n",
       "      <td>10014</td>\n",
       "      <td>1249.321073</td>\n",
       "    </tr>\n",
       "    <tr>\n",
       "      <th>2</th>\n",
       "      <td>13</td>\n",
       "      <td>10021</td>\n",
       "      <td>1055.729505</td>\n",
       "    </tr>\n",
       "    <tr>\n",
       "      <th>3</th>\n",
       "      <td>16</td>\n",
       "      <td>10024</td>\n",
       "      <td>809.082238</td>\n",
       "    </tr>\n",
       "    <tr>\n",
       "      <th>4</th>\n",
       "      <td>33</td>\n",
       "      <td>10128</td>\n",
       "      <td>1046.774838</td>\n",
       "    </tr>\n",
       "  </tbody>\n",
       "</table>\n",
       "</div>"
      ],
      "text/plain": [
       "   Unnamed: 0    Zip     AvgPrice\n",
       "0           6  10011  1101.373476\n",
       "1           9  10014  1249.321073\n",
       "2          13  10021  1055.729505\n",
       "3          16  10024   809.082238\n",
       "4          33  10128  1046.774838"
      ]
     },
     "execution_count": 24,
     "metadata": {},
     "output_type": "execute_result"
    }
   ],
   "source": [
    "REavg=pd.read_csv('https://serv.cusp.nyu.edu/files/ADS-2015/MorningSection/lab4/REzipavg.csv', header=0)\n",
    "REavg.head()"
   ]
  },
  {
   "cell_type": "code",
   "execution_count": 25,
   "metadata": {
    "collapsed": false
   },
   "outputs": [],
   "source": [
    "import numbers\n",
    "zips={}\n",
    "zipsinv={}\n",
    "zipnum=0\n",
    "complains={}\n",
    "compinv={}\n",
    "compnum=0\n",
    "X=numpy.zeros(shape=(1000,200))\n",
    "for i in data311.index:\n",
    "    z=data311.Zip[i];\n",
    "    if not isinstance(z, numbers.Number):\n",
    "      if z.isdigit():\n",
    "        #if (int(z)>10000)& (int(z)<20000):\n",
    "        if int(z) in np.array(REavg.Zip):\n",
    "           if not (z in zips.keys()):\n",
    "              zips[z]=zipnum\n",
    "              zipsinv[zipnum]=z\n",
    "              zipnum+=1\n",
    "           comp=data311.Complain[i] \n",
    "           if not (comp in complains.keys()):\n",
    "              complains[comp]=compnum\n",
    "              compinv[compnum]=comp\n",
    "              compnum+=1\n",
    "           X[zips[z]][complains[comp]]=data311.Count[i]\n",
    "X=X[0:zipnum,0:compnum]\n",
    "Y=np.array([1.0]*zipnum)\n",
    "Z=np.array([0]*zipnum)\n",
    "for i in REavg.index:\n",
    "    z=str(REavg.Zip[i])\n",
    "    if z in zips.keys():\n",
    "        Y[zips[z]]=REavg.AvgPrice[i]\n",
    "        Z[zips[z]]=REavg.Zip[i]"
   ]
  },
  {
   "cell_type": "code",
   "execution_count": 26,
   "metadata": {
    "collapsed": false
   },
   "outputs": [],
   "source": [
    "for z in range(0,zipnum):\n",
    "    X[z,:]=X[z,:]/sum(X[z,:])"
   ]
  },
  {
   "cell_type": "code",
   "execution_count": 27,
   "metadata": {
    "collapsed": false,
    "scrolled": true
   },
   "outputs": [],
   "source": [
    "random.seed(2015)\n",
    "trainingind=stats.bernoulli.rvs(p = 0.67, size = len(Y))\n",
    "X=matrix(X)\n",
    "X1=1.0*X[trainingind==1,:]\n",
    "X2=1.0*X[trainingind==0,:]\n",
    "Y1=Y[trainingind==1]\n",
    "Y2=Y[trainingind==0]\n",
    "Z1=Z[trainingind==1]\n",
    "Z2=Z[trainingind==0]"
   ]
  },
  {
   "cell_type": "code",
   "execution_count": 28,
   "metadata": {
    "collapsed": false
   },
   "outputs": [],
   "source": [
    "m=mean(X1,0)\n",
    "for i in range(0,compnum):\n",
    "    X1[:,i]=(X1[:,i]-m[0,i])\n",
    "    X2[:,i]=(X2[:,i]-m[0,i])"
   ]
  },
  {
   "cell_type": "code",
   "execution_count": 29,
   "metadata": {
    "collapsed": false,
    "scrolled": true
   },
   "outputs": [],
   "source": [
    "U, s, Vt = np.linalg.svd(X1)\n",
    "V = Vt.T\n",
    "ind = np.argsort(s)[::-1]\n",
    "U = U[:, ind]\n",
    "s = s[ind]\n",
    "V = V[:, ind]\n",
    "S = np.diag(s)\n",
    "P1=X1*np.matrix(V)\n",
    "P2=X2*np.matrix(V)\n",
    "P=np.concatenate((P1,P2))"
   ]
  },
  {
   "cell_type": "code",
   "execution_count": 30,
   "metadata": {
    "collapsed": false
   },
   "outputs": [
    {
     "data": {
      "text/plain": [
       "<Container object of 19 artists>"
      ]
     },
     "execution_count": 30,
     "metadata": {},
     "output_type": "execute_result"
    },
    {
     "data": {
      "image/png": "[encoded data removed]",
      "text/plain": [
       "<matplotlib.figure.Figure at 0x10b598890>"
      ]
     },
     "metadata": {},
     "output_type": "display_data"
    }
   ],
   "source": [
    "sc=cumsum(s**2/sum(s**2))\n",
    "plt.bar(range(1,20),sc[0:19])"
   ]
  },
  {
   "cell_type": "code",
   "execution_count": 31,
   "metadata": {
    "collapsed": false,
    "scrolled": true
   },
   "outputs": [
    {
     "data": {
      "text/plain": [
       "<mpl_toolkits.mplot3d.art3d.Patch3DCollection at 0x10e861ad0>"
      ]
     },
     "execution_count": 31,
     "metadata": {},
     "output_type": "execute_result"
    },
    {
     "data": {
      "image/png": "[encoded data removed]",
      "text/plain": [
       "<matplotlib.figure.Figure at 0x10e9de290>"
      ]
     },
     "metadata": {},
     "output_type": "display_data"
    },
    {
     "data": {
      "image/png": "[encoded data removed]",
      "text/plain": [
       "<matplotlib.figure.Figure at 0x10b670a50>"
      ]
     },
     "metadata": {},
     "output_type": "display_data"
    }
   ],
   "source": [
    "plt.plot(np.array(P[:,0]), np.array(P[:,1]),\n",
    "        'o', color='blue', alpha=1, label='Zips_311')\n",
    "fig = plt.figure(figsize=(8,8))\n",
    "ax = fig.add_subplot(111, projection='3d')\n",
    "plt.rcParams['legend.fontsize'] = 10\n",
    "ax.scatter(np.array(P[:,0]), np.array(P[:,1]), np.array(P[:,2]),\n",
    "        'o', color='blue', alpha=0.5, label='Zips_311')"
   ]
  },
  {
   "cell_type": "code",
   "execution_count": 32,
   "metadata": {
    "collapsed": false
   },
   "outputs": [
    {
     "data": {
      "image/png": "[encoded data removed]",
      "text/plain": [
       "<matplotlib.figure.Figure at 0x10b917110>"
      ]
     },
     "metadata": {},
     "output_type": "display_data"
    },
    {
     "data": {
      "image/png": "[encoded data removed]",
      "text/plain": [
       "<matplotlib.figure.Figure at 0x109843ed0>"
      ]
     },
     "metadata": {},
     "output_type": "display_data"
    }
   ],
   "source": [
    "Z=np.concatenate((Z1,Z2))\n",
    "manhattanInd=(Z>10000)&(Z<10300)&(Z!=10026)&(Z!=10027)&(Z!=10029)&(Z!=10030)&(Z!=10037)&(Z!=10038) #Manhattan\n",
    "statenInd=(Z>=10300)&(Z<10400) #Staten Island\n",
    "brooklynInd=(Z>=11000)&(Z<11300) #Brooklyn\n",
    "queensInd=(Z>=11300)&(Z<11500) #Queens\n",
    "bronxInd=(Z>=10400)&(Z<10500) #Bronx\n",
    "D=Z*0 \n",
    "D[manhattanInd]=1\n",
    "D[statenInd]=2\n",
    "D[brooklynInd]=3\n",
    "D[queensInd]=4\n",
    "D[bronxInd]=5\n",
    "\n",
    "colors=('gray','red','green','blue','yellow','magenta')\n",
    "\n",
    "for d in range(0,6):\n",
    "    plt.plot(np.array(P[D==d,0]), np.array(P[D==d,1]),\n",
    "        'o', color=colors[d], alpha=1)\n",
    "fig = plt.figure(figsize=(8,8))\n",
    "ax = fig.add_subplot(111, projection='3d')\n",
    "for d in range(0,6):\n",
    "    ax.scatter(np.array(P[D==d,0]), np.array(P[D==d,1]), np.array(P[D==d,2]),\n",
    "        'o', color=colors[d], alpha=1)"
   ]
  },
  {
   "cell_type": "code",
   "execution_count": 33,
   "metadata": {
    "collapsed": false
   },
   "outputs": [
    {
     "data": {
      "text/html": [
       "<div>\n",
       "<table border=\"1\" class=\"dataframe\">\n",
       "  <thead>\n",
       "    <tr style=\"text-align: right;\">\n",
       "      <th></th>\n",
       "      <th>P1</th>\n",
       "      <th>P2</th>\n",
       "      <th>P3</th>\n",
       "      <th>P4</th>\n",
       "      <th>P5</th>\n",
       "      <th>P6</th>\n",
       "      <th>P7</th>\n",
       "      <th>P8</th>\n",
       "      <th>P9</th>\n",
       "      <th>P10</th>\n",
       "      <th>Y</th>\n",
       "    </tr>\n",
       "  </thead>\n",
       "  <tbody>\n",
       "    <tr>\n",
       "      <th>0</th>\n",
       "      <td>-0.026962</td>\n",
       "      <td>0.038595</td>\n",
       "      <td>0.005739</td>\n",
       "      <td>-0.050208</td>\n",
       "      <td>0.009596</td>\n",
       "      <td>-0.014936</td>\n",
       "      <td>0.011240</td>\n",
       "      <td>-0.010592</td>\n",
       "      <td>0.014048</td>\n",
       "      <td>-0.002328</td>\n",
       "      <td>193.293116</td>\n",
       "    </tr>\n",
       "    <tr>\n",
       "      <th>1</th>\n",
       "      <td>-0.136195</td>\n",
       "      <td>0.018249</td>\n",
       "      <td>-0.055966</td>\n",
       "      <td>-0.001613</td>\n",
       "      <td>0.015849</td>\n",
       "      <td>-0.021661</td>\n",
       "      <td>0.006981</td>\n",
       "      <td>0.026480</td>\n",
       "      <td>-0.038841</td>\n",
       "      <td>-0.011825</td>\n",
       "      <td>224.736289</td>\n",
       "    </tr>\n",
       "    <tr>\n",
       "      <th>2</th>\n",
       "      <td>0.032539</td>\n",
       "      <td>-0.015911</td>\n",
       "      <td>0.004821</td>\n",
       "      <td>0.036528</td>\n",
       "      <td>0.004737</td>\n",
       "      <td>0.016285</td>\n",
       "      <td>-0.007509</td>\n",
       "      <td>-0.005614</td>\n",
       "      <td>0.021421</td>\n",
       "      <td>0.004742</td>\n",
       "      <td>236.452283</td>\n",
       "    </tr>\n",
       "    <tr>\n",
       "      <th>3</th>\n",
       "      <td>0.134154</td>\n",
       "      <td>-0.004766</td>\n",
       "      <td>0.025739</td>\n",
       "      <td>-0.011746</td>\n",
       "      <td>0.013480</td>\n",
       "      <td>-0.009847</td>\n",
       "      <td>0.004377</td>\n",
       "      <td>-0.009872</td>\n",
       "      <td>-0.006411</td>\n",
       "      <td>0.001848</td>\n",
       "      <td>217.066428</td>\n",
       "    </tr>\n",
       "    <tr>\n",
       "      <th>4</th>\n",
       "      <td>0.026447</td>\n",
       "      <td>-0.018494</td>\n",
       "      <td>-0.028269</td>\n",
       "      <td>-0.034681</td>\n",
       "      <td>-0.007109</td>\n",
       "      <td>0.007768</td>\n",
       "      <td>-0.007947</td>\n",
       "      <td>0.030447</td>\n",
       "      <td>-0.022373</td>\n",
       "      <td>-0.004969</td>\n",
       "      <td>193.659723</td>\n",
       "    </tr>\n",
       "  </tbody>\n",
       "</table>\n",
       "</div>"
      ],
      "text/plain": [
       "         P1        P2        P3        P4        P5        P6        P7  \\\n",
       "0 -0.026962  0.038595  0.005739 -0.050208  0.009596 -0.014936  0.011240   \n",
       "1 -0.136195  0.018249 -0.055966 -0.001613  0.015849 -0.021661  0.006981   \n",
       "2  0.032539 -0.015911  0.004821  0.036528  0.004737  0.016285 -0.007509   \n",
       "3  0.134154 -0.004766  0.025739 -0.011746  0.013480 -0.009847  0.004377   \n",
       "4  0.026447 -0.018494 -0.028269 -0.034681 -0.007109  0.007768 -0.007947   \n",
       "\n",
       "         P8        P9       P10           Y  \n",
       "0 -0.010592  0.014048 -0.002328  193.293116  \n",
       "1  0.026480 -0.038841 -0.011825  224.736289  \n",
       "2 -0.005614  0.021421  0.004742  236.452283  \n",
       "3 -0.009872 -0.006411  0.001848  217.066428  \n",
       "4  0.030447 -0.022373 -0.004969  193.659723  "
      ]
     },
     "execution_count": 33,
     "metadata": {},
     "output_type": "execute_result"
    }
   ],
   "source": [
    "RE311train=pd.DataFrame(P1[:,0:10])\n",
    "RE311train.columns=['P1','P2','P3','P4','P5','P6','P7','P8','P9','P10']\n",
    "RE311train.head()\n",
    "RE311train['Y']=Y1\n",
    "RE311train.head()"
   ]
  },
  {
   "cell_type": "code",
   "execution_count": 34,
   "metadata": {
    "collapsed": false,
    "scrolled": true
   },
   "outputs": [
    {
     "name": "stdout",
     "output_type": "stream",
     "text": [
      "                            OLS Regression Results                            \n",
      "==============================================================================\n",
      "Dep. Variable:                      Y   R-squared:                       0.705\n",
      "Model:                            OLS   Adj. R-squared:                  0.667\n",
      "Method:                 Least Squares   F-statistic:                     18.62\n",
      "Date:                Mon, 05 Oct 2015   Prob (F-statistic):           6.86e-17\n",
      "Time:                        08:10:14   Log-Likelihood:                -523.46\n",
      "No. Observations:                  89   AIC:                             1069.\n",
      "Df Residuals:                      78   BIC:                             1096.\n",
      "Df Model:                          10                                         \n",
      "Covariance Type:            nonrobust                                         \n",
      "==============================================================================\n",
      "                 coef    std err          t      P>|t|      [95.0% Conf. Int.]\n",
      "------------------------------------------------------------------------------\n",
      "Intercept    310.0158      9.818     31.576      0.000       290.469   329.562\n",
      "P1          -278.8275     95.433     -2.922      0.005      -468.819   -88.836\n",
      "P2         -1861.9447    261.887     -7.110      0.000     -2383.322 -1340.567\n",
      "P3         -2800.6899    281.363     -9.954      0.000     -3360.840 -2240.540\n",
      "P4           572.3598    363.241      1.576      0.119      -150.797  1295.517\n",
      "P5         -1461.4201    408.883     -3.574      0.001     -2275.443  -647.397\n",
      "P6          -876.4849    423.391     -2.070      0.042     -1719.392   -33.578\n",
      "P7          -280.8730    494.595     -0.568      0.572     -1265.536   703.790\n",
      "P8         -1340.4852    510.262     -2.627      0.010     -2356.340  -324.631\n",
      "P9           -76.1813    540.521     -0.141      0.888     -1152.277   999.914\n",
      "P10          761.0258    674.766      1.128      0.263      -582.330  2104.382\n",
      "==============================================================================\n",
      "Omnibus:                       45.437   Durbin-Watson:                   1.950\n",
      "Prob(Omnibus):                  0.000   Jarque-Bera (JB):              288.079\n",
      "Skew:                           1.363   Prob(JB):                     2.78e-63\n",
      "Kurtosis:                      11.381   Cond. No.                         68.7\n",
      "==============================================================================\n",
      "\n",
      "Warnings:\n",
      "[1] Standard Errors assume that the covariance matrix of the errors is correctly specified.\n",
      "                            OLS Regression Results                            \n",
      "==============================================================================\n",
      "Dep. Variable:                      Y   R-squared:                       0.689\n",
      "Model:                            OLS   Adj. R-squared:                  0.667\n",
      "Method:                 Least Squares   F-statistic:                     30.32\n",
      "Date:                Mon, 05 Oct 2015   Prob (F-statistic):           6.73e-19\n",
      "Time:                        08:10:14   Log-Likelihood:                -525.73\n",
      "No. Observations:                  89   AIC:                             1065.\n",
      "Df Residuals:                      82   BIC:                             1083.\n",
      "Df Model:                           6                                         \n",
      "Covariance Type:            nonrobust                                         \n",
      "==============================================================================\n",
      "                 coef    std err          t      P>|t|      [95.0% Conf. Int.]\n",
      "------------------------------------------------------------------------------\n",
      "Intercept    310.0158      9.824     31.557      0.000       290.473   329.559\n",
      "P1          -278.8275     95.489     -2.920      0.005      -468.786   -88.869\n",
      "P2         -1861.9447    262.043     -7.106      0.000     -2383.231 -1340.659\n",
      "P3         -2800.6899    281.529     -9.948      0.000     -3360.742 -2240.638\n",
      "P5         -1461.4201    409.125     -3.572      0.001     -2275.300  -647.540\n",
      "P6          -876.4849    423.642     -2.069      0.042     -1719.244   -33.726\n",
      "P8         -1340.4852    510.565     -2.625      0.010     -2356.161  -324.809\n",
      "==============================================================================\n",
      "Omnibus:                       40.970   Durbin-Watson:                   1.836\n",
      "Prob(Omnibus):                  0.000   Jarque-Bera (JB):              210.621\n",
      "Skew:                           1.273   Prob(JB):                     1.84e-46\n",
      "Kurtosis:                      10.093   Cond. No.                         52.0\n",
      "==============================================================================\n",
      "\n",
      "Warnings:\n",
      "[1] Standard Errors assume that the covariance matrix of the errors is correctly specified.\n"
     ]
    }
   ],
   "source": [
    "import statsmodels.formula.api as smf\n",
    "lm = smf.ols(formula='Y ~ P1+P2+P3+P4+P5+P6+P7+P8+P9+P10', data = RE311train).fit()\n",
    "print(lm.summary())\n",
    "lm = smf.ols(formula='Y ~ P1+P2+P3+P5+P6+P8', data = RE311train).fit()\n",
    "print(lm.summary())"
   ]
  },
  {
   "cell_type": "code",
   "execution_count": 35,
   "metadata": {
    "collapsed": false
   },
   "outputs": [
    {
     "name": "stdout",
     "output_type": "stream",
     "text": [
      "0.828143662165\n"
     ]
    },
    {
     "data": {
      "image/png": "[encoded data removed]",
      "text/plain": [
       "<matplotlib.figure.Figure at 0x10e90f650>"
      ]
     },
     "metadata": {},
     "output_type": "display_data"
    }
   ],
   "source": [
    "RE311valid=pd.DataFrame(P2[:,0:10])\n",
    "RE311valid.columns=['P1','P2','P3','P4','P5','P6','P7','P8','P9','P10']\n",
    "RE311valid['Y']=Y2\n",
    "lmy2 = lm.predict(RE311valid)\n",
    "plt.plot(lmy2,RE311valid.Y,'or')\n",
    "plt.plot(lmy2,lmy2,'-b')\n",
    "R2=1-sum(pow(lmy2-RE311valid.Y,2))/sum(pow(RE311valid.Y-mean(RE311valid.Y),2))\n",
    "print(R2)"
   ]
  }
 ],
 "metadata": {
  "kernelspec": {
   "display_name": "Python 2",
   "language": "python",
   "name": "python2"
  },
  "language_info": {
   "codemirror_mode": {
    "name": "ipython",
    "version": 2
   },
   "file_extension": ".py",
   "mimetype": "text/x-python",
   "name": "python",
   "nbconvert_exporter": "python",
   "pygments_lexer": "ipython2",
   "version": "2.7.10"
  }
 },
 "nbformat": 4,
 "nbformat_minor": 0
}
