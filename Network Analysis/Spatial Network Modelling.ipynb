{
 "cells": [
  {
   "cell_type": "markdown",
   "metadata": {},
   "source": [
    "# Session 4. Modelling spatial networks\n",
    "\n",
    "Many real-world networks are embedded into geographical space. For example:\n",
    "- human mobility networks (nodes - locations in space, edge weights - number of people moving between two locations);\n",
    "- aggregated networks of human interactions (nodes - locations in space, edge weights - cumulative communication flux);\n",
    "- social networks, when people are attached to their home locations (nodes - people, edge weights - strength of connections between them or simply existance of such connections in the unweighted case).\n",
    "\n",
    "In this case nodes are given spatial coordinates, while edges, together with their network topology weight $e(a,b)$, can also be assigned their geographical distance $d(a,b)$. We'll refer to such network as \"spatial networks\".\n",
    "\n",
    "It is a common property for many spatial networks to have edge weight decay with distance (connections between more distant objects are weaker). This dependence is often thought as a power-law trend:\n",
    "$$\n",
    "e(a,b)\\sim d(a,b)^{-\\gamma}.\n",
    "$$\n",
    "\n",
    "However often nodes are not equal - for example in case of human mobility networks, where nodes are locations in space, while edges represent number of people moving between them, nodes might be of different size or different density. In this case one could also consider\n",
    "$$\n",
    "e(a,b)\\sim w(a),\\ e(a,b)\\sim w(b),\n",
    "$$\n",
    "or more generally (keeping an idea of the power-law dependence and assuming under-/super-linear scaling of destination attractiveness or origin activity with size): \n",
    "$$\n",
    "e(a,b)\\sim w(a)^\\alpha,\\ e(a,b)\\sim w(b)^\\beta.\n",
    "$$\n",
    "where $w(x)$ is the weight of the node $x$. \n",
    "\n",
    "## Gravity model\n",
    "\n",
    "All together those relations lead to a model\n",
    "$$\n",
    "e(a,b)=k\\cdot w(a) w(b) d(a,b)^{-\\gamma},\n",
    "$$\n",
    "or more generally\n",
    "$$\n",
    "e(a,b)=k\\cdot w(a)^\\alpha w(b)^\\beta d(a,b)^{-\\gamma},\n",
    "$$\n",
    "where $k$ is the global proportionality (normalization) factor\n",
    "$$\n",
    "k=\\frac{\\sum\\limits_{a,b}e(a,b)}{\\sum\\limits_{a,b} w(a)^\\alpha w(b)^\\beta d(a,b)^{-\\gamma}}.\n",
    "$$\n",
    "\n",
    "In case network does not have loop edges to model, the normalization factor is defined as\n",
    "$$\n",
    "k=\\frac{\\sum\\limits_{a\\neq b}e(a,b)}{\\sum\\limits_{a\\neq b} w(a)^\\alpha w(b)^\\beta d(a,b)^{-\\gamma}}.\n",
    "$$\n",
    "\n",
    "Often it is reasonable to assume that $\\alpha=\\beta$ (especially if the network is symmetric, like representing number of people visiting both locations $a$ and $b$ regardless their order or cumulative communication flux between the two locations regardless directionality). \n",
    "\n",
    "This model is called gravity model.\n",
    "\n",
    "## Gravity model with local normalization\n",
    "\n",
    "Alternatively, one can also introduce local normalization, assuming relative scaling of strength of attractiveness of different destinations $b$ for the origin $a$ to be proportional to\n",
    "$$\n",
    "{\\rm attr}_a(b)\\sim w(b)^\\beta d(a,b)^{-\\gamma}.\n",
    "$$\n",
    "Given the known total outgoing strength $T(a)$ for each node $a$, this leads to the model\n",
    "$$\n",
    "e(a,b)=T(a) \\frac{{\\rm attr}_a(b)}{\\sum_c {\\rm attr}_a(c)}\n",
    "$$\n",
    "i.e.\n",
    "$$\n",
    "e(a,b)=T(a) \\frac{w(b)^\\beta d(a,b)^{-\\gamma}}{\\sum_c w(c)^\\beta d(a,c)^{-\\gamma}}.\n",
    "$$\n",
    "In case loop edges are missing in the network one should rather write\n",
    "$$\n",
    "e(a,b)=T(a) \\frac{w(b)^\\beta d(a,b)^{-\\gamma}}{\\sum_{c\\neq a} w(c)^\\beta d(a,c)^{-\\gamma}},\n",
    "$$\n",
    "as the entire outgoing strenth is to be distributed among the possible non-loop edges for $c\\neq a$. \n",
    "\n",
    "## Radiation model\n",
    "\n",
    "Another alternative approach to modelling spatial networks of human mobility and potentially interactions has been suggested in a recent paper [Simini, F., González, M. C., Maritan, A., & Barabási, A. L. (2012). A universal model for mobility and migration patterns. Nature, 484(7392)]. The key idea is that people select a closet destination bettan than the one they have in their location of origin according to a certain attractiveness distribution and the beauty of the model is that it gives a one single paramter-free formulae (just based on the given population distribution, nothing to fit or assume unlike the exponents in the gravity model), no matter what the assumed attractiveness distribution was. The model however also relies on the knowledge of the cumulative outgoing strength of the nodes, just like the gravity model with the local normalization does.\n",
    "\n",
    "The model predicting mobility flux (an edge) $e(a,b)$ between two locations $a,b$ is\n",
    "$$\n",
    "e(a,b)=T(a)\\frac{p(a)p(b)}{\\left(p(a)+s(a,b)\\right)\\left(p(a)+p(b)+s(a,b)\\right)},\n",
    "$$\n",
    "where $p(a)$ denotes the population of the location $a$, while $s(a,b)$ is the total population enclosed in the circle centered in $a$ with the radius equal to $d(a,b)$ (i.e. the total population residing no further from $a$ compared to $b$)."
   ]
  },
  {
   "cell_type": "markdown",
   "metadata": {},
   "source": [
    "## US State2State migration modeling - gravity law\n",
    "\n",
    "First of all read the state2state migration data and build a network based on it"
   ]
  },
  {
   "cell_type": "code",
   "execution_count": 1,
   "metadata": {
    "collapsed": false
   },
   "outputs": [
    {
     "name": "stdout",
     "output_type": "stream",
     "text": [
      "Populating the interactive namespace from numpy and matplotlib\n"
     ]
    }
   ],
   "source": [
    "#add necessary libraries\n",
    "import networkx as nx #library supporting networks\n",
    "import matplotlib.pyplot as plt #plotting\n",
    "import pandas as pd\n",
    "import numpy as np\n",
    "import scipy.stats as stat\n",
    "from scipy import optimize\n",
    "#make sure plots are embedded into the notebook\n",
    "%pylab inline \n",
    "import statsmodels.formula.api as smf"
   ]
  },
  {
   "cell_type": "code",
   "execution_count": 2,
   "metadata": {
    "collapsed": false
   },
   "outputs": [
    {
     "data": {
      "text/html": [
       "<div>\n",
       "<table border=\"1\" class=\"dataframe\">\n",
       "  <thead>\n",
       "    <tr style=\"text-align: right;\">\n",
       "      <th></th>\n",
       "      <th>i</th>\n",
       "      <th>j</th>\n",
       "      <th>a</th>\n",
       "    </tr>\n",
       "  </thead>\n",
       "  <tbody>\n",
       "    <tr>\n",
       "      <th>0</th>\n",
       "      <td>1</td>\n",
       "      <td>1</td>\n",
       "      <td>588293</td>\n",
       "    </tr>\n",
       "    <tr>\n",
       "      <th>1</th>\n",
       "      <td>2</td>\n",
       "      <td>1</td>\n",
       "      <td>93</td>\n",
       "    </tr>\n",
       "    <tr>\n",
       "      <th>2</th>\n",
       "      <td>3</td>\n",
       "      <td>1</td>\n",
       "      <td>833</td>\n",
       "    </tr>\n",
       "    <tr>\n",
       "      <th>3</th>\n",
       "      <td>4</td>\n",
       "      <td>1</td>\n",
       "      <td>691</td>\n",
       "    </tr>\n",
       "    <tr>\n",
       "      <th>4</th>\n",
       "      <td>5</td>\n",
       "      <td>1</td>\n",
       "      <td>2087</td>\n",
       "    </tr>\n",
       "  </tbody>\n",
       "</table>\n",
       "</div>"
      ],
      "text/plain": [
       "   i  j       a\n",
       "0  1  1  588293\n",
       "1  2  1      93\n",
       "2  3  1     833\n",
       "3  4  1     691\n",
       "4  5  1    2087"
      ]
     },
     "execution_count": 2,
     "metadata": {},
     "output_type": "execute_result"
    }
   ],
   "source": [
    "# load migration data (edge list of migration fluxes between states number in alphabetic order)\n",
    "USmigration=pd.read_csv( 'https://serv.cusp.nyu.edu/files/ADS-2015/NetworkAnalysis/lab4/USstates_migration.csv' , header=0 )\n",
    "USmigration.head()"
   ]
  },
  {
   "cell_type": "code",
   "execution_count": 3,
   "metadata": {
    "collapsed": false
   },
   "outputs": [
    {
     "data": {
      "text/html": [
       "<div>\n",
       "<table border=\"1\" class=\"dataframe\">\n",
       "  <thead>\n",
       "    <tr style=\"text-align: right;\">\n",
       "      <th></th>\n",
       "      <th>State</th>\n",
       "      <th>Population</th>\n",
       "    </tr>\n",
       "  </thead>\n",
       "  <tbody>\n",
       "    <tr>\n",
       "      <th>0</th>\n",
       "      <td>1</td>\n",
       "      <td>4745278</td>\n",
       "    </tr>\n",
       "    <tr>\n",
       "      <th>1</th>\n",
       "      <td>2</td>\n",
       "      <td>711962</td>\n",
       "    </tr>\n",
       "    <tr>\n",
       "      <th>2</th>\n",
       "      <td>3</td>\n",
       "      <td>6402301</td>\n",
       "    </tr>\n",
       "    <tr>\n",
       "      <th>3</th>\n",
       "      <td>4</td>\n",
       "      <td>2906632</td>\n",
       "    </tr>\n",
       "    <tr>\n",
       "      <th>4</th>\n",
       "      <td>5</td>\n",
       "      <td>37222678</td>\n",
       "    </tr>\n",
       "  </tbody>\n",
       "</table>\n",
       "</div>"
      ],
      "text/plain": [
       "   State  Population\n",
       "0      1     4745278\n",
       "1      2      711962\n",
       "2      3     6402301\n",
       "3      4     2906632\n",
       "4      5    37222678"
      ]
     },
     "execution_count": 3,
     "metadata": {},
     "output_type": "execute_result"
    }
   ],
   "source": [
    "# load state total population data (states numbered in the same order)\n",
    "state_pop=pd.read_csv( 'https://serv.cusp.nyu.edu/files/ADS-2015/NetworkAnalysis/lab4/USstate_pop.csv' , header=0 )\n",
    "state_pop.head()"
   ]
  },
  {
   "cell_type": "code",
   "execution_count": 4,
   "metadata": {
    "collapsed": false
   },
   "outputs": [
    {
     "data": {
      "text/html": [
       "<div>\n",
       "<table border=\"1\" class=\"dataframe\">\n",
       "  <thead>\n",
       "    <tr style=\"text-align: right;\">\n",
       "      <th></th>\n",
       "      <th>i</th>\n",
       "      <th>j</th>\n",
       "      <th>d</th>\n",
       "    </tr>\n",
       "  </thead>\n",
       "  <tbody>\n",
       "    <tr>\n",
       "      <th>0</th>\n",
       "      <td>2</td>\n",
       "      <td>1</td>\n",
       "      <td>5614.436960</td>\n",
       "    </tr>\n",
       "    <tr>\n",
       "      <th>1</th>\n",
       "      <td>3</td>\n",
       "      <td>1</td>\n",
       "      <td>2495.344624</td>\n",
       "    </tr>\n",
       "    <tr>\n",
       "      <th>2</th>\n",
       "      <td>4</td>\n",
       "      <td>1</td>\n",
       "      <td>573.987494</td>\n",
       "    </tr>\n",
       "    <tr>\n",
       "      <th>3</th>\n",
       "      <td>5</td>\n",
       "      <td>1</td>\n",
       "      <td>3126.573252</td>\n",
       "    </tr>\n",
       "    <tr>\n",
       "      <th>4</th>\n",
       "      <td>6</td>\n",
       "      <td>1</td>\n",
       "      <td>1998.429707</td>\n",
       "    </tr>\n",
       "  </tbody>\n",
       "</table>\n",
       "</div>"
      ],
      "text/plain": [
       "   i  j            d\n",
       "0  2  1  5614.436960\n",
       "1  3  1  2495.344624\n",
       "2  4  1   573.987494\n",
       "3  5  1  3126.573252\n",
       "4  6  1  1998.429707"
      ]
     },
     "execution_count": 4,
     "metadata": {},
     "output_type": "execute_result"
    }
   ],
   "source": [
    "# load distances between states (computed based on the shapefiles)\n",
    "USStates_dist=pd.read_csv( 'https://serv.cusp.nyu.edu/files/ADS-2015/NetworkAnalysis/lab4/USstates_dist.csv' , header=0 )\n",
    "USStates_dist.head()"
   ]
  },
  {
   "cell_type": "code",
   "execution_count": 5,
   "metadata": {
    "collapsed": false
   },
   "outputs": [],
   "source": [
    "#creating a directed weighted graph of US migration adding all the edges\n",
    "USmig=nx.DiGraph()\n",
    "nx.set_edge_attributes(USmig,'weight', 0)\n",
    "for k in USmigration.index:\n",
    "    USmig.add_edge(USmigration.i[k],USmigration.j[k],weight=USmigration.a[k])"
   ]
  },
  {
   "cell_type": "code",
   "execution_count": 6,
   "metadata": {
    "collapsed": false
   },
   "outputs": [],
   "source": [
    "#adding edge distances\n",
    "nx.set_edge_attributes(USmig,'dist', 0)\n",
    "for k in USStates_dist.index:\n",
    "    if not USmig.has_edge(USStates_dist.i[k],USStates_dist.j[k]):\n",
    "        USmig.add_edge(USStates_dist.i[k],USStates_dist.j[k],weight=0)\n",
    "    USmig[USStates_dist.i[k]][USStates_dist.j[k]]['dist']=USStates_dist.d[k]"
   ]
  },
  {
   "cell_type": "markdown",
   "metadata": {},
   "source": [
    "Now try to establish overall dependence of the edge weight on the distance"
   ]
  },
  {
   "cell_type": "code",
   "execution_count": 8,
   "metadata": {
    "collapsed": false
   },
   "outputs": [],
   "source": [
    "#create a dataframe with edge distances and weights\n",
    "data=pd.DataFrame({'d':[],'e':[]})\n",
    "for e in USmig.edges(data=True):\n",
    "    i=data.index.max()\n",
    "    if isnan(i):\n",
    "        i=-1\n",
    "    data.loc[i + 1] = [e[2]['dist'], e[2]['weight']]"
   ]
  },
  {
   "cell_type": "code",
   "execution_count": 15,
   "metadata": {
    "collapsed": false
   },
   "outputs": [
    {
     "data": {
      "text/html": [
       "<div>\n",
       "<table border=\"1\" class=\"dataframe\">\n",
       "  <thead>\n",
       "    <tr style=\"text-align: right;\">\n",
       "      <th></th>\n",
       "      <th>d</th>\n",
       "      <th>e</th>\n",
       "    </tr>\n",
       "  </thead>\n",
       "  <tbody>\n",
       "    <tr>\n",
       "      <th>1</th>\n",
       "      <td>5614.436960</td>\n",
       "      <td>1771</td>\n",
       "    </tr>\n",
       "    <tr>\n",
       "      <th>2</th>\n",
       "      <td>2495.344624</td>\n",
       "      <td>1677</td>\n",
       "    </tr>\n",
       "    <tr>\n",
       "      <th>3</th>\n",
       "      <td>573.987494</td>\n",
       "      <td>1642</td>\n",
       "    </tr>\n",
       "    <tr>\n",
       "      <th>4</th>\n",
       "      <td>3126.573252</td>\n",
       "      <td>3389</td>\n",
       "    </tr>\n",
       "    <tr>\n",
       "      <th>5</th>\n",
       "      <td>1998.429707</td>\n",
       "      <td>348</td>\n",
       "    </tr>\n",
       "  </tbody>\n",
       "</table>\n",
       "</div>"
      ],
      "text/plain": [
       "             d     e\n",
       "1  5614.436960  1771\n",
       "2  2495.344624  1677\n",
       "3   573.987494  1642\n",
       "4  3126.573252  3389\n",
       "5  1998.429707   348"
      ]
     },
     "execution_count": 15,
     "metadata": {},
     "output_type": "execute_result"
    }
   ],
   "source": [
    "#take only edges with positive distances and weights (do not consider empty and loop edges)\n",
    "data=data.loc[(data.d>=1)&(data.e>0)]\n",
    "data.head()"
   ]
  },
  {
   "cell_type": "code",
   "execution_count": 16,
   "metadata": {
    "collapsed": false
   },
   "outputs": [
    {
     "name": "stdout",
     "output_type": "stream",
     "text": [
      "                            OLS Regression Results                            \n",
      "==============================================================================\n",
      "Dep. Variable:                 log(e)   R-squared:                       0.107\n",
      "Model:                            OLS   Adj. R-squared:                  0.106\n",
      "Method:                 Least Squares   F-statistic:                     284.8\n",
      "Date:                Sun, 06 Dec 2015   Prob (F-statistic):           1.89e-60\n",
      "Time:                        22:14:05   Log-Likelihood:                -4440.5\n",
      "No. Observations:                2383   AIC:                             8885.\n",
      "Df Residuals:                    2381   BIC:                             8897.\n",
      "Df Model:                           1                                         \n",
      "Covariance Type:            nonrobust                                         \n",
      "==============================================================================\n",
      "                 coef    std err          t      P>|t|      [95.0% Conf. Int.]\n",
      "------------------------------------------------------------------------------\n",
      "Intercept     11.8443      0.298     39.697      0.000        11.259    12.429\n",
      "log(d)        -0.6830      0.040    -16.877      0.000        -0.762    -0.604\n",
      "==============================================================================\n",
      "Omnibus:                       52.924   Durbin-Watson:                   1.414\n",
      "Prob(Omnibus):                  0.000   Jarque-Bera (JB):               56.356\n",
      "Skew:                          -0.356   Prob(JB):                     5.79e-13\n",
      "Kurtosis:                       3.248   Cond. No.                         70.1\n",
      "==============================================================================\n",
      "\n",
      "Warnings:\n",
      "[1] Standard Errors assume that the covariance matrix of the errors is correctly specified.\n"
     ]
    },
    {
     "data": {
      "text/plain": [
       "<matplotlib.text.Text at 0x10bdd5990>"
      ]
     },
     "execution_count": 16,
     "metadata": {},
     "output_type": "execute_result"
    },
    {
     "data": {
      "image/png": "[encoded data removed]",
      "text/plain": [
       "<matplotlib.figure.Figure at 0x10bdb05d0>"
      ]
     },
     "metadata": {},
     "output_type": "display_data"
    }
   ],
   "source": [
    "#fit a power law e~d^q on a log-scale and visualize the dependence\n",
    "lm = smf.ols(formula='log(e) ~ log(d)', data = data).fit()\n",
    "print(lm.summary())\n",
    "lme = lm.predict(data)\n",
    "plt.plot(log(data.d),log(data.e),'or')\n",
    "plt.plot(log(data.d),lme,'-b')  \n",
    "plt.xlabel('log(d)')\n",
    "plt.ylabel('log(e)')"
   ]
  },
  {
   "cell_type": "markdown",
   "metadata": {},
   "source": [
    "now try the standard gravity law"
   ]
  },
  {
   "cell_type": "code",
   "execution_count": 17,
   "metadata": {
    "collapsed": false
   },
   "outputs": [],
   "source": [
    "#assign weights to the nodes based on their population\n",
    "USmig_w={}\n",
    "for k in state_pop.index:\n",
    "    USmig_w[state_pop.State[k]]=state_pop.Population[k]"
   ]
  },
  {
   "cell_type": "code",
   "execution_count": 18,
   "metadata": {
    "collapsed": true
   },
   "outputs": [],
   "source": [
    "#remove loop edges (in-state migrations)\n",
    "for k in USmig.nodes():\n",
    "    USmig[k][k]['weight']=0"
   ]
  },
  {
   "cell_type": "code",
   "execution_count": 19,
   "metadata": {
    "collapsed": true
   },
   "outputs": [],
   "source": [
    "USmig_wout=USmig.out_degree(weight='weight')\n",
    "USmig_win=USmig.in_degree(weight='weight')"
   ]
  },
  {
   "cell_type": "code",
   "execution_count": 20,
   "metadata": {
    "collapsed": false
   },
   "outputs": [],
   "source": [
    "data=pd.DataFrame({'d':[],'e':[],'w1':[],'w2':[]})\n",
    "for e in USmig.edges(data=True):\n",
    "    i=data.index.max()\n",
    "    if isnan(i):\n",
    "        i=-1\n",
    "    data.loc[i + 1] = [e[2]['dist'], e[2]['weight'], USmig_w[e[0]], USmig_w[e[1]]]"
   ]
  },
  {
   "cell_type": "code",
   "execution_count": 21,
   "metadata": {
    "collapsed": false
   },
   "outputs": [
    {
     "data": {
      "text/plain": [
       "{'dist': 0, 'weight': 0}"
      ]
     },
     "execution_count": 21,
     "metadata": {},
     "output_type": "execute_result"
    }
   ],
   "source": [
    "USmig[1][1]"
   ]
  },
  {
   "cell_type": "code",
   "execution_count": 22,
   "metadata": {
    "collapsed": false
   },
   "outputs": [
    {
     "data": {
      "text/html": [
       "<div>\n",
       "<table border=\"1\" class=\"dataframe\">\n",
       "  <thead>\n",
       "    <tr style=\"text-align: right;\">\n",
       "      <th></th>\n",
       "      <th>d</th>\n",
       "      <th>e</th>\n",
       "      <th>w1</th>\n",
       "      <th>w2</th>\n",
       "    </tr>\n",
       "  </thead>\n",
       "  <tbody>\n",
       "    <tr>\n",
       "      <th>1</th>\n",
       "      <td>5614.436960</td>\n",
       "      <td>1771</td>\n",
       "      <td>4745278</td>\n",
       "      <td>711962</td>\n",
       "    </tr>\n",
       "    <tr>\n",
       "      <th>2</th>\n",
       "      <td>2495.344624</td>\n",
       "      <td>1677</td>\n",
       "      <td>4745278</td>\n",
       "      <td>6402301</td>\n",
       "    </tr>\n",
       "    <tr>\n",
       "      <th>3</th>\n",
       "      <td>573.987494</td>\n",
       "      <td>1642</td>\n",
       "      <td>4745278</td>\n",
       "      <td>2906632</td>\n",
       "    </tr>\n",
       "    <tr>\n",
       "      <th>4</th>\n",
       "      <td>3126.573252</td>\n",
       "      <td>3389</td>\n",
       "      <td>4745278</td>\n",
       "      <td>37222678</td>\n",
       "    </tr>\n",
       "    <tr>\n",
       "      <th>5</th>\n",
       "      <td>1998.429707</td>\n",
       "      <td>348</td>\n",
       "      <td>4745278</td>\n",
       "      <td>5048443</td>\n",
       "    </tr>\n",
       "  </tbody>\n",
       "</table>\n",
       "</div>"
      ],
      "text/plain": [
       "             d     e       w1        w2\n",
       "1  5614.436960  1771  4745278    711962\n",
       "2  2495.344624  1677  4745278   6402301\n",
       "3   573.987494  1642  4745278   2906632\n",
       "4  3126.573252  3389  4745278  37222678\n",
       "5  1998.429707   348  4745278   5048443"
      ]
     },
     "execution_count": 22,
     "metadata": {},
     "output_type": "execute_result"
    }
   ],
   "source": [
    "data1=data.loc[(data.d>1)&(data.e>0)&(data.w1>0)&(data.w2>0)]\n",
    "data1.head()"
   ]
  },
  {
   "cell_type": "code",
   "execution_count": 23,
   "metadata": {
    "collapsed": false
   },
   "outputs": [
    {
     "name": "stdout",
     "output_type": "stream",
     "text": [
      "                            OLS Regression Results                            \n",
      "==============================================================================\n",
      "Dep. Variable:                 log(e)   R-squared:                       0.537\n",
      "Model:                            OLS   Adj. R-squared:                  0.537\n",
      "Method:                 Least Squares   F-statistic:                     921.5\n",
      "Date:                Sun, 06 Dec 2015   Prob (F-statistic):               0.00\n",
      "Time:                        22:29:03   Log-Likelihood:                -3656.4\n",
      "No. Observations:                2383   AIC:                             7321.\n",
      "Df Residuals:                    2379   BIC:                             7344.\n",
      "Df Model:                           3                                         \n",
      "Covariance Type:            nonrobust                                         \n",
      "==============================================================================\n",
      "                 coef    std err          t      P>|t|      [95.0% Conf. Int.]\n",
      "------------------------------------------------------------------------------\n",
      "Intercept    -12.5761      0.562    -22.377      0.000       -13.678   -11.474\n",
      "log(d)        -0.5803      0.029    -19.860      0.000        -0.638    -0.523\n",
      "log(w1)        0.8070      0.023     35.677      0.000         0.763     0.851\n",
      "log(w2)        0.7526      0.023     33.162      0.000         0.708     0.797\n",
      "==============================================================================\n",
      "Omnibus:                       98.606   Durbin-Watson:                   1.727\n",
      "Prob(Omnibus):                  0.000   Jarque-Bera (JB):              159.904\n",
      "Skew:                          -0.355   Prob(JB):                     1.89e-35\n",
      "Kurtosis:                       4.052   Cond. No.                         555.\n",
      "==============================================================================\n",
      "\n",
      "Warnings:\n",
      "[1] Standard Errors assume that the covariance matrix of the errors is correctly specified.\n"
     ]
    },
    {
     "data": {
      "text/plain": [
       "[<matplotlib.lines.Line2D at 0x103b7a1d0>]"
      ]
     },
     "execution_count": 23,
     "metadata": {},
     "output_type": "execute_result"
    },
    {
     "data": {
      "image/png": "[encoded data removed]",
      "text/plain": [
       "<matplotlib.figure.Figure at 0x10bdebb50>"
      ]
     },
     "metadata": {},
     "output_type": "display_data"
    }
   ],
   "source": [
    "lm = smf.ols(formula='log(e) ~ log(d)+log(w1)+log(w2)', data = data1).fit()\n",
    "print(lm.summary())\n",
    "lme = lm.predict(data1)\n",
    "plt.plot(lme,log(data1.e),'or')\n",
    "plt.plot(lme,lme,'-b')  "
   ]
  },
  {
   "cell_type": "markdown",
   "metadata": {},
   "source": [
    "now perform model validation fitting it on one part of the network and applying to the other"
   ]
  },
  {
   "cell_type": "code",
   "execution_count": 27,
   "metadata": {
    "collapsed": false
   },
   "outputs": [],
   "source": [
    "#now perform model validation\n",
    "random.seed(2015)\n",
    "ind=stat.bernoulli.rvs(p = 0.67, size = len(data1.e))\n",
    "train=data1.loc[ind==1]\n",
    "valid=data1.loc[ind==0]"
   ]
  },
  {
   "cell_type": "code",
   "execution_count": 28,
   "metadata": {
    "collapsed": false
   },
   "outputs": [
    {
     "name": "stdout",
     "output_type": "stream",
     "text": [
      "                            OLS Regression Results                            \n",
      "==============================================================================\n",
      "Dep. Variable:                 log(e)   R-squared:                       0.530\n",
      "Model:                            OLS   Adj. R-squared:                  0.529\n",
      "Method:                 Least Squares   F-statistic:                     589.9\n",
      "Date:                Sun, 06 Dec 2015   Prob (F-statistic):          1.50e-256\n",
      "Time:                        22:31:43   Log-Likelihood:                -2431.3\n",
      "No. Observations:                1571   AIC:                             4871.\n",
      "Df Residuals:                    1567   BIC:                             4892.\n",
      "Df Model:                           3                                         \n",
      "Covariance Type:            nonrobust                                         \n",
      "==============================================================================\n",
      "                 coef    std err          t      P>|t|      [95.0% Conf. Int.]\n",
      "------------------------------------------------------------------------------\n",
      "Intercept    -12.9251      0.693    -18.641      0.000       -14.285   -11.565\n",
      "log(d)        -0.5511      0.036    -15.318      0.000        -0.622    -0.481\n",
      "log(w1)        0.8057      0.029     28.214      0.000         0.750     0.862\n",
      "log(w2)        0.7613      0.028     26.954      0.000         0.706     0.817\n",
      "==============================================================================\n",
      "Omnibus:                       58.924   Durbin-Watson:                   1.671\n",
      "Prob(Omnibus):                  0.000   Jarque-Bera (JB):               94.747\n",
      "Skew:                          -0.323   Prob(JB):                     2.67e-21\n",
      "Kurtosis:                       4.016   Cond. No.                         548.\n",
      "==============================================================================\n",
      "\n",
      "Warnings:\n",
      "[1] Standard Errors assume that the covariance matrix of the errors is correctly specified.\n",
      "Validation error=0.547941206688\n"
     ]
    },
    {
     "data": {
      "image/png": "[encoded data removed]",
      "text/plain": [
       "<matplotlib.figure.Figure at 0x10bd57d90>"
      ]
     },
     "metadata": {},
     "output_type": "display_data"
    }
   ],
   "source": [
    "lm = smf.ols(formula='log(e) ~ log(d)+log(w1)+log(w2)', data = train).fit()\n",
    "print(lm.summary())\n",
    "lme = lm.predict(valid)\n",
    "plt.plot(lme,log(valid.e),'or')\n",
    "plt.plot(lme,lme,'-b')\n",
    "R2=1-sum(pow(log(valid.e)-lme,2))/sum(pow(log(valid.e)-mean(log(valid.e)),2)) \n",
    "print('Validation error={0}'.format(R2))"
   ]
  },
  {
   "cell_type": "markdown",
   "metadata": {},
   "source": [
    "## US State2State migration modeling - gravity law with local normalization"
   ]
  },
  {
   "cell_type": "code",
   "execution_count": 244,
   "metadata": {
    "collapsed": false
   },
   "outputs": [],
   "source": [
    "# function locally normalized gravity model fit (in terms of log-scale R2) for given exponents q\n",
    "def LNGmodel(q):\n",
    "    #first pass - assign relative weights as the model prediction\n",
    "    for e in USmig.edges():\n",
    "        if e[0]!=e[1]:\n",
    "            USmig[e[0]][e[1]]['predict']=(USmig[e[0]][e[1]]['dist']**q[0])*(USmig_w[e[1]]**q[1])\n",
    "        else:\n",
    "            USmig[e[0]][e[1]]['predict']=USmig[e[0]][e[1]]['weight']\n",
    "            \n",
    "    #compute normalization factors    \n",
    "    USmig_norm=USmig.out_degree(weight='predict')\n",
    "    for a in USmig.nodes():\n",
    "        USmig_norm[a]=(USmig_wout[a]-USmig[a][a]['weight'])/(USmig_norm[a]-USmig[a][a]['predict'])\n",
    "    #second pass - normalize model predictions   \n",
    "    E=np.array([0]*USmig.size())\n",
    "    me=np.array([0]*USmig.size())\n",
    "    i=0\n",
    "    for e in USmig.edges():\n",
    "        if e[0]!=e[1]:\n",
    "            USmig[e[0]][e[1]]['predict']*=USmig_norm[e[0]]\n",
    "            #print(USmig[e[0]][e[1]]['weight'],USmig[e[0]][e[1]]['predict'])\n",
    "            E[i]=USmig[e[0]][e[1]]['weight']\n",
    "            me[i]=USmig[e[0]][e[1]]['predict']\n",
    "            i+=1\n",
    "    E=E[0:i]\n",
    "    me=me[0:i]\n",
    "    me=me[E>0]\n",
    "    E=E[E>0]\n",
    "    R2=1-sum(pow(log(E)-log(me),2))/sum(pow(log(E)-mean(log(E)),2))    \n",
    "    return (R2,E,me) #performance and edge weights-predictions for fit visualization purposes "
   ]
  },
  {
   "cell_type": "code",
   "execution_count": 245,
   "metadata": {
    "collapsed": true
   },
   "outputs": [],
   "source": [
    "def LNGmodelFit(q):\n",
    "    #version for maximization\n",
    "    return -LNGmodel(q)[0]"
   ]
  },
  {
   "cell_type": "code",
   "execution_count": 246,
   "metadata": {
    "collapsed": false
   },
   "outputs": [],
   "source": [
    "#fit model parameters\n",
    "res=optimize.minimize(LNGmodelFit,[0, 1],method='Nelder-Mead')"
   ]
  },
  {
   "cell_type": "code",
   "execution_count": 247,
   "metadata": {
    "collapsed": false
   },
   "outputs": [
    {
     "data": {
      "text/plain": [
       "  status: 0\n",
       "    nfev: 109\n",
       " success: True\n",
       "     fun: -0.56957491974468411\n",
       "       x: array([-0.97070785,  0.90931302])\n",
       " message: 'Optimization terminated successfully.'\n",
       "     nit: 51"
      ]
     },
     "execution_count": 247,
     "metadata": {},
     "output_type": "execute_result"
    }
   ],
   "source": [
    "res"
   ]
  },
  {
   "cell_type": "code",
   "execution_count": 251,
   "metadata": {
    "collapsed": false
   },
   "outputs": [],
   "source": [
    "(R2,e,me)=LNGmodel(res.x)"
   ]
  },
  {
   "cell_type": "code",
   "execution_count": 252,
   "metadata": {
    "collapsed": false
   },
   "outputs": [
    {
     "data": {
      "text/plain": [
       "[<matplotlib.lines.Line2D at 0x12635a590>]"
      ]
     },
     "execution_count": 252,
     "metadata": {},
     "output_type": "execute_result"
    },
    {
     "data": {
      "image/png": "[encoded data removed]",
      "text/plain": [
       "<matplotlib.figure.Figure at 0x12635abd0>"
      ]
     },
     "metadata": {},
     "output_type": "display_data"
    }
   ],
   "source": [
    "plt.plot(log(e),log(me),'or')\n",
    "plt.plot(log(me),log(me),'-b')  "
   ]
  },
  {
   "cell_type": "markdown",
   "metadata": {},
   "source": [
    "R2 on real scale\n",
    "train - validation"
   ]
  },
  {
   "cell_type": "markdown",
   "metadata": {},
   "source": [
    "## Taxi ridership"
   ]
  },
  {
   "cell_type": "code",
   "execution_count": 258,
   "metadata": {
    "collapsed": true
   },
   "outputs": [],
   "source": [
    "taxioct = pd.read_csv('https://serv.cusp.nyu.edu/files/ADS-2015/NetworkAnalysis/lab2/oct2013aggr2.csv',header=-1)"
   ]
  },
  {
   "cell_type": "code",
   "execution_count": 259,
   "metadata": {
    "collapsed": false
   },
   "outputs": [],
   "source": [
    "NYCCD_dist=pd.read_csv( 'https://serv.cusp.nyu.edu/files/ADS-2015/NetworkAnalysis/lab4/NYCCD_dist.csv' , header=0 )"
   ]
  },
  {
   "cell_type": "code",
   "execution_count": 260,
   "metadata": {
    "collapsed": false
   },
   "outputs": [
    {
     "data": {
      "text/html": [
       "<div>\n",
       "<table border=\"1\" class=\"dataframe\">\n",
       "  <thead>\n",
       "    <tr style=\"text-align: right;\">\n",
       "      <th></th>\n",
       "      <th>0</th>\n",
       "      <th>1</th>\n",
       "      <th>2</th>\n",
       "      <th>3</th>\n",
       "      <th>4</th>\n",
       "      <th>5</th>\n",
       "      <th>6</th>\n",
       "      <th>7</th>\n",
       "      <th>8</th>\n",
       "      <th>9</th>\n",
       "      <th>10</th>\n",
       "      <th>11</th>\n",
       "      <th>12</th>\n",
       "      <th>13</th>\n",
       "    </tr>\n",
       "  </thead>\n",
       "  <tbody>\n",
       "    <tr>\n",
       "      <th>0</th>\n",
       "      <td>7319</td>\n",
       "      <td>311</td>\n",
       "      <td>311</td>\n",
       "      <td>0</td>\n",
       "      <td>0</td>\n",
       "      <td>0.00</td>\n",
       "      <td>0</td>\n",
       "      <td>0</td>\n",
       "      <td>0.00</td>\n",
       "      <td>0.0000</td>\n",
       "      <td>0.0</td>\n",
       "      <td>0.0000</td>\n",
       "      <td>0.00</td>\n",
       "      <td>0.0000</td>\n",
       "    </tr>\n",
       "    <tr>\n",
       "      <th>1</th>\n",
       "      <td>7319</td>\n",
       "      <td>312</td>\n",
       "      <td>311</td>\n",
       "      <td>0</td>\n",
       "      <td>0</td>\n",
       "      <td>0.00</td>\n",
       "      <td>0</td>\n",
       "      <td>0</td>\n",
       "      <td>0.00</td>\n",
       "      <td>0.0000</td>\n",
       "      <td>0.0</td>\n",
       "      <td>0.0000</td>\n",
       "      <td>0.00</td>\n",
       "      <td>0.0000</td>\n",
       "    </tr>\n",
       "    <tr>\n",
       "      <th>2</th>\n",
       "      <td>7319</td>\n",
       "      <td>480</td>\n",
       "      <td>311</td>\n",
       "      <td>2</td>\n",
       "      <td>1900</td>\n",
       "      <td>113.14</td>\n",
       "      <td>1</td>\n",
       "      <td>0</td>\n",
       "      <td>19.57</td>\n",
       "      <td>2.3052</td>\n",
       "      <td>8.2</td>\n",
       "      <td>4.5255</td>\n",
       "      <td>61.45</td>\n",
       "      <td>9.8288</td>\n",
       "    </tr>\n",
       "    <tr>\n",
       "      <th>3</th>\n",
       "      <td>7319</td>\n",
       "      <td>501</td>\n",
       "      <td>311</td>\n",
       "      <td>0</td>\n",
       "      <td>0</td>\n",
       "      <td>0.00</td>\n",
       "      <td>0</td>\n",
       "      <td>0</td>\n",
       "      <td>0.00</td>\n",
       "      <td>0.0000</td>\n",
       "      <td>0.0</td>\n",
       "      <td>0.0000</td>\n",
       "      <td>0.00</td>\n",
       "      <td>0.0000</td>\n",
       "    </tr>\n",
       "    <tr>\n",
       "      <th>4</th>\n",
       "      <td>7319</td>\n",
       "      <td>205</td>\n",
       "      <td>311</td>\n",
       "      <td>0</td>\n",
       "      <td>0</td>\n",
       "      <td>0.00</td>\n",
       "      <td>0</td>\n",
       "      <td>0</td>\n",
       "      <td>0.00</td>\n",
       "      <td>0.0000</td>\n",
       "      <td>0.0</td>\n",
       "      <td>0.0000</td>\n",
       "      <td>0.00</td>\n",
       "      <td>0.0000</td>\n",
       "    </tr>\n",
       "  </tbody>\n",
       "</table>\n",
       "</div>"
      ],
      "text/plain": [
       "     0    1    2   3     4       5   6   7      8       9    10      11  \\\n",
       "0  7319  311  311   0     0    0.00   0   0   0.00  0.0000  0.0  0.0000   \n",
       "1  7319  312  311   0     0    0.00   0   0   0.00  0.0000  0.0  0.0000   \n",
       "2  7319  480  311   2  1900  113.14   1   0  19.57  2.3052  8.2  4.5255   \n",
       "3  7319  501  311   0     0    0.00   0   0   0.00  0.0000  0.0  0.0000   \n",
       "4  7319  205  311   0     0    0.00   0   0   0.00  0.0000  0.0  0.0000   \n",
       "\n",
       "      12      13  \n",
       "0   0.00  0.0000  \n",
       "1   0.00  0.0000  \n",
       "2  61.45  9.8288  \n",
       "3   0.00  0.0000  \n",
       "4   0.00  0.0000  "
      ]
     },
     "execution_count": 260,
     "metadata": {},
     "output_type": "execute_result"
    }
   ],
   "source": [
    "taxioct.head()"
   ]
  },
  {
   "cell_type": "code",
   "execution_count": 284,
   "metadata": {
    "collapsed": false
   },
   "outputs": [
    {
     "data": {
      "text/html": [
       "<div>\n",
       "<table border=\"1\" class=\"dataframe\">\n",
       "  <thead>\n",
       "    <tr style=\"text-align: right;\">\n",
       "      <th></th>\n",
       "      <th>Var1</th>\n",
       "      <th>Var2</th>\n",
       "      <th>d</th>\n",
       "    </tr>\n",
       "  </thead>\n",
       "  <tbody>\n",
       "    <tr>\n",
       "      <th>0</th>\n",
       "      <td>312</td>\n",
       "      <td>311</td>\n",
       "      <td>13006.427480</td>\n",
       "    </tr>\n",
       "    <tr>\n",
       "      <th>1</th>\n",
       "      <td>480</td>\n",
       "      <td>311</td>\n",
       "      <td>74389.349494</td>\n",
       "    </tr>\n",
       "    <tr>\n",
       "      <th>2</th>\n",
       "      <td>501</td>\n",
       "      <td>311</td>\n",
       "      <td>43476.068667</td>\n",
       "    </tr>\n",
       "    <tr>\n",
       "      <th>3</th>\n",
       "      <td>205</td>\n",
       "      <td>311</td>\n",
       "      <td>95385.229688</td>\n",
       "    </tr>\n",
       "    <tr>\n",
       "      <th>4</th>\n",
       "      <td>202</td>\n",
       "      <td>311</td>\n",
       "      <td>81443.894281</td>\n",
       "    </tr>\n",
       "  </tbody>\n",
       "</table>\n",
       "</div>"
      ],
      "text/plain": [
       "   Var1  Var2             d\n",
       "0   312   311  13006.427480\n",
       "1   480   311  74389.349494\n",
       "2   501   311  43476.068667\n",
       "3   205   311  95385.229688\n",
       "4   202   311  81443.894281"
      ]
     },
     "execution_count": 284,
     "metadata": {},
     "output_type": "execute_result"
    }
   ],
   "source": [
    "NYCCD_dist.head()"
   ]
  },
  {
   "cell_type": "code",
   "execution_count": 267,
   "metadata": {
    "collapsed": false
   },
   "outputs": [],
   "source": [
    "#aggregate the network for entire month\n",
    "taxinet=nx.DiGraph()\n",
    "for i in taxioct.index:\n",
    "    if not taxinet.has_edge(taxioct[1][i],taxioct[2][i]):\n",
    "        taxinet.add_edge(taxioct[1][i],taxioct[2][i],weight=taxioct[3][i])\n",
    "    else:\n",
    "        taxinet[taxioct[1][i]][taxioct[2][i]]['weight']+=taxioct[3][i]"
   ]
  },
  {
   "cell_type": "code",
   "execution_count": 270,
   "metadata": {
    "collapsed": false
   },
   "outputs": [],
   "source": [
    "minH=min(taxioct[0])\n",
    "maxH=max(taxioct[0])\n",
    "taxihn={}\n",
    "#initialize empty networks for each hour\n",
    "for h in range(0,maxH-minH+1):\n",
    "    taxihn[h]=nx.DiGraph()\n",
    "#aggregate networks per hour    \n",
    "for i in taxioct.index:\n",
    "    h=taxioct[0][i]-minH\n",
    "    if not taxihn[h].has_edge(taxioct[1][i],taxioct[2][i]):\n",
    "        taxihn[h].add_edge(taxioct[1][i],taxioct[2][i],weight=taxioct[3][i])\n",
    "    else:\n",
    "        taxihn[h][taxioct[1][i]][taxioct[2][i]]['weight']+=taxioct[3][i]"
   ]
  },
  {
   "cell_type": "code",
   "execution_count": 287,
   "metadata": {
    "collapsed": false
   },
   "outputs": [],
   "source": [
    "for k in NYCCD_dist.index:\n",
    "    if taxinet.has_edge(NYCCD_dist.Var1[k],NYCCD_dist.Var2[k]):\n",
    "        taxinet[NYCCD_dist.Var1[k]][NYCCD_dist.Var2[k]]['dist']=NYCCD_dist.d[k]\n",
    "    for h in range(0,maxH-minH+1):    \n",
    "        if taxihn[h].has_edge(NYCCD_dist.Var1[k],NYCCD_dist.Var2[k]):\n",
    "            taxihn[h][NYCCD_dist.Var1[k]][NYCCD_dist.Var2[k]]['dist']=NYCCD_dist.d[k]        "
   ]
  },
  {
   "cell_type": "markdown",
   "metadata": {},
   "source": [
    "Fit gravity model to the entire month taxi data (node weights taken from the network with distinguishing between incoming and outgoing weights)"
   ]
  },
  {
   "cell_type": "code",
   "execution_count": 329,
   "metadata": {
    "collapsed": true
   },
   "outputs": [],
   "source": [
    "#first summarize the above approach into a reusable function\n",
    "def fitGravity(net,w_out,w_in,vis):\n",
    "    data=pd.DataFrame({'d':[],'e':[]})\n",
    "    for e in net.edges(data=True):\n",
    "        i=data.index.max()\n",
    "        if isnan(i):\n",
    "            i=-1\n",
    "        if (e[0]!=e[1])&(e[0]>0)&(e[1]>0)&(w_out[e[0]]>0)&(w_in[e[1]]>0):\n",
    "            data.loc[i + 1] = [e[2]['dist'], 1.0*e[2]['weight']/w_out[e[0]]/w_in[e[1]]]\n",
    "    data=data.loc[(data.d>=1)&(data.e>0)]        \n",
    "    lm = smf.ols(formula='log(e) ~ log(d)', data = data).fit()\n",
    "    if vis:\n",
    "        print(lm.summary())\n",
    "        lme = lm.predict(data)\n",
    "        plt.plot(log(data.d),log(data.e),'or')\n",
    "        plt.plot(log(data.d),lme,'-b')     \n",
    "    return lm.params[1]    "
   ]
  },
  {
   "cell_type": "code",
   "execution_count": 330,
   "metadata": {
    "collapsed": true
   },
   "outputs": [],
   "source": [
    "tw_out=taxinet.out_degree(weight='weight')\n",
    "tw_in=taxinet.in_degree(weight='weight')"
   ]
  },
  {
   "cell_type": "code",
   "execution_count": 331,
   "metadata": {
    "collapsed": false
   },
   "outputs": [
    {
     "name": "stdout",
     "output_type": "stream",
     "text": [
      "                            OLS Regression Results                            \n",
      "==============================================================================\n",
      "Dep. Variable:                 log(e)   R-squared:                       0.305\n",
      "Model:                            OLS   Adj. R-squared:                  0.305\n",
      "Method:                 Least Squares   F-statistic:                     1361.\n",
      "Date:                Sun, 29 Nov 2015   Prob (F-statistic):          2.61e-247\n",
      "Time:                        21:58:03   Log-Likelihood:                -5754.0\n",
      "No. Observations:                3098   AIC:                         1.151e+04\n",
      "Df Residuals:                    3096   BIC:                         1.152e+04\n",
      "Df Model:                           1                                         \n",
      "Covariance Type:            nonrobust                                         \n",
      "==============================================================================\n",
      "                 coef    std err          t      P>|t|      [95.0% Conf. Int.]\n",
      "------------------------------------------------------------------------------\n",
      "Intercept      1.3742      0.474      2.897      0.004         0.444     2.304\n",
      "log(d)        -1.6738      0.045    -36.895      0.000        -1.763    -1.585\n",
      "==============================================================================\n",
      "Omnibus:                      186.437   Durbin-Watson:                   0.732\n",
      "Prob(Omnibus):                  0.000   Jarque-Bera (JB):              229.824\n",
      "Skew:                           0.589   Prob(JB):                     1.24e-50\n",
      "Kurtosis:                       3.628   Cond. No.                         180.\n",
      "==============================================================================\n",
      "\n",
      "Warnings:\n",
      "[1] Standard Errors assume that the covariance matrix of the errors is correctly specified.\n"
     ]
    },
    {
     "data": {
      "image/png": "[encoded data removed]",
      "text/plain": [
       "<matplotlib.figure.Figure at 0x1265e9090>"
      ]
     },
     "metadata": {},
     "output_type": "display_data"
    }
   ],
   "source": [
    "par=fitGravity(taxinet,tw_out,tw_in,True)"
   ]
  },
  {
   "cell_type": "code",
   "execution_count": 320,
   "metadata": {
    "collapsed": false
   },
   "outputs": [
    {
     "data": {
      "text/plain": [
       "-1.6738318200995566"
      ]
     },
     "execution_count": 320,
     "metadata": {},
     "output_type": "execute_result"
    }
   ],
   "source": [
    "par"
   ]
  },
  {
   "cell_type": "code",
   "execution_count": 332,
   "metadata": {
    "collapsed": false
   },
   "outputs": [
    {
     "name": "stdout",
     "output_type": "stream",
     "text": [
      "Hour 0:-0.282222679091\n",
      "Hour 1:-0.325979621599\n",
      "Hour 2:-0.122509168168\n",
      "Hour 3:-0.0485869549664\n",
      "Hour 4:0.0551075919894\n",
      "Hour 5:0.552385536322\n",
      "Hour 6:0.0336074494441\n",
      "Hour 7:-0.200053155965\n",
      "Hour 8:-0.305222703749\n",
      "Hour 9:-0.418866353577\n",
      "Hour 10:-0.113417926685\n",
      "Hour 11:-0.0944687580844\n",
      "Hour 12:-0.128716465447\n",
      "Hour 13:-0.13763038092\n",
      "Hour 14:-0.111557070632\n",
      "Hour 15:-0.140449804362\n",
      "Hour 16:0.105954860901\n",
      "Hour 17:-0.36016219576\n",
      "Hour 18:-0.331591917465\n",
      "Hour 19:-0.364500465408\n",
      "Hour 20:-0.395458024489\n",
      "Hour 21:-0.346824489321\n",
      "Hour 22:-0.354910884759\n",
      "Hour 23:-0.504269328325\n",
      "Hour 24:-0.445661860929\n",
      "Hour 25:-0.462790037306\n",
      "Hour 26:-0.032231997977\n",
      "Hour 27:0.0757579697616\n",
      "Hour 28:0.0226068643746\n",
      "Hour 29:0.330218370568\n",
      "Hour 30:-0.0384563192772\n",
      "Hour 31:-0.502528366714\n",
      "Hour 32:-0.417677619518\n",
      "Hour 33:-0.564121209917\n",
      "Hour 34:-0.29297844111\n",
      "Hour 35:-0.0968903931986\n",
      "Hour 36:-0.0596578489954\n",
      "Hour 37:0.0273485802016\n",
      "Hour 38:-0.0300817399925\n",
      "Hour 39:0.0933908478466\n",
      "Hour 40:0.0170203799784\n",
      "Hour 41:-0.223393748333\n",
      "Hour 42:-0.364786784457\n",
      "Hour 43:-0.391028059718\n",
      "Hour 44:-0.248931615432\n",
      "Hour 45:-0.386820354073\n",
      "Hour 46:-0.478306619316\n",
      "Hour 47:-0.438196831128\n",
      "Hour 48:-0.50551375424\n",
      "Hour 49:-0.215584101208\n",
      "Hour 50:-0.411911708898\n",
      "Hour 51:0.364894634754\n",
      "Hour 52:0.237772117068\n",
      "Hour 53:0.381062035867\n",
      "Hour 54:-0.15507712458\n",
      "Hour 55:-0.347387050657\n",
      "Hour 56:-0.479399822031\n",
      "Hour 57:-0.438859645719\n",
      "Hour 58:-0.273843693753\n",
      "Hour 59:-0.304048425264\n",
      "Hour 60:-0.15121373469\n",
      "Hour 61:-0.20350763379\n",
      "Hour 62:-0.0571564556727\n",
      "Hour 63:0.0156332170366\n",
      "Hour 64:0.00395865720596\n",
      "Hour 65:-0.148732239524\n",
      "Hour 66:-0.299140068004\n",
      "Hour 67:-0.33160395091\n",
      "Hour 68:-0.45354980171\n",
      "Hour 69:-0.398335710479\n",
      "Hour 70:-0.397620482804\n",
      "Hour 71:-0.556145023904\n",
      "Hour 72:-0.529467352642\n",
      "Hour 73:-0.500535341435\n",
      "Hour 74:-0.31411864164\n",
      "Hour 75:-0.263791609837\n",
      "Hour 76:-0.0450001542742\n",
      "Hour 77:0.246470279116\n",
      "Hour 78:-0.0541725003335\n",
      "Hour 79:-0.446980038739\n",
      "Hour 80:-0.50584752778\n",
      "Hour 81:-0.548950134864\n",
      "Hour 82:-0.341503143039\n",
      "Hour 83:-0.238548705852\n",
      "Hour 84:-0.236926544319\n",
      "Hour 85:-0.0683629949197\n",
      "Hour 86:-0.11777254309\n",
      "Hour 87:-0.0198841233961\n",
      "Hour 88:0.00926407468753\n",
      "Hour 89:-0.32888675483\n",
      "Hour 90:-0.26787966166\n",
      "Hour 91:-0.442847375851\n",
      "Hour 92:-0.547793362059\n",
      "Hour 93:-0.423216535586\n",
      "Hour 94:-0.477309118208\n",
      "Hour 95:-0.819544058607\n",
      "Hour 96:-0.799934861778\n",
      "Hour 97:-0.884686935728\n",
      "Hour 98:-0.739772546315\n",
      "Hour 99:-0.587182227512\n",
      "Hour 100:-0.634829625865\n",
      "Hour 101:-0.323587781482\n",
      "Hour 102:-0.0299878915767\n",
      "Hour 103:-0.242063965202\n",
      "Hour 104:-0.43939757843\n",
      "Hour 105:-0.693932439731\n",
      "Hour 106:-0.588939696153\n",
      "Hour 107:-0.521026010059\n",
      "Hour 108:-0.560938688102\n",
      "Hour 109:-0.515103769692\n",
      "Hour 110:-0.508910701623\n",
      "Hour 111:-0.632047449883\n",
      "Hour 112:-0.503697658363\n",
      "Hour 113:-0.453555897125\n",
      "Hour 114:-0.720240414607\n",
      "Hour 115:-0.683100351593\n",
      "Hour 116:-0.700835865642\n",
      "Hour 117:-0.699889982599\n",
      "Hour 118:-0.7914398681\n",
      "Hour 119:-0.9837678841\n",
      "Hour 120:-0.846098207838\n",
      "Hour 121:-0.981816781258\n",
      "Hour 122:-0.763540625177\n",
      "Hour 123:-0.64496114\n",
      "Hour 124:-0.557118711623\n",
      "Hour 125:-0.0632318349417\n",
      "Hour 126:-0.111606300248\n",
      "Hour 127:-0.0609809967319\n",
      "Hour 128:-0.248954194265\n",
      "Hour 129:-0.668657543408\n",
      "Hour 130:-0.66197666439\n",
      "Hour 131:-0.565639910925\n",
      "Hour 132:-0.443947986762\n",
      "Hour 133:-0.362323652808\n",
      "Hour 134:-0.29670485357\n",
      "Hour 135:-0.0665314013\n",
      "Hour 136:-0.285781276245\n",
      "Hour 137:-0.169815546678\n",
      "Hour 138:-0.215208697371\n",
      "Hour 139:-0.220502924178\n",
      "Hour 140:-0.250716534528\n",
      "Hour 141:-0.314192772082\n",
      "Hour 142:-0.38658438241\n",
      "Hour 143:-0.275199628915\n",
      "Hour 144:-0.364495381103\n",
      "Hour 145:-0.0349207270622\n",
      "Hour 146:0.086578743169\n",
      "Hour 147:0.304291147618\n",
      "Hour 148:0.488068590523\n",
      "Hour 149:0.664036293374\n",
      "Hour 150:0.186497563357\n",
      "Hour 151:-0.304742867789\n",
      "Hour 152:-0.347041243011\n",
      "Hour 153:-0.300103774271\n",
      "Hour 154:-0.263505019491\n",
      "Hour 155:-0.0904003481502\n",
      "Hour 156:-0.165080782829\n",
      "Hour 157:-0.140666931225\n",
      "Hour 158:0.0406257369418\n",
      "Hour 159:-0.183320788726\n",
      "Hour 160:-0.260209954233\n",
      "Hour 161:-0.27265815189\n",
      "Hour 162:-0.126272597248\n",
      "Hour 163:-0.334315530173\n",
      "Hour 164:-0.251567655834\n",
      "Hour 165:-0.271408467389\n",
      "Hour 166:-0.297570339187\n",
      "Hour 167:-0.325768290011\n",
      "Hour 168:-0.139293282072\n",
      "Hour 169:-0.604903015515\n",
      "Hour 170:-0.0651543117182\n",
      "Hour 171:0.101529786139\n",
      "Hour 172:0.202539979587\n",
      "Hour 173:0.584862722766\n",
      "Hour 174:-0.105330545811\n",
      "Hour 175:-0.373768826363\n",
      "Hour 176:-0.220578453764\n",
      "Hour 177:-0.441101488511\n",
      "Hour 178:-0.208289220074\n",
      "Hour 179:-0.15083114018\n",
      "Hour 180:-0.193143033573\n",
      "Hour 181:-0.0203049791611\n",
      "Hour 182:-0.078477124209\n",
      "Hour 183:0.0719312509728\n",
      "Hour 184:0.127419679608\n",
      "Hour 185:-0.214021707667\n",
      "Hour 186:-0.208755875672\n",
      "Hour 187:-0.291630004512\n",
      "Hour 188:-0.343854284675\n",
      "Hour 189:-0.387760348208\n",
      "Hour 190:-0.475978554266\n",
      "Hour 191:-0.410606496369\n",
      "Hour 192:-0.462842069326\n",
      "Hour 193:-0.712710285378\n",
      "Hour 194:-0.328029252813\n",
      "Hour 195:-0.149367580786\n",
      "Hour 196:0.435020899213\n",
      "Hour 197:0.257865693956\n",
      "Hour 198:0.0133184758411\n",
      "Hour 199:-0.549520252608\n",
      "Hour 200:-0.545513437437\n",
      "Hour 201:-0.376798616467\n",
      "Hour 202:-0.242311045202\n",
      "Hour 203:-0.23824915982\n",
      "Hour 204:-0.176573589085\n",
      "Hour 205:-0.0358826827818\n",
      "Hour 206:-0.128458917068\n",
      "Hour 207:-0.0147516473422\n",
      "Hour 208:0.0961077482299\n",
      "Hour 209:-0.225659388757\n",
      "Hour 210:-0.429070022386\n",
      "Hour 211:-0.287770919423\n",
      "Hour 212:-0.313225829446\n",
      "Hour 213:-0.445455195977\n",
      "Hour 214:-0.457460408994\n",
      "Hour 215:-0.53741270024\n",
      "Hour 216:-0.406328584602\n",
      "Hour 217:-0.487017067639\n",
      "Hour 218:-0.29092907116\n",
      "Hour 219:0.025942991931\n",
      "Hour 220:0.151365904453\n",
      "Hour 221:0.554925560111\n",
      "Hour 222:-0.109078269072\n",
      "Hour 223:-0.506497940699\n",
      "Hour 224:-0.309193417965\n",
      "Hour 225:-0.346574048853\n",
      "Hour 226:-0.332542139668\n",
      "Hour 227:-0.1826644225\n",
      "Hour 228:-0.123694743208\n",
      "Hour 229:0.011069638751\n",
      "Hour 230:-0.0209429766924\n",
      "Hour 231:-0.000535964535943\n",
      "Hour 232:0.0240891361963\n",
      "Hour 233:-0.211296501481\n",
      "Hour 234:-0.165522026083\n",
      "Hour 235:-0.351050628634\n",
      "Hour 236:-0.385268219189\n",
      "Hour 237:-0.309300812252\n",
      "Hour 238:-0.39786473008\n",
      "Hour 239:-0.621892228739\n",
      "Hour 240:-0.527052132102\n",
      "Hour 241:-0.624146398985\n",
      "Hour 242:-0.375705149975\n",
      "Hour 243:-0.181456780953\n",
      "Hour 244:-0.0834669658788\n",
      "Hour 245:0.181523127099\n",
      "Hour 246:-0.0780057087613\n",
      "Hour 247:-0.465496104242\n",
      "Hour 248:-0.323858904462\n",
      "Hour 249:-0.478033858491\n",
      "Hour 250:-0.385925864636\n",
      "Hour 251:-0.217823702492\n",
      "Hour 252:-0.254773038874\n",
      "Hour 253:-0.0173639182234\n",
      "Hour 254:-0.114969341772\n",
      "Hour 255:-0.115353291012\n",
      "Hour 256:-0.143950311442\n",
      "Hour 257:-0.110160426664\n",
      "Hour 258:-0.412944852828\n",
      "Hour 259:-0.514996727447\n",
      "Hour 260:-0.522932720032\n",
      "Hour 261:-0.459995280319\n",
      "Hour 262:-0.632189579378\n",
      "Hour 263:-0.690991727525\n",
      "Hour 264:-0.636692898613\n",
      "Hour 265:-0.777174353833\n",
      "Hour 266:-0.805207776762\n",
      "Hour 267:-0.769704607848\n",
      "Hour 268:-0.284213615127\n",
      "Hour 269:-0.151491221359\n",
      "Hour 270:-0.216740419409\n",
      "Hour 271:-0.134139975299\n",
      "Hour 272:-0.34144927152\n",
      "Hour 273:-0.574334711177\n",
      "Hour 274:-0.520391044519\n",
      "Hour 275:-0.356858034972\n",
      "Hour 276:-0.32238791042\n",
      "Hour 277:-0.409436110737\n",
      "Hour 278:-0.287620278924\n",
      "Hour 279:-0.288055035559\n",
      "Hour 280:-0.372123651233\n",
      "Hour 281:-0.49307001015\n",
      "Hour 282:-0.716776570969\n",
      "Hour 283:-0.560251400097\n",
      "Hour 284:-0.658188797301\n",
      "Hour 285:-0.68291814606\n",
      "Hour 286:-0.625787676756\n",
      "Hour 287:-0.704188756101\n",
      "Hour 288:-0.763582521545\n",
      "Hour 289:-0.7501173006\n",
      "Hour 290:-0.857983059315\n",
      "Hour 291:-0.669868495156\n",
      "Hour 292:-0.680983240679\n",
      "Hour 293:-0.114626164976\n",
      "Hour 294:0.168794261801\n",
      "Hour 295:0.223837398565\n",
      "Hour 296:-0.278528556089\n",
      "Hour 297:-0.454149908988\n",
      "Hour 298:-0.585595883014\n",
      "Hour 299:-0.453383905386\n",
      "Hour 300:-0.4034158869\n",
      "Hour 301:-0.163740640318\n",
      "Hour 302:-0.16290498207\n",
      "Hour 303:-0.161728440185\n",
      "Hour 304:-0.279604880176\n",
      "Hour 305:-0.168811296561\n",
      "Hour 306:-0.265977295855\n",
      "Hour 307:-0.402947218971\n",
      "Hour 308:-0.406172770633\n",
      "Hour 309:-0.403978228337\n",
      "Hour 310:-0.489143965615\n",
      "Hour 311:-0.480086012863\n",
      "Hour 312:-0.605246837817\n",
      "Hour 313:-0.40122484554\n",
      "Hour 314:-0.311807078809\n",
      "Hour 315:-0.0993549523397\n",
      "Hour 316:0.00712217789779\n",
      "Hour 317:0.345398080491\n",
      "Hour 318:0.196725237574\n",
      "Hour 319:0.154875029083\n",
      "Hour 320:-0.182213511699\n",
      "Hour 321:-0.279007831993\n",
      "Hour 322:-0.0388187228979\n",
      "Hour 323:-0.109256225639\n",
      "Hour 324:-0.133547299125\n",
      "Hour 325:0.0979846441966\n",
      "Hour 326:-0.0749960757134\n",
      "Hour 327:0.120679326609\n",
      "Hour 328:0.123393557349\n",
      "Hour 329:-0.0479865990171\n",
      "Hour 330:-0.261340057418\n",
      "Hour 331:-0.36519764561\n",
      "Hour 332:-0.155581567502\n",
      "Hour 333:-0.339926386245\n",
      "Hour 334:-0.406617798531\n",
      "Hour 335:-0.437203863064\n",
      "Hour 336:-0.301912380824\n",
      "Hour 337:-0.394360637911\n",
      "Hour 338:-0.0914560592169\n",
      "Hour 339:0.056270447678\n",
      "Hour 340:0.448868386954\n",
      "Hour 341:0.39976275871\n",
      "Hour 342:0.178811093469\n",
      "Hour 343:-0.147791005287\n",
      "Hour 344:-0.233865502242\n",
      "Hour 345:-0.383238834136\n",
      "Hour 346:-0.0302753566908\n",
      "Hour 347:-0.184146211829\n",
      "Hour 348:-0.348117592256\n",
      "Hour 349:-0.0468665289897\n",
      "Hour 350:-0.0107202762466\n",
      "Hour 351:0.122862397014\n",
      "Hour 352:0.104408915731\n",
      "Hour 353:-0.0972307526273\n",
      "Hour 354:-0.142706412191\n",
      "Hour 355:-0.322631426031\n",
      "Hour 356:-0.407437961587\n",
      "Hour 357:-0.356086995043\n",
      "Hour 358:-0.545519170333\n",
      "Hour 359:-0.557265178307\n",
      "Hour 360:-0.555995863997\n",
      "Hour 361:-0.439425023629\n",
      "Hour 362:-0.407409183572\n",
      "Hour 363:-0.31364020252\n",
      "Hour 364:0.164805667085\n",
      "Hour 365:0.353587810077\n",
      "Hour 366:-0.0177787202322\n",
      "Hour 367:-0.366891176242\n",
      "Hour 368:-0.314069291346\n",
      "Hour 369:-0.353277524503\n",
      "Hour 370:-0.148419514326\n",
      "Hour 371:-0.284041530975\n",
      "Hour 372:-0.200986013613\n",
      "Hour 373:-0.0240519907789\n",
      "Hour 374:-0.158604198518\n",
      "Hour 375:0.0370467448171\n",
      "Hour 376:0.144314986974\n",
      "Hour 377:-0.0637925626851\n",
      "Hour 378:-0.344699936934\n",
      "Hour 379:-0.359390728063\n",
      "Hour 380:-0.395269856908\n",
      "Hour 381:-0.375313845427\n",
      "Hour 382:-0.410146841904\n",
      "Hour 383:-0.516751244742\n",
      "Hour 384:-0.400918243053\n",
      "Hour 385:-0.575871603911\n",
      "Hour 386:-0.183431301158\n",
      "Hour 387:-0.0396342222758\n",
      "Hour 388:0.251498114292\n",
      "Hour 389:0.289703649112\n",
      "Hour 390:0.0816457873142\n",
      "Hour 391:-0.470931628157\n",
      "Hour 392:-0.525023037703\n",
      "Hour 393:-0.447302145473\n",
      "Hour 394:-0.404652632042\n",
      "Hour 395:-0.196848027774\n",
      "Hour 396:-0.206258195342\n",
      "Hour 397:-0.250349014273\n",
      "Hour 398:0.0857419227762\n",
      "Hour 399:0.117610930027\n",
      "Hour 400:0.0870783190823\n",
      "Hour 401:-0.223198309241\n",
      "Hour 402:-0.479995244933\n",
      "Hour 403:-0.343393185838\n",
      "Hour 404:-0.542111246929\n",
      "Hour 405:-0.532521107087\n",
      "Hour 406:-0.397498543273\n",
      "Hour 407:-0.545366834018\n",
      "Hour 408:-0.631338709525\n",
      "Hour 409:-0.502280250259\n",
      "Hour 410:-0.346582689535\n",
      "Hour 411:-0.218493103545\n",
      "Hour 412:0.108196222342\n",
      "Hour 413:0.43591645135\n",
      "Hour 414:-0.0673573301504\n",
      "Hour 415:-0.37632157064\n",
      "Hour 416:-0.566571554611\n",
      "Hour 417:-0.57817880519\n",
      "Hour 418:-0.423519173925\n",
      "Hour 419:-0.156610777412\n",
      "Hour 420:-0.166917984623\n",
      "Hour 421:-0.140266816284\n",
      "Hour 422:-0.102251920361\n",
      "Hour 423:0.0492935923981\n",
      "Hour 424:0.0136494331653\n",
      "Hour 425:-0.273205773648\n",
      "Hour 426:-0.4891150141\n",
      "Hour 427:-0.552088945247\n",
      "Hour 428:-0.521240161762\n",
      "Hour 429:-0.573503190701\n",
      "Hour 430:-0.508964562196\n",
      "Hour 431:-0.632624228031\n",
      "Hour 432:-0.766378881472\n",
      "Hour 433:-0.823864057722\n",
      "Hour 434:-0.906889404933\n",
      "Hour 435:-0.530976978156\n",
      "Hour 436:-0.50770938924\n",
      "Hour 437:-0.162986974946\n",
      "Hour 438:0.140623336908\n",
      "Hour 439:-0.217465738375\n",
      "Hour 440:-0.405632216658\n",
      "Hour 441:-0.465046971057\n",
      "Hour 442:-0.4670388284\n",
      "Hour 443:-0.430606603599\n",
      "Hour 444:-0.529161040613\n",
      "Hour 445:-0.642346427302\n",
      "Hour 446:-0.347699834736\n",
      "Hour 447:-0.352642719447\n",
      "Hour 448:-0.272267915097\n",
      "Hour 449:-0.478476946224\n",
      "Hour 450:-0.416022969197\n",
      "Hour 451:-0.868924842253\n",
      "Hour 452:-0.661390625407\n",
      "Hour 453:-0.547539267069\n",
      "Hour 454:-0.641331899341\n",
      "Hour 455:-0.784176700632\n",
      "Hour 456:-0.96967600155\n",
      "Hour 457:-0.777188493058\n",
      "Hour 458:-0.661739876668\n",
      "Hour 459:-0.64492352251\n",
      "Hour 460:-0.493548759857\n",
      "Hour 461:-0.227881523043\n",
      "Hour 462:0.13735830119\n",
      "Hour 463:-0.0299423572341\n",
      "Hour 464:-0.2337476203\n",
      "Hour 465:-0.501208505388\n",
      "Hour 466:-0.509947312614\n",
      "Hour 467:-0.425154346717\n",
      "Hour 468:-0.305250080062\n",
      "Hour 469:-0.31544951245\n",
      "Hour 470:-0.230335229398\n",
      "Hour 471:-0.433712173156\n",
      "Hour 472:-0.178718633435\n",
      "Hour 473:-0.398313003727\n",
      "Hour 474:-0.195862051903\n",
      "Hour 475:-0.539273447888\n",
      "Hour 476:-0.307681547478\n",
      "Hour 477:-0.512065259558\n",
      "Hour 478:-0.556801989274\n",
      "Hour 479:-0.270254667731\n",
      "Hour 480:-0.300607323891\n",
      "Hour 481:-0.345562411976\n",
      "Hour 482:0.0960641134831\n",
      "Hour 483:-0.0138308660838\n",
      "Hour 484:0.16633150111\n",
      "Hour 485:0.600818509743\n",
      "Hour 486:0.0316097705757\n",
      "Hour 487:-0.17846461723\n",
      "Hour 488:-0.362304874969\n",
      "Hour 489:-0.34197373985\n",
      "Hour 490:-0.0719380357096\n",
      "Hour 491:-0.158021476289\n",
      "Hour 492:-0.128132851586\n",
      "Hour 493:-0.114173658308\n",
      "Hour 494:-0.0408911601551\n",
      "Hour 495:-0.163384013943\n",
      "Hour 496:0.00940749586809\n",
      "Hour 497:-0.140852497342\n",
      "Hour 498:-0.251797273551\n",
      "Hour 499:-0.288239019068\n",
      "Hour 500:-0.293458757693\n",
      "Hour 501:-0.369352689414\n",
      "Hour 502:-0.328738466358\n",
      "Hour 503:-0.282967461793\n",
      "Hour 504:-0.420718897651\n",
      "Hour 505:-0.504556257931\n",
      "Hour 506:0.0961647629829\n",
      "Hour 507:0.102842524149\n",
      "Hour 508:0.280016605745\n",
      "Hour 509:0.583377235463\n",
      "Hour 510:-0.0367190853262\n",
      "Hour 511:-0.199180665895\n",
      "Hour 512:-0.571304497073\n",
      "Hour 513:-0.430248146101\n",
      "Hour 514:0.0106071053579\n",
      "Hour 515:-0.00309425274869\n",
      "Hour 516:-0.159542526766\n",
      "Hour 517:-0.0355315666064\n",
      "Hour 518:-0.0831445655897\n",
      "Hour 519:-0.0564006695975\n",
      "Hour 520:0.100918872828\n",
      "Hour 521:-0.0656354762845\n",
      "Hour 522:-0.213540183459\n",
      "Hour 523:-0.303865178739\n",
      "Hour 524:-0.198281771238\n",
      "Hour 525:-0.34170944512\n",
      "Hour 526:-0.487126816586\n",
      "Hour 527:-0.306444601667\n",
      "Hour 528:-0.317227255652\n",
      "Hour 529:-0.307442448394\n",
      "Hour 530:-0.0548962498311\n",
      "Hour 531:-0.050721394049\n",
      "Hour 532:0.144608888068\n",
      "Hour 533:0.566084085909\n",
      "Hour 534:-0.118315317609\n",
      "Hour 535:-0.299891384196\n",
      "Hour 536:-0.529447592555\n",
      "Hour 537:-0.469310733736\n",
      "Hour 538:-0.126239000422\n",
      "Hour 539:-0.133923783269\n",
      "Hour 540:-0.15858917693\n",
      "Hour 541:-0.155451315486\n",
      "Hour 542:-0.118901098586\n",
      "Hour 543:0.113253477798\n",
      "Hour 544:-0.0466336515213\n",
      "Hour 545:-0.197963545099\n",
      "Hour 546:-0.339974392804\n",
      "Hour 547:-0.30601537737\n",
      "Hour 548:-0.347551682481\n",
      "Hour 549:-0.372949147916\n",
      "Hour 550:-0.424355579225\n",
      "Hour 551:-0.527400928432\n",
      "Hour 552:-0.605669382646\n",
      "Hour 553:-0.450588303702\n",
      "Hour 554:-0.111408293295\n",
      "Hour 555:0.264232313819\n",
      "Hour 556:0.250027280755\n",
      "Hour 557:0.364529544136\n",
      "Hour 558:-0.0397283114593\n",
      "Hour 559:-0.294442929143\n",
      "Hour 560:-0.598121072173\n",
      "Hour 561:-0.550409451157\n",
      "Hour 562:-0.433948803591\n",
      "Hour 563:-0.258297569269\n",
      "Hour 564:-0.206750741433\n",
      "Hour 565:-0.226949565169\n",
      "Hour 566:0.10054357802\n",
      "Hour 567:-0.0749887521159\n",
      "Hour 568:0.0612801737354\n",
      "Hour 569:-0.211326765501\n",
      "Hour 570:-0.387656055635\n",
      "Hour 571:-0.426169123497\n",
      "Hour 572:-0.363144252275\n",
      "Hour 573:-0.403935708666\n",
      "Hour 574:-0.492667440813\n",
      "Hour 575:-0.61890809897\n",
      "Hour 576:-0.670733809277\n",
      "Hour 577:-0.586825992207\n",
      "Hour 578:-0.406655286236\n",
      "Hour 579:-0.302329597999\n",
      "Hour 580:0.0957429890181\n",
      "Hour 581:0.120487183638\n",
      "Hour 582:0.196076111259\n",
      "Hour 583:-0.371637086168\n",
      "Hour 584:-0.51920868916\n",
      "Hour 585:-0.427176137523\n",
      "Hour 586:-0.401955781578\n",
      "Hour 587:-0.0778711441617\n",
      "Hour 588:-0.154362352601\n",
      "Hour 589:-0.177111332485\n",
      "Hour 590:-0.105023120037\n",
      "Hour 591:-0.0606885531479\n",
      "Hour 592:0.150777880743\n",
      "Hour 593:-0.0448014099835\n",
      "Hour 594:-0.439405582067\n",
      "Hour 595:-0.445662953785\n",
      "Hour 596:-0.593931919263\n",
      "Hour 597:-0.646444187685\n",
      "Hour 598:-0.486134943825\n",
      "Hour 599:-0.772995830532\n",
      "Hour 600:-0.765000439122\n",
      "Hour 601:-0.794017962948\n",
      "Hour 602:-0.624444221815\n",
      "Hour 603:-0.664794335019\n",
      "Hour 604:-0.288799469136\n",
      "Hour 605:0.0706779344971\n",
      "Hour 606:0.158122863775\n",
      "Hour 607:-0.18163237009\n",
      "Hour 608:-0.283545464899\n",
      "Hour 609:-0.661684138928\n",
      "Hour 610:-0.614051206373\n",
      "Hour 611:-0.460758149245\n",
      "Hour 612:-0.624331994821\n",
      "Hour 613:-0.390680308707\n",
      "Hour 614:-0.51225786418\n",
      "Hour 615:-0.437300484072\n",
      "Hour 616:-0.30187015001\n",
      "Hour 617:-0.518232142764\n",
      "Hour 618:-0.707989150103\n",
      "Hour 619:-0.690095575314\n",
      "Hour 620:-0.762860047689\n",
      "Hour 621:-0.75891711529\n",
      "Hour 622:-0.833327954896\n",
      "Hour 623:-0.970521423717\n",
      "Hour 624:-0.978260498091\n",
      "Hour 625:-0.809049499544\n",
      "Hour 626:-0.733893328463\n",
      "Hour 627:-0.677015268748\n",
      "Hour 628:-0.610168513878\n",
      "Hour 629:0.125435893405\n",
      "Hour 630:-0.142800028382\n",
      "Hour 631:0.12845407136\n",
      "Hour 632:-0.218209482076\n",
      "Hour 633:-0.390455856352\n",
      "Hour 634:-0.536884215457\n",
      "Hour 635:-0.393957227141\n",
      "Hour 636:-0.524114050807\n",
      "Hour 637:-0.418171330107\n",
      "Hour 638:-0.332764062888\n",
      "Hour 639:-0.259637338297\n",
      "Hour 640:-0.223710341476\n",
      "Hour 641:-0.227700338179\n",
      "Hour 642:-0.288278942889\n",
      "Hour 643:-0.258576885038\n",
      "Hour 644:-0.450457696084\n",
      "Hour 645:-0.345167706797\n",
      "Hour 646:-0.402107338516\n",
      "Hour 647:-0.610851162215\n",
      "Hour 648:-0.42886806509\n",
      "Hour 649:0.052569067737\n",
      "Hour 650:0.0748573287603\n",
      "Hour 651:0.0775835974522\n",
      "Hour 652:0.189840650293\n",
      "Hour 653:0.567295063575\n",
      "Hour 654:-0.0505998860907\n",
      "Hour 655:-0.314821013619\n",
      "Hour 656:-0.257509999663\n",
      "Hour 657:-0.26645408298\n",
      "Hour 658:-0.154681685526\n",
      "Hour 659:-0.140913483965\n",
      "Hour 660:-0.0757372168652\n",
      "Hour 661:0.0543018415737\n",
      "Hour 662:0.149684231559\n",
      "Hour 663:-0.0321269209285\n",
      "Hour 664:0.183765636949\n",
      "Hour 665:-0.153935184233\n",
      "Hour 666:-0.274829362502\n",
      "Hour 667:-0.27534037646\n",
      "Hour 668:-0.275668973819\n",
      "Hour 669:-0.236009218374\n",
      "Hour 670:-0.342967104961\n",
      "Hour 671:-0.385817928187\n",
      "Hour 672:-0.458327838889\n",
      "Hour 673:-0.289722100344\n",
      "Hour 674:-0.0898362628359\n",
      "Hour 675:0.199305989296\n",
      "Hour 676:0.21533533223\n",
      "Hour 677:0.432262494335\n",
      "Hour 678:0.149611886419\n",
      "Hour 679:-0.390788279476\n",
      "Hour 680:-0.591926139479\n",
      "Hour 681:-0.42774944642\n",
      "Hour 682:-0.184789193311\n",
      "Hour 683:-0.212076321286\n",
      "Hour 684:-0.190920418575\n",
      "Hour 685:-0.0219454633702\n",
      "Hour 686:-0.187587894277\n",
      "Hour 687:-0.0101225460831\n",
      "Hour 688:-0.00223064128388\n",
      "Hour 689:-0.165929965427\n",
      "Hour 690:-0.300722448368\n",
      "Hour 691:-0.316359943203\n",
      "Hour 692:-0.313856950377\n",
      "Hour 693:-0.263205864042\n",
      "Hour 694:-0.620147191414\n",
      "Hour 695:-0.47408058856\n",
      "Hour 696:-0.36775652579\n",
      "Hour 697:-0.507994504331\n",
      "Hour 698:-0.407160080187\n",
      "Hour 699:-0.138121849162\n",
      "Hour 700:0.23708740116\n",
      "Hour 701:0.400545262242\n",
      "Hour 702:0.0307414025231\n",
      "Hour 703:-0.200690877747\n",
      "Hour 704:-0.456005860755\n",
      "Hour 705:-0.370421208616\n",
      "Hour 706:-0.232285942027\n",
      "Hour 707:-0.263373130477\n",
      "Hour 708:-0.406228272755\n",
      "Hour 709:-0.0467799776093\n",
      "Hour 710:0.00907042270823\n",
      "Hour 711:0.0299128406631\n",
      "Hour 712:0.0858777859843\n",
      "Hour 713:-0.170142239091\n",
      "Hour 714:-0.343597435558\n",
      "Hour 715:-0.273473103371\n",
      "Hour 716:-0.416426210316\n",
      "Hour 717:-0.428131471206\n",
      "Hour 718:-0.28780349758\n",
      "Hour 719:-0.564310909544\n",
      "Hour 720:-0.599741700543\n",
      "Hour 721:-0.346695811062\n",
      "Hour 722:-0.290061841004\n",
      "Hour 723:-0.0699394192493\n",
      "Hour 724:-0.142801998281\n",
      "Hour 725:0.188182309215\n",
      "Hour 726:-0.209919629338\n",
      "Hour 727:-0.387167278687\n",
      "Hour 728:-0.444099603299\n",
      "Hour 729:-0.333326758207\n",
      "Hour 730:-0.157903629219\n",
      "Hour 731:-0.2006027\n",
      "Hour 732:-0.24251515043\n",
      "Hour 733:-0.0639035020159\n",
      "Hour 734:-0.10929814314\n",
      "Hour 735:-0.329598676505\n",
      "Hour 736:0.0492605574031\n",
      "Hour 737:-0.240166131385\n",
      "Hour 738:-0.386266552935\n",
      "Hour 739:-0.430743429734\n",
      "Hour 740:-0.371180540205\n",
      "Hour 741:-0.414956270647\n",
      "Hour 742:-0.59807763233\n",
      "Hour 743:-0.643344477087\n"
     ]
    }
   ],
   "source": [
    "p=[0]*(maxH-minH+1)\n",
    "for h in range(0,maxH-minH+1):\n",
    "   p[h]=fitGravity(taxihn[h],tw_out,tw_in,False)\n",
    "   print('Hour {0}:{1}'.format(h,p[h]))"
   ]
  },
  {
   "cell_type": "code",
   "execution_count": 333,
   "metadata": {
    "collapsed": false
   },
   "outputs": [
    {
     "data": {
      "text/plain": [
       "[<matplotlib.lines.Line2D at 0x1cd93af50>]"
      ]
     },
     "execution_count": 333,
     "metadata": {},
     "output_type": "execute_result"
    },
    {
     "data": {
      "image/png": "[encoded data removed]",
      "text/plain": [
       "<matplotlib.figure.Figure at 0x1cda2f610>"
      ]
     },
     "metadata": {},
     "output_type": "display_data"
    }
   ],
   "source": [
    "plt.figure(figsize = (18,6))\n",
    "plt.plot(p,':')"
   ]
  },
  {
   "cell_type": "code",
   "execution_count": null,
   "metadata": {
    "collapsed": true
   },
   "outputs": [],
   "source": []
  }
 ],
 "metadata": {
  "kernelspec": {
   "display_name": "Python 2",
   "language": "python",
   "name": "python2"
  },
  "language_info": {
   "codemirror_mode": {
    "name": "ipython",
    "version": 2
   },
   "file_extension": ".py",
   "mimetype": "text/x-python",
   "name": "python",
   "nbconvert_exporter": "python",
   "pygments_lexer": "ipython2",
   "version": "2.7.10"
  }
 },
 "nbformat": 4,
 "nbformat_minor": 0
}
