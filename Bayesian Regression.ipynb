{
 "cells": [
  {
   "cell_type": "markdown",
   "metadata": {},
   "source": [
    "# Bayesian linear regression"
   ]
  },
  {
   "cell_type": "markdown",
   "metadata": {},
   "source": [
    "## Example 1. Simple univariate regression - real-estate price prediction\n",
    "\n",
    "Consider an example of predicting prices of individual homes $y$ vs their sizes $x$:\n",
    "$$\n",
    "y=w x+\\varepsilon,\n",
    "$$\n",
    "given a series of single-dimensional observations $D=\\{(y_i,x_i), i=1..N\\}$, where $w$ is the slope coefficient to fit (in our case - average price of the square foot) and $\\epsilon$ is the error term (deviation of the specific price from the predicted value), assuming that \n",
    "$$\n",
    "\\varepsilon\\sim {\\cal N}(0,\\sigma^2).\n",
    "$$\n",
    "As we remember ordinary least square (OLS) estimate in the univariate case gives a simple estimate $\\hat{w}$ for the slope coefficient $w$:\n",
    "$$\n",
    "\\hat{w}=\\frac{\\sum_i y_i x_i}{\\sum_i x_i^2}.\n",
    "$$\n",
    "After we get $w=\\hat{w}$ it is easy to estimate the standard error \n",
    "$$\n",
    "\\sigma=\\sqrt{\\frac{\\sum_i (y_i-\\hat{w} x_i)^2}{N}}.\n",
    "$$"
   ]
  },
  {
   "cell_type": "code",
   "execution_count": 1,
   "metadata": {
    "collapsed": false
   },
   "outputs": [
    {
     "name": "stdout",
     "output_type": "stream",
     "text": [
      "Populating the interactive namespace from numpy and matplotlib\n"
     ]
    },
    {
     "name": "stderr",
     "output_type": "stream",
     "text": [
      "/Users/Dexter/anaconda/lib/python2.7/site-packages/pandas/io/data.py:33: FutureWarning: \n",
      "The pandas.io.data module is moved to a separate package (pandas-datareader) and will be removed from pandas in a future version.\n",
      "After installing the pandas-datareader package (https://github.com/pydata/pandas-datareader), you can change the import ``from pandas.io import data, wb`` to ``from pandas_datareader import data, wb``.\n",
      "  FutureWarning)\n"
     ]
    }
   ],
   "source": [
    "%pylab inline\n",
    "import matplotlib.pyplot as plt\n",
    "import numpy as np\n",
    "import pandas as pd\n",
    "import pandas.io.data as web\n",
    "import Quandl\n",
    "import statsmodels.api as sm\n",
    "import statsmodels.formula.api as smf\n",
    "import pymc3 as pm\n",
    "from numpy import random\n",
    "import random as rnd\n",
    "from scipy import stats\n",
    "from pandas.stats.api import ols\n",
    "import pylab\n",
    "from sklearn import linear_model\n",
    "plt.rcParams[\"figure.figsize\"]=(10.0,8.0)"
   ]
  },
  {
   "cell_type": "code",
   "execution_count": 3,
   "metadata": {
    "collapsed": false
   },
   "outputs": [
    {
     "data": {
      "text/html": [
       "<div>\n",
       "<table border=\"1\" class=\"dataframe\">\n",
       "  <thead>\n",
       "    <tr style=\"text-align: right;\">\n",
       "      <th></th>\n",
       "      <th>Unnamed: 0</th>\n",
       "      <th>borough</th>\n",
       "      <th>neighborhood</th>\n",
       "      <th>building_class_category</th>\n",
       "      <th>tax_class_present</th>\n",
       "      <th>block</th>\n",
       "      <th>lot</th>\n",
       "      <th>easement</th>\n",
       "      <th>building_class_present</th>\n",
       "      <th>address</th>\n",
       "      <th>...</th>\n",
       "      <th>land_sq_feet</th>\n",
       "      <th>gross_sq_feet</th>\n",
       "      <th>year_built</th>\n",
       "      <th>tax_class_time_sale</th>\n",
       "      <th>build_class_time_sale</th>\n",
       "      <th>sale_price</th>\n",
       "      <th>sale_date</th>\n",
       "      <th>serialid</th>\n",
       "      <th>sale_year</th>\n",
       "      <th>sale_month</th>\n",
       "    </tr>\n",
       "  </thead>\n",
       "  <tbody>\n",
       "    <tr>\n",
       "      <th>0</th>\n",
       "      <td>5631</td>\n",
       "      <td>3</td>\n",
       "      <td>BAY RIDGE</td>\n",
       "      <td>01  ONE FAMILY HOMES</td>\n",
       "      <td>1</td>\n",
       "      <td>5871</td>\n",
       "      <td>91</td>\n",
       "      <td>NaN</td>\n",
       "      <td>A5</td>\n",
       "      <td>24 BAY RIDGE PLACE</td>\n",
       "      <td>...</td>\n",
       "      <td>1600</td>\n",
       "      <td>1400</td>\n",
       "      <td>1910</td>\n",
       "      <td>1</td>\n",
       "      <td>A5</td>\n",
       "      <td>585000</td>\n",
       "      <td>2009-10-29</td>\n",
       "      <td>5631</td>\n",
       "      <td>9</td>\n",
       "      <td>9</td>\n",
       "    </tr>\n",
       "    <tr>\n",
       "      <th>1</th>\n",
       "      <td>5635</td>\n",
       "      <td>3</td>\n",
       "      <td>BAY RIDGE</td>\n",
       "      <td>01  ONE FAMILY HOMES</td>\n",
       "      <td>1</td>\n",
       "      <td>5882</td>\n",
       "      <td>38</td>\n",
       "      <td>NaN</td>\n",
       "      <td>A5</td>\n",
       "      <td>7014 LOUISE TERRACE</td>\n",
       "      <td>...</td>\n",
       "      <td>1169</td>\n",
       "      <td>1224</td>\n",
       "      <td>1925</td>\n",
       "      <td>1</td>\n",
       "      <td>A5</td>\n",
       "      <td>515000</td>\n",
       "      <td>2009-10-15</td>\n",
       "      <td>5635</td>\n",
       "      <td>9</td>\n",
       "      <td>9</td>\n",
       "    </tr>\n",
       "    <tr>\n",
       "      <th>2</th>\n",
       "      <td>5636</td>\n",
       "      <td>3</td>\n",
       "      <td>BAY RIDGE</td>\n",
       "      <td>01  ONE FAMILY HOMES</td>\n",
       "      <td>1</td>\n",
       "      <td>5882</td>\n",
       "      <td>50</td>\n",
       "      <td>NaN</td>\n",
       "      <td>A5</td>\n",
       "      <td>7009 LOUISE TERRACE</td>\n",
       "      <td>...</td>\n",
       "      <td>945</td>\n",
       "      <td>1836</td>\n",
       "      <td>1925</td>\n",
       "      <td>1</td>\n",
       "      <td>A5</td>\n",
       "      <td>499900</td>\n",
       "      <td>2009-04-20</td>\n",
       "      <td>5636</td>\n",
       "      <td>9</td>\n",
       "      <td>3</td>\n",
       "    </tr>\n",
       "    <tr>\n",
       "      <th>3</th>\n",
       "      <td>5637</td>\n",
       "      <td>3</td>\n",
       "      <td>BAY RIDGE</td>\n",
       "      <td>01  ONE FAMILY HOMES</td>\n",
       "      <td>1</td>\n",
       "      <td>5882</td>\n",
       "      <td>80</td>\n",
       "      <td>NaN</td>\n",
       "      <td>A5</td>\n",
       "      <td>7002 COLONIAL ROAD</td>\n",
       "      <td>...</td>\n",
       "      <td>1121</td>\n",
       "      <td>1330</td>\n",
       "      <td>1925</td>\n",
       "      <td>1</td>\n",
       "      <td>A5</td>\n",
       "      <td>525000</td>\n",
       "      <td>2009-09-02</td>\n",
       "      <td>5637</td>\n",
       "      <td>9</td>\n",
       "      <td>8</td>\n",
       "    </tr>\n",
       "    <tr>\n",
       "      <th>4</th>\n",
       "      <td>5638</td>\n",
       "      <td>3</td>\n",
       "      <td>BAY RIDGE</td>\n",
       "      <td>01  ONE FAMILY HOMES</td>\n",
       "      <td>1</td>\n",
       "      <td>5882</td>\n",
       "      <td>81</td>\n",
       "      <td>NaN</td>\n",
       "      <td>A5</td>\n",
       "      <td>7004 COLONIAL ROAD</td>\n",
       "      <td>...</td>\n",
       "      <td>1118</td>\n",
       "      <td>1224</td>\n",
       "      <td>1925</td>\n",
       "      <td>1</td>\n",
       "      <td>A5</td>\n",
       "      <td>400000</td>\n",
       "      <td>2009-07-24</td>\n",
       "      <td>5638</td>\n",
       "      <td>9</td>\n",
       "      <td>6</td>\n",
       "    </tr>\n",
       "  </tbody>\n",
       "</table>\n",
       "<p>5 rows × 25 columns</p>\n",
       "</div>"
      ],
      "text/plain": [
       "   Unnamed: 0  borough neighborhood building_class_category  \\\n",
       "0        5631        3    BAY RIDGE    01  ONE FAMILY HOMES   \n",
       "1        5635        3    BAY RIDGE    01  ONE FAMILY HOMES   \n",
       "2        5636        3    BAY RIDGE    01  ONE FAMILY HOMES   \n",
       "3        5637        3    BAY RIDGE    01  ONE FAMILY HOMES   \n",
       "4        5638        3    BAY RIDGE    01  ONE FAMILY HOMES   \n",
       "\n",
       "   tax_class_present  block  lot  easement building_class_present  \\\n",
       "0                  1   5871   91       NaN                     A5   \n",
       "1                  1   5882   38       NaN                     A5   \n",
       "2                  1   5882   50       NaN                     A5   \n",
       "3                  1   5882   80       NaN                     A5   \n",
       "4                  1   5882   81       NaN                     A5   \n",
       "\n",
       "               address    ...      land_sq_feet  gross_sq_feet  year_built  \\\n",
       "0   24 BAY RIDGE PLACE    ...              1600           1400        1910   \n",
       "1  7014 LOUISE TERRACE    ...              1169           1224        1925   \n",
       "2  7009 LOUISE TERRACE    ...               945           1836        1925   \n",
       "3   7002 COLONIAL ROAD    ...              1121           1330        1925   \n",
       "4   7004 COLONIAL ROAD    ...              1118           1224        1925   \n",
       "\n",
       "   tax_class_time_sale  build_class_time_sale  sale_price   sale_date  \\\n",
       "0                    1                     A5      585000  2009-10-29   \n",
       "1                    1                     A5      515000  2009-10-15   \n",
       "2                    1                     A5      499900  2009-04-20   \n",
       "3                    1                     A5      525000  2009-09-02   \n",
       "4                    1                     A5      400000  2009-07-24   \n",
       "\n",
       "   serialid  sale_year sale_month  \n",
       "0      5631          9          9  \n",
       "1      5635          9          9  \n",
       "2      5636          9          3  \n",
       "3      5637          9          8  \n",
       "4      5638          9          6  \n",
       "\n",
       "[5 rows x 25 columns]"
      ]
     },
     "execution_count": 3,
     "metadata": {},
     "output_type": "execute_result"
    }
   ],
   "source": [
    "#read real estate sample data\n",
    "REsample1 = pd.read_csv('data/REsample1.csv')\n",
    "REsample1.head()"
   ]
  },
  {
   "cell_type": "code",
   "execution_count": 4,
   "metadata": {
    "collapsed": false
   },
   "outputs": [
    {
     "name": "stdout",
     "output_type": "stream",
     "text": [
      "Estimated w=423.262774919, sigma=387363.577755\n"
     ]
    }
   ],
   "source": [
    "#first fit the regression for the entire sample\n",
    "RE1w=sum(REsample1.sale_price*REsample1.gross_sq_feet)/sum(REsample1.gross_sq_feet**2)\n",
    "#estimate the standard error sigma\n",
    "sigma=std(REsample1.sale_price-REsample1.gross_sq_feet*RE1w)\n",
    "print('Estimated w={0}, sigma={1}'.format(RE1w,sigma))"
   ]
  },
  {
   "cell_type": "code",
   "execution_count": 5,
   "metadata": {
    "collapsed": false
   },
   "outputs": [
    {
     "name": "stdout",
     "output_type": "stream",
     "text": [
      "Estimated w=369.713904612\n"
     ]
    }
   ],
   "source": [
    "#now redo the regression for just the first 100 records\n",
    "REsample11=REsample1.loc[0:99]\n",
    "RE11w=sum(REsample11.sale_price*REsample11.gross_sq_feet)/sum(REsample11.gross_sq_feet**2)\n",
    "print('Estimated w={0}'.format(RE11w))"
   ]
  },
  {
   "cell_type": "code",
   "execution_count": 6,
   "metadata": {
    "collapsed": false
   },
   "outputs": [
    {
     "data": {
      "text/plain": [
       "[<matplotlib.lines.Line2D at 0x10a81fe90>]"
      ]
     },
     "execution_count": 6,
     "metadata": {},
     "output_type": "execute_result"
    },
    {
     "data": {
      "image/png": "[encoded data removed]",
      "text/plain": [
       "<matplotlib.figure.Figure at 0x109fb5cd0>"
      ]
     },
     "metadata": {},
     "output_type": "display_data"
    }
   ],
   "source": [
    "#visualize the fit\n",
    "REsample11.plot(kind='scatter',x='gross_sq_feet',y='sale_price')\n",
    "y1=RE11w*REsample11.gross_sq_feet\n",
    "plt.plot(REsample11.gross_sq_feet,y1,'r-')"
   ]
  },
  {
   "cell_type": "markdown",
   "metadata": {},
   "source": [
    "We see quite a deviation in the estimates $\\hat{w}$ obtained - so the OLS estimate depends on the sample choice and uses to vary from one sample to another. So for any particular choice of the training sample there is no guarantee that the estimate $\\hat{w}$ is indeed a true value for $w$ - we should admit uncertainty in our estimate, which OLS does not really allow to make, but the further Bayesian framework will."
   ]
  },
  {
   "cell_type": "markdown",
   "metadata": {},
   "source": [
    "# Bayesian univariate regression\n",
    "\n",
    "Also imagine that we already have certain prior knowledge about $w$ for example this would be the case if we already studied some sample of house prices before. Can we take this into account somehow? The prior knowledge can be expressed through a prior distribution $p(w)$.\n",
    "\n",
    "Consider a probabilistic version of a univariate regression:\n",
    "$$\n",
    "y\\sim {\\cal N}(w x,\\sigma^2),\n",
    "$$\n",
    "assuming that the variance $\\sigma^2$ is given or at least independent on $w$ and the only real-valued single dimensional coefficient to estimate based on a series of single-dimensional observations $D=(Y,X)=\\{(y_i,x_i), i=1..N\\}$ is $w$. In a similar manner as we just did for fitting a normal distribution, each single observation changes a given conjugate normal prior\n",
    "$$\n",
    "w\\sim {\\cal N}(w^*,\\sigma^*)\n",
    "$$\n",
    "to a posterior\n",
    "$$\n",
    "p(w|y=y_i, x=x_i)\\sim p(y=y_i|w,x=x_i)p(w)\\sim e^{-\\frac{(y_i-w x_i)^2}{2\\sigma^2}-\\frac{(w-w^*)^2}{2(\\sigma^*)^2}}\\sim\n",
    "$$$$\n",
    "\\sim e^{-w^2 \\frac{x_i^2(\\sigma^*)^2+\\sigma^2}{2\\sigma^2(\\sigma^*)^2}+w \\frac{(\\sigma^*)^2 y_i x_i+\\sigma^2 w^*}{2\\sigma^2(\\sigma^*)^2}}\n",
    "\\sim e^{\\frac{\\left(w-\\frac{ \\sigma^{-2} y_i x_i +(\\sigma^*)^{-2} w^*}{ \\left(x_i^2\\sigma^{-2}+(\\sigma^*)^{-2}\\right)}\\right)^2}{\\frac{2 }{(\\sigma^*)^{-2}+x_i^2\\sigma^{-2}}}}\n",
    "$$\n",
    "so posterior distribution is also normal.\n"
   ]
  },
  {
   "cell_type": "markdown",
   "metadata": {},
   "source": [
    "In order to add all the observations from $D$ one can either inerate the above process or consider a single equation based on a multi-variable probability distribution, which is easy to handle assuming that different observations are independent:\n",
    "$$\n",
    "p(w|Y, X)\\sim p(Y|w,X)p(w)=p(w)\\prod\\limits_i p(y=y_i|w,x=x_i)\\sim e^{-\\sum\\limits_i \\frac{(y_i-w x_i)^2}{2\\sigma^2}-\\frac{(w-w^*)^2}{2(\\sigma^*)^2}}=e^{-\\frac{RSS(w)}{2\\sigma^2}-\\frac{(w-w^*)^2}{2(\\sigma^*)^2}}\\hspace{5ex} (1)\n",
    "$$\n",
    "If one needs a specific estimate $\\hat{w}$ for $w$ then it could be found as the most probable value from\n",
    "$$\n",
    "\\hat{w}=argmax_w p(w|Y, X)=argmin_w\\left[\\frac{RSS(w)}{2\\sigma^2}+\\frac{(w-w^*)^2}{2(\\sigma^*)^2}\\right]\\hspace{5ex} (2)\n",
    "$$"
   ]
  },
  {
   "cell_type": "markdown",
   "metadata": {},
   "source": [
    "$$\n",
    "p(w|Y, X)\\sim e^{-w^2 \\frac{\\sum_i x_i^2(\\sigma^*)^2+\\sigma^2}{2\\sigma^2(\\sigma^*)^2}+w \\frac{(\\sigma^*)^2 \\sum_i y_i x_i+\\sigma^2 w^*}{2\\sigma^2(\\sigma^*)^2}}\\sim e^{\\frac{\\left(w-\\frac{ \\sigma^{-2} \\sum_i y_i x_i +(\\sigma^*)^{-2} w^*}{\\left(\\sum_i x_i^2\\sigma^{-2}+(\\sigma^*)^{-2}\\right)}\\right)^2}{\\frac{2}{(\\sigma^*)^{-2}+\\sum_i x_i^2\\sigma^{-2}}}}\\sim\n",
    "$$"
   ]
  },
  {
   "cell_type": "markdown",
   "metadata": {},
   "source": [
    "$$\n",
    "\\sim {\\cal N}\\left(\\frac{ \\sigma^{-2} \\sum_i y_i x_i +(\\sigma^*)^{-2} w^*}{\\left(\\sum_i x_i^2\\sigma^{-2}+(\\sigma^*)^{-2}\\right)},\n",
    "\\frac{1}{\\sqrt{(\\sigma^*)^{-2}+\\sum_i x_i^2\\sigma^{-2}}}\\right)\n",
    "$$"
   ]
  },
  {
   "cell_type": "markdown",
   "metadata": {},
   "source": [
    "### Uninformed prior\n",
    "\n",
    "In case of an unfinformed prior with $\\sigma^*\\to \\infty$ the above estimate (2) is tends to be equivalent to the one given by the regular OLS, i.e. to\n",
    "$$\n",
    "RSS(w)\\to \\min\n",
    "$$\n",
    "However in addition to the single best fit slope coefficient estimate (2), Bayesian regression also provides an entire probabilistic normal distribution\n",
    "$$\n",
    "w\\sim {\\cal N}\\left(\\frac{\\sum_i x_i y_i}{\\sum_i x_i^2},\\frac{\\sigma}{\\sqrt{\\sum_i x_i^2}}\\right)\n",
    "$$\n",
    "for the possible values of $w$, being able to explain from the rigorous probabilistic standpoint the meaning behind the confidence intervals and hypothesis testing.\n",
    "\n",
    "One point here is that so far we consider $\\sigma$ as given. There is a more sophisticated Bayesian framework which allows to estimate it together with $w$ (conceptually just enough to consider a vector of two latent variables $w,\\sigma$ instead of $w$ and specify its joint prior distribution, although maths is much heavier in that case). For now we can simply rely on the streightforward max-likelihood estimate\n",
    "$$\n",
    "\\hat{\\sigma}^2=\\frac{RSS(\\hat{w})}{N}\n",
    "$$\n",
    "also being an actual sample standard deviation of the set of observed prediction errors for the optimal $w=\\hat{w}$."
   ]
  },
  {
   "cell_type": "markdown",
   "metadata": {},
   "source": [
    "## Example 1 revisited. Distribution for the sq.foot price"
   ]
  },
  {
   "cell_type": "code",
   "execution_count": 6,
   "metadata": {
    "collapsed": true
   },
   "outputs": [],
   "source": [
    "#we just need to select sigma here - take the one we estimated for the entire sample\n",
    "RE11s=sigma/(sum(REsample11.gross_sq_feet**2)**0.5)"
   ]
  },
  {
   "cell_type": "code",
   "execution_count": 7,
   "metadata": {
    "collapsed": false
   },
   "outputs": [
    {
     "name": "stdout",
     "output_type": "stream",
     "text": [
      "w ~ N(369.713904612,18.293523802)\n"
     ]
    }
   ],
   "source": [
    "print('w ~ N({0},{1})'.format(RE11w,RE11s))"
   ]
  },
  {
   "cell_type": "markdown",
   "metadata": {},
   "source": [
    "notice that the standard deviation we found for $w$ depends on the choice of $\\sigma$ and might become different if we take $\\sigma$ based on the considered subsample rather than the entire sample as we did."
   ]
  },
  {
   "cell_type": "markdown",
   "metadata": {},
   "source": [
    "## Example 2. Bayesian regression example - tuning the houses price regression trained above"
   ]
  },
  {
   "cell_type": "markdown",
   "metadata": {},
   "source": [
    "Now if say we have the results of the previos estimate (but not retain the training data anymore) and later find more training data to consider, we can further adjust the former estimate through the above Bayesian framework."
   ]
  },
  {
   "cell_type": "code",
   "execution_count": 8,
   "metadata": {
    "collapsed": false
   },
   "outputs": [
    {
     "name": "stdout",
     "output_type": "stream",
     "text": [
      "Estimated w=450.921318897\n"
     ]
    }
   ],
   "source": [
    "#consider the remaining part of the housing prices data separately\n",
    "REsample12=REsample1.loc[100:]\n",
    "#and compute the OLS estimate\n",
    "RE12w0=sum(REsample12.sale_price*REsample12.gross_sq_feet)/sum(REsample12.gross_sq_feet**2)\n",
    "print('Estimated w={0}'.format(RE12w0))"
   ]
  },
  {
   "cell_type": "code",
   "execution_count": 9,
   "metadata": {
    "collapsed": false
   },
   "outputs": [
    {
     "name": "stdout",
     "output_type": "stream",
     "text": [
      "w ~ N(423.262774919,10.6761381647)\n"
     ]
    }
   ],
   "source": [
    "#now implement Bayesian regression starting from the prior obtained based on the first sample w ~ N(369.713904612,18.293523802)\n",
    "RE12w0=sum(REsample12.sale_price*REsample12.gross_sq_feet)/sum(REsample12.gross_sq_feet**2)\n",
    "s22=sigma**-2; s12=RE11s**-2\n",
    "RE12w=(s22*sum(REsample12.sale_price*REsample12.gross_sq_feet)+s12*RE11w)/(s22*sum(REsample12.gross_sq_feet**2)+s12)\n",
    "RE12s=(s22*sum(REsample12.gross_sq_feet**2)+s12)**(-0.5)\n",
    "print('w ~ N({0},{1})'.format(RE12w,RE12s))"
   ]
  },
  {
   "cell_type": "markdown",
   "metadata": {},
   "source": [
    "This is already pretty consistend with what python will give us if we take the entire training sample at once"
   ]
  },
  {
   "cell_type": "code",
   "execution_count": 10,
   "metadata": {
    "collapsed": false
   },
   "outputs": [
    {
     "name": "stdout",
     "output_type": "stream",
     "text": [
      "                            OLS Regression Results                            \n",
      "==============================================================================\n",
      "Dep. Variable:             sale_price   R-squared:                       0.835\n",
      "Model:                            OLS   Adj. R-squared:                  0.835\n",
      "Method:                 Least Squares   F-statistic:                     1562.\n",
      "Date:                Mon, 01 Feb 2016   Prob (F-statistic):          1.13e-122\n",
      "Time:                        23:30:24   Log-Likelihood:                -4414.8\n",
      "No. Observations:                 309   AIC:                             8832.\n",
      "Df Residuals:                     308   BIC:                             8835.\n",
      "Df Model:                           1                                         \n",
      "Covariance Type:            nonrobust                                         \n",
      "=================================================================================\n",
      "                    coef    std err          t      P>|t|      [95.0% Conf. Int.]\n",
      "---------------------------------------------------------------------------------\n",
      "gross_sq_feet   423.2628     10.708     39.528      0.000       402.193   444.332\n",
      "==============================================================================\n",
      "Omnibus:                      208.010   Durbin-Watson:                   1.811\n",
      "Prob(Omnibus):                  0.000   Jarque-Bera (JB):             3821.940\n",
      "Skew:                           2.438   Prob(JB):                         0.00\n",
      "Kurtosis:                      19.525   Cond. No.                         1.00\n",
      "==============================================================================\n",
      "\n",
      "Warnings:\n",
      "[1] Standard Errors assume that the covariance matrix of the errors is correctly specified.\n"
     ]
    }
   ],
   "source": [
    "lm = smf.ols(formula='sale_price ~ gross_sq_feet -1', data = REsample1).fit()\n",
    "print(lm.summary())"
   ]
  },
  {
   "cell_type": "markdown",
   "metadata": {},
   "source": [
    "So Bayesian framework allows to efficiently utilize prior knowledge on the regression parameters to be estimated and also provides us not just with one single best estimate for them but with the entire distribution for the possible value, admitting uncertainty. \n",
    "\n",
    "Let's also give some intuition of how strongly the prior knowledge affects the result compared to the new knowledge obtained from the training sample. Clearly if the prior knowledge is obtained from just a few observations while the further sample considered is pretty big, the result should be dominated by the further observations with little impact of the prior. But it seems that there is no information about how big the initial sample was... However this is not actually the case! \n",
    "\n",
    "The key here is the deviation we have in the prior distribution - the fewer data was used to generate the prior estimate, the more uncertain it will be (higher deviation) and the smaller will be its impact on the posterior. For example uninformed prior having variance going to infinity, tends to have no impact on the result. On the other hand, a very narrow prior means that it has been obtained based on a very strong evidence and should have a major impact on the posterior despite further observations. So all necessary information is already in the prior - when we combine prior estimate based on one sample and with the further observations from the second sample, the first sample size is somehow \"encoded\" in the prior variance and all the necessary information is already there."
   ]
  },
  {
   "cell_type": "markdown",
   "metadata": {},
   "source": [
    "# Multivariate case and regularization\n",
    "\n",
    "Now consider a multivatiate linear regression model\n",
    "$$\n",
    "y\\sim {\\cal N}(w^T x,\\sigma^2).\n",
    "$$\n",
    "Again assume that $\\sigma$ is known or independent on $w$, while for the components of the vector $w=(w_1,w_2,...w_n)$ the prior distributions are known to be pairwise independent normal distributions\n",
    "$$\n",
    "w_j\\sim{\\cal N}(w_j^*,\\sigma_j^*).\n",
    "$$"
   ]
  },
  {
   "cell_type": "markdown",
   "metadata": {},
   "source": [
    "$$\n",
    "p(w|Y,X)\\sim p(Y|w,X)p(w)=p(w)\\prod\\limits_i p(y=y_i|w,x=x_i)p(w)=\\prod_i p(y=y_i|w,x=x_i)\\prod_j p(w_j)\\sim \n",
    "$$\n",
    "$$\n",
    "\\sim\\prod\\limits_i e^{\\frac{-(y_i-w^T x_i)^2}{2\\sigma^2}}\\prod\\limits_j e^{-\\frac{(w_j-w_j^*)^2}{2(\\sigma_i^*)^2}}=e^{-\\frac{RSS(w)}{2\\sigma^2}-\\sum\\limits_j \\frac{(w_j-w_j^*)^2}{2(\\sigma_i^*)^2}},\n",
    "$$"
   ]
  },
  {
   "cell_type": "markdown",
   "metadata": {
    "collapsed": true
   },
   "source": [
    "so the estimate for the best fit $\\hat{w}$ could be found from\n",
    "$$\n",
    "\\hat{w}=argmax_w p(w|Y, X)=argmin_w\\left[\\frac{RSS(w)}{\\sigma^2}+\\sum\\limits_j\\frac{(w_j-w_j^*)^2}{(\\sigma_j^*)^2}\\right]\\hspace{5ex}\n",
    "$$"
   ]
  },
  {
   "cell_type": "markdown",
   "metadata": {},
   "source": [
    "An important particular case of all the components of $w$ having the same prior $w_j\\sim{\\cal N}(0,\\sigma/\\sqrt{\\lambda})$ leads to\n",
    "\n",
    "$$\n",
    "\\hat{w}=argmin_w\\left[RSS(w)+\\lambda||w||_2^2\\right]\\hspace{5ex}(3)\n",
    "$$\n",
    "\n",
    "where $||w||_2=\\sqrt{\\sum\\limits_j w_j^2}$, known as Ridge regression.\n",
    "\n",
    "An alternative choice of the Laplacian prior distribution $p(w_j)\\sim e^{-\\lambda|w_j|/\\sigma}$ leads to  \n",
    "$$\n",
    "\\hat{w}=argmin_w\\left[RSS(w)+\\lambda||w||_1\\right],\\hspace{5ex}(4)\n",
    "$$\n",
    "where $||w||_1=\\sum\\limits_j |w_j|$, known as Lasso (least absolute shrinkage and selection operator) regression.\n",
    "\n",
    "Both Ridge and Lasso could be shown to be equivalent to a constrained minimization of $RSS$:\n",
    "\n",
    "$$\n",
    "RSS(w)\\to min, \\ ||w||_p\\leq \\alpha,\\hspace{5ex}(5)\n",
    "$$\n",
    "\n",
    "with $p=1,2$ respectively, although analytic relation between constants $\\alpha$ and $\\lambda$ is somewhat nontrivial. In practice however the choice of $\\lambda$ or $\\alpha$ is usually empirical anyway, so both regularized (i.e. (3)-(4) with adding a regularization term ||w||) or constrained forms (5) of the optimization problem are equally applicable."
   ]
  },
  {
   "cell_type": "markdown",
   "metadata": {},
   "source": [
    "Optimization problems (3) and (4) tend to minimize $RSS$ at the same time penalizing the regression for having $||w||$ too large (regularization) which often leads to the model complexity through multiple regressors with large coefficients canceling effect of each other. So in a sense Lasso and Ridge are trying to avoid this situation, looking for relatively simple \"regular\" models with best possible fit. \n",
    "\n",
    "Their Bayesian derivation show that Lasso and Ridge simply perform the regression with the prior belief that all the components of the $w$ are limited through the fixed variance of the priors. Such a belief affects the final outcome of the model making solutions with large $||w||$ to be particularly unlikely.\n",
    "\n",
    "This helps Ridge and Lasso to fight overfitting also dealing with multicollinearity of regressors to some extent, preventing from learning noise through particularly complex \"unnatural\" combinations of the regressors.\n",
    "\n",
    "Ridge regression admits solution in the closed form (consider partial derivatives of the objective function with respect to $w_j$):\n",
    "\n",
    "$$\n",
    "\\hat{w}=(X^T X+\\lambda I)^{-1}X^T Y, \\hspace{5ex} (6)\n",
    "$$\n",
    "\n",
    "where $I$ is the identity $n\\times n$ matrix, while $n$ being the number of regressors. The formulae (6) shows that the Ridge regression can in theory deal with the case of multicollinearity, when the matrix $X^T X$ is singular and OLS estimate does not exist.\n",
    "\n",
    "Lasso does not admit solution in the closed form and requires numerical methods (like subgradient methods) to be fit. \n",
    "Lasso however has an advantage of being able to completely eliminate impact of certain irrelevant regressors setting the corresponding slope coefficients to zero.  "
   ]
  },
  {
   "cell_type": "markdown",
   "metadata": {},
   "source": [
    "# Bias-variance trade-off"
   ]
  },
  {
   "cell_type": "markdown",
   "metadata": {},
   "source": [
    "Suppose that the data considered have been indeed generated by a certain \"true\" model\n",
    "$$\n",
    "y\\sim {\\cal N}(w^T x,\\sigma^2),\n",
    "$$\n",
    "while \"true\" $w$ is not known to us and is being approximated by our estimates $\\hat{w}$ picked up from the posterior distribution given by our model (e.g. OLS, Ridge, Lasso etc).\n",
    "\n",
    "The ability of the model to predict future values of $y$ for specific $x$ can be expressed as (using $E[X^2]=E[X]^2+Var[X]$ and $E[y]=E[w^T x]$):\n",
    "\n",
    "$$\n",
    "E\\left[(y-\\hat{w}^T x)^2\\right]=Bias[\\hat{w}^T x]^2+Var[\\hat{w}^T x]^2+\\sigma^2,\n",
    "$$\n",
    "\n",
    "where for each specific $x$\n",
    "$$\n",
    "{\\rm Bias}[\\hat{w}^T x]=(E[\\hat{w}^T x]-w^T x) \n",
    "$$\n",
    "shows how shifted on average will our prediction be vs the unknown \"true\" model prediction, while\n",
    "$$\n",
    "Var[\\hat{w}^T x]=E[(\\hat{w}^T x-E[\\hat{w}^T x])^2]\n",
    "$$\n",
    "shows how uncertain is our prediction given the variation of the estimate $\\hat{w}$. The third term $\\sigma^2$ corresponds to an irreducible error, caused by the noise in the data generation process."
   ]
  },
  {
   "cell_type": "markdown",
   "metadata": {},
   "source": [
    "So the ability of the model to predict future values of $y$ depends (besides the irreducible error which we're not in control of) on both - the variance in our estimae of $\\hat{w}$ as well as the bias in our estimation (i.e. systematic shift like under or overestimation) of the true values of $w$ and $y$. \n",
    "\n",
    "The OLS estimate in theory is known to be unbiased (tends to have zero bias provided that the training sample is large enough), however might have pretty high variance in $\\hat{w}$ especially when the regressors are highly correlated. This reduces its generalizeability. Regularized regression, like Ridge and Lasso can introduce some bias (might not fit the training sample that well), but may largely reduce variance by limiting the $||w||$ (and become much less sensitive to small changes in the training data, reducing the risk of overfitting)."
   ]
  },
  {
   "cell_type": "code",
   "execution_count": 11,
   "metadata": {
    "collapsed": false
   },
   "outputs": [
    {
     "data": {
      "image/png": "[encoded data removed]",
      "text/plain": [
       "<IPython.core.display.Image object>"
      ]
     },
     "execution_count": 11,
     "metadata": {},
     "output_type": "execute_result"
    }
   ],
   "source": [
    "from IPython.display import Image\n",
    "Image(filename='data/biasvariance.png') "
   ]
  },
  {
   "cell_type": "markdown",
   "metadata": {},
   "source": [
    "Generally, often the more complex model able to better learn from the training sample (lower bias) have higher variance, which leads to overfitting and high error for predicting the future values of the output variable.\n",
    "\n",
    "### Validation and cross-validation\n",
    "\n",
    "A good way to validate the model is to use a test set separate from the training sample to evaluate the model performance. Additionally if the model depends on the certain parameters (like $\\alpha,\\lambda$ for Lasso/Ridge) which are not supposed to be fit during the training phase, a separate validation sample could be used for the selection of model parameters (we pick up those which optimize model performance over the validation set). Usually test and validation sets are got as subsamples (often random) of the available dataset, while the remaining data is used as the training sample. \n",
    "\n",
    "But often the available dataset is small enough, so splitting into into even smaller traning, validation and test sets could have negative impact on the model training leading to noisy and unreliable models. In such cases cross-validation is often applied, performing not one but several random splits of the sample with further averaging of the model performance scores. "
   ]
  },
  {
   "cell_type": "markdown",
   "metadata": {},
   "source": [
    "## Choice of $\\lambda$ or $\\alpha$. Model validation.\n",
    "\n",
    "In both - constrained and regularized forms - the parameter $\\alpha$ or $\\lambda$ of Lasso/Ridge regression is somewhat arbitrary and can take any value from $0$ to $+\\infty$. Small values of $\\lambda$ or high values of $\\alpha$ lead to the result close to OLS (identical to it is $\\lambda=0$ or $\\alpha=+\\infty$), while large $\\lambda$ or small $\\alpha$ tend to overemphasize the impact of regularization over the fit itself. There is no single best way of choosing the value of the regularization parameter - what is usually suggested is to fit it by evaluating the model for different values of the parameter over the separate validation set and picking up the value for which the validation performance is the best one. As for the performance metric one can use RSS or, equivalently, R2."
   ]
  },
  {
   "cell_type": "markdown",
   "metadata": {},
   "source": [
    "## Example 3. Regularization with artifical data"
   ]
  },
  {
   "cell_type": "code",
   "execution_count": 7,
   "metadata": {
    "collapsed": true
   },
   "outputs": [],
   "source": [
    "#Upload the data\n",
    "data3=pd.read_csv(\"data/example3.csv\") # load the data \n",
    "y=np.asarray(data3.iloc[:,-1]) # make dependent variable\n",
    "X=np.asarray(data3.iloc[:,0:-1]) #make independent variables"
   ]
  },
  {
   "cell_type": "code",
   "execution_count": 8,
   "metadata": {
    "collapsed": false
   },
   "outputs": [
    {
     "name": "stdout",
     "output_type": "stream",
     "text": [
      "50\n"
     ]
    },
    {
     "data": {
      "text/html": [
       "<div>\n",
       "<table border=\"1\" class=\"dataframe\">\n",
       "  <thead>\n",
       "    <tr style=\"text-align: right;\">\n",
       "      <th></th>\n",
       "      <th>0</th>\n",
       "      <th>1</th>\n",
       "      <th>2</th>\n",
       "      <th>3</th>\n",
       "      <th>4</th>\n",
       "      <th>5</th>\n",
       "      <th>6</th>\n",
       "      <th>7</th>\n",
       "      <th>8</th>\n",
       "      <th>9</th>\n",
       "      <th>...</th>\n",
       "      <th>20</th>\n",
       "      <th>21</th>\n",
       "      <th>22</th>\n",
       "      <th>23</th>\n",
       "      <th>24</th>\n",
       "      <th>25</th>\n",
       "      <th>26</th>\n",
       "      <th>27</th>\n",
       "      <th>28</th>\n",
       "      <th>Y</th>\n",
       "    </tr>\n",
       "  </thead>\n",
       "  <tbody>\n",
       "    <tr>\n",
       "      <th>0</th>\n",
       "      <td>26</td>\n",
       "      <td>22.415927</td>\n",
       "      <td>1.481339</td>\n",
       "      <td>9.634145</td>\n",
       "      <td>-15.316976</td>\n",
       "      <td>3.707672</td>\n",
       "      <td>44.960785</td>\n",
       "      <td>27.480018</td>\n",
       "      <td>48.835505</td>\n",
       "      <td>5.382629</td>\n",
       "      <td>...</td>\n",
       "      <td>42.863416</td>\n",
       "      <td>39</td>\n",
       "      <td>26</td>\n",
       "      <td>95</td>\n",
       "      <td>83</td>\n",
       "      <td>16</td>\n",
       "      <td>21</td>\n",
       "      <td>66</td>\n",
       "      <td>87</td>\n",
       "      <td>17.023843</td>\n",
       "    </tr>\n",
       "    <tr>\n",
       "      <th>1</th>\n",
       "      <td>68</td>\n",
       "      <td>59.433665</td>\n",
       "      <td>14.979972</td>\n",
       "      <td>22.192560</td>\n",
       "      <td>-35.872848</td>\n",
       "      <td>12.682355</td>\n",
       "      <td>117.701114</td>\n",
       "      <td>66.681792</td>\n",
       "      <td>124.983058</td>\n",
       "      <td>18.150923</td>\n",
       "      <td>...</td>\n",
       "      <td>101.877161</td>\n",
       "      <td>45</td>\n",
       "      <td>52</td>\n",
       "      <td>24</td>\n",
       "      <td>42</td>\n",
       "      <td>97</td>\n",
       "      <td>65</td>\n",
       "      <td>47</td>\n",
       "      <td>94</td>\n",
       "      <td>73.075316</td>\n",
       "    </tr>\n",
       "    <tr>\n",
       "      <th>2</th>\n",
       "      <td>45</td>\n",
       "      <td>39.162046</td>\n",
       "      <td>7.587863</td>\n",
       "      <td>15.315333</td>\n",
       "      <td>-24.616061</td>\n",
       "      <td>7.767647</td>\n",
       "      <td>77.867124</td>\n",
       "      <td>45.214154</td>\n",
       "      <td>83.283207</td>\n",
       "      <td>11.158762</td>\n",
       "      <td>...</td>\n",
       "      <td>69.560110</td>\n",
       "      <td>53</td>\n",
       "      <td>64</td>\n",
       "      <td>31</td>\n",
       "      <td>31</td>\n",
       "      <td>64</td>\n",
       "      <td>74</td>\n",
       "      <td>19</td>\n",
       "      <td>55</td>\n",
       "      <td>34.872741</td>\n",
       "    </tr>\n",
       "    <tr>\n",
       "      <th>3</th>\n",
       "      <td>91</td>\n",
       "      <td>79.705283</td>\n",
       "      <td>22.372081</td>\n",
       "      <td>29.069787</td>\n",
       "      <td>-47.129635</td>\n",
       "      <td>17.597062</td>\n",
       "      <td>157.535104</td>\n",
       "      <td>88.149430</td>\n",
       "      <td>166.682908</td>\n",
       "      <td>25.143084</td>\n",
       "      <td>...</td>\n",
       "      <td>134.194211</td>\n",
       "      <td>90</td>\n",
       "      <td>50</td>\n",
       "      <td>49</td>\n",
       "      <td>30</td>\n",
       "      <td>95</td>\n",
       "      <td>65</td>\n",
       "      <td>80</td>\n",
       "      <td>77</td>\n",
       "      <td>64.479635</td>\n",
       "    </tr>\n",
       "    <tr>\n",
       "      <th>4</th>\n",
       "      <td>15</td>\n",
       "      <td>12.720805</td>\n",
       "      <td>-2.054018</td>\n",
       "      <td>6.345036</td>\n",
       "      <td>-9.933295</td>\n",
       "      <td>1.357160</td>\n",
       "      <td>25.909746</td>\n",
       "      <td>17.212886</td>\n",
       "      <td>28.892098</td>\n",
       "      <td>2.038551</td>\n",
       "      <td>...</td>\n",
       "      <td>27.407435</td>\n",
       "      <td>9</td>\n",
       "      <td>49</td>\n",
       "      <td>73</td>\n",
       "      <td>23</td>\n",
       "      <td>76</td>\n",
       "      <td>37</td>\n",
       "      <td>44</td>\n",
       "      <td>55</td>\n",
       "      <td>19.937208</td>\n",
       "    </tr>\n",
       "  </tbody>\n",
       "</table>\n",
       "<p>5 rows × 30 columns</p>\n",
       "</div>"
      ],
      "text/plain": [
       "    0          1          2          3          4          5           6  \\\n",
       "0  26  22.415927   1.481339   9.634145 -15.316976   3.707672   44.960785   \n",
       "1  68  59.433665  14.979972  22.192560 -35.872848  12.682355  117.701114   \n",
       "2  45  39.162046   7.587863  15.315333 -24.616061   7.767647   77.867124   \n",
       "3  91  79.705283  22.372081  29.069787 -47.129635  17.597062  157.535104   \n",
       "4  15  12.720805  -2.054018   6.345036  -9.933295   1.357160   25.909746   \n",
       "\n",
       "           7           8          9    ...              20  21  22  23  24  \\\n",
       "0  27.480018   48.835505   5.382629    ...       42.863416  39  26  95  83   \n",
       "1  66.681792  124.983058  18.150923    ...      101.877161  45  52  24  42   \n",
       "2  45.214154   83.283207  11.158762    ...       69.560110  53  64  31  31   \n",
       "3  88.149430  166.682908  25.143084    ...      134.194211  90  50  49  30   \n",
       "4  17.212886   28.892098   2.038551    ...       27.407435   9  49  73  23   \n",
       "\n",
       "   25  26  27  28          Y  \n",
       "0  16  21  66  87  17.023843  \n",
       "1  97  65  47  94  73.075316  \n",
       "2  64  74  19  55  34.872741  \n",
       "3  95  65  80  77  64.479635  \n",
       "4  76  37  44  55  19.937208  \n",
       "\n",
       "[5 rows x 30 columns]"
      ]
     },
     "execution_count": 8,
     "metadata": {},
     "output_type": "execute_result"
    }
   ],
   "source": [
    "print(len(data3))\n",
    "data3.head()"
   ]
  },
  {
   "cell_type": "code",
   "execution_count": 9,
   "metadata": {
    "collapsed": false
   },
   "outputs": [
    {
     "data": {
      "text/html": [
       "<div>\n",
       "<table border=\"1\" class=\"dataframe\">\n",
       "  <thead>\n",
       "    <tr style=\"text-align: right;\">\n",
       "      <th></th>\n",
       "      <th>beta</th>\n",
       "      <th>p-value</th>\n",
       "      <th>std err</th>\n",
       "      <th>t-stat</th>\n",
       "    </tr>\n",
       "  </thead>\n",
       "  <tbody>\n",
       "    <tr>\n",
       "      <th>0</th>\n",
       "      <td>3.757231e+08</td>\n",
       "      <td>NaN</td>\n",
       "      <td>NaN</td>\n",
       "      <td>NaN</td>\n",
       "    </tr>\n",
       "    <tr>\n",
       "      <th>1</th>\n",
       "      <td>-7.496352e+07</td>\n",
       "      <td>NaN</td>\n",
       "      <td>NaN</td>\n",
       "      <td>NaN</td>\n",
       "    </tr>\n",
       "    <tr>\n",
       "      <th>2</th>\n",
       "      <td>9.353953e+08</td>\n",
       "      <td>NaN</td>\n",
       "      <td>NaN</td>\n",
       "      <td>NaN</td>\n",
       "    </tr>\n",
       "    <tr>\n",
       "      <th>3</th>\n",
       "      <td>2.537093e+09</td>\n",
       "      <td>NaN</td>\n",
       "      <td>NaN</td>\n",
       "      <td>NaN</td>\n",
       "    </tr>\n",
       "    <tr>\n",
       "      <th>4</th>\n",
       "      <td>-4.952650e+08</td>\n",
       "      <td>NaN</td>\n",
       "      <td>NaN</td>\n",
       "      <td>NaN</td>\n",
       "    </tr>\n",
       "    <tr>\n",
       "      <th>5</th>\n",
       "      <td>8.663074e+08</td>\n",
       "      <td>NaN</td>\n",
       "      <td>NaN</td>\n",
       "      <td>NaN</td>\n",
       "    </tr>\n",
       "    <tr>\n",
       "      <th>6</th>\n",
       "      <td>1.194379e+08</td>\n",
       "      <td>NaN</td>\n",
       "      <td>NaN</td>\n",
       "      <td>NaN</td>\n",
       "    </tr>\n",
       "    <tr>\n",
       "      <th>7</th>\n",
       "      <td>-5.983284e+08</td>\n",
       "      <td>NaN</td>\n",
       "      <td>NaN</td>\n",
       "      <td>NaN</td>\n",
       "    </tr>\n",
       "    <tr>\n",
       "      <th>8</th>\n",
       "      <td>1.651503e+07</td>\n",
       "      <td>NaN</td>\n",
       "      <td>NaN</td>\n",
       "      <td>NaN</td>\n",
       "    </tr>\n",
       "    <tr>\n",
       "      <th>9</th>\n",
       "      <td>-2.162900e+09</td>\n",
       "      <td>NaN</td>\n",
       "      <td>NaN</td>\n",
       "      <td>NaN</td>\n",
       "    </tr>\n",
       "    <tr>\n",
       "      <th>10</th>\n",
       "      <td>3.144394e+08</td>\n",
       "      <td>NaN</td>\n",
       "      <td>NaN</td>\n",
       "      <td>NaN</td>\n",
       "    </tr>\n",
       "    <tr>\n",
       "      <th>11</th>\n",
       "      <td>-5.027232e+08</td>\n",
       "      <td>NaN</td>\n",
       "      <td>NaN</td>\n",
       "      <td>NaN</td>\n",
       "    </tr>\n",
       "    <tr>\n",
       "      <th>12</th>\n",
       "      <td>-5.629380e+07</td>\n",
       "      <td>NaN</td>\n",
       "      <td>NaN</td>\n",
       "      <td>NaN</td>\n",
       "    </tr>\n",
       "    <tr>\n",
       "      <th>13</th>\n",
       "      <td>-2.188585e+09</td>\n",
       "      <td>1.108756e-24</td>\n",
       "      <td>3.393004e+07</td>\n",
       "      <td>-64.502884</td>\n",
       "    </tr>\n",
       "    <tr>\n",
       "      <th>14</th>\n",
       "      <td>1.239714e+09</td>\n",
       "      <td>1.290337e-34</td>\n",
       "      <td>6.111422e+06</td>\n",
       "      <td>202.851889</td>\n",
       "    </tr>\n",
       "    <tr>\n",
       "      <th>15</th>\n",
       "      <td>-7.542769e+08</td>\n",
       "      <td>NaN</td>\n",
       "      <td>NaN</td>\n",
       "      <td>NaN</td>\n",
       "    </tr>\n",
       "    <tr>\n",
       "      <th>16</th>\n",
       "      <td>-6.820656e+09</td>\n",
       "      <td>NaN</td>\n",
       "      <td>NaN</td>\n",
       "      <td>NaN</td>\n",
       "    </tr>\n",
       "    <tr>\n",
       "      <th>17</th>\n",
       "      <td>5.683494e+08</td>\n",
       "      <td>NaN</td>\n",
       "      <td>NaN</td>\n",
       "      <td>NaN</td>\n",
       "    </tr>\n",
       "    <tr>\n",
       "      <th>18</th>\n",
       "      <td>1.267237e+08</td>\n",
       "      <td>NaN</td>\n",
       "      <td>NaN</td>\n",
       "      <td>NaN</td>\n",
       "    </tr>\n",
       "    <tr>\n",
       "      <th>19</th>\n",
       "      <td>1.923137e+09</td>\n",
       "      <td>NaN</td>\n",
       "      <td>NaN</td>\n",
       "      <td>NaN</td>\n",
       "    </tr>\n",
       "    <tr>\n",
       "      <th>20</th>\n",
       "      <td>-2.540981e+07</td>\n",
       "      <td>NaN</td>\n",
       "      <td>NaN</td>\n",
       "      <td>NaN</td>\n",
       "    </tr>\n",
       "    <tr>\n",
       "      <th>21</th>\n",
       "      <td>-7.250141e-02</td>\n",
       "      <td>2.006087e-01</td>\n",
       "      <td>5.478117e-02</td>\n",
       "      <td>-1.323473</td>\n",
       "    </tr>\n",
       "    <tr>\n",
       "      <th>22</th>\n",
       "      <td>1.007564e-02</td>\n",
       "      <td>8.666941e-01</td>\n",
       "      <td>5.925773e-02</td>\n",
       "      <td>0.170031</td>\n",
       "    </tr>\n",
       "    <tr>\n",
       "      <th>23</th>\n",
       "      <td>-4.209827e-03</td>\n",
       "      <td>9.325065e-01</td>\n",
       "      <td>4.908597e-02</td>\n",
       "      <td>-0.085764</td>\n",
       "    </tr>\n",
       "    <tr>\n",
       "      <th>24</th>\n",
       "      <td>1.369836e-01</td>\n",
       "      <td>1.835671e-02</td>\n",
       "      <td>5.334506e-02</td>\n",
       "      <td>2.567877</td>\n",
       "    </tr>\n",
       "    <tr>\n",
       "      <th>25</th>\n",
       "      <td>3.884839e-02</td>\n",
       "      <td>4.017734e-01</td>\n",
       "      <td>4.534793e-02</td>\n",
       "      <td>0.856674</td>\n",
       "    </tr>\n",
       "    <tr>\n",
       "      <th>26</th>\n",
       "      <td>-5.104671e-03</td>\n",
       "      <td>9.203430e-01</td>\n",
       "      <td>5.040557e-02</td>\n",
       "      <td>-0.101272</td>\n",
       "    </tr>\n",
       "    <tr>\n",
       "      <th>27</th>\n",
       "      <td>-1.539899e-01</td>\n",
       "      <td>7.958639e-03</td>\n",
       "      <td>5.224136e-02</td>\n",
       "      <td>-2.947662</td>\n",
       "    </tr>\n",
       "    <tr>\n",
       "      <th>28</th>\n",
       "      <td>-1.093492e-01</td>\n",
       "      <td>4.670594e-02</td>\n",
       "      <td>5.157943e-02</td>\n",
       "      <td>-2.120016</td>\n",
       "    </tr>\n",
       "    <tr>\n",
       "      <th>intercept</th>\n",
       "      <td>-1.641190e+10</td>\n",
       "      <td>8.018373e-25</td>\n",
       "      <td>2.503286e+08</td>\n",
       "      <td>-65.561425</td>\n",
       "    </tr>\n",
       "  </tbody>\n",
       "</table>\n",
       "</div>"
      ],
      "text/plain": [
       "                   beta       p-value       std err      t-stat\n",
       "0          3.757231e+08           NaN           NaN         NaN\n",
       "1         -7.496352e+07           NaN           NaN         NaN\n",
       "2          9.353953e+08           NaN           NaN         NaN\n",
       "3          2.537093e+09           NaN           NaN         NaN\n",
       "4         -4.952650e+08           NaN           NaN         NaN\n",
       "5          8.663074e+08           NaN           NaN         NaN\n",
       "6          1.194379e+08           NaN           NaN         NaN\n",
       "7         -5.983284e+08           NaN           NaN         NaN\n",
       "8          1.651503e+07           NaN           NaN         NaN\n",
       "9         -2.162900e+09           NaN           NaN         NaN\n",
       "10         3.144394e+08           NaN           NaN         NaN\n",
       "11        -5.027232e+08           NaN           NaN         NaN\n",
       "12        -5.629380e+07           NaN           NaN         NaN\n",
       "13        -2.188585e+09  1.108756e-24  3.393004e+07  -64.502884\n",
       "14         1.239714e+09  1.290337e-34  6.111422e+06  202.851889\n",
       "15        -7.542769e+08           NaN           NaN         NaN\n",
       "16        -6.820656e+09           NaN           NaN         NaN\n",
       "17         5.683494e+08           NaN           NaN         NaN\n",
       "18         1.267237e+08           NaN           NaN         NaN\n",
       "19         1.923137e+09           NaN           NaN         NaN\n",
       "20        -2.540981e+07           NaN           NaN         NaN\n",
       "21        -7.250141e-02  2.006087e-01  5.478117e-02   -1.323473\n",
       "22         1.007564e-02  8.666941e-01  5.925773e-02    0.170031\n",
       "23        -4.209827e-03  9.325065e-01  4.908597e-02   -0.085764\n",
       "24         1.369836e-01  1.835671e-02  5.334506e-02    2.567877\n",
       "25         3.884839e-02  4.017734e-01  4.534793e-02    0.856674\n",
       "26        -5.104671e-03  9.203430e-01  5.040557e-02   -0.101272\n",
       "27        -1.539899e-01  7.958639e-03  5.224136e-02   -2.947662\n",
       "28        -1.093492e-01  4.670594e-02  5.157943e-02   -2.120016\n",
       "intercept -1.641190e+10  8.018373e-25  2.503286e+08  -65.561425"
      ]
     },
     "execution_count": 9,
     "metadata": {},
     "output_type": "execute_result"
    }
   ],
   "source": [
    "#Let's have a quick look of the OLS for whole data\n",
    "result=ols(y=y,x=pd.DataFrame(X))\n",
    "# You will see NaN values becuase the number is too small or too big to calculate here. We do not need to care about it\n",
    "#since we only care about prediction. The coeffiencts might be unreliable due to the collinearity. \n",
    "result.summary_as_matrix.T"
   ]
  },
  {
   "cell_type": "markdown",
   "metadata": {},
   "source": [
    "Let's evaluate if this OLS model for such a dataset is actually generalizeable. For that purpose let us divide the dataset into training set and the test set."
   ]
  },
  {
   "cell_type": "code",
   "execution_count": 10,
   "metadata": {
    "collapsed": false
   },
   "outputs": [
    {
     "name": "stdout",
     "output_type": "stream",
     "text": [
      "Size of the training set=30, test set=20\n"
     ]
    }
   ],
   "source": [
    "train_index=[22,15,31,18,34,32,12,26,19,0,44,5,41,4,2,21,11,28,14,46,8,25,20,33,35,39,10,27,7,42]\n",
    "test_index=[x for x in list(range(len(X))) if x not in train_index]\n",
    "#Generate data for training and testing.\n",
    "X_train=X[train_index,:] #training variables\n",
    "y_train=y[train_index] #training dependent variables\n",
    "X_test=X[test_index,:] #prediction variables\n",
    "y_test=y[test_index] #prediction dependent variable\n",
    "print('Size of the training set={0}, test set={1}').format(len(train_index),len(test_index))"
   ]
  },
  {
   "cell_type": "code",
   "execution_count": 16,
   "metadata": {
    "collapsed": false
   },
   "outputs": [
    {
     "name": "stdout",
     "output_type": "stream",
     "text": [
      "OLS regression coefficients=[  2.96536426e+10   1.44001991e+10  -2.31281699e+10  -9.13020363e+09\n",
      "  -1.41158081e+10   1.15295408e+10   1.30825936e+09  -5.53322155e+09\n",
      "  -1.42820790e+09  -4.91641257e+10   1.03908016e+10   4.46879158e+09\n",
      "   7.63373753e+08   1.79675569e+11  -8.06002813e+09   1.02906034e+09\n",
      "  -9.60511890e+10   1.55159832e+09  -1.83746940e+09  -6.59797711e+08\n",
      "  -2.89938243e+09  -2.01922977e+00  -1.09512337e+00  -4.34008447e-01\n",
      "   1.24791467e+00  -2.51666116e-01   1.71862102e+00  -9.25140181e-01\n",
      "  -9.23786023e-01  -1.70819989e+12]\n",
      "The R-squared we found for in-sample (IS) OLS is: 0.999999965428\n",
      "The R-squared we found for out-of-sample (OS) OLS is: -82.7531318928\n"
     ]
    }
   ],
   "source": [
    "# In the sample. (Only use training set)\n",
    "result=ols(y=y_train,x=pd.DataFrame(X_train))\n",
    "#print(result.summary_as_matrix.T)\n",
    "R_2_IS=result.r2  # get R2\n",
    "OLS_coef=result.beta\n",
    "\n",
    "#Out of sample \n",
    "a=np.array(X_test)  #makes sure conver pd data to np array\n",
    "b=np.array(result.beta) #makes sure conver pd data to np array\n",
    "print('OLS regression coefficients={0}'.format(b))\n",
    "c=np.sum(a*b[0:-1],axis=1)+b[-1] #b is estimated coefficients, a is prediction data, b[-1] is intercept. This is for predicted y\n",
    "error=y_test-c # y_predict is real value, c is the value we guessed\n",
    "R_2_OS=1-error.var()/y_test.var() # this is out of sample R2\n",
    "print(\"The R-squared we found for in-sample (IS) OLS is: {0}\".format(R_2_IS))\n",
    "print(\"The R-squared we found for out-of-sample (OS) OLS is: {0}\".format(R_2_OS))"
   ]
  },
  {
   "cell_type": "markdown",
   "metadata": {},
   "source": [
    "So while OLS reached almost perfect IS performance over the training set (which is not too suprizing as one would expect 29 regressors to be able to learn nearly all the infromation from the sample of 30 observations) it's generalizeability is quite poor (OS R2 goes way below zero). So there is clearly an overfitting problem. Let's track its dynamics adding variables to the regression one by one."
   ]
  },
  {
   "cell_type": "code",
   "execution_count": 17,
   "metadata": {
    "collapsed": false
   },
   "outputs": [
    {
     "data": {
      "image/png": "[encoded data removed]",
      "text/plain": [
       "<matplotlib.figure.Figure at 0x10ab44510>"
      ]
     },
     "metadata": {},
     "output_type": "display_data"
    }
   ],
   "source": [
    "#OS OLS R2 deneding on the number of variables t\n",
    "\n",
    "Number_variables=[]\n",
    "\n",
    "OLS_R_2_OS_F=[]\n",
    "OLS_R_2_IS_F=[]\n",
    "\n",
    "t=0\n",
    "\n",
    "##########################################################################################################\n",
    "##########################################################################################################\n",
    "\n",
    "for j in range(len(X_train.T)): #subsequently add variables\n",
    "    \n",
    "    t+=1\n",
    "    Number_variables.append(t)\n",
    "\n",
    "    result=ols(y=y_train,x=pd.DataFrame(X_train[:,0:j+1]))\n",
    "    temp=X_test[:,0:j+1]\n",
    "\n",
    "    a=np.array(temp)\n",
    "    b=np.array(result.beta)\n",
    "    c=np.sum(a*b[0:-1],axis=1)+b[-1]\n",
    "\n",
    "    error=y_test-c\n",
    "    R_2=1-error.var()/y_test.var()\n",
    "    if R_2>0:\n",
    "        OLS_R_2_OS_F.append(R_2)\n",
    "    else:\n",
    "        OLS_R_2_OS_F.append(0)\n",
    "    \n",
    "    OLS_R_2_IS_F.append(result.r2)\n",
    "\n",
    "pylab.title('OS performance of OLS when we subsequently add variables')\n",
    "pylab.plot(Number_variables,OLS_R_2_OS_F,'b',label='R_squared_OLS_OS')\n",
    "pylab.plot(Number_variables,OLS_R_2_IS_F,'g',label='R_squared_OLS_IS')\n",
    "\n",
    "\n",
    "pylab.legend(loc='lower right')\n",
    "pylab.xlabel('Number of independent variables')\n",
    "pylab.ylabel('R-squared')\n",
    "pylab.legend(loc='lower left')\n",
    "pylab.show()"
   ]
  },
  {
   "cell_type": "markdown",
   "metadata": {},
   "source": [
    "As we see OS OLS R2 is pretty different for IS R2 and the difference starts to grow especially rapidly for $t>20$, so there is clearly a major overfitting problem with OLS at that point. Let's see if Lasso/Ridge are able to fix this issue."
   ]
  },
  {
   "cell_type": "code",
   "execution_count": 18,
   "metadata": {
    "collapsed": false
   },
   "outputs": [
    {
     "name": "stdout",
     "output_type": "stream",
     "text": [
      "The R-squared we found for IS Ridge is: 0.835638878661\n",
      "The R-squared we found for OS Ridge is: 0.615809865692\n"
     ]
    }
   ],
   "source": [
    "Ridge=linear_model.Ridge(fit_intercept=True,alpha=1) #try Ridge with an arbitrary regularization parameter lambda=1\n",
    "\n",
    "Ridge.fit(X_train,y_train)\n",
    "# In the sample:\n",
    "p_IS=Ridge.predict(X_train)\n",
    "err_IS=p_IS-y_train\n",
    "R_2_IS_Ridge=1-np.var(err_IS)/np.var(y_train)\n",
    "print(\"The R-squared we found for IS Ridge is: {0}\".format(R_2_IS_Ridge))\n",
    "\n",
    "Ridge_coef=Ridge.coef_\n",
    "############################################################################    \n",
    "    \n",
    "#Out of sample\n",
    "p_OS=Ridge.predict(X_test)\n",
    "err_OS=p_OS-y_test\n",
    "R_2_OS_Ridge=1-np.var(err_OS)/np.var(y_test)\n",
    "print(\"The R-squared we found for OS Ridge is: {0}\".format(R_2_OS_Ridge))"
   ]
  },
  {
   "cell_type": "markdown",
   "metadata": {},
   "source": [
    "So even with a pretty arbitrary choice of lambda Ridge works pretty well, mostly fixing the overfitting issue. Let's see if one can do better with a more sophisticated choice - for that purpose further split the former training set into training and validation, so that for each lambda the model is being trained over the smaller training sample and optimal lambda is selected based on the model performance over the validation set. Then final result is evaluated over the test set as before."
   ]
  },
  {
   "cell_type": "code",
   "execution_count": 19,
   "metadata": {
    "collapsed": false
   },
   "outputs": [],
   "source": [
    "#Find the Alpha and report best test performance for Ridge/Lasso.\n",
    "def Regularization_fit_lambda(model,X_train,y_train,lambdas,p=0.4,Graph=False, logl=False):\n",
    "    \n",
    "    #model=1 -Ridge, 2-Lasso\n",
    "    #X_train, y_train is training set\n",
    "    #lambdas: a list of lambda values to try\n",
    "    #p: ratio of the validation sample size/ total training size\n",
    "    #Graph: plot the graph of R^2 values for different lambda\n",
    "##############################################################################################################################    \n",
    "    \n",
    "    rnd.seed(2014)\n",
    "    R_2_OS=[] #make a list to store R-squared. We need in end to pick the lambda having the biggest R2.\n",
    "    \n",
    "    validation_index=rnd.sample(list(range(len(X_train))),int(len(X_train)*p) ) #choose some rows for the validation sample    \n",
    "    training_index=[x for x in list(range(len(X_train))) if x not in validation_index] # Use the rest of rows as a training sample\n",
    "    \n",
    "    \n",
    "    X_validation=X_train[validation_index,:]\n",
    "    y_validation=y_train[validation_index]\n",
    "\n",
    "    X_train0=X_train[training_index,:]\n",
    "    y_train0=y_train[training_index]\n",
    "    \n",
    "    \n",
    "    for a in lambdas:\n",
    "        if model==1:\n",
    "            RM=linear_model.Ridge(fit_intercept=True, alpha=a)\n",
    "            model_label='Ridge'\n",
    "        else:\n",
    "            RM=linear_model.Lasso(fit_intercept=True, alpha=a)\n",
    "            model_label='Lasso'\n",
    "        RM.fit(X_train0,y_train0)  #fit the regularization model\n",
    "        \n",
    "        y_predict=RM.predict(X_validation) #compute the prediction for the validation sample \n",
    "        err_OS=y_predict-y_validation\n",
    "        R_2_OS_=1-np.var(err_OS)/np.var(y_validation)\n",
    "        R_2_OS.append(R_2_OS_)\n",
    "    \n",
    "#Find the alpha that c.r.t the biggest R^2\n",
    "    best_R2 = max(R_2_OS)\n",
    "    for i in range(len(R_2_OS)):\n",
    "        if R_2_OS[i]==best_R2:\n",
    "            best_lambda=lambdas[i]\n",
    "    #print(\"The alpha we found for Ridge is:{0}\".format(l))\n",
    "    \n",
    "    #Graph\n",
    "    if Graph==True:\n",
    "        pylab.title('IS R-squared vs OS-R-squared for different Lambda')\n",
    "        if logl:\n",
    "            pylab.xlabel('ln(Lambda)')\n",
    "            l=log(lambdas)\n",
    "            bl=log(best_lambda)\n",
    "        else:\n",
    "            pylab.xlabel('Lambda')\n",
    "            l=lambdas\n",
    "            bl=best_lambda\n",
    "        pylab.plot(l,R_2_OS,'b',label=model_label)\n",
    "        pylab.legend(loc='upper right')\n",
    "        pylab.ylabel('R-squared')\n",
    "        pylab.axvline(bl,color='r',linestyle='--')\n",
    "\n",
    "        pylab.show()\n",
    "    \n",
    "    return best_lambda"
   ]
  },
  {
   "cell_type": "code",
   "execution_count": 20,
   "metadata": {
    "collapsed": false
   },
   "outputs": [
    {
     "data": {
      "image/png": "[encoded data removed]",
      "text/plain": [
       "<matplotlib.figure.Figure at 0x109f5e950>"
      ]
     },
     "metadata": {},
     "output_type": "display_data"
    },
    {
     "name": "stdout",
     "output_type": "stream",
     "text": [
      "Optimal lambda for Ridge=55248.5839921\n"
     ]
    }
   ],
   "source": [
    "#select best lambda for Ridge\n",
    "lambdas = np.linspace(-5,13,200)\n",
    "lambdas=[math.exp(i) for i in lambdas]\n",
    "lambda_r_optimal=Regularization_fit_lambda(1,X_train,y_train,lambdas,p=0.4,Graph=True)\n",
    "print('Optimal lambda for Ridge={0}'.format(lambda_r_optimal))"
   ]
  },
  {
   "cell_type": "code",
   "execution_count": 21,
   "metadata": {
    "collapsed": false
   },
   "outputs": [
    {
     "name": "stdout",
     "output_type": "stream",
     "text": [
      "The R-squared we found for IS Ridge is: 0.815602153898\n",
      "The R-squared we found for OS Ridge is: 0.632932481545\n"
     ]
    }
   ],
   "source": [
    "Ridge=linear_model.Ridge(fit_intercept=True,alpha=lambda_r_optimal) #try Ridge with a selected regularization parameter lambda\n",
    "\n",
    "Ridge.fit(X_train,y_train)\n",
    "# In the sample:\n",
    "p_IS=Ridge.predict(X_train)\n",
    "err_IS=p_IS-y_train\n",
    "R_2_IS_Ridge=1-np.var(err_IS)/np.var(y_train)\n",
    "print(\"The R-squared we found for IS Ridge is: {0}\".format(R_2_IS_Ridge))\n",
    "\n",
    "Ridge_coef=Ridge.coef_\n",
    "############################################################################    \n",
    "    \n",
    "#Out of sample\n",
    "p_OS=Ridge.predict(X_test)\n",
    "err_OS=p_OS-y_test\n",
    "R_2_OS_Ridge=1-np.var(err_OS)/np.var(y_test)\n",
    "print(\"The R-squared we found for OS Ridge is: {0}\".format(R_2_OS_Ridge))"
   ]
  },
  {
   "cell_type": "code",
   "execution_count": 22,
   "metadata": {
    "collapsed": false
   },
   "outputs": [
    {
     "data": {
      "text/plain": [
       "array([ 0.02517172,  0.02218572,  0.00809009,  0.00752659, -0.01231968,\n",
       "        0.00537877,  0.04359522,  0.02349467,  0.04563726,  0.00765238,\n",
       "       -0.01838121,  0.00980197, -0.03850794, -0.00288114, -0.00891382,\n",
       "        0.02357866, -0.00111899, -0.0097049 , -0.04449715,  0.00775819,\n",
       "        0.03536851, -0.00568311,  0.0124728 , -0.00536527, -0.01624446,\n",
       "       -0.00551884,  0.01745864, -0.0198678 ,  0.00324518])"
      ]
     },
     "execution_count": 22,
     "metadata": {},
     "output_type": "execute_result"
    }
   ],
   "source": [
    "Ridge_coef"
   ]
  },
  {
   "cell_type": "code",
   "execution_count": 23,
   "metadata": {
    "collapsed": false
   },
   "outputs": [
    {
     "name": "stderr",
     "output_type": "stream",
     "text": [
      "/Library/Frameworks/Python.framework/Versions/2.7/lib/python2.7/site-packages/sklearn/linear_model/coordinate_descent.py:444: ConvergenceWarning: Objective did not converge. You might want to increase the number of iterations\n",
      "  ConvergenceWarning)\n"
     ]
    },
    {
     "data": {
      "image/png": "[encoded data removed]",
      "text/plain": [
       "<matplotlib.figure.Figure at 0x10af17950>"
      ]
     },
     "metadata": {},
     "output_type": "display_data"
    },
    {
     "name": "stdout",
     "output_type": "stream",
     "text": [
      "Optimal lambda for Lasso=83.0628865303\n"
     ]
    }
   ],
   "source": [
    "#select lambdas for Lasso\n",
    "lambdas = np.linspace(-5,6.5,200)\n",
    "lambdas=[math.exp(i) for i in lambdas]\n",
    "lambda_l_optimal=Regularization_fit_lambda(2,X_train,y_train,lambdas,p=0.4,Graph=True)\n",
    "print('Optimal lambda for Lasso={0}'.format(lambda_l_optimal))"
   ]
  },
  {
   "cell_type": "code",
   "execution_count": 24,
   "metadata": {
    "collapsed": false
   },
   "outputs": [
    {
     "name": "stdout",
     "output_type": "stream",
     "text": [
      "The R-squared we found for IS Lasso is: 0.815602153898\n",
      "The R-squared we found for OS Lasso is: 0.652257395852\n"
     ]
    }
   ],
   "source": [
    "Lasso=linear_model.Lasso(fit_intercept=True,alpha=lambda_l_optimal) #try Ridge with a selected regularization parameter lambda\n",
    "\n",
    "Lasso.fit(X_train,y_train)\n",
    "# In the sample:\n",
    "p_IS=Lasso.predict(X_train)\n",
    "err_IS=p_IS-y_train\n",
    "R_2_IS_Lasso=1-np.var(err_IS)/np.var(y_train)\n",
    "print(\"The R-squared we found for IS Lasso is: {0}\".format(R_2_IS_Ridge))\n",
    "\n",
    "Lasso_coef=Lasso.coef_\n",
    "############################################################################    \n",
    "    \n",
    "#Out of sample\n",
    "p_OS=Lasso.predict(X_test)\n",
    "err_OS=p_OS-y_test\n",
    "R_2_OS_Lasso=1-np.var(err_OS)/np.var(y_test)\n",
    "print(\"The R-squared we found for OS Lasso is: {0}\".format(R_2_OS_Lasso))"
   ]
  },
  {
   "cell_type": "code",
   "execution_count": 25,
   "metadata": {
    "collapsed": false
   },
   "outputs": [
    {
     "data": {
      "text/plain": [
       "array([ 0.        ,  0.        ,  0.        ,  0.        , -0.        ,\n",
       "        0.        ,  0.        ,  0.        ,  0.26033553,  0.        ,\n",
       "       -0.        ,  0.        , -0.        , -0.        , -0.        ,\n",
       "        0.        , -0.        , -0.        , -0.        ,  0.        ,\n",
       "        0.        , -0.        ,  0.        , -0.        , -0.        ,\n",
       "       -0.        ,  0.        , -0.        ,  0.        ])"
      ]
     },
     "execution_count": 25,
     "metadata": {},
     "output_type": "execute_result"
    }
   ],
   "source": [
    "Lasso_coef"
   ]
  },
  {
   "cell_type": "code",
   "execution_count": 26,
   "metadata": {
    "collapsed": false,
    "scrolled": false
   },
   "outputs": [
    {
     "data": {
      "image/png": "[encoded data removed]",
      "text/plain": [
       "<matplotlib.figure.Figure at 0x10addef10>"
      ]
     },
     "metadata": {},
     "output_type": "display_data"
    }
   ],
   "source": [
    "#OS OLS R2 deneding on the number of variables t\n",
    "\n",
    "Number_variables=[]\n",
    "\n",
    "OLS_R_2_OS_F=[]\n",
    "OLS_R_2_IS_F=[]\n",
    "OLS_R_2_Ridge_OS_F=[]\n",
    "OLS_R_2_Ridge_IS_F=[]\n",
    "OLS_R_2_Lasso_OS_F=[]\n",
    "OLS_R_2_Lasso_IS_F=[]\n",
    "\n",
    "t=0\n",
    "\n",
    "##########################################################################################################\n",
    "##########################################################################################################\n",
    "\n",
    "for j in range(len(X_train.T)): #subsequently add variables\n",
    "    \n",
    "    t+=1\n",
    "    Number_variables.append(t)\n",
    "\n",
    "    #For OLS\n",
    "\n",
    "    result=ols(y=y_train,x=pd.DataFrame(X_train[:,0:j+1]))\n",
    "    temp=X_test[:,0:j+1]\n",
    "\n",
    "    a=np.array(temp)\n",
    "    b=np.array(result.beta)\n",
    "    c=np.sum(a*b[0:-1],axis=1)+b[-1]\n",
    "\n",
    "    error=y_test-c\n",
    "    R_2_OS_OLS=1-error.var()/y_test.var()\n",
    "    if R_2_OS_OLS>0:\n",
    "        OLS_R_2_OS_F.append(R_2_OS_OLS)\n",
    "    else:\n",
    "        OLS_R_2_OS_F.append(0)\n",
    "    \n",
    "    R_2_IS_OLS=result.r2\n",
    "    OLS_R_2_IS_F.append(R_2_IS_OLS)\n",
    "    \n",
    "    \n",
    "    #For Ridge\n",
    "\n",
    "    \n",
    "    Ridge=linear_model.Ridge(fit_intercept=True,alpha=lambda_r_optimal)\n",
    "    Ridge.fit(X_train[:,0:j+1],y_train)\n",
    "    \n",
    "    # In the sample:\n",
    "    p_IS=Ridge.predict(X_train[:,0:j+1])\n",
    "    err_IS=p_IS-y_train\n",
    "    R_2_IS_Ridge=1-np.var(err_IS)/np.var(y_train)\n",
    "    OLS_R_2_Ridge_IS_F.append(R_2_IS_Ridge)\n",
    "    \n",
    "    #Out of sample\n",
    "    p_OS=Ridge.predict(X_test[:,0:j+1])\n",
    "    err_OS=p_OS-y_test\n",
    "    R_2_OS_Ridge=1-np.var(err_OS)/np.var(y_test)\n",
    "    \n",
    "    if R_2_OS_Ridge>0:\n",
    "        OLS_R_2_Ridge_OS_F.append(R_2_OS_Ridge)\n",
    "    else:\n",
    "        OLS_R_2_Ridge_OS_F.append(0)\n",
    "    \n",
    "\n",
    "#For Lasso\n",
    "    Lasso=linear_model.Lasso(fit_intercept=True, alpha=lambda_l_optimal)\n",
    "    Lasso.fit(X_train[:,0:j+1],y_train)\n",
    "    \n",
    "    #In the sample:\n",
    "    p_IS=Lasso.predict(X_train[:,0:j+1])\n",
    "    err_IS=p_IS-y_train\n",
    "    R_2_IS_Lasso=1-np.var(err_IS)/np.var(y_train)\n",
    "    OLS_R_2_Lasso_IS_F.append(R_2_IS_Lasso)\n",
    "  \n",
    " ###########################################################################    \n",
    "\n",
    "    #Out of sample\n",
    "    p_OS=Lasso.predict(X_test[:,0:j+1])\n",
    "    err_OS=p_OS-y_test\n",
    "    R_2_OS_Lasso=1-np.var(err_OS)/np.var(y_test)\n",
    "    if R_2_OS>0:\n",
    "        OLS_R_2_Lasso_OS_F.append(R_2_OS_Lasso)\n",
    "    else:\n",
    "        OLS_R_2_Lasso_OS_F.append(0)\n",
    "\n",
    "pylab.title('OS performance of OLS when we subsequently add variables')\n",
    "\n",
    "pylab.plot(Number_variables,OLS_R_2_IS_F,'g',label='R_squared_OLS_IS')\n",
    "pylab.plot(Number_variables,OLS_R_2_Lasso_IS_F,'y',label='R_squared_Lasso_IS')\n",
    "pylab.plot(Number_variables,OLS_R_2_Ridge_IS_F,'k',label='R_squard Ridge_IS')\n",
    "\n",
    "pylab.plot(Number_variables,OLS_R_2_OS_F,'b',label='R_squared_OLS_OS')\n",
    "pylab.plot(Number_variables,OLS_R_2_Lasso_OS_F,'c',label='R_squared_Lasso_OS')\n",
    "pylab.plot(Number_variables,OLS_R_2_Ridge_OS_F,'r',label='R_squard Ridge_OS')\n",
    "\n",
    "pylab.legend(loc='lower right')\n",
    "pylab.xlabel('Number of independent variables')\n",
    "pylab.ylabel('R-squared')\n",
    "pylab.legend(loc='lower left')\n",
    "pylab.show()"
   ]
  },
  {
   "cell_type": "code",
   "execution_count": 27,
   "metadata": {
    "collapsed": false
   },
   "outputs": [
    {
     "data": {
      "text/html": [
       "<div>\n",
       "<table border=\"1\" class=\"dataframe\">\n",
       "  <thead>\n",
       "    <tr style=\"text-align: right;\">\n",
       "      <th></th>\n",
       "      <th>OLS</th>\n",
       "      <th>Ridge</th>\n",
       "      <th>Lasso</th>\n",
       "    </tr>\n",
       "    <tr>\n",
       "      <th></th>\n",
       "      <th></th>\n",
       "      <th></th>\n",
       "      <th></th>\n",
       "    </tr>\n",
       "  </thead>\n",
       "  <tbody>\n",
       "    <tr>\n",
       "      <th>var_1</th>\n",
       "      <td>2.965364e+10</td>\n",
       "      <td>0.02517172</td>\n",
       "      <td>0</td>\n",
       "    </tr>\n",
       "    <tr>\n",
       "      <th>var_2</th>\n",
       "      <td>1.44002e+10</td>\n",
       "      <td>0.02218572</td>\n",
       "      <td>0</td>\n",
       "    </tr>\n",
       "    <tr>\n",
       "      <th>var_3</th>\n",
       "      <td>-2.312817e+10</td>\n",
       "      <td>0.008090091</td>\n",
       "      <td>0</td>\n",
       "    </tr>\n",
       "    <tr>\n",
       "      <th>var_4</th>\n",
       "      <td>-9.130204e+09</td>\n",
       "      <td>0.007526593</td>\n",
       "      <td>0</td>\n",
       "    </tr>\n",
       "    <tr>\n",
       "      <th>var_5</th>\n",
       "      <td>-1.411581e+10</td>\n",
       "      <td>-0.01231968</td>\n",
       "      <td>-0</td>\n",
       "    </tr>\n",
       "    <tr>\n",
       "      <th>var_6</th>\n",
       "      <td>1.152954e+10</td>\n",
       "      <td>0.005378767</td>\n",
       "      <td>0</td>\n",
       "    </tr>\n",
       "    <tr>\n",
       "      <th>var_7</th>\n",
       "      <td>1.308259e+09</td>\n",
       "      <td>0.04359522</td>\n",
       "      <td>0</td>\n",
       "    </tr>\n",
       "    <tr>\n",
       "      <th>var_8</th>\n",
       "      <td>-5.533222e+09</td>\n",
       "      <td>0.02349467</td>\n",
       "      <td>0</td>\n",
       "    </tr>\n",
       "    <tr>\n",
       "      <th>var_9</th>\n",
       "      <td>-1.428208e+09</td>\n",
       "      <td>0.04563726</td>\n",
       "      <td>0.2603355</td>\n",
       "    </tr>\n",
       "    <tr>\n",
       "      <th>var_10</th>\n",
       "      <td>-4.916413e+10</td>\n",
       "      <td>0.007652379</td>\n",
       "      <td>0</td>\n",
       "    </tr>\n",
       "    <tr>\n",
       "      <th>var_11</th>\n",
       "      <td>1.03908e+10</td>\n",
       "      <td>-0.01838121</td>\n",
       "      <td>-0</td>\n",
       "    </tr>\n",
       "    <tr>\n",
       "      <th>var_12</th>\n",
       "      <td>4.468792e+09</td>\n",
       "      <td>0.009801968</td>\n",
       "      <td>0</td>\n",
       "    </tr>\n",
       "    <tr>\n",
       "      <th>var_13</th>\n",
       "      <td>7.633738e+08</td>\n",
       "      <td>-0.03850794</td>\n",
       "      <td>-0</td>\n",
       "    </tr>\n",
       "    <tr>\n",
       "      <th>var_14</th>\n",
       "      <td>1.796756e+11</td>\n",
       "      <td>-0.002881141</td>\n",
       "      <td>-0</td>\n",
       "    </tr>\n",
       "    <tr>\n",
       "      <th>var_15</th>\n",
       "      <td>-8.060028e+09</td>\n",
       "      <td>-0.008913816</td>\n",
       "      <td>-0</td>\n",
       "    </tr>\n",
       "    <tr>\n",
       "      <th>var_16</th>\n",
       "      <td>1.02906e+09</td>\n",
       "      <td>0.02357866</td>\n",
       "      <td>0</td>\n",
       "    </tr>\n",
       "    <tr>\n",
       "      <th>var_17</th>\n",
       "      <td>-9.605119e+10</td>\n",
       "      <td>-0.001118989</td>\n",
       "      <td>-0</td>\n",
       "    </tr>\n",
       "    <tr>\n",
       "      <th>var_18</th>\n",
       "      <td>1.551598e+09</td>\n",
       "      <td>-0.009704904</td>\n",
       "      <td>-0</td>\n",
       "    </tr>\n",
       "    <tr>\n",
       "      <th>var_19</th>\n",
       "      <td>-1.837469e+09</td>\n",
       "      <td>-0.04449715</td>\n",
       "      <td>-0</td>\n",
       "    </tr>\n",
       "    <tr>\n",
       "      <th>var_20</th>\n",
       "      <td>-6.597977e+08</td>\n",
       "      <td>0.007758192</td>\n",
       "      <td>0</td>\n",
       "    </tr>\n",
       "    <tr>\n",
       "      <th>var_21</th>\n",
       "      <td>-2.899382e+09</td>\n",
       "      <td>0.03536851</td>\n",
       "      <td>0</td>\n",
       "    </tr>\n",
       "    <tr>\n",
       "      <th>var_22</th>\n",
       "      <td>-2.01923</td>\n",
       "      <td>-0.005683115</td>\n",
       "      <td>-0</td>\n",
       "    </tr>\n",
       "    <tr>\n",
       "      <th>var_23</th>\n",
       "      <td>-1.095123</td>\n",
       "      <td>0.0124728</td>\n",
       "      <td>0</td>\n",
       "    </tr>\n",
       "    <tr>\n",
       "      <th>var_24</th>\n",
       "      <td>-0.4340084</td>\n",
       "      <td>-0.005365267</td>\n",
       "      <td>-0</td>\n",
       "    </tr>\n",
       "    <tr>\n",
       "      <th>var_25</th>\n",
       "      <td>1.247915</td>\n",
       "      <td>-0.01624446</td>\n",
       "      <td>-0</td>\n",
       "    </tr>\n",
       "    <tr>\n",
       "      <th>var_26</th>\n",
       "      <td>-0.2516661</td>\n",
       "      <td>-0.005518843</td>\n",
       "      <td>-0</td>\n",
       "    </tr>\n",
       "    <tr>\n",
       "      <th>var_27</th>\n",
       "      <td>1.718621</td>\n",
       "      <td>0.01745864</td>\n",
       "      <td>0</td>\n",
       "    </tr>\n",
       "    <tr>\n",
       "      <th>var_28</th>\n",
       "      <td>-0.9251402</td>\n",
       "      <td>-0.0198678</td>\n",
       "      <td>-0</td>\n",
       "    </tr>\n",
       "    <tr>\n",
       "      <th>var_29</th>\n",
       "      <td>-0.923786</td>\n",
       "      <td>0.003245177</td>\n",
       "      <td>0</td>\n",
       "    </tr>\n",
       "    <tr>\n",
       "      <th>R2_IS</th>\n",
       "      <td>1</td>\n",
       "      <td>0.8156022</td>\n",
       "      <td>0.7976887</td>\n",
       "    </tr>\n",
       "    <tr>\n",
       "      <th>R2_OS</th>\n",
       "      <td>-82.75313</td>\n",
       "      <td>0.6329325</td>\n",
       "      <td>0.6522574</td>\n",
       "    </tr>\n",
       "  </tbody>\n",
       "</table>\n",
       "</div>"
      ],
      "text/plain": [
       "                 OLS        Ridge      Lasso\n",
       "                                            \n",
       "var_1   2.965364e+10   0.02517172          0\n",
       "var_2    1.44002e+10   0.02218572          0\n",
       "var_3  -2.312817e+10  0.008090091          0\n",
       "var_4  -9.130204e+09  0.007526593          0\n",
       "var_5  -1.411581e+10  -0.01231968         -0\n",
       "var_6   1.152954e+10  0.005378767          0\n",
       "var_7   1.308259e+09   0.04359522          0\n",
       "var_8  -5.533222e+09   0.02349467          0\n",
       "var_9  -1.428208e+09   0.04563726  0.2603355\n",
       "var_10 -4.916413e+10  0.007652379          0\n",
       "var_11   1.03908e+10  -0.01838121         -0\n",
       "var_12  4.468792e+09  0.009801968          0\n",
       "var_13  7.633738e+08  -0.03850794         -0\n",
       "var_14  1.796756e+11 -0.002881141         -0\n",
       "var_15 -8.060028e+09 -0.008913816         -0\n",
       "var_16   1.02906e+09   0.02357866          0\n",
       "var_17 -9.605119e+10 -0.001118989         -0\n",
       "var_18  1.551598e+09 -0.009704904         -0\n",
       "var_19 -1.837469e+09  -0.04449715         -0\n",
       "var_20 -6.597977e+08  0.007758192          0\n",
       "var_21 -2.899382e+09   0.03536851          0\n",
       "var_22      -2.01923 -0.005683115         -0\n",
       "var_23     -1.095123    0.0124728          0\n",
       "var_24    -0.4340084 -0.005365267         -0\n",
       "var_25      1.247915  -0.01624446         -0\n",
       "var_26    -0.2516661 -0.005518843         -0\n",
       "var_27      1.718621   0.01745864          0\n",
       "var_28    -0.9251402   -0.0198678         -0\n",
       "var_29     -0.923786  0.003245177          0\n",
       "R2_IS              1    0.8156022  0.7976887\n",
       "R2_OS      -82.75313    0.6329325  0.6522574"
      ]
     },
     "execution_count": 27,
     "metadata": {},
     "output_type": "execute_result"
    }
   ],
   "source": [
    "#let's look at the final coefficients\n",
    "name=[\"var_{0}\".format(i+1) for i in range(len(OLS_coef)-1)] # Generate name of rows/variables\n",
    "\n",
    "result=[name, np.ndarray.tolist(np.asarray(OLS_coef[0:len(OLS_coef)-1])),np.ndarray.tolist(Ridge_coef),\n",
    "        np.ndarray.tolist(Lasso_coef)] # put all the estimations of different models together(it is same for OS and IS)\n",
    "temp=pd.DataFrame(result).T\n",
    "R2_IS=pd.DataFrame(['R2_IS',R_2_IS_OLS, R_2_IS_Ridge,R_2_IS_Lasso]).T # paste the In sample R2 in the end of temp\n",
    "R2_OS=pd.DataFrame(['R2_OS',R_2_OS_OLS, R_2_OS_Ridge,R_2_OS_Lasso]).T # paste the Out of sample R2 in the end of temp\n",
    "\n",
    "temp=temp.append(R2_IS)\n",
    "result=temp.append(R2_OS)\n",
    "result.columns=['','OLS','Ridge','Lasso'] # Change the column name\n",
    "result.set_index('')"
   ]
  },
  {
   "cell_type": "markdown",
   "metadata": {},
   "source": [
    "#### Problem 1. Cross-validation. \n",
    "Certainly on such a small sample performance might largely depend on the split between training, validation and test sets. In order to verify that efficiency of Lasso and Ridge is not just a random consequence of a favorable split perform a cross-validation, reporting average IS/OS performance for each model averaged over 10 different random splits."
   ]
  },
  {
   "cell_type": "markdown",
   "metadata": {},
   "source": [
    "# Example 4. Predicting real-estate prices using location parameters\n",
    "\n",
    "Before we tried to use some parameters of the house (size) to predict its price. However notice that location matters as well. Below we upload a sample (approximately 30% of the total) of more than 2000 individual house sales all around NYC in 2012. Each record together with the parameters of the house also contains important characteristics of the location (zip code) - average income of its residents (accodring to US census), as well as the relative structure of 311 complains happening in the area."
   ]
  },
  {
   "cell_type": "code",
   "execution_count": 28,
   "metadata": {
    "collapsed": true
   },
   "outputs": [],
   "source": [
    "#load the data\n",
    "data4=pd.read_csv(\"data/example4.csv\", low_memory=False)"
   ]
  },
  {
   "cell_type": "code",
   "execution_count": 29,
   "metadata": {
    "collapsed": false
   },
   "outputs": [
    {
     "data": {
      "text/html": [
       "<div>\n",
       "<table border=\"1\" class=\"dataframe\">\n",
       "  <thead>\n",
       "    <tr style=\"text-align: right;\">\n",
       "      <th></th>\n",
       "      <th>Unnamed: 0</th>\n",
       "      <th>Unnamed: 0.1</th>\n",
       "      <th>borough</th>\n",
       "      <th>neighborhood</th>\n",
       "      <th>building_class_category</th>\n",
       "      <th>tax_class_present</th>\n",
       "      <th>block</th>\n",
       "      <th>lot</th>\n",
       "      <th>easement</th>\n",
       "      <th>building_class_present</th>\n",
       "      <th>...</th>\n",
       "      <th>Unsanitary Pigeon Condition</th>\n",
       "      <th>Urinating in Public</th>\n",
       "      <th>Vacant Lot</th>\n",
       "      <th>Vending</th>\n",
       "      <th>Violation of Park Rules</th>\n",
       "      <th>Water Conservation</th>\n",
       "      <th>Water Quality</th>\n",
       "      <th>Water System</th>\n",
       "      <th>Window Guard</th>\n",
       "      <th>X Ray Machine Equipment</th>\n",
       "    </tr>\n",
       "  </thead>\n",
       "  <tbody>\n",
       "    <tr>\n",
       "      <th>0</th>\n",
       "      <td>0</td>\n",
       "      <td>0</td>\n",
       "      <td>4</td>\n",
       "      <td>COLLEGE POINT</td>\n",
       "      <td>01  ONE FAMILY HOMES</td>\n",
       "      <td>1</td>\n",
       "      <td>3937</td>\n",
       "      <td>31</td>\n",
       "      <td>NaN</td>\n",
       "      <td>A9</td>\n",
       "      <td>...</td>\n",
       "      <td>0.000000</td>\n",
       "      <td>0.000000</td>\n",
       "      <td>0.000000</td>\n",
       "      <td>0.001797</td>\n",
       "      <td>0.001540</td>\n",
       "      <td>0.003850</td>\n",
       "      <td>0.002053</td>\n",
       "      <td>0.049281</td>\n",
       "      <td>0</td>\n",
       "      <td>0</td>\n",
       "    </tr>\n",
       "    <tr>\n",
       "      <th>1</th>\n",
       "      <td>1</td>\n",
       "      <td>1</td>\n",
       "      <td>1</td>\n",
       "      <td>MIDTOWN EAST</td>\n",
       "      <td>01  ONE FAMILY HOMES</td>\n",
       "      <td>1</td>\n",
       "      <td>1322</td>\n",
       "      <td>18</td>\n",
       "      <td>NaN</td>\n",
       "      <td>A4</td>\n",
       "      <td>...</td>\n",
       "      <td>0.000227</td>\n",
       "      <td>0.000227</td>\n",
       "      <td>0.000000</td>\n",
       "      <td>0.010675</td>\n",
       "      <td>0.000454</td>\n",
       "      <td>0.001817</td>\n",
       "      <td>0.000227</td>\n",
       "      <td>0.050874</td>\n",
       "      <td>0</td>\n",
       "      <td>0</td>\n",
       "    </tr>\n",
       "    <tr>\n",
       "      <th>2</th>\n",
       "      <td>2</td>\n",
       "      <td>2</td>\n",
       "      <td>4</td>\n",
       "      <td>SPRINGFIELD GARDENS</td>\n",
       "      <td>01  ONE FAMILY HOMES</td>\n",
       "      <td>1</td>\n",
       "      <td>13029</td>\n",
       "      <td>24</td>\n",
       "      <td>NaN</td>\n",
       "      <td>A1</td>\n",
       "      <td>...</td>\n",
       "      <td>0.000000</td>\n",
       "      <td>0.000000</td>\n",
       "      <td>0.004484</td>\n",
       "      <td>0.000000</td>\n",
       "      <td>0.000179</td>\n",
       "      <td>0.007354</td>\n",
       "      <td>0.001256</td>\n",
       "      <td>0.069058</td>\n",
       "      <td>0</td>\n",
       "      <td>0</td>\n",
       "    </tr>\n",
       "    <tr>\n",
       "      <th>3</th>\n",
       "      <td>3</td>\n",
       "      <td>3</td>\n",
       "      <td>3</td>\n",
       "      <td>CROWN HEIGHTS</td>\n",
       "      <td>01  ONE FAMILY HOMES</td>\n",
       "      <td>1</td>\n",
       "      <td>1222</td>\n",
       "      <td>53</td>\n",
       "      <td>NaN</td>\n",
       "      <td>A4</td>\n",
       "      <td>...</td>\n",
       "      <td>0.000170</td>\n",
       "      <td>0.000170</td>\n",
       "      <td>0.000908</td>\n",
       "      <td>0.000568</td>\n",
       "      <td>0.000170</td>\n",
       "      <td>0.000454</td>\n",
       "      <td>0.000341</td>\n",
       "      <td>0.012433</td>\n",
       "      <td>0</td>\n",
       "      <td>0</td>\n",
       "    </tr>\n",
       "    <tr>\n",
       "      <th>4</th>\n",
       "      <td>4</td>\n",
       "      <td>4</td>\n",
       "      <td>3</td>\n",
       "      <td>CYPRESS HILLS</td>\n",
       "      <td>01  ONE FAMILY HOMES</td>\n",
       "      <td>1</td>\n",
       "      <td>3919</td>\n",
       "      <td>4</td>\n",
       "      <td>NaN</td>\n",
       "      <td>A5</td>\n",
       "      <td>...</td>\n",
       "      <td>0.000491</td>\n",
       "      <td>0.000197</td>\n",
       "      <td>0.005897</td>\n",
       "      <td>0.000590</td>\n",
       "      <td>0.000393</td>\n",
       "      <td>0.001622</td>\n",
       "      <td>0.000442</td>\n",
       "      <td>0.037445</td>\n",
       "      <td>0</td>\n",
       "      <td>0</td>\n",
       "    </tr>\n",
       "  </tbody>\n",
       "</table>\n",
       "<p>5 rows × 184 columns</p>\n",
       "</div>"
      ],
      "text/plain": [
       "   Unnamed: 0  Unnamed: 0.1  borough         neighborhood  \\\n",
       "0           0             0        4        COLLEGE POINT   \n",
       "1           1             1        1         MIDTOWN EAST   \n",
       "2           2             2        4  SPRINGFIELD GARDENS   \n",
       "3           3             3        3        CROWN HEIGHTS   \n",
       "4           4             4        3        CYPRESS HILLS   \n",
       "\n",
       "  building_class_category  tax_class_present  block  lot  easement  \\\n",
       "0    01  ONE FAMILY HOMES                  1   3937   31       NaN   \n",
       "1    01  ONE FAMILY HOMES                  1   1322   18       NaN   \n",
       "2    01  ONE FAMILY HOMES                  1  13029   24       NaN   \n",
       "3    01  ONE FAMILY HOMES                  1   1222   53       NaN   \n",
       "4    01  ONE FAMILY HOMES                  1   3919    4       NaN   \n",
       "\n",
       "  building_class_present           ...            Unsanitary Pigeon Condition  \\\n",
       "0                     A9           ...                               0.000000   \n",
       "1                     A4           ...                               0.000227   \n",
       "2                     A1           ...                               0.000000   \n",
       "3                     A4           ...                               0.000170   \n",
       "4                     A5           ...                               0.000491   \n",
       "\n",
       "   Urinating in Public  Vacant Lot   Vending  Violation of Park Rules  \\\n",
       "0             0.000000    0.000000  0.001797                 0.001540   \n",
       "1             0.000227    0.000000  0.010675                 0.000454   \n",
       "2             0.000000    0.004484  0.000000                 0.000179   \n",
       "3             0.000170    0.000908  0.000568                 0.000170   \n",
       "4             0.000197    0.005897  0.000590                 0.000393   \n",
       "\n",
       "   Water Conservation  Water Quality  Water System Window Guard  \\\n",
       "0            0.003850       0.002053      0.049281            0   \n",
       "1            0.001817       0.000227      0.050874            0   \n",
       "2            0.007354       0.001256      0.069058            0   \n",
       "3            0.000454       0.000341      0.012433            0   \n",
       "4            0.001622       0.000442      0.037445            0   \n",
       "\n",
       "   X Ray Machine Equipment  \n",
       "0                        0  \n",
       "1                        0  \n",
       "2                        0  \n",
       "3                        0  \n",
       "4                        0  \n",
       "\n",
       "[5 rows x 184 columns]"
      ]
     },
     "execution_count": 29,
     "metadata": {},
     "output_type": "execute_result"
    }
   ],
   "source": [
    "data4.head()"
   ]
  },
  {
   "cell_type": "code",
   "execution_count": 30,
   "metadata": {
    "collapsed": false
   },
   "outputs": [
    {
     "name": "stdout",
     "output_type": "stream",
     "text": [
      " The R-Squared of this model is:\n",
      "0.329693239244\n"
     ]
    },
    {
     "data": {
      "text/html": [
       "<div>\n",
       "<table border=\"1\" class=\"dataframe\">\n",
       "  <thead>\n",
       "    <tr style=\"text-align: right;\">\n",
       "      <th></th>\n",
       "      <th>beta</th>\n",
       "      <th>p-value</th>\n",
       "      <th>std err</th>\n",
       "      <th>t-stat</th>\n",
       "    </tr>\n",
       "  </thead>\n",
       "  <tbody>\n",
       "    <tr>\n",
       "      <th>x</th>\n",
       "      <td>900.468193</td>\n",
       "      <td>2.130323e-208</td>\n",
       "      <td>26.357322</td>\n",
       "      <td>34.163872</td>\n",
       "    </tr>\n",
       "    <tr>\n",
       "      <th>intercept</th>\n",
       "      <td>-1011268.432499</td>\n",
       "      <td>1.885970e-74</td>\n",
       "      <td>53457.538558</td>\n",
       "      <td>-18.917228</td>\n",
       "    </tr>\n",
       "  </tbody>\n",
       "</table>\n",
       "</div>"
      ],
      "text/plain": [
       "                     beta        p-value       std err     t-stat\n",
       "x              900.468193  2.130323e-208     26.357322  34.163872\n",
       "intercept -1011268.432499   1.885970e-74  53457.538558 -18.917228"
      ]
     },
     "execution_count": 30,
     "metadata": {},
     "output_type": "execute_result"
    }
   ],
   "source": [
    "# Run OLS\n",
    "y=data4['sale_price']\n",
    "X=data4['gross_sq_feet']\n",
    "result=ols(y=y,x=X)\n",
    "print(\" The R-Squared of this model is:\")\n",
    "print(result.r2)\n",
    "result.summary_as_matrix.T"
   ]
  },
  {
   "cell_type": "markdown",
   "metadata": {},
   "source": [
    "Even with the intercept, R2 is not too high - perhaps because of the spatial heterogeniety of the pricing. Let's see if this could be improved by considering other properties of the location but first move to the log scale as the properties of the location are likely to have multiplicative rather than additive impact on the price."
   ]
  },
  {
   "cell_type": "code",
   "execution_count": 31,
   "metadata": {
    "collapsed": false
   },
   "outputs": [
    {
     "name": "stdout",
     "output_type": "stream",
     "text": [
      " The R-Squared of this model is:\n",
      "0.295837837416\n"
     ]
    },
    {
     "data": {
      "text/html": [
       "<div>\n",
       "<table border=\"1\" class=\"dataframe\">\n",
       "  <thead>\n",
       "    <tr style=\"text-align: right;\">\n",
       "      <th></th>\n",
       "      <th>beta</th>\n",
       "      <th>p-value</th>\n",
       "      <th>std err</th>\n",
       "      <th>t-stat</th>\n",
       "    </tr>\n",
       "  </thead>\n",
       "  <tbody>\n",
       "    <tr>\n",
       "      <th>x</th>\n",
       "      <td>0.992956</td>\n",
       "      <td>5.519823e-183</td>\n",
       "      <td>0.031448</td>\n",
       "      <td>31.574711</td>\n",
       "    </tr>\n",
       "    <tr>\n",
       "      <th>intercept</th>\n",
       "      <td>5.622858</td>\n",
       "      <td>1.502389e-114</td>\n",
       "      <td>0.233807</td>\n",
       "      <td>24.049125</td>\n",
       "    </tr>\n",
       "  </tbody>\n",
       "</table>\n",
       "</div>"
      ],
      "text/plain": [
       "               beta        p-value   std err     t-stat\n",
       "x          0.992956  5.519823e-183  0.031448  31.574711\n",
       "intercept  5.622858  1.502389e-114  0.233807  24.049125"
      ]
     },
     "execution_count": 31,
     "metadata": {},
     "output_type": "execute_result"
    }
   ],
   "source": [
    "#Take logs of our variabes and repeat the regression\n",
    "data4['sale_price_log']=np.log(data4['sale_price']).round(decimals=3)\n",
    "data4['gross_sq_feet_log']=np.log(data4['gross_sq_feet']).round(decimals=3)\n",
    "y=data4['sale_price_log']\n",
    "X=data4['gross_sq_feet_log']\n",
    "result=ols(y=y,x=X)\n",
    "print(\" The R-Squared of this model is:\")\n",
    "print(result.r2)\n",
    "result.summary_as_matrix.T"
   ]
  },
  {
   "cell_type": "markdown",
   "metadata": {},
   "source": [
    "This regression is actually a power-law non-linear model already. No surprize that the slope coefficient for the log of house size is close to 1 with a very narrow confidence interval - one would expect to have the price of the house to be in the approximately linear proportion to its size "
   ]
  },
  {
   "cell_type": "markdown",
   "metadata": {},
   "source": [
    "Now try adding a first characteristic of the location - average income (also on the log scale)"
   ]
  },
  {
   "cell_type": "code",
   "execution_count": 32,
   "metadata": {
    "collapsed": false
   },
   "outputs": [
    {
     "name": "stdout",
     "output_type": "stream",
     "text": [
      " The R-Squared of this model is:\n",
      "0.344496603562\n"
     ]
    },
    {
     "data": {
      "text/html": [
       "<div>\n",
       "<table border=\"1\" class=\"dataframe\">\n",
       "  <thead>\n",
       "    <tr style=\"text-align: right;\">\n",
       "      <th></th>\n",
       "      <th>beta</th>\n",
       "      <th>p-value</th>\n",
       "      <th>std err</th>\n",
       "      <th>t-stat</th>\n",
       "    </tr>\n",
       "  </thead>\n",
       "  <tbody>\n",
       "    <tr>\n",
       "      <th>mean_log</th>\n",
       "      <td>0.505073</td>\n",
       "      <td>8.132877e-39</td>\n",
       "      <td>0.038063</td>\n",
       "      <td>13.269373</td>\n",
       "    </tr>\n",
       "    <tr>\n",
       "      <th>gross_sq_feet_log</th>\n",
       "      <td>0.928775</td>\n",
       "      <td>5.063411e-170</td>\n",
       "      <td>0.030731</td>\n",
       "      <td>30.222480</td>\n",
       "    </tr>\n",
       "    <tr>\n",
       "      <th>intercept</th>\n",
       "      <td>0.441324</td>\n",
       "      <td>3.278924e-01</td>\n",
       "      <td>0.450989</td>\n",
       "      <td>0.978570</td>\n",
       "    </tr>\n",
       "  </tbody>\n",
       "</table>\n",
       "</div>"
      ],
      "text/plain": [
       "                       beta        p-value   std err     t-stat\n",
       "mean_log           0.505073   8.132877e-39  0.038063  13.269373\n",
       "gross_sq_feet_log  0.928775  5.063411e-170  0.030731  30.222480\n",
       "intercept          0.441324   3.278924e-01  0.450989   0.978570"
      ]
     },
     "execution_count": 32,
     "metadata": {},
     "output_type": "execute_result"
    }
   ],
   "source": [
    "#Take logs of our variabes and repeat the regression\n",
    "data4['mean_log']=np.log(data4['mean']).round(decimals=3)\n",
    "y=data4['sale_price_log']\n",
    "X=data4[['mean_log','gross_sq_feet_log']]\n",
    "result=ols(y=y,x=X)\n",
    "print(\" The R-Squared of this model is:\")\n",
    "print(result.r2)\n",
    "result.summary_as_matrix.T"
   ]
  },
  {
   "cell_type": "markdown",
   "metadata": {},
   "source": [
    "The model fit is slightly improved and it seems that the price is proportional to the square root of the location wealth. Although wealth is important it seems it does not tell the whole story as 30% R2 is still not too high. Let's see if the patterns of people complains tell more relevant infromation about the context of the location."
   ]
  },
  {
   "cell_type": "code",
   "execution_count": 33,
   "metadata": {
    "collapsed": false
   },
   "outputs": [
    {
     "data": {
      "image/png": "[encoded data removed]",
      "text/plain": [
       "<matplotlib.figure.Figure at 0x109f84ad0>"
      ]
     },
     "metadata": {},
     "output_type": "display_data"
    }
   ],
   "source": [
    "# Track the model performance while we add more 311-related variables (R2 vs the number of variables t)\n",
    "list_comp=data4.columns[data4.columns.get_loc(\"Adopt A Basket\"):data4.columns.get_loc(\"X Ray Machine Equipment\")+1]\n",
    "list_comp=list(list_comp.values.tolist())\n",
    "\n",
    "#In the sample test\n",
    "Number_variables_L=[]\n",
    "OLS_R_2_L=[]\n",
    "depend_variable_L=['mean_log']\n",
    "t=0\n",
    "# Do it for more dependent variables from 311\n",
    "for j in (['gross_sq_feet_log']+[list_comp[i] for i in range(len(list_comp))]):\n",
    "    \n",
    "    t=t+1\n",
    "    Number_variables_L.append(t)\n",
    "    depend_variable_L.append(j)\n",
    "    X=data4[depend_variable_L]\n",
    "    y=data4['sale_price_log']\n",
    "    result=ols(y=y,x=X)\n",
    "    OLS_R_2_L.append(result.r2)\n",
    "    \n",
    "#####################################################################################\n",
    "\n",
    "pylab.title('In sample R-squared')\n",
    "pylab.plot(Number_variables_L,OLS_R_2_L,'r',label='R_squared(in the sample)')\n",
    "pylab.legend(loc='upper left')\n",
    "pylab.xlabel('Number of independent variables')\n",
    "pylab.ylabel('R-squared')\n",
    "pylab.show()\n",
    "\n"
   ]
  },
  {
   "cell_type": "markdown",
   "metadata": {},
   "source": [
    "So looks like the new variables did a perfect job rising R2 to 65%! But is the model generalizeable or do we simply overfit? In order to test that let's split the data into the separate training and test set and re-run the model."
   ]
  },
  {
   "cell_type": "code",
   "execution_count": 34,
   "metadata": {
    "collapsed": false
   },
   "outputs": [
    {
     "data": {
      "image/png": "[encoded data removed]",
      "text/plain": [
       "<matplotlib.figure.Figure at 0x10afe4a50>"
      ]
     },
     "metadata": {},
     "output_type": "display_data"
    }
   ],
   "source": [
    "var=len(list_comp)\n",
    "\n",
    "# p= training sample size/ total sample size\n",
    "\n",
    "p=0.7 # we use 70% data for training and 30% data for prediction.\n",
    "\n",
    "#####################################################################################################################################\n",
    "# Split data by p\n",
    "\n",
    "X=data4\n",
    "\n",
    "#train_index=random.sample(list(range(len(X))),int(len(X)*p))\n",
    "\n",
    "#####################################################################################################################################\n",
    "#For the example just fix one of the splits\n",
    "a=[616, 2364, 2064, 1098, 726, 1866, 1649, 18, 1927, 69, 1264, 1224, 1001, 2034, 1214, 444, 1665, 53, 85, 617, 744, 1707, 1399, 285, 1887, 96, 1861, 1121, 2247, 857, 287, 1869, 1819, 2198, 2161, 507, 309, 88, 784, 1382, 1340, 1668, 1291, 48, 299, 2307, 2049, 646, 719, 1524, 1115, 581, 1502, 2116, 445, 100, 2234, 706, 955, 434, 1614, 2368, 505, 298, 2355, 2133, 185, 341, 737, 1599, 624, 2264, 1182, 519, 1669, 632, 2313, 1755, 461, 1536, 1728, 729, 111, 728, 442, 1075, 884, 1085, 1225, 2294, 297, 1375, 66, 2303, 83, 433, 890, 2259, 1706, 864, 2358, 1908, 970, 1421, 337, 2360, 267, 295, 2104, 1829, 1298, 1547, 191, 991, 1565, 585, 1074, 1270, 995, 1329, 1423, 1667, 1681, 157, 252, 1207, 1549, 40, 983, 177, 975, 972, 684, 1337, 1231, 1124, 1655, 1682, 273, 1359, 1641, 1371, 1806, 1513, 220, 1436, 1874, 555, 2192, 2216, 763, 1317, 87, 1218, 1188, 1751, 324, 1489, 1301, 79, 985, 2086, 1281, 1888, 179, 1997, 1174, 1515, 1252, 1240, 283, 380, 2105, 1942, 1753, 428, 381, 667, 190, 1817, 690, 1361, 1936, 2332, 1746, 939, 2310, 1875, 543, 740, 548, 1160, 1413, 2299, 1602, 2370, 2012, 392, 794, 1999, 495, 1613, 2180, 478, 732, 1760, 1787, 259, 936, 820, 1770, 497, 2329, 2280, 964, 1537, 1801, 1247, 1656, 685, 1930, 2031, 1661, 1675, 1553, 151, 2203, 2125, 2162, 1130, 1860, 1500, 2124, 2320, 1122, 2160, 1117, 800, 1447, 1945, 121, 1870, 2330, 1487, 188, 859, 1333, 1420, 1315, 1815, 1216, 1802, 272, 1961, 1415, 547, 2150, 1617, 2221, 2070, 1400, 789, 1653, 1494, 889, 1876, 1467, 1254, 1147, 1848, 775, 1127, 1699, 2213, 2246, 1858, 1398, 477, 1544, 42, 1282, 496, 1872, 168, 2107, 300, 1307, 1523, 1027, 946, 1955, 1468, 541, 1652, 382, 2036, 662, 827, 1984, 780, 161, 1776, 638, 611, 1525, 793, 2139, 1140, 1320, 1455, 1953, 2151, 86, 1634, 1671, 743, 464, 856, 1163, 399, 395, 413, 2015, 313, 90, 1062, 2148, 388, 1280, 1685, 2334, 2369, 1491, 1080, 348, 928, 1412, 500, 1079, 181, 117, 1103, 761, 2352, 2009, 1227, 1131, 2188, 1272, 449, 672, 1049, 516, 2095, 2229, 1604, 1434, 102, 826, 212, 430, 1128, 318, 2082, 1007, 2025, 1825, 296, 676, 2220, 1938, 94, 373, 1139, 1198, 1883, 1910, 1636, 935, 2163, 465, 1003, 2367, 405, 896, 205, 2242, 1081, 1792, 2142, 1847, 1292, 415, 1120, 1892, 661, 1099, 1909, 1054, 1623, 1208, 2018, 2020, 1167, 1917, 391, 1985, 331, 749, 379, 796, 1732, 879, 881, 1522, 1265, 422, 1406, 319, 81, 1974, 223, 226, 1968, 1711, 2182, 467, 1228, 1601, 974, 1810, 1429, 1657, 71, 1768, 734, 1284, 1411, 339, 1342, 573, 2208, 1804, 2113, 814, 261, 1066, 851, 1737, 2173, 920, 276, 659, 862, 84, 2248, 1519, 839, 1, 1716, 776, 1465, 1477, 1508, 664, 1626, 506, 556, 1492, 2021, 1237, 125, 1625, 193, 215, 182, 60, 2201, 2051, 630, 2103, 786, 2271, 765, 944, 375, 911, 960, 1046, 2235, 1919, 340, 1246, 932, 2014, 229, 2100, 311, 1067, 2187, 986, 425, 610, 1637, 365, 251, 1748, 472, 992, 256, 822, 502, 824, 67, 1507, 1590, 1725, 1034, 1995, 651, 2273, 643, 1493, 1470, 370, 637, 779, 1924, 2285, 2065, 933, 2096, 1934, 2288, 2033, 2184, 948, 70, 95, 58, 2304, 1624, 2236, 1426, 266, 2109, 612, 1136, 1606, 709, 590, 823, 2146, 1578, 1956, 1616, 1569, 25, 756, 751, 1798, 818, 1586, 284, 351, 1784, 806, 1698, 2090, 1232, 1379, 288, 1192, 2054, 1381, 1922, 2069, 93, 1680, 376, 1369, 2152, 1233, 1155, 486, 1212, 362, 1509, 1539, 2275, 1505, 1777, 44, 1990, 1980, 343, 1797, 1731, 679, 322, 1773, 1324, 792, 666, 2177, 2145, 1168, 148, 80, 627, 498, 1552, 280, 1437, 644, 602, 1952, 521, 140, 2004, 183, 320, 1253, 357, 1794, 943, 1622, 1643, 1905, 1071, 2067, 2119, 1821, 746, 1295, 886, 1842, 2174, 1450, 2200, 2005, 957, 162, 1015, 1558, 1205, 2011, 353, 305, 769, 1738, 1309, 623, 2140, 1764, 981, 126, 1365, 1262, 1289, 1763, 927, 201, 1618, 635, 2042, 1377, 1989, 2361, 130, 1805, 535, 598, 1360, 1057, 1608, 990, 907, 2144, 209, 591, 312, 78, 327, 1551, 1169, 1664, 1563, 55, 1918, 14, 565, 1030, 673, 563, 1611, 426, 1631, 1220, 575, 1417, 2157, 1101, 1407, 2309, 1016, 969, 1937, 2322, 1261, 237, 338, 1988, 1780, 2336, 1323, 1314, 403, 870, 314, 526, 2063, 1458, 1195, 367, 1851, 361, 2227, 371, 1568, 1572, 1137, 1654, 439, 1564, 345, 588, 2232, 2183, 514, 938, 1061, 141, 160, 1704, 2204, 1931, 1644, 1761, 511, 423, 115, 211, 924, 1389, 1683, 1257, 1238, 291, 1589, 1148, 1735, 2345, 1827, 993, 783, 198, 1852, 1215, 1069, 1841, 1499, 1296, 1901, 7, 173, 925, 1868, 1402, 2347, 1091, 1351, 239, 186, 2351, 544, 2176, 1718, 2193, 1395, 315, 596, 1367, 1528, 1339, 594, 1650, 605, 1459, 1793, 1812, 1935, 1891, 2306, 1674, 1325, 710, 2072, 1322, 2308, 1702, 289, 968, 1312, 1774, 2269, 725, 1445, 2073, 1579, 1534, 1963, 1973, 171, 1345, 2270, 97, 1592, 199, 1236, 230, 1496, 680, 2262, 1111, 967, 2057, 1279, 2277, 508, 1454, 904, 1779, 34, 694, 1574, 1348, 2219, 1442, 192, 2048, 858, 2350, 265, 59, 852, 1837, 2108, 1757, 1660, 1554, 2071, 1355, 642, 2038, 1330, 705, 1697, 1778, 1879, 649, 1639, 2314, 817, 771, 768, 1178, 203, 2022, 124, 1818, 554, 166, 669, 1230, 1724, 953, 2316, 1977, 1789, 965, 258, 801, 754, 2030, 47, 1191, 404, 2365, 875, 1520, 2156, 530, 1488, 882, 387, 532, 1567, 136, 1078, 1439, 1204, 1146, 586, 33, 562, 354, 522, 727, 1734, 762, 1913, 1308, 24, 892, 488, 269, 56, 1878, 1479, 175, 1024, 1692, 626, 1824, 1332, 1475, 1328, 2083, 1729, 700, 815, 517, 180, 492, 1144, 213, 696, 922, 941, 17, 523, 621, 2121, 663, 2357, 2293, 417, 23, 243, 1021, 2267, 217, 154, 2356, 2325, 26, 1302, 1185, 2023, 326, 1032, 424, 2274, 1052, 1820, 2279, 2359, 2199, 2158, 2348, 2196, 1409, 2055, 369, 1304, 1864, 2029, 494, 1979, 268, 1826, 12, 2167, 2237, 1347, 235, 1431, 574, 1865, 567, 809, 290, 214, 457, 1433, 1064, 254, 1453, 402, 2212, 1752, 463, 741, 43, 738, 1176, 2027, 2249, 1605, 1809, 1326, 966, 108, 187, 2078, 1338, 717, 144, 1882, 1939, 120, 1435, 62, 2250, 1106, 914, 436, 38, 2075, 2300, 360, 2265, 600, 843, 831, 2190, 866, 1278, 1019, 1849, 2040, 480, 1456, 1972, 400, 2058, 670, 1408, 19, 2132, 37, 1267, 2231, 1388, 641, 1229, 958, 227, 959, 482, 1966, 926, 2, 2339, 210, 613, 1762, 349, 1473, 515, 2205, 165, 552, 1384, 1533, 1033, 1571, 570, 2289, 529, 189, 1719, 2019, 675, 1383, 1495, 233, 1463, 21, 1142, 2331, 1401, 328, 1331, 419, 308, 634, 1744, 325, 853, 533, 248, 1987, 1679, 945, 279, 639, 1800, 1890, 524, 545, 1440, 1343, 1275, 2282, 1076, 1094, 2298, 1978, 1143, 869, 698, 307, 1154, 1486, 1020, 1584, 905, 2143, 897, 1678, 2362, 2010, 1045, 386, 1814, 833, 1766, 432, 1416, 1898, 1100, 1630, 1072, 323, 1153, 891, 609, 1585, 665, 355, 1722, 2175, 147, 2214, 877, 2255, 781, 1422, 390, 1438, 1928, 686, 1095, 1242, 1480, 1853, 350, 668, 454, 546, 1562, 1083, 219, 636, 1511, 1673, 1180, 169, 722, 1427, 127, 329, 489, 810, 207, 206, 2059, 982, 802, 1709, 1035, 1060, 394, 1217, 2172, 470, 2302, 902, 99, 640, 2093, 1336, 358, 366, 1352, 2189, 1600, 2253, 156, 693, 597, 1134, 2263, 980, 1896, 1529, 2043, 2159, 255, 1929, 1104, 1832, 1464, 1873, 2002, 1047, 1368, 607, 1397, 2186, 528, 200, 476, 1023, 401, 1686, 202, 1867, 1967, 484, 1138, 1460, 854, 1028, 619, 961, 1958, 77, 50, 2290, 2281, 1715, 344, 901, 629, 1976, 1526, 1521, 2165, 347, 332, 865, 1689, 1951, 1376, 2080, 1044, 1886, 2007, 797, 1739, 671, 1363, 1555, 1183, 409, 799, 1628, 531, 1089, 942, 1449, 1335, 795, 622, 2323, 164, 1897, 238, 984, 1831, 861, 2123, 204, 509, 1184, 167, 2138, 1073, 2268, 82, 872, 1025, 234, 1531, 829, 1485, 2130, 2226, 1700, 2062, 208, 1065, 1740, 1132, 954, 112, 702, 1165, 1803, 1807, 1223, 952, 2118, 592, 579, 1741, 1425, 2111, 253, 1211, 1392, 918, 2238, 2366, 1201, 910, 1844, 1171, 1850, 2245, 2258, 195, 504, 1039, 1251, 150, 1444, 1705, 359, 2041, 1471, 739, 647, 119, 224, 1540, 2287, 1287, 146, 1941, 6, 840, 2099, 1288, 1998, 2087, 2251, 2254, 2050, 2006, 540, 1014, 1114, 977, 1932, 733, 2321, 336, 1687, 1018, 1629, 1159, 466, 1164, 1206, 1259, 1394, 1290, 1474, 1266, 1912, 819, 2074, 1151, 745, 1226, 1187, 2106, 1855, 1173, 876, 2363, 91, 1469, 1037, 2147, 1621, 2278, 2374, 1498, 1077, 29, 973, 1109, 1696, 1084, 841, 2286, 363, 222, 1380, 231, 1996, 2218, 109, 1102, 1717, 1349, 1248, 1642, 595, 374, 512, 2194, 1583, 1481, 1446, 1991, 701, 455, 1405, 1478, 1662, 262, 1720, 583, 1900, 1203, 1209, 1786, 499, 1672, 513, 569, 2195, 396, 1758, 1516, 1055, 2000, 1570, 158, 2343, 1344, 293, 2305, 1327, 2155, 913, 572, 899, 1087, 2272, 393, 1726, 1712, 1276, 420, 1648, 812, 73, 2211, 956, 1196, 1441, 1403, 2297, 759, 116, 52, 887, 196, 1145, 1839, 1620, 1981, 2354, 2223, 1581, 1933, 2081, 1527, 1670, 1050, 1056, 2068, 36, 1108, 525, 246, 2349, 473, 1414, 1983, 1294, 1663, 2338, 618, 277, 1009, 1743, 873, 919, 1538, 1863, 1947, 798, 1273, 228, 951, 1386, 587, 2197, 2335, 128, 1362, 1358, 2149, 2319, 963, 364, 653, 1031, 1017, 1150, 681, 2283, 1105, 1258, 1306, 1506, 471, 194, 1658, 561, 518, 1799, 356, 1036, 2052, 601, 688, 1862, 389, 1149, 838, 264, 1916, 1022, 735, 1213, 435, 772, 2102, 950, 1472, 787, 714, 4, 699, 406, 1745, 1006, 2207, 832, 895, 1448, 846, 1830, 1366, 274, 2333, 1286, 1607, 1255, 708, 1378, 1181, 1902, 1113, 218, 174, 1693, 68, 1357, 1038, 804, 1311, 628, 138, 1594, 2225, 485, 139, 689, 1795, 1222, 847, 848, 912, 1186, 1451, 57, 1894, 1256, 1684, 2341, 304, 1749, 1576, 542, 469, 2115, 1597, 645, 1396, 1911, 2101, 1158, 410, 987, 453, 510, 606, 1845, 2091, 1647, 346, 2233]\n",
    "train_index=a\n",
    "test_index=[x for x in list(range(len(X))) if x not in train_index]\n",
    "####################################################################################################################################\n",
    "\n",
    "#Data for training\n",
    "data_train=data4.iloc[train_index]\n",
    "#Data for predicting\n",
    "data_test=data4.iloc[test_index]\n",
    "\n",
    "#In the sample test\n",
    "Number_variables=[]\n",
    "OLS_R_2_IS=[] # make a list to store our in the sample R_squared\n",
    "OLS_R_2_OS=[] #make a list to store our out the sample R_squared\n",
    "depend_variable=['mean_log','gross_sq_feet_log']\n",
    "t=0\n",
    "\n",
    "# Do a loop to run OLS after adding additional independent variables from 311 subsequently\n",
    "for j in ([list_comp[i] for i in range(var)]):\n",
    "\n",
    "    t+=1\n",
    "    Number_variables.append(t)\n",
    "\n",
    "    depend_variable.append(j)\n",
    "    X=data_train[depend_variable]\n",
    "    y=data_train['sale_price_log']\n",
    "    result=ols(y=y,x=X)\n",
    "    OLS_R_2_IS.append(result.r2)\n",
    "\n",
    "############################################################################\n",
    "#Out of the sample test\n",
    "\n",
    "    temp=data_test[depend_variable]\n",
    "\n",
    "    a=np.array(temp)\n",
    "    b=np.array(result.beta)\n",
    "    c=np.sum(a*b[0:-1],axis=1)+b[-1]\n",
    "\n",
    "    error=data_test['sale_price_log']-c\n",
    "    R_2=1-error.var()/data_test['sale_price_log'].var()\n",
    "    if R_2>0:\n",
    "        OLS_R_2_OS.append(R_2)\n",
    "    else:\n",
    "        OLS_R_2_OS.append(0)\n",
    "\n",
    "#plot\n",
    "pylab.title('In sample R-squared vs out of sample R-squared')\n",
    "pylab.plot(Number_variables,OLS_R_2_IS,'r',label='R_squared(in the sample)')\n",
    "pylab.plot(Number_variables,OLS_R_2_OS,'b',label='R_squared(outof the sample)')\n",
    "pylab.legend(loc='lower left')\n",
    "pylab.xlabel('Number of independent variables')\n",
    "pylab.ylabel('R-squared')\n",
    "pylab.draw()\n",
    "\n"
   ]
  },
  {
   "cell_type": "markdown",
   "metadata": {},
   "source": [
    "So clearly, the new 311-related regressors add considerable value, however OLS runs into overfitting and start to crash after $t=90$ approximately. Let's see if Ridge and Lasso can fix it"
   ]
  },
  {
   "cell_type": "code",
   "execution_count": 35,
   "metadata": {
    "collapsed": false
   },
   "outputs": [
    {
     "name": "stdout",
     "output_type": "stream",
     "text": [
      "The R-squared we found for IS Ridge is: 0.519823192216\n",
      "The R-squared we found for OS Ridge is: 0.488450370258\n",
      "The R-squared we found for IS Lasso is: -2.22044604925e-16\n",
      "The R-squared we found for OS Lasso is: 0.0\n"
     ]
    }
   ],
   "source": [
    "Ridge=linear_model.Ridge(fit_intercept=True,alpha=1) #try Ridge and Lasso with an arbitrary regularization parameter lambda\n",
    "Lasso=linear_model.Lasso(fit_intercept=True,alpha=1)\n",
    "\n",
    "X_train=np.matrix(data_train[depend_variable])\n",
    "y_train=np.array(data_train['sale_price_log'])\n",
    "X_test=np.matrix(data_test[depend_variable])\n",
    "y_test=np.array(data_test['sale_price_log'])\n",
    "Ridge.fit(X_train,y_train)\n",
    "Lasso.fit(X_train,y_train)\n",
    "# In the sample:\n",
    "p_IS=Ridge.predict(X_train)\n",
    "err_IS=p_IS-y_train\n",
    "R_2_IS_Ridge=1-np.var(err_IS)/np.var(y_train)\n",
    "\n",
    "p_IS=Lasso.predict(X_train)\n",
    "err_IS=p_IS-y_train\n",
    "R_2_IS_Lasso=1-np.var(err_IS)/np.var(y_train)\n",
    "\n",
    "Ridge_coef=Ridge.coef_\n",
    "Lasso_coef=Lasso.coef_\n",
    "############################################################################    \n",
    "    \n",
    "#Out of sample\n",
    "p_OS=Ridge.predict(X_test)\n",
    "err_OS=p_OS-y_test\n",
    "R_2_OS_Ridge=1-np.var(err_OS)/np.var(y_test)\n",
    "\n",
    "p_OS=Lasso.predict(X_test)\n",
    "err_OS=p_OS-y_test\n",
    "R_2_OS_Lasso=1-np.var(err_OS)/np.var(y_test)\n",
    "print(\"The R-squared we found for IS Ridge is: {0}\".format(R_2_IS_Ridge))\n",
    "print(\"The R-squared we found for OS Ridge is: {0}\".format(R_2_OS_Ridge))\n",
    "print(\"The R-squared we found for IS Lasso is: {0}\".format(R_2_IS_Lasso))\n",
    "print(\"The R-squared we found for OS Lasso is: {0}\".format(R_2_OS_Lasso))"
   ]
  },
  {
   "cell_type": "markdown",
   "metadata": {},
   "source": [
    "So Ridge works ok even with an arbitrary $\\lambda=1$, while for Lasso tuning of the parameter is certainly needed. Let use the previous function to make it for both regularization models"
   ]
  },
  {
   "cell_type": "code",
   "execution_count": 36,
   "metadata": {
    "collapsed": false
   },
   "outputs": [
    {
     "data": {
      "image/png": "[encoded data removed]",
      "text/plain": [
       "<matplotlib.figure.Figure at 0x10ab8a790>"
      ]
     },
     "metadata": {},
     "output_type": "display_data"
    },
    {
     "name": "stdout",
     "output_type": "stream",
     "text": [
      "Optimal lambda for Ridge=0.00423383759375\n"
     ]
    }
   ],
   "source": [
    "#select best lambda for Ridge\n",
    "lambdas = np.linspace(-15,1,100)\n",
    "lambdas=[math.exp(i) for i in lambdas]\n",
    "lambda_r_optimal=Regularization_fit_lambda(1,X_train,y_train,lambdas,p=0.4,Graph=True,logl=True)\n",
    "print('Optimal lambda for Ridge={0}'.format(lambda_r_optimal))"
   ]
  },
  {
   "cell_type": "code",
   "execution_count": 37,
   "metadata": {
    "collapsed": false
   },
   "outputs": [
    {
     "data": {
      "image/png": "[encoded data removed]",
      "text/plain": [
       "<matplotlib.figure.Figure at 0x10abcf950>"
      ]
     },
     "metadata": {},
     "output_type": "display_data"
    },
    {
     "name": "stdout",
     "output_type": "stream",
     "text": [
      "Optimal lambda for Lasso=0.00423383759375\n"
     ]
    }
   ],
   "source": [
    "#select best lambda for Lasso\n",
    "lambdas = np.linspace(-15,1,100)\n",
    "lambdas=[math.exp(i) for i in lambdas]\n",
    "lambda_l_optimal=Regularization_fit_lambda(2,X_train,y_train,lambdas,p=0.4,Graph=True,logl=True)\n",
    "print('Optimal lambda for Lasso={0}'.format(lambda_r_optimal))"
   ]
  },
  {
   "cell_type": "code",
   "execution_count": 38,
   "metadata": {
    "collapsed": false
   },
   "outputs": [
    {
     "name": "stdout",
     "output_type": "stream",
     "text": [
      "The R-squared we found for IS Ridge is: 0.618653826565\n",
      "The R-squared we found for OS Ridge is: 0.568764752496\n",
      "The R-squared we found for IS Lasso is: 0.597422426435\n",
      "The R-squared we found for OS Lasso is: 0.563935422612\n"
     ]
    }
   ],
   "source": [
    "Ridge=linear_model.Ridge(fit_intercept=True,alpha=lambda_r_optimal) #redo Ridge and Lasso with selected regularization parameter lambda\n",
    "Lasso=linear_model.Lasso(fit_intercept=True,alpha=lambda_l_optimal)\n",
    "\n",
    "X_train=np.matrix(data_train[depend_variable])\n",
    "y_train=np.array(data_train['sale_price_log'])\n",
    "X_test=np.matrix(data_test[depend_variable])\n",
    "y_test=np.array(data_test['sale_price_log'])\n",
    "Ridge.fit(X_train,y_train)\n",
    "Lasso.fit(X_train,y_train)\n",
    "# In the sample:\n",
    "p_IS=Ridge.predict(X_train)\n",
    "err_IS=p_IS-y_train\n",
    "R_2_IS_Ridge=1-np.var(err_IS)/np.var(y_train)\n",
    "\n",
    "p_IS=Lasso.predict(X_train)\n",
    "err_IS=p_IS-y_train\n",
    "R_2_IS_Lasso=1-np.var(err_IS)/np.var(y_train)\n",
    "\n",
    "Ridge_coef=Ridge.coef_\n",
    "Lasso_coef=Lasso.coef_\n",
    "############################################################################    \n",
    "    \n",
    "#Out of sample\n",
    "p_OS=Ridge.predict(X_test)\n",
    "err_OS=p_OS-y_test\n",
    "R_2_OS_Ridge=1-np.var(err_OS)/np.var(y_test)\n",
    "\n",
    "p_OS=Lasso.predict(X_test)\n",
    "err_OS=p_OS-y_test\n",
    "R_2_OS_Lasso=1-np.var(err_OS)/np.var(y_test)\n",
    "print(\"The R-squared we found for IS Ridge is: {0}\".format(R_2_IS_Ridge))\n",
    "print(\"The R-squared we found for OS Ridge is: {0}\".format(R_2_OS_Ridge))\n",
    "print(\"The R-squared we found for IS Lasso is: {0}\".format(R_2_IS_Lasso))\n",
    "print(\"The R-squared we found for OS Lasso is: {0}\".format(R_2_OS_Lasso))"
   ]
  },
  {
   "cell_type": "markdown",
   "metadata": {},
   "source": [
    "This is much better now - we can see that R2 values are much improved - both Lasso and Ridge provide 56% OS R2. And as IS and OS R2 are close there is almost no oferfitting left - both Lasso and Ridge manage it efficiently. Finally let's reproduce the learning curves - IS/OS R2 depending on t for all three models - OLS, Lasso and Ridge - in order to track the dynamics. "
   ]
  },
  {
   "cell_type": "code",
   "execution_count": 39,
   "metadata": {
    "collapsed": false
   },
   "outputs": [
    {
     "data": {
      "image/png": "[encoded data removed]",
      "text/plain": [
       "<matplotlib.figure.Figure at 0x10ada25d0>"
      ]
     },
     "metadata": {},
     "output_type": "display_data"
    }
   ],
   "source": [
    "#In the sample test\n",
    "Number_variables=[]\n",
    "OLS_R_2_IS=[] # make a list to store our in the sample R_squared\n",
    "Ridge_R_2_IS=[]\n",
    "Lasso_R_2_IS=[]\n",
    "OLS_R_2_OS=[] #make a list to store our out the sample R_squared\n",
    "Ridge_R_2_OS=[]\n",
    "Lasso_R_2_OS=[]\n",
    "depend_variable=['mean_log','gross_sq_feet_log']\n",
    "t=0\n",
    "\n",
    "# Do a loop to run OLS after adding additional independent variables from 311 subsequently\n",
    "for j in ([list_comp[i] for i in range(var)]):\n",
    "\n",
    "    t+=1\n",
    "    Number_variables.append(t)\n",
    "\n",
    "    depend_variable.append(j)\n",
    "# In the sample:\n",
    "\n",
    "    X=data_train[depend_variable]\n",
    "    y=data_train['sale_price_log']\n",
    "    result=ols(y=y,x=X)\n",
    "    OLS_R_2_IS.append(result.r2)\n",
    "    \n",
    "    X=np.matrix(data_train[depend_variable])\n",
    "    y=np.array(data_train['sale_price_log'])\n",
    "    Ridge=linear_model.Ridge(fit_intercept=True,alpha=lambda_r_optimal)\n",
    "    Lasso=linear_model.Lasso(fit_intercept=True,alpha=lambda_l_optimal)\n",
    "    Ridge.fit(X,y)\n",
    "    Lasso.fit(X,y)\n",
    "    p_IS=Ridge.predict(X)\n",
    "    err_IS=p_IS-y\n",
    "    R_2_IS_Ridge=1-np.var(err_IS)/np.var(y)\n",
    "    p_IS=Lasso.predict(X)\n",
    "    err_IS=p_IS-y\n",
    "    R_2_IS_Lasso=1-np.var(err_IS)/np.var(y)\n",
    "    Ridge_R_2_IS.append(R_2_IS_Ridge)\n",
    "    Lasso_R_2_IS.append(R_2_IS_Lasso)\n",
    "\n",
    "############################################################################\n",
    "#Out of the sample test\n",
    "\n",
    "    temp=data_test[depend_variable]\n",
    "\n",
    "    a=np.array(temp)\n",
    "    b=np.array(result.beta)\n",
    "    c=np.sum(a*b[0:-1],axis=1)+b[-1]\n",
    "    \n",
    "    X_test=np.matrix(data_test[depend_variable])\n",
    "    y_test=np.array(data_test['sale_price_log'])\n",
    "\n",
    "    error=data_test['sale_price_log']-c\n",
    "    R_2=1-error.var()/data_test['sale_price_log'].var()\n",
    "    if R_2>0:\n",
    "        OLS_R_2_OS.append(R_2)\n",
    "    else:\n",
    "        OLS_R_2_OS.append(0)\n",
    "        \n",
    "    p_OS=Ridge.predict(X_test)\n",
    "    err_OS=p_OS-y_test\n",
    "    R_2_OS_Ridge=1-np.var(err_OS)/np.var(y_test)\n",
    "\n",
    "    p_OS=Lasso.predict(X_test)\n",
    "    err_OS=p_OS-y_test\n",
    "    R_2_OS_Lasso=1-np.var(err_OS)/np.var(y_test) \n",
    "    Ridge_R_2_OS.append(R_2_OS_Ridge)\n",
    "    Lasso_R_2_OS.append(R_2_OS_Lasso)\n",
    "\n",
    "#plot\n",
    "pylab.title('In sample R-squared vs out of sample R-squared')\n",
    "pylab.plot(Number_variables,OLS_R_2_IS,'g',label='R_squared(in the sample)')\n",
    "pylab.plot(Number_variables,OLS_R_2_OS,'b',label='R_squared(outof the sample)')\n",
    "pylab.plot(Number_variables,Ridge_R_2_IS,'k',label='Ridge_R_squared(IS)')\n",
    "pylab.plot(Number_variables,Ridge_R_2_OS,'r',label='Ridge_R_squared(OS)')\n",
    "pylab.plot(Number_variables,Lasso_R_2_IS,'y',label='Lasso_R_squared(IS)')\n",
    "pylab.plot(Number_variables,Lasso_R_2_OS,'c',label='Lasso_R_squared(OS)')\n",
    "pylab.legend(loc='lower left')\n",
    "pylab.xlabel('Number of independent variables')\n",
    "pylab.ylabel('R-squared')\n",
    "pylab.draw()"
   ]
  },
  {
   "cell_type": "markdown",
   "metadata": {},
   "source": [
    "So we see that Lasso and Ridge perform perfectly stable and unlike OLS, their OS R2 steadily grows with $t$"
   ]
  },
  {
   "cell_type": "markdown",
   "metadata": {},
   "source": [
    "Finally look at the coefficients of Lasso performing feature selection for us - most of the coefficients are zero while the non-zero ones indicate the regressors left in the model"
   ]
  },
  {
   "cell_type": "code",
   "execution_count": 40,
   "metadata": {
    "collapsed": false
   },
   "outputs": [
    {
     "data": {
      "text/plain": [
       "array([  0.34144248,   0.69046956,  -0.        ,   0.        ,\n",
       "        -0.        ,  -0.        ,   0.        ,  -0.        ,\n",
       "         0.        ,  -0.        ,   0.        ,   0.        ,\n",
       "         0.        ,  -0.5262977 ,   0.        ,   0.        ,\n",
       "         0.        ,   4.37823538,   0.        ,   0.        ,\n",
       "        -0.        ,  -0.        ,  -0.        ,  -0.        ,\n",
       "        -0.        ,  -0.        ,   0.        ,   0.        ,\n",
       "        -0.        ,   7.28434482,   2.97783897,   0.        ,\n",
       "         0.67294255,  -4.66543363,  -3.8401933 ,  -0.        ,\n",
       "         0.        ,   0.        ,  -0.        ,  -0.        ,\n",
       "         0.        ,  -2.0370214 ,  -0.        ,   7.55328286,\n",
       "        -0.        ,   0.        ,  -0.        ,  -0.        ,\n",
       "        -0.        ,  -0.        ,  -0.        ,  -0.        ,\n",
       "         0.        ,   0.        ,   0.        ,   0.        ,\n",
       "         0.55266874,   0.        ,   3.90614547,   0.        ,\n",
       "         0.        ,   0.        ,  -0.31984493,   0.        ,\n",
       "         0.        ,   0.        ,   0.        ,   0.        ,\n",
       "         0.        ,   0.        ,  -0.        ,  -0.        ,\n",
       "         2.76737771,  -0.        ,   0.        ,  -0.        ,\n",
       "        -0.        ,   0.        ,   0.        ,   0.        ,\n",
       "         0.        ,   0.        ,   0.        ,   0.        ,\n",
       "        -1.22035937,  -0.        ,  -0.        ,   9.8401366 ,\n",
       "         1.23997538,   0.        ,  -0.        ,   0.        ,\n",
       "         5.61773108,  -2.24938118,   0.        ,   0.        ,\n",
       "         0.        ,  -0.        ,  -0.        ,  -1.13927305,\n",
       "        -0.        ,   0.        ,  -0.        ,   0.        ,\n",
       "        -0.42705197,  -0.        ,   0.        ,  -0.        ,\n",
       "        -0.        ,   0.        ,   0.        ,   0.        ,\n",
       "        -0.        ,  -0.        ,   0.        ,  -0.        ,\n",
       "        -1.09762973,  -0.        ,   0.        ,   0.        ,\n",
       "         0.        ,  -0.        ,   0.        ,   0.        ,\n",
       "         0.        ,  -0.        ,   0.        ,  -0.        ,\n",
       "        -0.        ,   0.        ,  -0.        ,  -0.        ,\n",
       "        -2.50885547,  -0.        ,  -1.40233476,  -2.69872158,\n",
       "         0.55530533,   0.        ,   0.        ,  -0.        ,\n",
       "        -0.        ,   0.        ,   0.        ,   4.75765015,\n",
       "         0.        ,   2.62947147,  -0.        ,  -0.        ,\n",
       "        -0.        ,  -0.        ,  -0.        ,  -0.        ,\n",
       "         0.        , -15.23536609,  -0.        ,  -0.        ,\n",
       "        -0.29216672,   0.        ,  -1.70026056,   0.        ,  -0.        ])"
      ]
     },
     "execution_count": 40,
     "metadata": {},
     "output_type": "execute_result"
    }
   ],
   "source": [
    "Lasso_coef"
   ]
  },
  {
   "cell_type": "code",
   "execution_count": null,
   "metadata": {
    "collapsed": true
   },
   "outputs": [],
   "source": []
  }
 ],
 "metadata": {
  "kernelspec": {
   "display_name": "Python 2",
   "language": "python",
   "name": "python2"
  },
  "language_info": {
   "codemirror_mode": {
    "name": "ipython",
    "version": 2
   },
   "file_extension": ".py",
   "mimetype": "text/x-python",
   "name": "python",
   "nbconvert_exporter": "python",
   "pygments_lexer": "ipython2",
   "version": "2.7.11"
  }
 },
 "nbformat": 4,
 "nbformat_minor": 0
}
