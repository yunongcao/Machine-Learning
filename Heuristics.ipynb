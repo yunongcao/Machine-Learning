{
 "cells": [
  {
   "cell_type": "code",
   "execution_count": 1,
   "metadata": {
    "collapsed": false
   },
   "outputs": [],
   "source": [
    "import pandas as pd\n",
    "import numpy as np\n",
    "from sklearn.ensemble import RandomForestClassifier\n",
    "from sklearn.metrics import roc_auc_score\n",
    "from sklearn.metrics import accuracy_score\n",
    "from sklearn.linear_model import LogisticRegression\n",
    "from sklearn.feature_selection import SelectFromModel\n",
    "import random\n",
    "import matplotlib\n",
    "%matplotlib inline\n",
    "import matplotlib.pyplot as plt\n",
    "matplotlib.style.use('ggplot')"
   ]
  },
  {
   "cell_type": "code",
   "execution_count": 2,
   "metadata": {
    "collapsed": false
   },
   "outputs": [],
   "source": [
    "# load data\n",
    "train_set = pd.DataFrame.from_csv('sqf_train_cpw.csv', index_col = False)\n",
    "test_set = pd.DataFrame.from_csv('sqf_test_cpw.csv', index_col = False)"
   ]
  },
  {
   "cell_type": "code",
   "execution_count": 3,
   "metadata": {
    "collapsed": true
   },
   "outputs": [],
   "source": [
    "# join and re-split data to get all categories\n",
    "train_set['set'] = 'train'\n",
    "test_set['set'] = 'test'\n",
    "joined_data = train_set.append(test_set)\n",
    "\n",
    "# select all non-real-valued columns (besides 'set' and 'id') and convert to one-hot encoding\n",
    "col_names = joined_data.columns\n",
    "col_names = col_names.difference(['id', 'set', 'suspect.age', 'suspect.weight', 'suspect.height', 'observation.period'])\n",
    "joined_data = pd.get_dummies(data=joined_data, columns=col_names, sparse=True)"
   ]
  },
  {
   "cell_type": "code",
   "execution_count": 9,
   "metadata": {
    "collapsed": false
   },
   "outputs": [
    {
     "data": {
      "text/html": [
       "<div>\n",
       "<table border=\"1\" class=\"dataframe\">\n",
       "  <thead>\n",
       "    <tr style=\"text-align: right;\">\n",
       "      <th></th>\n",
       "      <th>id</th>\n",
       "      <th>suspect.age</th>\n",
       "      <th>suspect.height</th>\n",
       "      <th>suspect.weight</th>\n",
       "      <th>observation.period</th>\n",
       "      <th>set</th>\n",
       "      <th>additional.associating_False</th>\n",
       "      <th>additional.associating_True</th>\n",
       "      <th>additional.direction_False</th>\n",
       "      <th>additional.direction_True</th>\n",
       "      <th>...</th>\n",
       "      <th>time.period_1</th>\n",
       "      <th>time.period_2</th>\n",
       "      <th>time.period_3</th>\n",
       "      <th>time.period_4</th>\n",
       "      <th>time.period_5</th>\n",
       "      <th>time.period_6</th>\n",
       "      <th>year_2009</th>\n",
       "      <th>year_2010</th>\n",
       "      <th>year_2011</th>\n",
       "      <th>year_2012</th>\n",
       "    </tr>\n",
       "  </thead>\n",
       "  <tbody>\n",
       "    <tr>\n",
       "      <th>0</th>\n",
       "      <td>1565349</td>\n",
       "      <td>-0.016428</td>\n",
       "      <td>0.027557</td>\n",
       "      <td>-0.372207</td>\n",
       "      <td>-0.024228</td>\n",
       "      <td>train</td>\n",
       "      <td>1</td>\n",
       "      <td>NaN</td>\n",
       "      <td>0</td>\n",
       "      <td>1</td>\n",
       "      <td>...</td>\n",
       "      <td>0</td>\n",
       "      <td>NaN</td>\n",
       "      <td>NaN</td>\n",
       "      <td>NaN</td>\n",
       "      <td>0</td>\n",
       "      <td>1</td>\n",
       "      <td>1</td>\n",
       "      <td>0</td>\n",
       "      <td>NaN</td>\n",
       "      <td>NaN</td>\n",
       "    </tr>\n",
       "    <tr>\n",
       "      <th>1</th>\n",
       "      <td>2582029</td>\n",
       "      <td>-0.418262</td>\n",
       "      <td>1.007377</td>\n",
       "      <td>-0.719462</td>\n",
       "      <td>-0.225465</td>\n",
       "      <td>train</td>\n",
       "      <td>1</td>\n",
       "      <td>NaN</td>\n",
       "      <td>0</td>\n",
       "      <td>1</td>\n",
       "      <td>...</td>\n",
       "      <td>0</td>\n",
       "      <td>NaN</td>\n",
       "      <td>NaN</td>\n",
       "      <td>NaN</td>\n",
       "      <td>1</td>\n",
       "      <td>0</td>\n",
       "      <td>0</td>\n",
       "      <td>1</td>\n",
       "      <td>NaN</td>\n",
       "      <td>NaN</td>\n",
       "    </tr>\n",
       "    <tr>\n",
       "      <th>2</th>\n",
       "      <td>1969776</td>\n",
       "      <td>1.389991</td>\n",
       "      <td>-1.605475</td>\n",
       "      <td>-0.372207</td>\n",
       "      <td>-0.225465</td>\n",
       "      <td>train</td>\n",
       "      <td>1</td>\n",
       "      <td>NaN</td>\n",
       "      <td>0</td>\n",
       "      <td>1</td>\n",
       "      <td>...</td>\n",
       "      <td>0</td>\n",
       "      <td>NaN</td>\n",
       "      <td>NaN</td>\n",
       "      <td>NaN</td>\n",
       "      <td>0</td>\n",
       "      <td>1</td>\n",
       "      <td>1</td>\n",
       "      <td>0</td>\n",
       "      <td>NaN</td>\n",
       "      <td>NaN</td>\n",
       "    </tr>\n",
       "    <tr>\n",
       "      <th>3</th>\n",
       "      <td>2324214</td>\n",
       "      <td>1.691367</td>\n",
       "      <td>0.680770</td>\n",
       "      <td>-0.372207</td>\n",
       "      <td>-0.225465</td>\n",
       "      <td>train</td>\n",
       "      <td>1</td>\n",
       "      <td>NaN</td>\n",
       "      <td>1</td>\n",
       "      <td>0</td>\n",
       "      <td>...</td>\n",
       "      <td>0</td>\n",
       "      <td>NaN</td>\n",
       "      <td>NaN</td>\n",
       "      <td>NaN</td>\n",
       "      <td>0</td>\n",
       "      <td>1</td>\n",
       "      <td>0</td>\n",
       "      <td>1</td>\n",
       "      <td>NaN</td>\n",
       "      <td>NaN</td>\n",
       "    </tr>\n",
       "    <tr>\n",
       "      <th>4</th>\n",
       "      <td>1722977</td>\n",
       "      <td>-0.518721</td>\n",
       "      <td>1.333983</td>\n",
       "      <td>0.148676</td>\n",
       "      <td>-0.225465</td>\n",
       "      <td>train</td>\n",
       "      <td>1</td>\n",
       "      <td>NaN</td>\n",
       "      <td>1</td>\n",
       "      <td>0</td>\n",
       "      <td>...</td>\n",
       "      <td>1</td>\n",
       "      <td>NaN</td>\n",
       "      <td>NaN</td>\n",
       "      <td>NaN</td>\n",
       "      <td>0</td>\n",
       "      <td>0</td>\n",
       "      <td>1</td>\n",
       "      <td>0</td>\n",
       "      <td>NaN</td>\n",
       "      <td>NaN</td>\n",
       "    </tr>\n",
       "  </tbody>\n",
       "</table>\n",
       "<p>5 rows × 179 columns</p>\n",
       "</div>"
      ],
      "text/plain": [
       "        id  suspect.age  suspect.height  suspect.weight  observation.period  \\\n",
       "0  1565349    -0.016428        0.027557       -0.372207           -0.024228   \n",
       "1  2582029    -0.418262        1.007377       -0.719462           -0.225465   \n",
       "2  1969776     1.389991       -1.605475       -0.372207           -0.225465   \n",
       "3  2324214     1.691367        0.680770       -0.372207           -0.225465   \n",
       "4  1722977    -0.518721        1.333983        0.148676           -0.225465   \n",
       "\n",
       "     set  additional.associating_False  additional.associating_True  \\\n",
       "0  train                             1                          NaN   \n",
       "1  train                             1                          NaN   \n",
       "2  train                             1                          NaN   \n",
       "3  train                             1                          NaN   \n",
       "4  train                             1                          NaN   \n",
       "\n",
       "   additional.direction_False  additional.direction_True    ...      \\\n",
       "0                           0                          1    ...       \n",
       "1                           0                          1    ...       \n",
       "2                           0                          1    ...       \n",
       "3                           1                          0    ...       \n",
       "4                           1                          0    ...       \n",
       "\n",
       "   time.period_1  time.period_2  time.period_3  time.period_4  time.period_5  \\\n",
       "0              0            NaN            NaN            NaN              0   \n",
       "1              0            NaN            NaN            NaN              1   \n",
       "2              0            NaN            NaN            NaN              0   \n",
       "3              0            NaN            NaN            NaN              0   \n",
       "4              1            NaN            NaN            NaN              0   \n",
       "\n",
       "   time.period_6  year_2009  year_2010  year_2011  year_2012  \n",
       "0              1          1          0        NaN        NaN  \n",
       "1              0          0          1        NaN        NaN  \n",
       "2              1          1          0        NaN        NaN  \n",
       "3              1          0          1        NaN        NaN  \n",
       "4              0          1          0        NaN        NaN  \n",
       "\n",
       "[5 rows x 179 columns]"
      ]
     },
     "execution_count": 9,
     "metadata": {},
     "output_type": "execute_result"
    }
   ],
   "source": [
    "joined_data.head()"
   ]
  },
  {
   "cell_type": "code",
   "execution_count": 14,
   "metadata": {
    "collapsed": true
   },
   "outputs": [],
   "source": [
    "# remove redundant columns (binary columns of the form 'variable_False')\n",
    "redundant_cols = []\n",
    "for name in list(joined_data):\n",
    "    if \"False\" in name:\n",
    "        redundant_cols.append(name)\n",
    "joined_data.drop(redundant_cols, inplace=True, axis=1)"
   ]
  },
  {
   "cell_type": "code",
   "execution_count": 15,
   "metadata": {
    "collapsed": false
   },
   "outputs": [],
   "source": [
    "# split data again\n",
    "train = joined_data.loc[joined_data['set'] == 'train']\n",
    "train = train.drop(['set'], axis=1)\n",
    "test = joined_data.loc[joined_data['set'] == 'test']\n",
    "test = test.drop(['set'], axis=1)"
   ]
  },
  {
   "cell_type": "code",
   "execution_count": 16,
   "metadata": {
    "collapsed": false
   },
   "outputs": [],
   "source": [
    "# split training data into features and outcome (numpy arrays, to feed to sklearn algorithms)\n",
    "label_train = np.ravel(train[['found.weapon_True']].values)\n",
    "pred_train = train.drop(['id', 'arrested_True', 'found.weapon_True', 'found.gun_True'], axis=1)\n",
    "pred_train = pred_train.values "
   ]
  },
  {
   "cell_type": "code",
   "execution_count": 17,
   "metadata": {
    "collapsed": false
   },
   "outputs": [
    {
     "name": "stdout",
     "output_type": "stream",
     "text": [
      "(296521, 152)\n"
     ]
    }
   ],
   "source": [
    "# format test data\n",
    "results = test.copy()\n",
    "label_test = np.ravel(test[['found.weapon_True']].values)\n",
    "pred_test = test.drop(['id', 'found.weapon_True', 'arrested_True', 'found.gun_True'], axis=1)\n",
    "feature_names = list(pred_test.columns.values)\n",
    "pred_test = pred_test.values \n",
    "\n",
    "print results.shape"
   ]
  },
  {
   "cell_type": "code",
   "execution_count": 57,
   "metadata": {
    "collapsed": false
   },
   "outputs": [
    {
     "name": "stdout",
     "output_type": "stream",
     "text": [
      "[LibLinear]0.829250266101\n",
      "0.96460621676\n"
     ]
    }
   ],
   "source": [
    "# fit an L1 penalized logistic regression model\n",
    "logit_classifier = LogisticRegression(penalty=\"l1\", solver='liblinear', verbose=2)\n",
    "logit_classifier.fit(X=pred_train, y=label_train)\n",
    "\n",
    "logit_predictions = logit_classifier.predict_proba(pred_test)[:, 1]\n",
    "results['preds'] = logit_predictions\n",
    "print roc_auc_score(label_test, logit_predictions)\n",
    "\n",
    "logit_predictions_class = logit_classifier.predict(pred_test)\n",
    "print accuracy_score(label_test, logit_predictions_class, normalize=True)"
   ]
  },
  {
   "cell_type": "code",
   "execution_count": 45,
   "metadata": {
    "collapsed": true
   },
   "outputs": [
    {
     "name": "stdout",
     "output_type": "stream",
     "text": [
      "[False False False False False False False False False False False False\n",
      "  True False False False False False False False False False  True  True\n",
      "  True False False False False False False False False False False False\n",
      " False False False False False False  True False False False False False\n",
      " False False False False  True False  True False False False False False\n",
      " False  True  True False  True False  True False False  True  True  True\n",
      " False False False False False False False False False False False False\n",
      " False  True False False False False False False False False False False\n",
      " False  True False False  True  True False False False False False False\n",
      " False False  True  True False False False  True  True  True False False\n",
      " False False  True  True False False False False False False False  True\n",
      " False  True  True False False False False False False False False False\n",
      "  True  True False False]\n"
     ]
    }
   ],
   "source": [
    "# for different threshold values, select the features which remain in the model\n",
    "model = SelectFromModel(logit_classifier, prefit=True, threshold=.5)\n",
    "pred_test_new = model.transform(pred_test)\n",
    "\n",
    "#print pred_test.shape\n",
    "#print pred_test_new.shape\n",
    "print model.get_support()\n"
   ]
  },
  {
   "cell_type": "code",
   "execution_count": 46,
   "metadata": {
    "collapsed": true
   },
   "outputs": [
    {
     "name": "stdout",
     "output_type": "stream",
     "text": [
      "[('additional.sights_True', True), ('location.housing_housing', True), ('location.housing_neither', True), ('location.housing_transit', True), ('precinct_9', True), ('precinct_24', True), ('precinct_26', True), ('precinct_41', True), ('precinct_42', True), ('precinct_44', True), ('precinct_46', True), ('precinct_49', True), ('precinct_50', True), ('precinct_52', True), ('precinct_76', True), ('precinct_102', True), ('precinct_105', True), ('precinct_106', True), ('precinct_115', True), ('precinct_120', True), ('stopped.bc.bulge_True', True), ('stopped.bc.casing_True', True), ('stopped.bc.clothing_True', True), ('stopped.bc.object_True', True), ('stopped.bc.other_True', True), ('suspect.race_black', True), ('suspect.race_native.american', True), ('suspect.race_other', True), ('year_2009', True), ('year_2010', True), ('suspect.age', False), ('suspect.height', False), ('suspect.weight', False), ('observation.period', False), ('additional.associating_True', False), ('additional.direction_True', False), ('additional.evasive_True', False), ('additional.highcrime_True', False), ('additional.investigation_True', False), ('additional.other_True', False), ('additional.proximity_True', False), ('additional.report_True', False), ('additional.time_True', False), ('day_Friday', False), ('day_Monday', False), ('day_Saturday', False), ('day_Sunday', False), ('day_Thursday', False), ('day_Tuesday', False), ('day_Wednesday', False), ('inside.outside_True', False), ('month_April', False), ('month_August', False), ('month_December', False), ('month_February', False), ('month_January', False), ('month_July', False), ('month_June', False), ('month_March', False), ('month_May', False), ('month_November', False), ('month_October', False), ('month_September', False), ('officer.uniform_True', False), ('precinct_1', False), ('precinct_5', False), ('precinct_6', False), ('precinct_7', False), ('precinct_10', False), ('precinct_13', False), ('precinct_14', False), ('precinct_17', False), ('precinct_18', False), ('precinct_19', False), ('precinct_20', False), ('precinct_22', False), ('precinct_23', False), ('precinct_25', False), ('precinct_28', False), ('precinct_30', False), ('precinct_32', False), ('precinct_33', False), ('precinct_34', False), ('precinct_40', False), ('precinct_43', False), ('precinct_45', False), ('precinct_47', False), ('precinct_48', False), ('precinct_60', False), ('precinct_61', False), ('precinct_62', False), ('precinct_63', False), ('precinct_66', False), ('precinct_67', False), ('precinct_68', False), ('precinct_69', False), ('precinct_70', False), ('precinct_71', False), ('precinct_72', False), ('precinct_73', False), ('precinct_75', False), ('precinct_77', False), ('precinct_78', False), ('precinct_79', False), ('precinct_81', False), ('precinct_83', False), ('precinct_84', False), ('precinct_88', False), ('precinct_90', False), ('precinct_94', False), ('precinct_100', False), ('precinct_101', False), ('precinct_103', False), ('precinct_104', False), ('precinct_107', False), ('precinct_108', False), ('precinct_109', False), ('precinct_110', False), ('precinct_111', False), ('precinct_112', False), ('precinct_113', False), ('precinct_114', False), ('precinct_122', False), ('precinct_123', False), ('radio.run_True', False), ('stopped.bc.desc_True', False), ('stopped.bc.drugs_True', False), ('stopped.bc.furtive_True', False), ('stopped.bc.lookout_True', False), ('stopped.bc.violent_True', False), ('suspect.build_heavy', False), ('suspect.build_medium', False), ('suspect.build_muscular', False), ('suspect.build_thin', False), ('suspect.build_unknown', False), ('suspect.race_asian', False), ('suspect.race_hispanic', False), ('suspect.race_white', False), ('suspect.sex_female', False), ('suspect.sex_male', False), ('time.period_1', False), ('time.period_2', False), ('time.period_3', False), ('time.period_4', False), ('time.period_5', False), ('time.period_6', False), ('year_2011', False), ('year_2012', False)]\n"
     ]
    }
   ],
   "source": [
    "feature_importances = list(model.get_support())\n",
    "feature_list = []\n",
    "for i in range(0,len(feature_names)):\n",
    "    feature_list.append((feature_names[i], feature_importances[i]))\n",
    "\n",
    "#get the names of the features from the previous cell\n",
    "print sorted(feature_list, reverse=True, key=lambda x: x[1])"
   ]
  },
  {
   "cell_type": "code",
   "execution_count": 49,
   "metadata": {
    "collapsed": true
   },
   "outputs": [
    {
     "name": "stdout",
     "output_type": "stream",
     "text": [
      "[LibLinear]0.76393828085\n",
      "[[-3.13929127 -2.34887376  2.72326046  0.55668889  0.90773781]]\n"
     ]
    }
   ],
   "source": [
    "# train a new model based just on features selected above\n",
    "#predictors = ['location.housing_housing', 'location.housing_neither', 'stopped.bc.object_True', 'stopped.bc.bulge_True', 'additional.sights_True']\n",
    "predictors = ['location.housing_housing', 'location.housing_neither','stopped.bc.object_True', 'stopped.bc.bulge_True', 'additional.sights_True']\n",
    "\n",
    "pred_train = train[predictors]\n",
    "pred_train = pred_train.values \n",
    "pred_test = test[predictors]\n",
    "feature_names = list(pred_test.columns.values)\n",
    "pred_test = pred_test.values \n",
    "\n",
    "\n",
    "# How does AUC change as you add/subtract features?\n",
    "\n",
    "logit_classifier_simple = LogisticRegression(solver='liblinear', verbose=2)\n",
    "logit_classifier_simple.fit(X=pred_train, y=label_train)\n",
    "\n",
    "logit_predictions_simple = logit_classifier_simple.predict_proba(pred_test)[:, 1]\n",
    "results['preds_simple'] = logit_predictions_simple\n",
    "print roc_auc_score(label_test, logit_predictions_simple)\n",
    "\n",
    "print logit_classifier_simple.coef_\n",
    "\n"
   ]
  },
  {
   "cell_type": "code",
   "execution_count": 58,
   "metadata": {
    "collapsed": false
   },
   "outputs": [
    {
     "name": "stdout",
     "output_type": "stream",
     "text": [
      "    stopped.bc.object_True  stopped.bc.bulge_True  additional.sights_True  \\\n",
      "0                      0.0                    0.0                     0.0   \n",
      "1                      0.0                    0.0                     0.0   \n",
      "2                      0.0                    0.0                     0.0   \n",
      "3                      0.0                    0.0                     0.0   \n",
      "4                      0.0                    1.0                     0.0   \n",
      "5                      0.0                    0.0                     0.0   \n",
      "6                      0.0                    0.0                     0.0   \n",
      "7                      0.0                    0.0                     1.0   \n",
      "8                      0.0                    0.0                     1.0   \n",
      "9                      0.0                    0.0                     0.0   \n",
      "10                     0.0                    0.0                     0.0   \n",
      "11                     0.0                    0.0                     0.0   \n",
      "12                     0.0                    0.0                     0.0   \n",
      "13                     0.0                    0.0                     0.0   \n",
      "14                     0.0                    0.0                     0.0   \n",
      "15                     0.0                    0.0                     0.0   \n",
      "16                     0.0                    0.0                     0.0   \n",
      "17                     0.0                    0.0                     0.0   \n",
      "18                     0.0                    0.0                     0.0   \n",
      "19                     1.0                    0.0                     0.0   \n",
      "\n",
      "    heuristic_score     preds  \n",
      "0               0.0  0.035829  \n",
      "1               0.0  0.035829  \n",
      "2               0.0  0.035319  \n",
      "3               0.0  0.037047  \n",
      "4               1.0  0.039255  \n",
      "5               0.0  0.026255  \n",
      "6               0.0  0.016312  \n",
      "7               1.0  0.089946  \n",
      "8               1.0  0.097656  \n",
      "9               0.0  0.060778  \n",
      "10              0.0  0.061712  \n",
      "11              0.0  0.009836  \n",
      "12              0.0  0.019586  \n",
      "13              0.0  0.013062  \n",
      "14              0.0  0.018600  \n",
      "15              0.0  0.018854  \n",
      "16              0.0  0.013490  \n",
      "17              0.0  0.003799  \n",
      "18              0.0  0.007666  \n",
      "19              1.0  0.301380  \n"
     ]
    }
   ],
   "source": [
    "# add a column which contains the unit weighted heuristic score derived from the features from the previous cell\n",
    "results['heuristic_score'] = results[['stopped.bc.object_True', 'stopped.bc.bulge_True', 'additional.sights_True']].sum(axis=1)\n",
    "print results[['stopped.bc.object_True', 'stopped.bc.bulge_True', 'additional.sights_True', 'heuristic_score', 'preds']].head(20)\n"
   ]
  },
  {
   "cell_type": "code",
   "execution_count": 67,
   "metadata": {
    "collapsed": false
   },
   "outputs": [
    {
     "name": "stderr",
     "output_type": "stream",
     "text": [
      "/Users/rs4606/anaconda/lib/python2.7/site-packages/ipykernel/__main__.py:8: FutureWarning: sort(columns=....) is deprecated, use sort_values(by=.....)\n",
      "/Users/rs4606/anaconda/lib/python2.7/site-packages/ipykernel/__main__.py:11: SettingWithCopyWarning: \n",
      "A value is trying to be set on a copy of a slice from a DataFrame.\n",
      "Try using .loc[row_indexer,col_indexer] = value instead\n",
      "\n",
      "See the caveats in the documentation: http://pandas.pydata.org/pandas-docs/stable/indexing.html#indexing-view-versus-copy\n",
      "/Users/rs4606/anaconda/lib/python2.7/site-packages/ipykernel/__main__.py:13: SettingWithCopyWarning: \n",
      "A value is trying to be set on a copy of a slice from a DataFrame.\n",
      "Try using .loc[row_indexer,col_indexer] = value instead\n",
      "\n",
      "See the caveats in the documentation: http://pandas.pydata.org/pandas-docs/stable/indexing.html#indexing-view-versus-copy\n",
      "/Users/rs4606/anaconda/lib/python2.7/site-packages/ipykernel/__main__.py:16: SettingWithCopyWarning: \n",
      "A value is trying to be set on a copy of a slice from a DataFrame.\n",
      "Try using .loc[row_indexer,col_indexer] = value instead\n",
      "\n",
      "See the caveats in the documentation: http://pandas.pydata.org/pandas-docs/stable/indexing.html#indexing-view-versus-copy\n",
      "/Users/rs4606/anaconda/lib/python2.7/site-packages/ipykernel/__main__.py:18: SettingWithCopyWarning: \n",
      "A value is trying to be set on a copy of a slice from a DataFrame.\n",
      "Try using .loc[row_indexer,col_indexer] = value instead\n",
      "\n",
      "See the caveats in the documentation: http://pandas.pydata.org/pandas-docs/stable/indexing.html#indexing-view-versus-copy\n",
      "/Users/rs4606/anaconda/lib/python2.7/site-packages/ipykernel/__main__.py:24: FutureWarning: sort(columns=....) is deprecated, use sort_values(by=.....)\n"
     ]
    },
    {
     "name": "stdout",
     "output_type": "stream",
     "text": [
      "0.0    210000\n",
      "1.0     84140\n",
      "2.0      2310\n",
      "3.0        71\n",
      "Name: heuristic_score, dtype: int64\n",
      "1.0    0.605088\n",
      "Name: found.weapon_True, dtype: float64\n",
      "0.291787090965\n"
     ]
    },
    {
     "data": {
      "text/plain": [
       "<matplotlib.figure.Figure at 0x12305a490>"
      ]
     },
     "metadata": {},
     "output_type": "display_data"
    },
    {
     "data": {
      "image/png": "[encoded data removed]",
      "text/plain": [
       "<matplotlib.figure.Figure at 0x12305b250>"
      ]
     },
     "metadata": {},
     "output_type": "display_data"
    }
   ],
   "source": [
    "# Plotting question:\n",
    "# Make a recovery plot: if you used the logistic model to rank stops by model-predicted likelihood of weapon recovery, \n",
    "# from highest to lowest, what percent of weapons would you recover if you made the best x percent of stops?\n",
    "# The plot should have percent of stops on the x axis and percent weapons recovered on the y axis\n",
    "\n",
    "# HINTS:\n",
    "# 1) order results by column 'preds'\n",
    "results = results.sort(['preds'], ascending=False)\n",
    "# 2) add a column to results which is the cumulative sum of found.weapon_True\n",
    "plot_data = results[['found.weapon_True', 'preds']]\n",
    "plot_data['weap_sum'] = plot_data['found.weapon_True'].cumsum()\n",
    "# 3) use the above cumulative sum to make a column which shows percent weapons recovered\n",
    "plot_data['weap_perc'] = 100*plot_data['weap_sum']/plot_data['found.weapon_True'].sum()\n",
    "# 4) add a column which counts the stops\n",
    "s = [j for j in range(1,296522)]\n",
    "plot_data['nstop'] = s\n",
    "# 5) use the above stop count column to make a column which shows percent of all stops\n",
    "plot_data['stop_perc'] = 100*plot_data['nstop']/plot_data.shape[0]\n",
    "# 6) restrict to just the columns from 3) and 5), downsample to maybe 1000 rows\n",
    "plot_data = plot_data[['stop_perc', 'weap_perc']]\n",
    "rows = random.sample(plot_data.index, 1000)\n",
    "plot_data = plot_data.ix[rows]\n",
    "# 7) sort everything in ascending order by the column from 5), then plot.\n",
    "plot_data = plot_data.sort(['stop_perc'], ascending=True)\n",
    "plt.figure()\n",
    "plot_data.plot(x='stop_perc', y='weap_perc')\n",
    "\n",
    "\n",
    "\n",
    "###### how does the heuristic model perform??\n",
    "print results['heuristic_score'].value_counts()\n",
    "\n",
    "score_three = results.loc[results['heuristic_score'].isin([1,2,3])]\n",
    "\n",
    "print score_three['found.weapon_True'].value_counts()/results['found.weapon_True'].value_counts()\n",
    "print float(84140 + 2310 + 71)/(84140 + 2310 + 71 + 210000)"
   ]
  },
  {
   "cell_type": "code",
   "execution_count": null,
   "metadata": {
    "collapsed": true
   },
   "outputs": [],
   "source": [
    "o"
   ]
  }
 ],
 "metadata": {
  "kernelspec": {
   "display_name": "Python 2",
   "language": "python",
   "name": "python2"
  },
  "language_info": {
   "codemirror_mode": {
    "name": "ipython",
    "version": 2
   },
   "file_extension": ".py",
   "mimetype": "text/x-python",
   "name": "python",
   "nbconvert_exporter": "python",
   "pygments_lexer": "ipython2",
   "version": "2.7.11"
  }
 },
 "nbformat": 4,
 "nbformat_minor": 0
}
