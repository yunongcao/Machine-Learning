{
 "cells": [
  {
   "cell_type": "markdown",
   "metadata": {},
   "source": [
    "# Multi-variate linear regression\n",
    "\n",
    "# 1. Definition and parameter estimation\n",
    "\n",
    "As we remember linear model between single real-value regressor $x$ and output variable $y$ is expressed by \n",
    "$$\n",
    "y=w_1 x + w_0 +\\varepsilon.\n",
    "$$\n",
    "$w_1$-slope coefficient, $w_0$ - intercept, $\\varepsilon$ - random noise. In a more general case when $x$ is a real-valued $n x 1$-vector $x=(x_1,x_2,...,x_n)$, the model could be easily generalized as\n",
    "$$\n",
    "y=\\sum\\limits_j w_j x_j +\\varepsilon\n",
    "$$\n",
    "or in a vector form\n",
    "$$\n",
    "y=w^T x+\\varepsilon, \\hspace{5ex} (1)\n",
    "$$\n",
    "where $w=(w_1,w_2,...,w_n)$ is also a $n x 1$-vector. \n",
    "Notice that intercept is not specifically separated as it could be always introduced by adding a dummy variable $x^m\\equiv 1$.\n",
    "\n",
    "The probabilistic view on the model in the assumption that $\\varepsilon\\sim {\\cal N}(0,\\sigma^2)$ is\n",
    "$$\n",
    "p(y|x,w,\\sigma)={\\cal N}(y|w^T x,\\sigma^2).\n",
    "$$\n",
    "\n",
    "Given a training set $X=\\{(x_j^i), j=1..n, i=1..N\\}$, $Y=\\{(y^i), i=1..N\\}$ (further also denote columns of $X$ as $X_j=\\{(x_j^i), i=1..N\\}$), the least square optimization criteria for inferring a vector of coefficients $w$ can be written as\n",
    "$$\n",
    "RSS(w)=\\sum\\limits_i \\varepsilon_i^2=\\sum\\limits_i (y^i-w^T x^i)^2. \\hspace{5ex} (2)\n",
    "$$\n",
    "or in a matrix form:\n",
    "$$\n",
    "RSS(w)=(Y-X w)^T(Y-X w).\n",
    "$$\n",
    "Then finding an estimate\n",
    "$$\n",
    "\\hat{w}=argmin_w RSS(w)\n",
    "$$\n",
    "can be done by solving the system (in a matrix form)\n",
    "$$\n",
    "0=\\frac{\\partial RSS(\\hat{w})}{\\partial w}=2X^T (Y-X \\hat{w}).\n",
    "$$\n",
    "Using matrix formalism the solution could be expressed as\n",
    "$$\n",
    "\\hat{w}=\\left(X^T X\\right )^{-1}X^T Y. \\hspace{5ex} (3)\n",
    "$$\n",
    "This assumes that $X^T X$ is non-singular. Otherwise we have a case of multicollinearity which will be considered during the second session.\n",
    "\n",
    "The max-likelihood criteria:\n",
    "$$\n",
    "\\prod\\limits_i p(y^i|x^i,w,\\sigma)\\to \\max.\n",
    "$$\n",
    "or\n",
    "$$\n",
    "\\log\\left(\\prod\\limits_i p(y^i|x^i,w,\\sigma)\\right)=\\sum\\limits_i \\log\\left({\\cal N}(y^i|w^T x^i,\\sigma^2)\\right)=\n",
    "$$$$\n",
    "=-\\sum\\limits_i \\frac{(y^i-w^T x^i)^2}{2\\sigma^2}- N \\log(\\sigma)-N \\log(\\sqrt{2\\pi})=-\\frac{RSS(w)}{2\\sigma^2}-N \\log(\\sigma)-N \\to\\max\n",
    "$$\n",
    "Which is in turn equivalent to\n",
    "$$\n",
    "RSS(w)\\to \\min,\n",
    "$$\n",
    "i.e. least-square criteria plus (just like in case of the bi-variate regression)\n",
    "$$\n",
    "\\frac{RSS(\\hat{w})}{2\\sigma^2}+N\\log(\\sigma)\\to\\min,\n",
    "$$\n",
    "i.e. the estimate $\\hat{\\sigma}$ could be found as\n",
    "$$\n",
    "\\frac{\\partial\\left[\\frac{RSS(\\hat{w})}{2\\sigma^2}+N\\log(\\hat{\\sigma})\\right]}{\\partial \\hat{\\sigma}}=0,\n",
    "$$$$\n",
    "-\\frac{RSS(\\hat{w})}{\\hat{\\sigma}^3}+\\frac{N}{\\hat{\\sigma}}=0,\n",
    "$$$$\n",
    "\\hat{\\sigma}^2=\\frac{RSS(\\hat{w})}{N}. \\hspace{5ex} (4)\n",
    "$$\n",
    "\n",
    "Also an unbiased adjusted estimate is know to be\n",
    "$$\n",
    "\\hat{\\sigma}^2=\\frac{RSS(\\hat{w})}{N-n}. \\hspace{5ex} (4')\n",
    "$$"
   ]
  },
  {
   "cell_type": "markdown",
   "metadata": {},
   "source": [
    "# 2. Geometry of Least Squares\n",
    "\n",
    "According to (3), model estimates $\\hat{Y}$ corresponding to the given points in $X$ are\n",
    "$$\n",
    "\\hat{Y}=X \\hat{w}=X(X^T X)^{-1}X^T Y.\n",
    "$$\n",
    "This way matrix $H=X(X^T X)^{-1}X^T$ performs an ortogonal projection $HY$ of a given vector of observations $Y$ onto the linear space of all possible linear combinations of columns of $X$."
   ]
  },
  {
   "cell_type": "code",
   "execution_count": 1,
   "metadata": {
    "collapsed": false,
    "scrolled": true
   },
   "outputs": [
    {
     "name": "stdout",
     "output_type": "stream",
     "text": [
      "Populating the interactive namespace from numpy and matplotlib\n"
     ]
    },
    {
     "data": {
      "text/html": [
       "<div>\n",
       "<table border=\"1\" class=\"dataframe\">\n",
       "  <thead>\n",
       "    <tr style=\"text-align: right;\">\n",
       "      <th></th>\n",
       "      <th>y</th>\n",
       "      <th>x1</th>\n",
       "      <th>x2</th>\n",
       "      <th>x3</th>\n",
       "      <th>x4</th>\n",
       "      <th>x5</th>\n",
       "    </tr>\n",
       "  </thead>\n",
       "  <tbody>\n",
       "    <tr>\n",
       "      <th>1</th>\n",
       "      <td>0.891224</td>\n",
       "      <td>11.310117</td>\n",
       "      <td>7.304922</td>\n",
       "      <td>25.138700</td>\n",
       "      <td>51.186434</td>\n",
       "      <td>12.365874</td>\n",
       "    </tr>\n",
       "    <tr>\n",
       "      <th>2</th>\n",
       "      <td>1.529763</td>\n",
       "      <td>28.867388</td>\n",
       "      <td>-2.097258</td>\n",
       "      <td>15.338794</td>\n",
       "      <td>-14.225474</td>\n",
       "      <td>33.227090</td>\n",
       "    </tr>\n",
       "    <tr>\n",
       "      <th>3</th>\n",
       "      <td>0.720653</td>\n",
       "      <td>7.622209</td>\n",
       "      <td>8.467495</td>\n",
       "      <td>32.239993</td>\n",
       "      <td>-40.313527</td>\n",
       "      <td>10.333777</td>\n",
       "    </tr>\n",
       "    <tr>\n",
       "      <th>4</th>\n",
       "      <td>0.953661</td>\n",
       "      <td>17.399920</td>\n",
       "      <td>-4.881389</td>\n",
       "      <td>56.865684</td>\n",
       "      <td>52.465955</td>\n",
       "      <td>18.922631</td>\n",
       "    </tr>\n",
       "    <tr>\n",
       "      <th>5</th>\n",
       "      <td>-2.605897</td>\n",
       "      <td>-6.241537</td>\n",
       "      <td>-9.394398</td>\n",
       "      <td>22.004642</td>\n",
       "      <td>58.642567</td>\n",
       "      <td>-7.759056</td>\n",
       "    </tr>\n",
       "  </tbody>\n",
       "</table>\n",
       "</div>"
      ],
      "text/plain": [
       "          y         x1        x2         x3         x4         x5\n",
       "1  0.891224  11.310117  7.304922  25.138700  51.186434  12.365874\n",
       "2  1.529763  28.867388 -2.097258  15.338794 -14.225474  33.227090\n",
       "3  0.720653   7.622209  8.467495  32.239993 -40.313527  10.333777\n",
       "4  0.953661  17.399920 -4.881389  56.865684  52.465955  18.922631\n",
       "5 -2.605897  -6.241537 -9.394398  22.004642  58.642567  -7.759056"
      ]
     },
     "execution_count": 1,
     "metadata": {},
     "output_type": "execute_result"
    }
   ],
   "source": [
    "import numpy as np\n",
    "from numpy import random\n",
    "from scipy import stats\n",
    "import matplotlib.pyplot as plt\n",
    "%pylab inline\n",
    "import pandas as pd\n",
    "import statsmodels.formula.api as smf\n",
    "import urllib\n",
    "url = \"https://serv.cusp.nyu.edu/files/ADS-2015/MorningSection/lab3/L3.csv\"\n",
    "f = urllib.urlopen(url)\n",
    "data = pd.read_csv(f , index_col=0 )\n",
    "data.head()"
   ]
  },
  {
   "cell_type": "code",
   "execution_count": 2,
   "metadata": {
    "collapsed": false
   },
   "outputs": [],
   "source": [
    "validation=data[70:99]\n",
    "data=data[0:69]"
   ]
  },
  {
   "cell_type": "code",
   "execution_count": 5,
   "metadata": {
    "collapsed": false
   },
   "outputs": [
    {
     "name": "stdout",
     "output_type": "stream",
     "text": [
      "[[ -1.68381195e+00]\n",
      " [  4.02509812e-02]\n",
      " [  5.69635784e-02]\n",
      " [  2.08310806e-02]\n",
      " [  5.71625250e-04]\n",
      " [  5.67660653e-02]]\n"
     ]
    }
   ],
   "source": [
    "X=np.matrix(pd.DataFrame({'intercept':[1]*len(data.x1),'x1':data.x1,'x2':data.x2,'x3':data.x3,'x4':data.x4,'x5':data.x5}))\n",
    "Y=np.matrix(data.y).transpose()\n",
    "w=pow((X.transpose()*X),-1)*X.transpose()*Y\n",
    "print(w)"
   ]
  },
  {
   "cell_type": "code",
   "execution_count": 4,
   "metadata": {
    "collapsed": false
   },
   "outputs": [
    {
     "name": "stdout",
     "output_type": "stream",
     "text": [
      "                            OLS Regression Results                            \n",
      "==============================================================================\n",
      "Dep. Variable:                      y   R-squared:                       0.961\n",
      "Model:                            OLS   Adj. R-squared:                  0.958\n",
      "Method:                 Least Squares   F-statistic:                     310.7\n",
      "Date:                Mon, 28 Sep 2015   Prob (F-statistic):           5.42e-43\n",
      "Time:                        07:39:37   Log-Likelihood:                 10.821\n",
      "No. Observations:                  69   AIC:                            -9.643\n",
      "Df Residuals:                      63   BIC:                             3.762\n",
      "Df Model:                           5                                         \n",
      "Covariance Type:            nonrobust                                         \n",
      "==============================================================================\n",
      "                 coef    std err          t      P>|t|      [95.0% Conf. Int.]\n",
      "------------------------------------------------------------------------------\n",
      "Intercept     -1.6838      0.062    -27.096      0.000        -1.808    -1.560\n",
      "x1             0.0403      0.035      1.153      0.253        -0.030     0.110\n",
      "x2             0.0570      0.003     18.162      0.000         0.051     0.063\n",
      "x3             0.0208      0.001     14.744      0.000         0.018     0.024\n",
      "x4             0.0006      0.001      0.777      0.440        -0.001     0.002\n",
      "x5             0.0568      0.031      1.807      0.076        -0.006     0.120\n",
      "==============================================================================\n",
      "Omnibus:                        1.919   Durbin-Watson:                   2.249\n",
      "Prob(Omnibus):                  0.383   Jarque-Bera (JB):                1.280\n",
      "Skew:                          -0.306   Prob(JB):                        0.527\n",
      "Kurtosis:                       3.268   Cond. No.                         113.\n",
      "==============================================================================\n",
      "\n",
      "Warnings:\n",
      "[1] Standard Errors assume that the covariance matrix of the errors is correctly specified.\n"
     ]
    },
    {
     "data": {
      "text/plain": [
       "[<matplotlib.lines.Line2D at 0x10ac4efd0>]"
      ]
     },
     "execution_count": 4,
     "metadata": {},
     "output_type": "execute_result"
    },
    {
     "data": {
      "image/png": "[encoded data removed]",
      "text/plain": [
       "<matplotlib.figure.Figure at 0x10ac5cf90>"
      ]
     },
     "metadata": {},
     "output_type": "display_data"
    }
   ],
   "source": [
    "lm = smf.ols(formula='y ~ x1+x2+x3+x4+x5', data = data).fit()\n",
    "print(lm.summary())\n",
    "lmy = lm.predict(data)\n",
    "plt.plot(lmy,data.y,'or')\n",
    "plt.plot(lmy,lmy,'-b')   "
   ]
  },
  {
   "cell_type": "markdown",
   "metadata": {},
   "source": [
    "# 3 Explanations of regression statistics\n",
    "\n",
    "### R-squared\n",
    "\n",
    "In the same way as for the bi-variate regression:\n",
    "$$\n",
    "R^2=1-\\frac{RSS}{\\sum\\limits_i (y_i-\\overline{y})^2}=\\frac{\\sum\\limits_i (\\hat{y}_i-\\overline{y})^2}{\\sum\\limits_i (y_i-\\overline{y})^2},\n",
    "$$\n",
    "where $\\overline{y}=\\sum\\limits_i y_i$ is the sample mean of observed values of responce variable. This way $R^2$ is often interpreted as a fraction of responce variable's variance explained by linear model. $R^2=1$ is equivalent to $RSS=0$, i.e. the model fits the observations exactly, i.e. responce variable depends linearly on the explaining variables. On the other hand, $R^2=0$ means that the model always predicts the sample mean $\\overline{y}$, i.e. explaining variables $x$ have no effect on responce variable $y$. \n",
    "\n",
    "Least-square criteria is equivalent to maximizing $R^2$.\n",
    "\n",
    "### Confidence intervals\n",
    "As before uncertainty of the model predictions comes together with the uncertainty of the model coefficients' estimates $\\hat{w}$. The last, treated as a random vector has a variance-covariance matrix \n",
    "$$\n",
    "Var(\\hat{w})=(X^T X)^{-1}\\sigma^2,\n",
    "$$\n",
    "while for $\\sigma^2$ we can use one of the estimates (4) or (4') - usually the last unbiased one.\n",
    "\n",
    "Based on this estimate as well as the normality of $\\hat{w}$ distribution, the confidence intervals for each $\\hat{w}_j$ are constructred (i.e. ranges containing the \"true\" value of $w_j$ with a certain level of confidence $1-\\alpha$.\n",
    "\n",
    "### Hypothesis testing: P-values, t-statistics and F-statistics\n",
    "\n",
    "For each estimate $\\hat{w}_i$ and the hypothesized value $w_i^*$ (often $w_i^*=0$), the corresponding $t$-statistics is defined as\n",
    "$$\n",
    "t=\\frac{w_i^*-\\hat{w}_i}{\\sqrt{Var[\\hat{w}_i]}}.\n",
    "$$\n",
    "Based on the value of $t$-statistics, which is known to follow Students distribution (approximately normal for large $N$), the $p$-value is defined to show our confidence that the observed deviation of the estimate $\\hat{w}_i$ from a hypothesized value $w_i^*$ is simply a matter of chance (specifically it denotes a probabiity of having the absolute value of the $t$-statistics for the true value $w_i$ modulo higher than the observed one. \n",
    "\n",
    "This way once $p$-value (confidence level for the hypothesis) is lower than a certain threshold (typically $5\\%$), the hypothesis of having the true value of $w_i$ to be $w_i^*$ is rejected.\n",
    "\n",
    "The most common example is assuming a null-hypothesis $w_i^*=0$, meaning that explaining variable $x_i$ has actually no impact on the response variable $y$. Those $p$-values for the null-hypothesis are reported by R and python for every regressor $x_i$ in order to show if the impact of the considered regressor is statistically significant. \n",
    "\n",
    "In the same way as for the bi-variate regression, low $p$-values do not prove that: 1) impact of $x_i$ on $y$ is actually linear, or that 2) the estimate we have for the coefficient $w_i$ is the true one. In turn, having high value of $p$-value by itself does not prove that $y$ is independent on $x_i$ (first of all linear effect could be there, just disguised by noise, second - the effect could be non-linear).\n",
    "\n",
    "Regressors having high $p$-values are usually excluded from the model in order to stay free from the random insignificnt effects, reducing the risk of overfitting (this is however not the only way of fighting it).\n",
    "\n",
    "However often we need to test the significance of a subgroup of regressors together (or all of the regressors) testing the entire model against the null-hypothesis that a model based on a smaller subset of $m$ regressors (or just the intercept) of the regressors actually performs not worse than the original one.  The following $F$-statistics helps with that:\n",
    "$$\n",
    "F=\\frac{(RSS_0-RSS_1)(N-n)}{RSS_1\\cdot (n-m)},\n",
    "$$\n",
    "where $RSS_1$ is the optimal (least-square) $RSS$ value for the original regression and $RSS_0$ - is the optimal $RSS$ value of the regression based on the considered subset of $m$ regressors (testing the hypothesis that only those $m$ regressors are significant). R and python will report the value of $F$ for the null-hypothesis that only the intercept is significant, as well as the $p$-value characterizing this $F$-statistics.\n",
    "\n"
   ]
  },
  {
   "cell_type": "code",
   "execution_count": 5,
   "metadata": {
    "collapsed": false,
    "scrolled": true
   },
   "outputs": [
    {
     "name": "stdout",
     "output_type": "stream",
     "text": [
      "0.35034933666\n"
     ]
    },
    {
     "data": {
      "image/png": "[encoded data removed]",
      "text/plain": [
       "<matplotlib.figure.Figure at 0x10ad00e10>"
      ]
     },
     "metadata": {},
     "output_type": "display_data"
    }
   ],
   "source": [
    "lmy = lm.predict(validation)\n",
    "plt.plot(lmy,validation.y,'or')\n",
    "plt.plot(lmy,lmy,'-b')\n",
    "R2=1-sum(pow(lmy-validation.y,2))/sum(pow(validation.y-mean(validation.y),2))\n",
    "print(R2)"
   ]
  },
  {
   "cell_type": "code",
   "execution_count": 6,
   "metadata": {
    "collapsed": false,
    "scrolled": true
   },
   "outputs": [
    {
     "data": {
      "text/html": [
       "<table class=\"simpletable\">\n",
       "<caption>OLS Regression Results</caption>\n",
       "<tr>\n",
       "  <th>Dep. Variable:</th>            <td>y</td>        <th>  R-squared:         </th> <td>   0.959</td>\n",
       "</tr>\n",
       "<tr>\n",
       "  <th>Model:</th>                   <td>OLS</td>       <th>  Adj. R-squared:    </th> <td>   0.957</td>\n",
       "</tr>\n",
       "<tr>\n",
       "  <th>Method:</th>             <td>Least Squares</td>  <th>  F-statistic:       </th> <td>   504.2</td>\n",
       "</tr>\n",
       "<tr>\n",
       "  <th>Date:</th>             <td>Mon, 28 Sep 2015</td> <th>  Prob (F-statistic):</th> <td>6.15e-45</td>\n",
       "</tr>\n",
       "<tr>\n",
       "  <th>Time:</th>                 <td>07:39:38</td>     <th>  Log-Likelihood:    </th> <td>  8.9055</td>\n",
       "</tr>\n",
       "<tr>\n",
       "  <th>No. Observations:</th>      <td>    69</td>      <th>  AIC:               </th> <td>  -9.811</td>\n",
       "</tr>\n",
       "<tr>\n",
       "  <th>Df Residuals:</th>          <td>    65</td>      <th>  BIC:               </th> <td> -0.8745</td>\n",
       "</tr>\n",
       "<tr>\n",
       "  <th>Df Model:</th>              <td>     3</td>      <th>                     </th>     <td> </td>   \n",
       "</tr>\n",
       "<tr>\n",
       "  <th>Covariance Type:</th>      <td>nonrobust</td>    <th>                     </th>     <td> </td>   \n",
       "</tr>\n",
       "</table>\n",
       "<table class=\"simpletable\">\n",
       "<tr>\n",
       "      <td></td>         <th>coef</th>     <th>std err</th>      <th>t</th>      <th>P>|t|</th> <th>[95.0% Conf. Int.]</th> \n",
       "</tr>\n",
       "<tr>\n",
       "  <th>Intercept</th> <td>   -1.6639</td> <td>    0.060</td> <td>  -27.581</td> <td> 0.000</td> <td>   -1.784    -1.543</td>\n",
       "</tr>\n",
       "<tr>\n",
       "  <th>x1</th>        <td>    0.1024</td> <td>    0.004</td> <td>   24.394</td> <td> 0.000</td> <td>    0.094     0.111</td>\n",
       "</tr>\n",
       "<tr>\n",
       "  <th>x2</th>        <td>    0.0602</td> <td>    0.003</td> <td>   23.206</td> <td> 0.000</td> <td>    0.055     0.065</td>\n",
       "</tr>\n",
       "<tr>\n",
       "  <th>x3</th>        <td>    0.0219</td> <td>    0.001</td> <td>   16.730</td> <td> 0.000</td> <td>    0.019     0.025</td>\n",
       "</tr>\n",
       "</table>\n",
       "<table class=\"simpletable\">\n",
       "<tr>\n",
       "  <th>Omnibus:</th>       <td> 0.939</td> <th>  Durbin-Watson:     </th> <td>   2.253</td>\n",
       "</tr>\n",
       "<tr>\n",
       "  <th>Prob(Omnibus):</th> <td> 0.625</td> <th>  Jarque-Bera (JB):  </th> <td>   0.890</td>\n",
       "</tr>\n",
       "<tr>\n",
       "  <th>Skew:</th>          <td>-0.266</td> <th>  Prob(JB):          </th> <td>   0.641</td>\n",
       "</tr>\n",
       "<tr>\n",
       "  <th>Kurtosis:</th>      <td> 2.835</td> <th>  Cond. No.          </th> <td>    83.2</td>\n",
       "</tr>\n",
       "</table>"
      ],
      "text/plain": [
       "<class 'statsmodels.iolib.summary.Summary'>\n",
       "\"\"\"\n",
       "                            OLS Regression Results                            \n",
       "==============================================================================\n",
       "Dep. Variable:                      y   R-squared:                       0.959\n",
       "Model:                            OLS   Adj. R-squared:                  0.957\n",
       "Method:                 Least Squares   F-statistic:                     504.2\n",
       "Date:                Mon, 28 Sep 2015   Prob (F-statistic):           6.15e-45\n",
       "Time:                        07:39:38   Log-Likelihood:                 8.9055\n",
       "No. Observations:                  69   AIC:                            -9.811\n",
       "Df Residuals:                      65   BIC:                           -0.8745\n",
       "Df Model:                           3                                         \n",
       "Covariance Type:            nonrobust                                         \n",
       "==============================================================================\n",
       "                 coef    std err          t      P>|t|      [95.0% Conf. Int.]\n",
       "------------------------------------------------------------------------------\n",
       "Intercept     -1.6639      0.060    -27.581      0.000        -1.784    -1.543\n",
       "x1             0.1024      0.004     24.394      0.000         0.094     0.111\n",
       "x2             0.0602      0.003     23.206      0.000         0.055     0.065\n",
       "x3             0.0219      0.001     16.730      0.000         0.019     0.025\n",
       "==============================================================================\n",
       "Omnibus:                        0.939   Durbin-Watson:                   2.253\n",
       "Prob(Omnibus):                  0.625   Jarque-Bera (JB):                0.890\n",
       "Skew:                          -0.266   Prob(JB):                        0.641\n",
       "Kurtosis:                       2.835   Cond. No.                         83.2\n",
       "==============================================================================\n",
       "\n",
       "Warnings:\n",
       "[1] Standard Errors assume that the covariance matrix of the errors is correctly specified.\n",
       "\"\"\""
      ]
     },
     "execution_count": 6,
     "metadata": {},
     "output_type": "execute_result"
    }
   ],
   "source": [
    "lm2 = smf.ols(formula='y ~ x1+x2+x3', data = data).fit()\n",
    "lm2.summary()"
   ]
  },
  {
   "cell_type": "code",
   "execution_count": 7,
   "metadata": {
    "collapsed": false
   },
   "outputs": [
    {
     "name": "stdout",
     "output_type": "stream",
     "text": [
      "0.93761137509\n"
     ]
    },
    {
     "data": {
      "image/png": "[encoded data removed]",
      "text/plain": [
       "<matplotlib.figure.Figure at 0x1089bcf50>"
      ]
     },
     "metadata": {},
     "output_type": "display_data"
    }
   ],
   "source": [
    "lmy2 = lm2.predict(validation)\n",
    "plt.plot(lmy2,validation.y,'or')\n",
    "plt.plot(lmy2,lmy2,'-b')\n",
    "R2=1-sum(pow(lmy2-validation.y,2))/sum(pow(validation.y-mean(validation.y),2))\n",
    "print(R2)"
   ]
  },
  {
   "cell_type": "markdown",
   "metadata": {},
   "source": [
    "#### 4. Feature scaling\n",
    "\n",
    "Often in order to get some sense out of the values of $w_j$ one might want to normalize the features first, brinding them on the same scale. For example one can standardszation, transforming independent variables into their standard scores (also called z-scores, normal scores):\n",
    "$$\n",
    "x_j^*=\\frac{x_j-\\overline{x}_j}{\\sigma_j}\n",
    "$$\n",
    "where $\\overline{x}_j=E[X_j]$ and $\\sigma_j=std[X_j]$ are the corresponding sample mean and standard deviation. This however does not apply to a constant dummy variable corresponding to the intercept term if present. One might omit this dummy variable in case if responce variable is also standardized (then it's mean is also zero and there is no need for an intercept). \n",
    "\n",
    "Then, the resulting coefficients $\\hat{w}_j$ could be interpreted as a relative (or absolute if the output variable is also standardized) strength of each regressor's impact on the responce variable $x_j$."
   ]
  },
  {
   "cell_type": "code",
   "execution_count": 8,
   "metadata": {
    "collapsed": false
   },
   "outputs": [
    {
     "data": {
      "text/html": [
       "<table class=\"simpletable\">\n",
       "<caption>OLS Regression Results</caption>\n",
       "<tr>\n",
       "  <th>Dep. Variable:</th>            <td>y</td>        <th>  R-squared:         </th> <td>   0.956</td>\n",
       "</tr>\n",
       "<tr>\n",
       "  <th>Model:</th>                   <td>OLS</td>       <th>  Adj. R-squared:    </th> <td>   0.955</td>\n",
       "</tr>\n",
       "<tr>\n",
       "  <th>Method:</th>             <td>Least Squares</td>  <th>  F-statistic:       </th> <td>   701.8</td>\n",
       "</tr>\n",
       "<tr>\n",
       "  <th>Date:</th>             <td>Mon, 28 Sep 2015</td> <th>  Prob (F-statistic):</th> <td>3.87e-65</td>\n",
       "</tr>\n",
       "<tr>\n",
       "  <th>Time:</th>                 <td>07:39:38</td>     <th>  Log-Likelihood:    </th> <td>  14.729</td>\n",
       "</tr>\n",
       "<tr>\n",
       "  <th>No. Observations:</th>      <td>   100</td>      <th>  AIC:               </th> <td>  -21.46</td>\n",
       "</tr>\n",
       "<tr>\n",
       "  <th>Df Residuals:</th>          <td>    96</td>      <th>  BIC:               </th> <td>  -11.04</td>\n",
       "</tr>\n",
       "<tr>\n",
       "  <th>Df Model:</th>              <td>     3</td>      <th>                     </th>     <td> </td>   \n",
       "</tr>\n",
       "<tr>\n",
       "  <th>Covariance Type:</th>      <td>nonrobust</td>    <th>                     </th>     <td> </td>   \n",
       "</tr>\n",
       "</table>\n",
       "<table class=\"simpletable\">\n",
       "<tr>\n",
       "      <td></td>         <th>coef</th>     <th>std err</th>      <th>t</th>      <th>P>|t|</th> <th>[95.0% Conf. Int.]</th> \n",
       "</tr>\n",
       "<tr>\n",
       "  <th>Intercept</th> <td> 3.469e-18</td> <td>    0.021</td> <td> 1.63e-16</td> <td> 1.000</td> <td>   -0.042     0.042</td>\n",
       "</tr>\n",
       "<tr>\n",
       "  <th>x1</th>        <td>    0.6292</td> <td>    0.021</td> <td>   29.522</td> <td> 0.000</td> <td>    0.587     0.672</td>\n",
       "</tr>\n",
       "<tr>\n",
       "  <th>x2</th>        <td>    0.6303</td> <td>    0.021</td> <td>   29.571</td> <td> 0.000</td> <td>    0.588     0.673</td>\n",
       "</tr>\n",
       "<tr>\n",
       "  <th>x3</th>        <td>    0.4040</td> <td>    0.021</td> <td>   18.955</td> <td> 0.000</td> <td>    0.362     0.446</td>\n",
       "</tr>\n",
       "</table>\n",
       "<table class=\"simpletable\">\n",
       "<tr>\n",
       "  <th>Omnibus:</th>       <td> 0.658</td> <th>  Durbin-Watson:     </th> <td>   2.293</td>\n",
       "</tr>\n",
       "<tr>\n",
       "  <th>Prob(Omnibus):</th> <td> 0.720</td> <th>  Jarque-Bera (JB):  </th> <td>   0.592</td>\n",
       "</tr>\n",
       "<tr>\n",
       "  <th>Skew:</th>          <td>-0.185</td> <th>  Prob(JB):          </th> <td>   0.744</td>\n",
       "</tr>\n",
       "<tr>\n",
       "  <th>Kurtosis:</th>      <td> 2.925</td> <th>  Cond. No.          </th> <td>    1.00</td>\n",
       "</tr>\n",
       "</table>"
      ],
      "text/plain": [
       "<class 'statsmodels.iolib.summary.Summary'>\n",
       "\"\"\"\n",
       "                            OLS Regression Results                            \n",
       "==============================================================================\n",
       "Dep. Variable:                      y   R-squared:                       0.956\n",
       "Model:                            OLS   Adj. R-squared:                  0.955\n",
       "Method:                 Least Squares   F-statistic:                     701.8\n",
       "Date:                Mon, 28 Sep 2015   Prob (F-statistic):           3.87e-65\n",
       "Time:                        07:39:38   Log-Likelihood:                 14.729\n",
       "No. Observations:                 100   AIC:                            -21.46\n",
       "Df Residuals:                      96   BIC:                            -11.04\n",
       "Df Model:                           3                                         \n",
       "Covariance Type:            nonrobust                                         \n",
       "==============================================================================\n",
       "                 coef    std err          t      P>|t|      [95.0% Conf. Int.]\n",
       "------------------------------------------------------------------------------\n",
       "Intercept   3.469e-18      0.021   1.63e-16      1.000        -0.042     0.042\n",
       "x1             0.6292      0.021     29.522      0.000         0.587     0.672\n",
       "x2             0.6303      0.021     29.571      0.000         0.588     0.673\n",
       "x3             0.4040      0.021     18.955      0.000         0.362     0.446\n",
       "==============================================================================\n",
       "Omnibus:                        0.658   Durbin-Watson:                   2.293\n",
       "Prob(Omnibus):                  0.720   Jarque-Bera (JB):                0.592\n",
       "Skew:                          -0.185   Prob(JB):                        0.744\n",
       "Kurtosis:                       2.925   Cond. No.                         1.00\n",
       "==============================================================================\n",
       "\n",
       "Warnings:\n",
       "[1] Standard Errors assume that the covariance matrix of the errors is correctly specified.\n",
       "\"\"\""
      ]
     },
     "execution_count": 8,
     "metadata": {},
     "output_type": "execute_result"
    },
    {
     "data": {
      "image/png": "[encoded data removed]",
      "text/plain": [
       "<matplotlib.figure.Figure at 0x106ec2a10>"
      ]
     },
     "metadata": {},
     "output_type": "display_data"
    }
   ],
   "source": [
    "f = urllib.urlopen(url)\n",
    "data = pd.read_csv(f , index_col=0 )\n",
    "data.x1=(data.x1-mean(data.x1))/std(data.x1)\n",
    "data.x2=(data.x2-mean(data.x2))/std(data.x2)\n",
    "data.x3=(data.x3-mean(data.x3))/std(data.x3)\n",
    "#data.x4=(data.x4-mean(data.x4))/std(data.x4)\n",
    "#data.x5=(data.x5-mean(data.x5))/std(data.x5)\n",
    "lm = smf.ols(formula='y ~ x1 + x2 + x3 ', data = data).fit()\n",
    "lmy = lm.predict(data)\n",
    "plt.plot(lmy,data.y,'or')\n",
    "plt.plot(lmy,lmy,'-b') \n",
    "lm.summary()"
   ]
  },
  {
   "cell_type": "markdown",
   "metadata": {},
   "source": [
    "##### 5. Case of orthogonal regressors\n",
    "\n",
    "Consider a particular case of orthogonal regressors. I.e. suppose that for each pair of $j\\neq k$ the inner product equals to zero: $<X_j,X_k>=X_j^T X_k=\\sum\\limits_i x_j^i x_k^i=0$. For the standardized regressors orthogonality is equivalent to being uncorrelated; more generally if at least one of the regressors $x_j$ is standardized (consequently $E[X_j]=0$) then:\n",
    "$$\n",
    "0=corr[X_j,X_k]=\\frac{Cov[X_j,X_k]}{std[X_j]std[X_k]}=\\frac{<X_j,X_k>/N-E[X_j]E[X_k]}{std[X_j]std[X_k]}=\\frac{<X_j,X_k>}{N std[X_j]std[X_k]}.\n",
    "$$\n",
    "In that case it is possible to show that least square estimate for the multiple regression could be built from a set of univariate regressions of $y$ vs each of the regressors $x_j$ taken separately. Then\n",
    "$$\n",
    "\\hat{w_j}=\\frac{X_j^T Y}{X_j^T X_j}.\n",
    "$$\n",
    "If $X_j$ is also standardized, so that $E[X_j]=0$ and $Var[X_j]=1$, the above could be re-written as\n",
    "$$\n",
    "\\hat{w_j}=Cov[X_j,Y].\n",
    "$$\n",
    "Also this way \n",
    "$$\n",
    "Var[Y]=Var[\\varepsilon]+\\sum_j Var[w_j X_j]=\\sigma^2+\\sum_j w_j^2.\n",
    "$$\n",
    "This gives a very intuitive interpretation of the regression coefficients (or actually their squares) as a decomposition of the explained part of responce variable's variation $Var[Y]-\\sigma^2$. \n",
    "\n",
    "However this works only for the basic least-square estimates $w=\\hat{w}$, $\\sigma=\\hat{\\sigma}$. While depending on the estimation technique used for $\\hat{w}$ and $\\hat{\\sigma}$ (like using unbiased estimates for example), this equation might only hold approximately.\n",
    "\n",
    "If $Y$ is also standardized then $\\hat{w_j}=corr[X_j,Y]$, i.e. coefficients of such a regression are simply the correlation coefficients of observed sample of responce variable vs each of the regressors. So basically the multivariate regression with ortognal standardized regressors and standardized responce variable could be expressed as\n",
    "$$\n",
    "y=\\sum\\limits_j corr[X_j,Y] x_j+\\varepsilon.\n",
    "$$\n",
    "This way the regression coefficients are simply the correlations between corresponding regressors and the responce variable's observations.\n",
    "\n",
    "Although the case of ortogonal (uncorrelated) regressors seems to be quite a special one, during the next session, we'll see that actually every regression could be transformed to such a case through a principle component decomposition.\n"
   ]
  },
  {
   "cell_type": "code",
   "execution_count": 9,
   "metadata": {
    "collapsed": false
   },
   "outputs": [
    {
     "name": "stdout",
     "output_type": "stream",
     "text": [
      "[[ True False False]\n",
      " [False  True False]\n",
      " [False False  True]]\n"
     ]
    }
   ],
   "source": [
    "X=np.matrix(data)\n",
    "cov=(X[:,1:4]).transpose()*(X[:,1:4])/100\n",
    "print(cov>1e-10)\n"
   ]
  },
  {
   "cell_type": "code",
   "execution_count": 10,
   "metadata": {
    "collapsed": false
   },
   "outputs": [
    {
     "name": "stdout",
     "output_type": "stream",
     "text": [
      "[0.62922709919908482, 0.6302734204848206, 0.40400262897736416]\n",
      "Intercept    3.469447e-18\n",
      "x1           6.292271e-01\n",
      "x2           6.302734e-01\n",
      "x3           4.040026e-01\n",
      "dtype: float64\n"
     ]
    }
   ],
   "source": [
    "w1=sum(data.y*data.x1)/100\n",
    "w2=sum(data.y*data.x2)/100\n",
    "w3=sum(data.y*data.x3)/100\n",
    "print([w1,w2,w3])\n",
    "print(lm.params)"
   ]
  },
  {
   "cell_type": "code",
   "execution_count": 11,
   "metadata": {
    "collapsed": false,
    "scrolled": true
   },
   "outputs": [
    {
     "name": "stdout",
     "output_type": "stream",
     "text": [
      "[[ 0.6292271   0.63027342  0.40400263]]\n"
     ]
    }
   ],
   "source": [
    "print(X[:,0].transpose()*X[:,1:4]/100)"
   ]
  },
  {
   "cell_type": "code",
   "execution_count": 12,
   "metadata": {
    "collapsed": false,
    "scrolled": true
   },
   "outputs": [
    {
     "name": "stdout",
     "output_type": "stream",
     "text": [
      "(0.95638945117576046, 0.95638945112596707)\n"
     ]
    }
   ],
   "source": [
    "print(std(data.y)-sum(pow(lm.resid,2))/100,sum(pow(lm.params,2)))"
   ]
  },
  {
   "cell_type": "markdown",
   "metadata": {},
   "source": [
    "# 6. Non-linear polynimial regression \n",
    "\n",
    "Multi-variate linear regression could be also used in order to fit non-linear models, such as polynomial one for example. If one needs to fit a dependence of \n",
    "$$\n",
    "y=w_m*x^m + w_{m-1} x^{m-1} + \\ldots + w_1 x + w_0+\\epsilon,\n",
    "$$\n",
    "one way of doing that it thourgh a multi-variate regression, selecting \n",
    "$$\n",
    "y\\sim 1,x,x^2,\\ldots,x^{m}\n",
    "$$ \n",
    "as $m+1$ features. Similarly a polinomial form of several variables could be fit, like \n",
    "$$\n",
    "y\\sim w_{2,0}x_1^2+w_{1,1}x_1 x_2+w_{2,0}x_2^2+w_{1,0}x_1+w_{0,1}x_2+w_{0,0}\n",
    "$$\n",
    "could be handled over a feature space including\n",
    "$$\n",
    "y\\sim 1,x_1,x_2,x_1^2,x_2^2,x_1 x_2.\n",
    "$$"
   ]
  },
  {
   "cell_type": "code",
   "execution_count": 13,
   "metadata": {
    "collapsed": false
   },
   "outputs": [
    {
     "data": {
      "text/html": [
       "<div>\n",
       "<table border=\"1\" class=\"dataframe\">\n",
       "  <thead>\n",
       "    <tr style=\"text-align: right;\">\n",
       "      <th></th>\n",
       "      <th>x</th>\n",
       "      <th>y</th>\n",
       "    </tr>\n",
       "  </thead>\n",
       "  <tbody>\n",
       "    <tr>\n",
       "      <th>1</th>\n",
       "      <td>0.037037</td>\n",
       "      <td>1.119662</td>\n",
       "    </tr>\n",
       "    <tr>\n",
       "      <th>2</th>\n",
       "      <td>1.317515</td>\n",
       "      <td>5.580618</td>\n",
       "    </tr>\n",
       "    <tr>\n",
       "      <th>3</th>\n",
       "      <td>0.738433</td>\n",
       "      <td>2.824372</td>\n",
       "    </tr>\n",
       "    <tr>\n",
       "      <th>4</th>\n",
       "      <td>1.310157</td>\n",
       "      <td>5.851272</td>\n",
       "    </tr>\n",
       "    <tr>\n",
       "      <th>5</th>\n",
       "      <td>0.295572</td>\n",
       "      <td>1.641788</td>\n",
       "    </tr>\n",
       "  </tbody>\n",
       "</table>\n",
       "</div>"
      ],
      "text/plain": [
       "          x         y\n",
       "1  0.037037  1.119662\n",
       "2  1.317515  5.580618\n",
       "3  0.738433  2.824372\n",
       "4  1.310157  5.851272\n",
       "5  0.295572  1.641788"
      ]
     },
     "execution_count": 13,
     "metadata": {},
     "output_type": "execute_result"
    }
   ],
   "source": [
    "url2 = \"https://serv.cusp.nyu.edu/files/ADS-2015/MorningSection/lab3/L32.csv\"\n",
    "f2 = urllib.urlopen(url2)\n",
    "data2 = pd.read_csv(f2 , index_col=0 )\n",
    "data2.head()"
   ]
  },
  {
   "cell_type": "code",
   "execution_count": 14,
   "metadata": {
    "collapsed": false
   },
   "outputs": [
    {
     "data": {
      "text/plain": [
       "[<matplotlib.lines.Line2D at 0x10b0a41d0>]"
      ]
     },
     "execution_count": 14,
     "metadata": {},
     "output_type": "execute_result"
    },
    {
     "data": {
      "image/png": "[encoded data removed]",
      "text/plain": [
       "<matplotlib.figure.Figure at 0x10ad5ddd0>"
      ]
     },
     "metadata": {},
     "output_type": "display_data"
    }
   ],
   "source": [
    "plt.plot(data2.x,data2.y,'o')"
   ]
  },
  {
   "cell_type": "code",
   "execution_count": 15,
   "metadata": {
    "collapsed": false
   },
   "outputs": [
    {
     "name": "stdout",
     "output_type": "stream",
     "text": [
      "                            OLS Regression Results                            \n",
      "==============================================================================\n",
      "Dep. Variable:                      y   R-squared:                       0.996\n",
      "Model:                            OLS   Adj. R-squared:                  0.996\n",
      "Method:                 Least Squares   F-statistic:                 1.207e+04\n",
      "Date:                Mon, 28 Sep 2015   Prob (F-statistic):          5.21e-117\n",
      "Time:                        07:39:39   Log-Likelihood:                 13.654\n",
      "No. Observations:                 100   AIC:                            -21.31\n",
      "Df Residuals:                      97   BIC:                            -13.49\n",
      "Df Model:                           2                                         \n",
      "Covariance Type:            nonrobust                                         \n",
      "==============================================================================\n",
      "                 coef    std err          t      P>|t|      [95.0% Conf. Int.]\n",
      "------------------------------------------------------------------------------\n",
      "Intercept      1.7216      0.061     28.197      0.000         1.600     1.843\n",
      "x             -1.4924      0.149     -9.995      0.000        -1.789    -1.196\n",
      "x2             3.5211      0.074     47.529      0.000         3.374     3.668\n",
      "==============================================================================\n",
      "Omnibus:                        4.568   Durbin-Watson:                   2.065\n",
      "Prob(Omnibus):                  0.102   Jarque-Bera (JB):                2.383\n",
      "Skew:                          -0.071   Prob(JB):                        0.304\n",
      "Kurtosis:                       2.257   Cond. No.                         18.0\n",
      "==============================================================================\n",
      "\n",
      "Warnings:\n",
      "[1] Standard Errors assume that the covariance matrix of the errors is correctly specified.\n"
     ]
    },
    {
     "data": {
      "text/plain": [
       "[<matplotlib.lines.Line2D at 0x10acd4490>]"
      ]
     },
     "execution_count": 15,
     "metadata": {},
     "output_type": "execute_result"
    },
    {
     "data": {
      "image/png": "[encoded data removed]",
      "text/plain": [
       "<matplotlib.figure.Figure at 0x10ad37b50>"
      ]
     },
     "metadata": {},
     "output_type": "display_data"
    }
   ],
   "source": [
    "data2['x2']=pow(data2.x,2)\n",
    "lm2 = smf.ols(formula='y ~ x+x2', data = data2).fit()\n",
    "print(lm2.summary())\n",
    "lmy2 = lm2.predict(data2)\n",
    "plt.plot(data2.x,data2.y,'ob')\n",
    "plt.plot(data2.x,lmy2,'*r') "
   ]
  },
  {
   "cell_type": "code",
   "execution_count": null,
   "metadata": {
    "collapsed": true
   },
   "outputs": [],
   "source": []
  }
 ],
 "metadata": {
  "kernelspec": {
   "display_name": "Python 2",
   "language": "python",
   "name": "python2"
  },
  "language_info": {
   "codemirror_mode": {
    "name": "ipython",
    "version": 2
   },
   "file_extension": ".py",
   "mimetype": "text/x-python",
   "name": "python",
   "nbconvert_exporter": "python",
   "pygments_lexer": "ipython2",
   "version": "2.7.10"
  }
 },
 "nbformat": 4,
 "nbformat_minor": 0
}
