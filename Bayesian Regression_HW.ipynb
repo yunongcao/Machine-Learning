{
 "cells": [
  {
   "cell_type": "markdown",
   "metadata": {},
   "source": [
    "# Task 1 (5% credit) \n",
    "Provide a definition for the concept of a conjugate prior given the Bayesian learning model. What is the conjugate prior for the univariate linear regression $y\\sim {\\cal N}(wx,\\sigma^2)$ with a fixed $\\sigma$?\n",
    "\n",
    "A class of prior distributions in called conjugate with respect to a Bayesian learning model if for each prior of the considered class, the corresponding posterior will also belong to this class. This way the conjugate prior for the univariate linear regression with a fixed $\\sigma$ is a normal distribution.\n"
   ]
  },
  {
   "cell_type": "markdown",
   "metadata": {},
   "source": [
    "# Task 2 (5% credit). \n",
    "Which prior in the Bayesian linear regression framework leads to: a) Ridge regression, b) Lasso regression?\n",
    "\n",
    "\n",
    "a) Normal prior $w_j\\sim{\\cal N}(0,\\sigma/\\sqrt{\\lambda})$, \n",
    "\n",
    "b) Laplacian prior $p(w_j)\\sim e^{-\\lambda|w_j|/\\sigma}$.\n",
    "\n"
   ]
  },
  {
   "cell_type": "markdown",
   "metadata": {},
   "source": [
    "# Task 3 (10% credit). \n",
    "Answer some questions about the properties of Lasso/Ridge:\n",
    "\n",
    "a) Which of the Lasso and Ridge regressions possess an analytic solution in the closed form?\n",
    "\n",
    "Ridge does:\n",
    "$$\n",
    "\\hat{w}=(X^T X+\\lambda I)^{-1}X^T Y, \n",
    "$$\n",
    "while Lasso does not.\n",
    "\n",
    "\n",
    "b) Which of the Lasso and Ridge regressions often use to completely eliminate coefficients for some of the regressors?\n",
    "\n",
    "Lasso.\n",
    "\n",
    "c) Which value of $\\lambda$ makes Lasso and Ridge identical to the ordinary least square regression?\n",
    "\n",
    "$\\lambda=0$\n",
    "\n",
    "d) What dataset (training, validation or test) you would use to estimate the $\\lambda$ for Lasso or Ridge?\n",
    "\n",
    "Validation set"
   ]
  },
  {
   "cell_type": "markdown",
   "metadata": {},
   "source": [
    "# Task 4 (15% credit). \n",
    "Consider a Bayesian univariate linear regression $y\\sim {\\cal N}(wx,\\sigma^2)$ with a given $\\sigma=1$ and the prior $w\\sim {\\cal N}(5,1)$. Compute the posterior distribution after an observation $y=12,x=2$. After all, what is the probability of having $w<5$?\n",
    "\n",
    "The posterior will take form:\n",
    "$$\n",
    "\\hat{w}\\sim {\\cal N}\\left(\\frac{ \\sigma^{-2} \\sum_i y_i x_i +(\\sigma^*)^{-2} w^*}{\\left(\\sum_i x_i^2\\sigma^{-2}+(\\sigma^*)^{-2}\\right)},\n",
    "\\frac{1}{\\sqrt{(\\sigma^*)^{-2}+\\sum_i x_i^2\\sigma^{-2}}}\\right)={\\cal N}\\left(\\frac{1\\cdot 12\\cdot 2 +1\\cdot 5}{\\left(1\\cdot 2^2 +1\\right)},\n",
    "\\frac{1}{\\sqrt{1+2^2}}\\right)={\\cal N}\\left(5.8,\n",
    "\\frac{1}{\\sqrt{5}}\\right).\n",
    "$$\n",
    "\n",
    "Then the probability of having $w<5$ will be the value of the cumulative distribution function of the normal distribution "
   ]
  },
  {
   "cell_type": "code",
   "execution_count": 4,
   "metadata": {
    "collapsed": false
   },
   "outputs": [
    {
     "name": "stdout",
     "output_type": "stream",
     "text": [
      "i.e 3.68%\n"
     ]
    }
   ],
   "source": [
    "import scipy.stats as stats\n",
    "stats.norm.cdf(5, loc=5.8, scale=1/5**0.5)\n",
    "print \"i.e 3.68%\""
   ]
  },
  {
   "cell_type": "markdown",
   "metadata": {},
   "source": [
    "# Task 5 (20% credit). \n",
    "For the training and test sets provided below, train a linear regression of $y$ (last column) vs the rest of the columns of the table treated as regressors (intercept excluded) over the training set, apply it to the test set and report it's R2 performance over both - training and test set."
   ]
  },
  {
   "cell_type": "code",
   "execution_count": 5,
   "metadata": {
    "collapsed": true
   },
   "outputs": [],
   "source": [
    "import os\n",
    "import numpy as np\n",
    "import pandas as pd\n",
    "import random\n",
    "import re\n",
    "%matplotlib inline\n",
    "import statsmodels.formula.api as sm\n",
    "from pandas.stats.api import ols\n",
    "import pylab\n",
    "import matplotlib.pyplot as plt\n",
    "from sklearn import linear_model\n",
    "#Change graph size\n",
    "# Get current size\n",
    "fig_size = plt.rcParams[\"figure.figsize\"]\n",
    "# Set figure width to 10 and height to 9\n",
    "fig_size[0] = 10\n",
    "fig_size[1] = 8\n",
    "plt.rcParams[\"figure.figsize\"] = fig_size    \n",
    "import math\n"
   ]
  },
  {
   "cell_type": "code",
   "execution_count": 7,
   "metadata": {
    "collapsed": false
   },
   "outputs": [],
   "source": [
    "data_train=pd.read_csv(\"https://serv.cusp.nyu.edu/classes/ML_2016_Spring/session2/HW/Homework1_training.csv\")\n",
    "y_train=np.asarray(data_train.iloc[:,-1]) # make dependent variable\n",
    "X_train=np.asarray(data_train.iloc[:,1:-2]) #make independent variables\n",
    "\n",
    "data_test=pd.read_csv(\"https://serv.cusp.nyu.edu/classes/ML_2016_Spring/session2/HW/Homework1_test.csv\")\n",
    "y_test=np.asarray(data_test.iloc[:,-1]) # make dependent variable\n",
    "X_test=np.asarray(data_test.iloc[:,1:-2]) #make independent variables\n"
   ]
  },
  {
   "cell_type": "code",
   "execution_count": 8,
   "metadata": {
    "collapsed": false
   },
   "outputs": [
    {
     "name": "stdout",
     "output_type": "stream",
     "text": [
      "The R-squared we found for IS OLS is: 0.999999908005\n",
      "The R-squared we found for OS OLS is: -2.39586070528\n"
     ]
    }
   ],
   "source": [
    "#OLS\n",
    "# In the sample. (Only use training set)\n",
    "result=ols(y=y_train,x=pd.DataFrame(X_train),intercept=False)\n",
    "R_2_IS=result.r2  # get R2\n",
    "OLS_coef=result.beta\n",
    "print(\"The R-squared we found for IS OLS is: {0}\".format(R_2_IS))\n",
    "\n",
    "#Out of sample \n",
    "a=np.array(X_test)  #make sure to convert pd data to np array\n",
    "b=np.array(result.beta) #makes sure  to conver pd data to np array\n",
    "c=np.sum(a*b,axis=1) #b is estimated coefficients, a is test data, b[-1] is intercept(we don't have). This is for predicted y\n",
    "error=y_test-c # y_test is real value, c is the value we guessed\n",
    "R_2_OS=1-error.var()/y_test.var() # this is out of sample R2\n",
    "print(\"The R-squared we found for OS OLS is: {0}\".format(R_2_OS))\n"
   ]
  },
  {
   "cell_type": "markdown",
   "metadata": {},
   "source": [
    "# Task 6 (20% credit). \n",
    "Train Lasso and Ridge regressions using the training sample above with $\\lambda_{Ridge}=40000$ and $\\lambda_{Lasso}=40$ and report their performance over the test set."
   ]
  },
  {
   "cell_type": "code",
   "execution_count": 10,
   "metadata": {
    "collapsed": false
   },
   "outputs": [
    {
     "name": "stdout",
     "output_type": "stream",
     "text": [
      "The R-squared we found for IS Ridge(if we set intercept=False)  is\n",
      ": 0.846360797693\n",
      "The R-squared we found for OS Ridge(if we set intercept=False)  is:\n",
      " 0.672787708143\n"
     ]
    }
   ],
   "source": [
    "# For Ridge fit_intercept=False (if you do not set intercept=False, the answer should be similar.)\n",
    "Ridge=linear_model.Ridge(fit_intercept=False,alpha=40000) \n",
    "Ridge.fit(X_train,y_train)\n",
    "# In the sample:\n",
    "p_IS=Ridge.predict(X_train)\n",
    "err_IS=p_IS-y_train\n",
    "R_2_IS_Ridge=1-np.var(err_IS)/np.var(y_train)\n",
    "print(\"The R-squared we found for IS Ridge(if we set intercept=False)  is\\n: {0}\".format(R_2_IS_Ridge))\n",
    "Ridge_coef=Ridge.coef_\n",
    "############################################################################        \n",
    "#Out of sample\n",
    "p_OS=Ridge.predict(X_test)\n",
    "err_OS=p_OS-y_test\n",
    "R_2_OS_Ridge=1-np.var(err_OS)/np.var(y_test)\n",
    "print(\"The R-squared we found for OS Ridge(if we set intercept=False)  is:\\n {0}\".format(R_2_OS_Ridge))\n"
   ]
  },
  {
   "cell_type": "code",
   "execution_count": 11,
   "metadata": {
    "collapsed": false
   },
   "outputs": [
    {
     "name": "stdout",
     "output_type": "stream",
     "text": [
      "The R-squared we found for IS Lasso(If we set intercept= False) is:\n",
      " 0.865603688659\n",
      "The R-squared we found for OS Lasso(if we set intercept=False) is:\n",
      " 0.652411961725\n"
     ]
    }
   ],
   "source": [
    "#For Lasso fit_intercept=False\n",
    "Lasso=linear_model.Lasso(fit_intercept=False, alpha=40,max_iter=10000000)\n",
    "Lasso.fit(X_train,y_train)\n",
    "#In the sample:\n",
    "p_IS=Lasso.predict(X_train)\n",
    "err_IS=p_IS-y_train\n",
    "R_2_IS_Lasso=1-np.var(err_IS)/np.var(y_train)\n",
    "print(\"The R-squared we found for IS Lasso(If we set intercept= False) is:\\n {0}\".format(R_2_IS_Lasso))\n",
    "Lasso_coef=Lasso.coef_\n",
    "#Out of sample:\n",
    "p_OS=Lasso.predict(X_test)\n",
    "err_OS=p_OS-y_test\n",
    "R_2_OS_Lasso=1-np.var(err_OS)/np.var(y_test)\n",
    "print(\"The R-squared we found for OS Lasso(if we set intercept=False) is:\\n {0}\".format(R_2_OS_Lasso))"
   ]
  },
  {
   "cell_type": "markdown",
   "metadata": {},
   "source": [
    "# Task 7 (25% credit). \n",
    "For each $m=1,2,...39$ train OLS, Lasso and Ridge regressions using the training sample above with $\\lambda_{Ridge}=40000$ and $\\lambda_{Lasso}=40$ using the first $m$ columns of the data tables as the regressors and plot the in-sample (training) and out-of-sample (test) R2 for all three models on the same graph."
   ]
  },
  {
   "cell_type": "code",
   "execution_count": 9,
   "metadata": {
    "collapsed": false
   },
   "outputs": [
    {
     "name": "stderr",
     "output_type": "stream",
     "text": [
      "D:\\Users\\ling\\Anaconda2\\lib\\site-packages\\sklearn\\linear_model\\coordinate_descent.py:466: ConvergenceWarning: Objective did not converge. You might want to increase the number of iterations\n",
      "  ConvergenceWarning)\n"
     ]
    },
    {
     "data": {
      "image/png": "[encoded data removed]",
      "text/plain": [
       "<matplotlib.figure.Figure at 0xa29f860>"
      ]
     },
     "metadata": {},
     "output_type": "display_data"
    }
   ],
   "source": [
    "# set intercepts = False (if you add the itercepts,the solutions should be similar)\n",
    "#make lists to save R2\n",
    "Number_variables=[]\n",
    "OLS_R_2_Ridge_OS_F=[]\n",
    "OLS_R_2_Ridge_IS_F=[]\n",
    "\n",
    "OLS_R_2_Lasso_OS_F=[]\n",
    "OLS_R_2_Lasso_IS_F=[]\n",
    "\n",
    "OLS_R_2_OS_F=[]\n",
    "OLS_R_2_IS_F=[]\n",
    "\n",
    "t=0\n",
    "\n",
    "##########################################################################################################\n",
    "##########################################################################################################\n",
    "\n",
    "for j in range(len(X_train.T)): #subsequently add variables\n",
    "    \n",
    "    t+=1\n",
    "    Number_variables.append(t)\n",
    "    \n",
    "    X=X_train[:,0:j+1]\n",
    "    y=y_train\n",
    "\n",
    "# Then we just repeat the process to calculate the R2 as we did before.\n",
    "##############################################################################    \n",
    "##############################################################################    \n",
    "#For Ridge\n",
    "    \n",
    "    Ridge=linear_model.Ridge(fit_intercept=False,alpha=40000)\n",
    "    Ridge.fit(X,y)\n",
    "    \n",
    "    # In the sample:\n",
    "    p_IS=Ridge.predict(X)\n",
    "    err_IS=p_IS-y\n",
    "    R_2_IS=1-np.var(err_IS)/np.var(y)\n",
    "    OLS_R_2_Ridge_IS_F.append(R_2_IS)\n",
    "############################################################################    \n",
    "    \n",
    "    #Out of sample\n",
    "    p_OS=Ridge.predict(X_test[:,0:j+1])\n",
    "    err_OS=p_OS-y_test\n",
    "    R_2_OS=1-np.var(err_OS)/np.var(y_test)\n",
    "    \n",
    "    if R_2_OS>0:\n",
    "        OLS_R_2_Ridge_OS_F.append(R_2_OS)\n",
    "    else:\n",
    "        OLS_R_2_Ridge_OS_F.append(0)\n",
    "        \n",
    "    \n",
    "############################################################################    \n",
    "############################################################################\n",
    "#For Lasso\n",
    "    Lasso=linear_model.Lasso(fit_intercept=False, alpha=40)\n",
    "    Lasso.fit(X,y)\n",
    "    \n",
    "    #In the sample:\n",
    "    p_IS=Lasso.predict(X)\n",
    "    err_IS=p_IS-y\n",
    "    R_2_IS=1-np.var(err_IS)/np.var(y)\n",
    "    if R_2_IS>0:\n",
    "        OLS_R_2_Lasso_IS_F.append(R_2_IS)\n",
    "    else:\n",
    "        OLS_R_2_Lasso_IS_F.append(0)\n",
    "############################################################################    \n",
    "\n",
    "    #Out of sample\n",
    "    p_OS=Lasso.predict(X_test[:,0:j+1])\n",
    "    err_OS=p_OS-y_test\n",
    "    R_2_OS=1-np.var(err_OS)/np.var(y_test)\n",
    "    if R_2_OS>0:\n",
    "        OLS_R_2_Lasso_OS_F.append(R_2_OS)\n",
    "    else:\n",
    "        OLS_R_2_Lasso_OS_F.append(0)\n",
    "\n",
    "   \n",
    " ############################################################################\n",
    "############################################################################\n",
    "#OLS Out of Sample\n",
    "#OLS\n",
    "# In the sample. (Only use training set)\n",
    "    result=ols(y=y_train,x=pd.DataFrame(X_train[:,0:j+1]),intercept=False)\n",
    "    R_2_IS=result.r2  # get R2\n",
    "\n",
    "    #Out of sample \n",
    "    a=np.array(X_test[:,0:j+1])  \n",
    "    b=np.array(result.beta) \n",
    "    c=np.sum(a*b,axis=1) #we do not add intercept here. c is predicted y. \n",
    "    error=y_test-c # y_test is real value, c is the value we predicted for y.\n",
    "    R_2_OS=1-error.var()/y_test.var() # this is out of sample R2\n",
    "    if R_2_OS>0:\n",
    "        OLS_R_2_OS_F.append(R_2_OS)\n",
    "    else:\n",
    "        OLS_R_2_OS_F.append(0)\n",
    "############################################################################\n",
    "    #OLS In the sample:\n",
    "    OLS_R_2_IS_F.append(result.r2)\n",
    "############################################################################\n",
    "############################################################################\n",
    "# Plot the required six lines\n",
    "pylab.title('OS test for Ridge and Lasso when we subsequently add variables')\n",
    "pylab.plot(Number_variables,OLS_R_2_OS_F,'b',label='R_squared_OLS_OS')\n",
    "pylab.plot(Number_variables,OLS_R_2_Lasso_OS_F,'m',label='R_squared_Lasso_OS')\n",
    "pylab.plot(Number_variables,OLS_R_2_Ridge_OS_F,'r',label='R_squard Ridge_OS')\n",
    "\n",
    "pylab.plot(Number_variables,OLS_R_2_IS_F,'y',label='R_squared_OLS_IS')\n",
    "pylab.plot(Number_variables,OLS_R_2_Lasso_IS_F,'g',label='R_squared_Lasso_IS')\n",
    "pylab.plot(Number_variables,OLS_R_2_Ridge_IS_F,'k',label='R_squard Ridge_IS')\n",
    "\n",
    "\n",
    "pylab.legend(loc='lower right')\n",
    "pylab.xlabel('Number of independent variables')\n",
    "pylab.ylabel('R-squared')\n",
    "pylab.show()"
   ]
  },
  {
   "cell_type": "markdown",
   "metadata": {},
   "source": [
    "# Extracredit (25% of credit to be applied towards this or any other homework)\n",
    "Using a series of 10 random splits (cross-validation) of the training sample into approximately 60% training and 40% validation samples perform the selection of the optimal $\\lambda$ for Ridge and Lasso regression: for each $\\lambda$ of the considered sequence compute an average validation R2 for the 10 splits considered and finally select the $\\lambda$ having the highest value for this average R2. Visualize the dependence of the said average cross-validation R2 over $\\lambda$ for Lasso and Ridge. Report the R2 computed over the test set for the Lasso and Ridge trained over the entire training set with the selected optimal values of $\\lambda$."
   ]
  },
  {
   "cell_type": "code",
   "execution_count": 10,
   "metadata": {
    "collapsed": false
   },
   "outputs": [
    {
     "name": "stdout",
     "output_type": "stream",
     "text": [
      "the lambda for Ridge is:25610.3992541\n",
      "the lambda for Lasso is:307.551703963\n"
     ]
    }
   ],
   "source": [
    "# Set intercept = False\n",
    "Ridge_R_2_OS=[]\n",
    "Lasso_R_2_OS=[]\n",
    "\n",
    "\n",
    "alpha = np.linspace(-20,20,200)\n",
    "alpha_r=[math.exp(i) for i in alpha]\n",
    "alpha = np.linspace(-20,20,200)\n",
    "alpha_l=[math.exp(i) for i in alpha]\n",
    "\n",
    "\n",
    "for a in alpha_r:\n",
    "    \n",
    "    R2_experiment_ridge=[]\n",
    "    R2_experiment_lasso=[] \n",
    "    \n",
    "    for i in range(10):\n",
    "\n",
    "        # Divide the training set into validation set and training set\n",
    "\n",
    "        train_index_new=random.sample(list(range(len(X_train))),int(len(X_train)*0.6)) #choose some rows as train_index_new   \n",
    "        validation_index=[x for x in list(range(len(X_train))) if x not in train_index_new] # Use the rest of rows as our validation rows.\n",
    "\n",
    "\n",
    "        X_validation=X[validation_index,:]\n",
    "        y_validation=y[validation_index]\n",
    "\n",
    "        X_train_new=X[train_index_new,:]\n",
    "        y_train_new=y[train_index_new]\n",
    "\n",
    "\n",
    "    #Ridge \n",
    "\n",
    "        Ridge=linear_model.Ridge(fit_intercept=False, alpha=a)\n",
    "        Ridge.fit(X_train_new,y_train_new)\n",
    "\n",
    "        p_OS=Ridge.predict(X_validation) #since we use Out of Sample methods. We need to put X_validation here\n",
    "        err_OS=p_OS-y_validation\n",
    "        R_2_OS=1-np.var(err_OS)/np.var(y_validation)\n",
    "        R2_experiment_ridge.append(R_2_OS)\n",
    "\n",
    "    ##############################################################################\n",
    "    #Lasso\n",
    "        Lasso=linear_model.Lasso(fit_intercept=False, alpha=a,)\n",
    "        Lasso.fit(X_train_new,y_train_new)\n",
    "        \n",
    "        p_OS=Lasso.predict(X_validation) #since we use Out of Sample methods. We need to put X_validation here\n",
    "        err_OS=p_OS-y_validation\n",
    "        R_2_OS=1-np.var(err_OS)/np.var(y_validation)\n",
    "        R2_experiment_lasso.append(R_2_OS)\n",
    "    \n",
    "    Ridge_R_2_OS.append(np.average(R2_experiment_ridge))\n",
    "    Lasso_R_2_OS.append(np.average(R2_experiment_lasso))\n",
    "    \n",
    "temp=np.concatenate(([np.asarray(Ridge_R_2_OS)],[alpha_r]),axis=0)\n",
    "for i in range(len(temp.T)):\n",
    "    if temp[0,i]==np.amax(temp[0,:]):\n",
    "        lam_ridge=temp[1,i]\n",
    "print(\"the lambda for Ridge is:{}\".format(lam_ridge))\n",
    "    \n",
    "temp=np.concatenate(([np.asarray(Lasso_R_2_OS)],[alpha_l]),axis=0)\n",
    "for i in range(len(temp.T)):\n",
    "    if temp[0,i]==np.amax(temp[0,:]):\n",
    "        lam_lasso=temp[1,i]\n",
    "print(\"the lambda for Lasso is:{}\".format(lam_lasso))    \n",
    "    \n",
    "    \n",
    "     \n"
   ]
  },
  {
   "cell_type": "code",
   "execution_count": null,
   "metadata": {
    "collapsed": true
   },
   "outputs": [],
   "source": []
  },
  {
   "cell_type": "code",
   "execution_count": null,
   "metadata": {
    "collapsed": true
   },
   "outputs": [],
   "source": []
  },
  {
   "cell_type": "code",
   "execution_count": null,
   "metadata": {
    "collapsed": true
   },
   "outputs": [],
   "source": []
  },
  {
   "cell_type": "code",
   "execution_count": null,
   "metadata": {
    "collapsed": true
   },
   "outputs": [],
   "source": []
  }
 ],
 "metadata": {
  "kernelspec": {
   "display_name": "Python 2",
   "language": "python",
   "name": "python2"
  },
  "language_info": {
   "codemirror_mode": {
    "name": "ipython",
    "version": 2
   },
   "file_extension": ".py",
   "mimetype": "text/x-python",
   "name": "python",
   "nbconvert_exporter": "python",
   "pygments_lexer": "ipython2",
   "version": "2.7.11"
  }
 },
 "nbformat": 4,
 "nbformat_minor": 0
}
